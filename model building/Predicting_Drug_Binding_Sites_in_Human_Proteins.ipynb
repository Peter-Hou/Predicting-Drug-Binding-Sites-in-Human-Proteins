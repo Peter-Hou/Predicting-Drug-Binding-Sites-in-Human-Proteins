{
  "cells": [
    {
      "cell_type": "markdown",
      "source": [
        "# Import Libraries"
      ],
      "metadata": {
        "id": "QI_VQXl-gr0-"
      }
    },
    {
      "cell_type": "code",
      "source": [
        "import pandas as pd\n",
        "import numpy as np\n",
        "import math"
      ],
      "metadata": {
        "id": "1YFNOTE7gq6S"
      },
      "execution_count": 23,
      "outputs": []
    },
    {
      "cell_type": "markdown",
      "source": [
        "# Data Exploration and Cleaning"
      ],
      "metadata": {
        "id": "PiLaDRM0OkIH"
      }
    },
    {
      "cell_type": "code",
      "source": [
        "df_train = pd.read_csv(\"af2_dataset_training_labeled.csv.gz\", index_col=0)\n",
        "df_train"
      ],
      "metadata": {
        "colab": {
          "base_uri": "https://localhost:8080/",
          "height": 487
        },
        "id": "Xm6e9OmNOmct",
        "outputId": "1abb6a62-5051-408d-a072-ce4d527e83cb"
      },
      "execution_count": 2,
      "outputs": [
        {
          "output_type": "execute_result",
          "data": {
            "text/plain": [
              "    annotation_sequence  feat_A  feat_C  feat_D  feat_E  feat_F  feat_G  \\\n",
              "0                     M   False   False   False   False   False   False   \n",
              "1                     G   False   False   False   False   False    True   \n",
              "2                     Q   False   False   False   False   False   False   \n",
              "3                     E   False   False   False    True   False   False   \n",
              "4                     P   False   False   False   False   False   False   \n",
              "..                  ...     ...     ...     ...     ...     ...     ...   \n",
              "755                   S   False   False   False   False   False   False   \n",
              "756                   H   False   False   False   False   False   False   \n",
              "757                   G   False   False   False   False   False    True   \n",
              "758                   G   False   False   False   False   False    True   \n",
              "759                   F   False   False   False   False    True   False   \n",
              "\n",
              "     feat_H  feat_I  feat_K  ...  feat_DSSP_10  feat_DSSP_11  feat_DSSP_12  \\\n",
              "0     False   False   False  ...             0           0.0            47   \n",
              "1     False   False   False  ...             0           0.0             0   \n",
              "2     False   False   False  ...             1          -0.0            -1   \n",
              "3     False   False   False  ...           706          -0.1           705   \n",
              "4     False   False   False  ...             0           0.0           705   \n",
              "..      ...     ...     ...  ...           ...           ...           ...   \n",
              "755   False   False   False  ...            -3          -0.1             2   \n",
              "756    True   False   False  ...          -358          -0.1          -330   \n",
              "757   False   False   False  ...          -360          -0.2            -1   \n",
              "758   False   False   False  ...             0           0.0             0   \n",
              "759   False   False   False  ...             0           0.0             0   \n",
              "\n",
              "     feat_DSSP_13    coord_X    coord_Y    coord_Z        entry  entry_index  \\\n",
              "0            -0.0 -26.499001  -4.742000 -35.189999  GEMI5_HUMAN            0   \n",
              "1             0.0 -25.158001  -1.342000 -34.104000  GEMI5_HUMAN            1   \n",
              "2            -0.0 -21.926001  -1.641000 -32.175999  GEMI5_HUMAN            2   \n",
              "3            -0.0 -22.073999   0.654000 -29.171000  GEMI5_HUMAN            3   \n",
              "4            -0.2 -19.783001   2.670000 -26.858999  GEMI5_HUMAN            4   \n",
              "..            ...        ...        ...        ...          ...          ...   \n",
              "755          -0.4 -19.742001  20.796000 -12.319000   AOC3_HUMAN          755   \n",
              "756          -0.1 -16.299000  19.153999 -12.640000   AOC3_HUMAN          756   \n",
              "757          -0.1 -13.404000  19.502001 -10.121000   AOC3_HUMAN          757   \n",
              "758           0.0 -10.986000  20.320000 -13.016000   AOC3_HUMAN          758   \n",
              "759           0.0  -7.456000  19.052999 -13.909000   AOC3_HUMAN          759   \n",
              "\n",
              "     y_Ligand  \n",
              "0       False  \n",
              "1       False  \n",
              "2       False  \n",
              "3       False  \n",
              "4       False  \n",
              "..        ...  \n",
              "755     False  \n",
              "756     False  \n",
              "757     False  \n",
              "758     False  \n",
              "759     False  \n",
              "\n",
              "[497166 rows x 50 columns]"
            ],
            "text/html": [
              "\n",
              "  <div id=\"df-b5d236e7-8d88-4bba-9079-b22ff042d129\">\n",
              "    <div class=\"colab-df-container\">\n",
              "      <div>\n",
              "<style scoped>\n",
              "    .dataframe tbody tr th:only-of-type {\n",
              "        vertical-align: middle;\n",
              "    }\n",
              "\n",
              "    .dataframe tbody tr th {\n",
              "        vertical-align: top;\n",
              "    }\n",
              "\n",
              "    .dataframe thead th {\n",
              "        text-align: right;\n",
              "    }\n",
              "</style>\n",
              "<table border=\"1\" class=\"dataframe\">\n",
              "  <thead>\n",
              "    <tr style=\"text-align: right;\">\n",
              "      <th></th>\n",
              "      <th>annotation_sequence</th>\n",
              "      <th>feat_A</th>\n",
              "      <th>feat_C</th>\n",
              "      <th>feat_D</th>\n",
              "      <th>feat_E</th>\n",
              "      <th>feat_F</th>\n",
              "      <th>feat_G</th>\n",
              "      <th>feat_H</th>\n",
              "      <th>feat_I</th>\n",
              "      <th>feat_K</th>\n",
              "      <th>...</th>\n",
              "      <th>feat_DSSP_10</th>\n",
              "      <th>feat_DSSP_11</th>\n",
              "      <th>feat_DSSP_12</th>\n",
              "      <th>feat_DSSP_13</th>\n",
              "      <th>coord_X</th>\n",
              "      <th>coord_Y</th>\n",
              "      <th>coord_Z</th>\n",
              "      <th>entry</th>\n",
              "      <th>entry_index</th>\n",
              "      <th>y_Ligand</th>\n",
              "    </tr>\n",
              "  </thead>\n",
              "  <tbody>\n",
              "    <tr>\n",
              "      <th>0</th>\n",
              "      <td>M</td>\n",
              "      <td>False</td>\n",
              "      <td>False</td>\n",
              "      <td>False</td>\n",
              "      <td>False</td>\n",
              "      <td>False</td>\n",
              "      <td>False</td>\n",
              "      <td>False</td>\n",
              "      <td>False</td>\n",
              "      <td>False</td>\n",
              "      <td>...</td>\n",
              "      <td>0</td>\n",
              "      <td>0.0</td>\n",
              "      <td>47</td>\n",
              "      <td>-0.0</td>\n",
              "      <td>-26.499001</td>\n",
              "      <td>-4.742000</td>\n",
              "      <td>-35.189999</td>\n",
              "      <td>GEMI5_HUMAN</td>\n",
              "      <td>0</td>\n",
              "      <td>False</td>\n",
              "    </tr>\n",
              "    <tr>\n",
              "      <th>1</th>\n",
              "      <td>G</td>\n",
              "      <td>False</td>\n",
              "      <td>False</td>\n",
              "      <td>False</td>\n",
              "      <td>False</td>\n",
              "      <td>False</td>\n",
              "      <td>True</td>\n",
              "      <td>False</td>\n",
              "      <td>False</td>\n",
              "      <td>False</td>\n",
              "      <td>...</td>\n",
              "      <td>0</td>\n",
              "      <td>0.0</td>\n",
              "      <td>0</td>\n",
              "      <td>0.0</td>\n",
              "      <td>-25.158001</td>\n",
              "      <td>-1.342000</td>\n",
              "      <td>-34.104000</td>\n",
              "      <td>GEMI5_HUMAN</td>\n",
              "      <td>1</td>\n",
              "      <td>False</td>\n",
              "    </tr>\n",
              "    <tr>\n",
              "      <th>2</th>\n",
              "      <td>Q</td>\n",
              "      <td>False</td>\n",
              "      <td>False</td>\n",
              "      <td>False</td>\n",
              "      <td>False</td>\n",
              "      <td>False</td>\n",
              "      <td>False</td>\n",
              "      <td>False</td>\n",
              "      <td>False</td>\n",
              "      <td>False</td>\n",
              "      <td>...</td>\n",
              "      <td>1</td>\n",
              "      <td>-0.0</td>\n",
              "      <td>-1</td>\n",
              "      <td>-0.0</td>\n",
              "      <td>-21.926001</td>\n",
              "      <td>-1.641000</td>\n",
              "      <td>-32.175999</td>\n",
              "      <td>GEMI5_HUMAN</td>\n",
              "      <td>2</td>\n",
              "      <td>False</td>\n",
              "    </tr>\n",
              "    <tr>\n",
              "      <th>3</th>\n",
              "      <td>E</td>\n",
              "      <td>False</td>\n",
              "      <td>False</td>\n",
              "      <td>False</td>\n",
              "      <td>True</td>\n",
              "      <td>False</td>\n",
              "      <td>False</td>\n",
              "      <td>False</td>\n",
              "      <td>False</td>\n",
              "      <td>False</td>\n",
              "      <td>...</td>\n",
              "      <td>706</td>\n",
              "      <td>-0.1</td>\n",
              "      <td>705</td>\n",
              "      <td>-0.0</td>\n",
              "      <td>-22.073999</td>\n",
              "      <td>0.654000</td>\n",
              "      <td>-29.171000</td>\n",
              "      <td>GEMI5_HUMAN</td>\n",
              "      <td>3</td>\n",
              "      <td>False</td>\n",
              "    </tr>\n",
              "    <tr>\n",
              "      <th>4</th>\n",
              "      <td>P</td>\n",
              "      <td>False</td>\n",
              "      <td>False</td>\n",
              "      <td>False</td>\n",
              "      <td>False</td>\n",
              "      <td>False</td>\n",
              "      <td>False</td>\n",
              "      <td>False</td>\n",
              "      <td>False</td>\n",
              "      <td>False</td>\n",
              "      <td>...</td>\n",
              "      <td>0</td>\n",
              "      <td>0.0</td>\n",
              "      <td>705</td>\n",
              "      <td>-0.2</td>\n",
              "      <td>-19.783001</td>\n",
              "      <td>2.670000</td>\n",
              "      <td>-26.858999</td>\n",
              "      <td>GEMI5_HUMAN</td>\n",
              "      <td>4</td>\n",
              "      <td>False</td>\n",
              "    </tr>\n",
              "    <tr>\n",
              "      <th>...</th>\n",
              "      <td>...</td>\n",
              "      <td>...</td>\n",
              "      <td>...</td>\n",
              "      <td>...</td>\n",
              "      <td>...</td>\n",
              "      <td>...</td>\n",
              "      <td>...</td>\n",
              "      <td>...</td>\n",
              "      <td>...</td>\n",
              "      <td>...</td>\n",
              "      <td>...</td>\n",
              "      <td>...</td>\n",
              "      <td>...</td>\n",
              "      <td>...</td>\n",
              "      <td>...</td>\n",
              "      <td>...</td>\n",
              "      <td>...</td>\n",
              "      <td>...</td>\n",
              "      <td>...</td>\n",
              "      <td>...</td>\n",
              "      <td>...</td>\n",
              "    </tr>\n",
              "    <tr>\n",
              "      <th>755</th>\n",
              "      <td>S</td>\n",
              "      <td>False</td>\n",
              "      <td>False</td>\n",
              "      <td>False</td>\n",
              "      <td>False</td>\n",
              "      <td>False</td>\n",
              "      <td>False</td>\n",
              "      <td>False</td>\n",
              "      <td>False</td>\n",
              "      <td>False</td>\n",
              "      <td>...</td>\n",
              "      <td>-3</td>\n",
              "      <td>-0.1</td>\n",
              "      <td>2</td>\n",
              "      <td>-0.4</td>\n",
              "      <td>-19.742001</td>\n",
              "      <td>20.796000</td>\n",
              "      <td>-12.319000</td>\n",
              "      <td>AOC3_HUMAN</td>\n",
              "      <td>755</td>\n",
              "      <td>False</td>\n",
              "    </tr>\n",
              "    <tr>\n",
              "      <th>756</th>\n",
              "      <td>H</td>\n",
              "      <td>False</td>\n",
              "      <td>False</td>\n",
              "      <td>False</td>\n",
              "      <td>False</td>\n",
              "      <td>False</td>\n",
              "      <td>False</td>\n",
              "      <td>True</td>\n",
              "      <td>False</td>\n",
              "      <td>False</td>\n",
              "      <td>...</td>\n",
              "      <td>-358</td>\n",
              "      <td>-0.1</td>\n",
              "      <td>-330</td>\n",
              "      <td>-0.1</td>\n",
              "      <td>-16.299000</td>\n",
              "      <td>19.153999</td>\n",
              "      <td>-12.640000</td>\n",
              "      <td>AOC3_HUMAN</td>\n",
              "      <td>756</td>\n",
              "      <td>False</td>\n",
              "    </tr>\n",
              "    <tr>\n",
              "      <th>757</th>\n",
              "      <td>G</td>\n",
              "      <td>False</td>\n",
              "      <td>False</td>\n",
              "      <td>False</td>\n",
              "      <td>False</td>\n",
              "      <td>False</td>\n",
              "      <td>True</td>\n",
              "      <td>False</td>\n",
              "      <td>False</td>\n",
              "      <td>False</td>\n",
              "      <td>...</td>\n",
              "      <td>-360</td>\n",
              "      <td>-0.2</td>\n",
              "      <td>-1</td>\n",
              "      <td>-0.1</td>\n",
              "      <td>-13.404000</td>\n",
              "      <td>19.502001</td>\n",
              "      <td>-10.121000</td>\n",
              "      <td>AOC3_HUMAN</td>\n",
              "      <td>757</td>\n",
              "      <td>False</td>\n",
              "    </tr>\n",
              "    <tr>\n",
              "      <th>758</th>\n",
              "      <td>G</td>\n",
              "      <td>False</td>\n",
              "      <td>False</td>\n",
              "      <td>False</td>\n",
              "      <td>False</td>\n",
              "      <td>False</td>\n",
              "      <td>True</td>\n",
              "      <td>False</td>\n",
              "      <td>False</td>\n",
              "      <td>False</td>\n",
              "      <td>...</td>\n",
              "      <td>0</td>\n",
              "      <td>0.0</td>\n",
              "      <td>0</td>\n",
              "      <td>0.0</td>\n",
              "      <td>-10.986000</td>\n",
              "      <td>20.320000</td>\n",
              "      <td>-13.016000</td>\n",
              "      <td>AOC3_HUMAN</td>\n",
              "      <td>758</td>\n",
              "      <td>False</td>\n",
              "    </tr>\n",
              "    <tr>\n",
              "      <th>759</th>\n",
              "      <td>F</td>\n",
              "      <td>False</td>\n",
              "      <td>False</td>\n",
              "      <td>False</td>\n",
              "      <td>False</td>\n",
              "      <td>True</td>\n",
              "      <td>False</td>\n",
              "      <td>False</td>\n",
              "      <td>False</td>\n",
              "      <td>False</td>\n",
              "      <td>...</td>\n",
              "      <td>0</td>\n",
              "      <td>0.0</td>\n",
              "      <td>0</td>\n",
              "      <td>0.0</td>\n",
              "      <td>-7.456000</td>\n",
              "      <td>19.052999</td>\n",
              "      <td>-13.909000</td>\n",
              "      <td>AOC3_HUMAN</td>\n",
              "      <td>759</td>\n",
              "      <td>False</td>\n",
              "    </tr>\n",
              "  </tbody>\n",
              "</table>\n",
              "<p>497166 rows × 50 columns</p>\n",
              "</div>\n",
              "      <button class=\"colab-df-convert\" onclick=\"convertToInteractive('df-b5d236e7-8d88-4bba-9079-b22ff042d129')\"\n",
              "              title=\"Convert this dataframe to an interactive table.\"\n",
              "              style=\"display:none;\">\n",
              "        \n",
              "  <svg xmlns=\"http://www.w3.org/2000/svg\" height=\"24px\"viewBox=\"0 0 24 24\"\n",
              "       width=\"24px\">\n",
              "    <path d=\"M0 0h24v24H0V0z\" fill=\"none\"/>\n",
              "    <path d=\"M18.56 5.44l.94 2.06.94-2.06 2.06-.94-2.06-.94-.94-2.06-.94 2.06-2.06.94zm-11 1L8.5 8.5l.94-2.06 2.06-.94-2.06-.94L8.5 2.5l-.94 2.06-2.06.94zm10 10l.94 2.06.94-2.06 2.06-.94-2.06-.94-.94-2.06-.94 2.06-2.06.94z\"/><path d=\"M17.41 7.96l-1.37-1.37c-.4-.4-.92-.59-1.43-.59-.52 0-1.04.2-1.43.59L10.3 9.45l-7.72 7.72c-.78.78-.78 2.05 0 2.83L4 21.41c.39.39.9.59 1.41.59.51 0 1.02-.2 1.41-.59l7.78-7.78 2.81-2.81c.8-.78.8-2.07 0-2.86zM5.41 20L4 18.59l7.72-7.72 1.47 1.35L5.41 20z\"/>\n",
              "  </svg>\n",
              "      </button>\n",
              "      \n",
              "  <style>\n",
              "    .colab-df-container {\n",
              "      display:flex;\n",
              "      flex-wrap:wrap;\n",
              "      gap: 12px;\n",
              "    }\n",
              "\n",
              "    .colab-df-convert {\n",
              "      background-color: #E8F0FE;\n",
              "      border: none;\n",
              "      border-radius: 50%;\n",
              "      cursor: pointer;\n",
              "      display: none;\n",
              "      fill: #1967D2;\n",
              "      height: 32px;\n",
              "      padding: 0 0 0 0;\n",
              "      width: 32px;\n",
              "    }\n",
              "\n",
              "    .colab-df-convert:hover {\n",
              "      background-color: #E2EBFA;\n",
              "      box-shadow: 0px 1px 2px rgba(60, 64, 67, 0.3), 0px 1px 3px 1px rgba(60, 64, 67, 0.15);\n",
              "      fill: #174EA6;\n",
              "    }\n",
              "\n",
              "    [theme=dark] .colab-df-convert {\n",
              "      background-color: #3B4455;\n",
              "      fill: #D2E3FC;\n",
              "    }\n",
              "\n",
              "    [theme=dark] .colab-df-convert:hover {\n",
              "      background-color: #434B5C;\n",
              "      box-shadow: 0px 1px 3px 1px rgba(0, 0, 0, 0.15);\n",
              "      filter: drop-shadow(0px 1px 2px rgba(0, 0, 0, 0.3));\n",
              "      fill: #FFFFFF;\n",
              "    }\n",
              "  </style>\n",
              "\n",
              "      <script>\n",
              "        const buttonEl =\n",
              "          document.querySelector('#df-b5d236e7-8d88-4bba-9079-b22ff042d129 button.colab-df-convert');\n",
              "        buttonEl.style.display =\n",
              "          google.colab.kernel.accessAllowed ? 'block' : 'none';\n",
              "\n",
              "        async function convertToInteractive(key) {\n",
              "          const element = document.querySelector('#df-b5d236e7-8d88-4bba-9079-b22ff042d129');\n",
              "          const dataTable =\n",
              "            await google.colab.kernel.invokeFunction('convertToInteractive',\n",
              "                                                     [key], {});\n",
              "          if (!dataTable) return;\n",
              "\n",
              "          const docLinkHtml = 'Like what you see? Visit the ' +\n",
              "            '<a target=\"_blank\" href=https://colab.research.google.com/notebooks/data_table.ipynb>data table notebook</a>'\n",
              "            + ' to learn more about interactive tables.';\n",
              "          element.innerHTML = '';\n",
              "          dataTable['output_type'] = 'display_data';\n",
              "          await google.colab.output.renderOutput(dataTable, element);\n",
              "          const docLink = document.createElement('div');\n",
              "          docLink.innerHTML = docLinkHtml;\n",
              "          element.appendChild(docLink);\n",
              "        }\n",
              "      </script>\n",
              "    </div>\n",
              "  </div>\n",
              "  "
            ]
          },
          "metadata": {},
          "execution_count": 2
        }
      ]
    },
    {
      "cell_type": "code",
      "source": [
        "df_train.columns"
      ],
      "metadata": {
        "colab": {
          "base_uri": "https://localhost:8080/"
        },
        "id": "l0nZuQVnOpnL",
        "outputId": "4f79f910-b60c-49c1-f0cc-0b1df33bdab9"
      },
      "execution_count": 3,
      "outputs": [
        {
          "output_type": "execute_result",
          "data": {
            "text/plain": [
              "Index(['annotation_sequence', 'feat_A', 'feat_C', 'feat_D', 'feat_E', 'feat_F',\n",
              "       'feat_G', 'feat_H', 'feat_I', 'feat_K', 'feat_L', 'feat_M', 'feat_N',\n",
              "       'feat_P', 'feat_Q', 'feat_R', 'feat_S', 'feat_T', 'feat_V', 'feat_W',\n",
              "       'feat_Y', 'annotation_atomrec', 'feat_PHI', 'feat_PSI', 'feat_TAU',\n",
              "       'feat_THETA', 'feat_BBSASA', 'feat_SCSASA', 'feat_pLDDT', 'feat_DSSP_H',\n",
              "       'feat_DSSP_B', 'feat_DSSP_E', 'feat_DSSP_G', 'feat_DSSP_I',\n",
              "       'feat_DSSP_T', 'feat_DSSP_S', 'feat_DSSP_6', 'feat_DSSP_7',\n",
              "       'feat_DSSP_8', 'feat_DSSP_9', 'feat_DSSP_10', 'feat_DSSP_11',\n",
              "       'feat_DSSP_12', 'feat_DSSP_13', 'coord_X', 'coord_Y', 'coord_Z',\n",
              "       'entry', 'entry_index', 'y_Ligand'],\n",
              "      dtype='object')"
            ]
          },
          "metadata": {},
          "execution_count": 3
        }
      ]
    },
    {
      "cell_type": "code",
      "source": [
        "df_train.shape"
      ],
      "metadata": {
        "colab": {
          "base_uri": "https://localhost:8080/"
        },
        "id": "g4VOLs7DYiUE",
        "outputId": "0eed31b3-3c46-4e34-d1fc-e877238fe93e"
      },
      "execution_count": 4,
      "outputs": [
        {
          "output_type": "execute_result",
          "data": {
            "text/plain": [
              "(497166, 50)"
            ]
          },
          "metadata": {},
          "execution_count": 4
        }
      ]
    },
    {
      "cell_type": "markdown",
      "source": [
        "All columns with the `feat_*` prefix are boolean, integer, or float features that describe the residue itself.  These can be used for training a model.  Domain knowledge of these values should not be necessary to participate in the challenge, but we've provided brief descriptions below for anyone who may be interested:\n",
        "\n",
        "* `feat_[letter]` are one-hot encoded boolean values for each of the 20 possible amino acids.\n",
        "* `feat_PHI`, `feat_PSI`, `feat_TAU`, `feat_THETA` describe various protein chain bonding angles, computed with [Biopython](https://biopython.org/docs/1.75/api/Bio.PDB.Polypeptide.html).\n",
        "* `feat_BBSASA`, `feat_SCSASA` describe the solvent accessible surface area, calculated using [FreeSASA](https://freesasa.github.io/).\n",
        "* `feat_pLDDT` is an AlphaFold2 residue-level prediction confidence value.\n",
        "* `feat_DSSP_[letter]` are secondary structure assignments by [DSSP].(https://en.wikipedia.org/wiki/DSSP_(algorithm))\n",
        "* `feat_DSSP_[number]` are other backbone structural features describing backbone hydrogen. bonding networks, also assigned by [DSSP](https://en.wikipedia.org/wiki/DSSP_(algorithm)).\n",
        "\n",
        "Column `y_Ligand` indicates if the residue (row) belongs to a known binding site or not.  This column is the classification objective for our challenge. \n",
        "\n",
        "The remaining columns describe other elements of the protein structure for reference or troubleshooting purposes.  Participants may use this information to to engineer new features/representations in their models if they so choose. These include:\n",
        "* `annotation_sequence` and `annotation_atomrec`: Residue amino acid in character format.\n",
        "* `entry`: Protein name, can be looked up on Uniprot for more information about the protein.  Each unique entry is one unique protein structure in this dataset.\n",
        "* `coord_X`, `coord_Y`, `coord_Z`: XYZ coordinates of the residue in the respective protein structure.  For example, all residues for protein 'QCR1_HUMAN' belong to the same coordinate space, but the coordinate space would shared between two residues (rows) with `entry` values of 'QCR1_HUMAN' and 'PPM1A_HUMAN'.\n",
        "* `entry_index`: The order of the amino acid within the protein sequence.  As with coordinates, these relationships are only meaningful for rows (residues) that share the same `entry` value.  For example, within QCR1_HUMAN two residues (rows) with `entry_index` 5 and 6 are adjacent (connected) neighbors.\n",
        "\n",
        "The test dataset has the same format, but is otherwise missing the `y_Ligand` column. "
      ],
      "metadata": {
        "id": "0HKz3soGbbrH"
      }
    },
    {
      "cell_type": "code",
      "source": [
        "df_train.info()"
      ],
      "metadata": {
        "colab": {
          "base_uri": "https://localhost:8080/"
        },
        "id": "TRhC3VHYc4SC",
        "outputId": "1d5e2db4-38c8-42bb-b282-4d47fd10a361"
      },
      "execution_count": 12,
      "outputs": [
        {
          "output_type": "stream",
          "name": "stdout",
          "text": [
            "<class 'pandas.core.frame.DataFrame'>\n",
            "Int64Index: 497166 entries, 0 to 759\n",
            "Data columns (total 50 columns):\n",
            " #   Column               Non-Null Count   Dtype  \n",
            "---  ------               --------------   -----  \n",
            " 0   annotation_sequence  497166 non-null  object \n",
            " 1   feat_A               497166 non-null  bool   \n",
            " 2   feat_C               497166 non-null  bool   \n",
            " 3   feat_D               497166 non-null  bool   \n",
            " 4   feat_E               497166 non-null  bool   \n",
            " 5   feat_F               497166 non-null  bool   \n",
            " 6   feat_G               497166 non-null  bool   \n",
            " 7   feat_H               497166 non-null  bool   \n",
            " 8   feat_I               497166 non-null  bool   \n",
            " 9   feat_K               497166 non-null  bool   \n",
            " 10  feat_L               497166 non-null  bool   \n",
            " 11  feat_M               497166 non-null  bool   \n",
            " 12  feat_N               497166 non-null  bool   \n",
            " 13  feat_P               497166 non-null  bool   \n",
            " 14  feat_Q               497166 non-null  bool   \n",
            " 15  feat_R               497166 non-null  bool   \n",
            " 16  feat_S               497166 non-null  bool   \n",
            " 17  feat_T               497166 non-null  bool   \n",
            " 18  feat_V               497166 non-null  bool   \n",
            " 19  feat_W               497166 non-null  bool   \n",
            " 20  feat_Y               497166 non-null  bool   \n",
            " 21  annotation_atomrec   484477 non-null  object \n",
            " 22  feat_PHI             497166 non-null  float64\n",
            " 23  feat_PSI             497166 non-null  float64\n",
            " 24  feat_TAU             497166 non-null  float64\n",
            " 25  feat_THETA           497166 non-null  float64\n",
            " 26  feat_BBSASA          497166 non-null  float64\n",
            " 27  feat_SCSASA          497166 non-null  float64\n",
            " 28  feat_pLDDT           497166 non-null  float64\n",
            " 29  feat_DSSP_H          497166 non-null  bool   \n",
            " 30  feat_DSSP_B          497166 non-null  bool   \n",
            " 31  feat_DSSP_E          497166 non-null  bool   \n",
            " 32  feat_DSSP_G          497166 non-null  bool   \n",
            " 33  feat_DSSP_I          497166 non-null  bool   \n",
            " 34  feat_DSSP_T          497166 non-null  bool   \n",
            " 35  feat_DSSP_S          497166 non-null  bool   \n",
            " 36  feat_DSSP_6          497166 non-null  int64  \n",
            " 37  feat_DSSP_7          497166 non-null  float64\n",
            " 38  feat_DSSP_8          497166 non-null  int64  \n",
            " 39  feat_DSSP_9          497166 non-null  float64\n",
            " 40  feat_DSSP_10         497166 non-null  int64  \n",
            " 41  feat_DSSP_11         497166 non-null  float64\n",
            " 42  feat_DSSP_12         497166 non-null  int64  \n",
            " 43  feat_DSSP_13         497166 non-null  float64\n",
            " 44  coord_X              497166 non-null  float64\n",
            " 45  coord_Y              497166 non-null  float64\n",
            " 46  coord_Z              497166 non-null  float64\n",
            " 47  entry                497166 non-null  object \n",
            " 48  entry_index          497166 non-null  int64  \n",
            " 49  y_Ligand             497166 non-null  bool   \n",
            "dtypes: bool(28), float64(14), int64(5), object(3)\n",
            "memory usage: 100.5+ MB\n"
          ]
        }
      ]
    },
    {
      "cell_type": "code",
      "source": [
        "df_train['annotation_atomrec'].unique()"
      ],
      "metadata": {
        "colab": {
          "base_uri": "https://localhost:8080/"
        },
        "id": "xMODwjmQdzAd",
        "outputId": "bfe2e1bd-5211-4fa1-b5f6-c00ebcfe59f9"
      },
      "execution_count": 14,
      "outputs": [
        {
          "output_type": "execute_result",
          "data": {
            "text/plain": [
              "array(['M', 'G', 'Q', 'E', 'P', 'R', 'T', 'L', 'S', 'N', 'W', 'Y', 'C',\n",
              "       'A', 'D', 'V', 'F', 'I', 'H', 'K', nan], dtype=object)"
            ]
          },
          "metadata": {},
          "execution_count": 14
        }
      ]
    },
    {
      "cell_type": "code",
      "source": [
        "# check if a letter in annotation_atomrec mean a True in the column named by feat_letter\n",
        "\n",
        "# Loop through the unique values in the 'annotation_atomrec' column\n",
        "for letter in df_train['annotation_atomrec'].unique():\n",
        "    # Check if the 'feat_[letter]' column has a True value for each row\n",
        "    # where the 'annotation_atomrec' column has the current letter\n",
        "    if not isinstance(letter, str) and np.isnan(letter):\n",
        "      print(f'Reached the nan value of annotation_atomrec')\n",
        "      continue\n",
        "    if (df_train.loc[df_train['annotation_atomrec'] == letter, 'feat_' + letter] != True).any():\n",
        "        print(f\"There are rows where the 'annotation_atomrec' column has the letter {letter} but the 'feat_{letter}' column does not have a True value.\")\n",
        "    else:\n",
        "        print(f\"All rows where the 'annotation_atomrec' column has the letter {letter} have a True value in the 'feat_{letter}' column.\")"
      ],
      "metadata": {
        "colab": {
          "base_uri": "https://localhost:8080/"
        },
        "id": "dtaCYepsd-99",
        "outputId": "881ef962-5d2a-4b4d-af3b-82cd84972448"
      },
      "execution_count": 38,
      "outputs": [
        {
          "output_type": "stream",
          "name": "stdout",
          "text": [
            "All rows where the 'annotation_atomrec' column has the letter M have a True value in the 'feat_M' column.\n",
            "All rows where the 'annotation_atomrec' column has the letter G have a True value in the 'feat_G' column.\n",
            "All rows where the 'annotation_atomrec' column has the letter Q have a True value in the 'feat_Q' column.\n",
            "All rows where the 'annotation_atomrec' column has the letter E have a True value in the 'feat_E' column.\n",
            "All rows where the 'annotation_atomrec' column has the letter P have a True value in the 'feat_P' column.\n",
            "All rows where the 'annotation_atomrec' column has the letter R have a True value in the 'feat_R' column.\n",
            "All rows where the 'annotation_atomrec' column has the letter T have a True value in the 'feat_T' column.\n",
            "All rows where the 'annotation_atomrec' column has the letter L have a True value in the 'feat_L' column.\n",
            "All rows where the 'annotation_atomrec' column has the letter S have a True value in the 'feat_S' column.\n",
            "All rows where the 'annotation_atomrec' column has the letter N have a True value in the 'feat_N' column.\n",
            "All rows where the 'annotation_atomrec' column has the letter W have a True value in the 'feat_W' column.\n",
            "All rows where the 'annotation_atomrec' column has the letter Y have a True value in the 'feat_Y' column.\n",
            "All rows where the 'annotation_atomrec' column has the letter C have a True value in the 'feat_C' column.\n",
            "All rows where the 'annotation_atomrec' column has the letter A have a True value in the 'feat_A' column.\n",
            "All rows where the 'annotation_atomrec' column has the letter D have a True value in the 'feat_D' column.\n",
            "All rows where the 'annotation_atomrec' column has the letter V have a True value in the 'feat_V' column.\n",
            "All rows where the 'annotation_atomrec' column has the letter F have a True value in the 'feat_F' column.\n",
            "All rows where the 'annotation_atomrec' column has the letter I have a True value in the 'feat_I' column.\n",
            "All rows where the 'annotation_atomrec' column has the letter H have a True value in the 'feat_H' column.\n",
            "All rows where the 'annotation_atomrec' column has the letter K have a True value in the 'feat_K' column.\n",
            "Reached the nan value of annotation_atomrec\n"
          ]
        }
      ]
    },
    {
      "cell_type": "code",
      "source": [
        "index = df_train.loc[df_train['annotation_atomrec'] == 'A', 'feat_A' ]\n",
        "\n",
        "df_train.feat_A[index]"
      ],
      "metadata": {
        "colab": {
          "base_uri": "https://localhost:8080/",
          "height": 360
        },
        "id": "tR79MJruiA2d",
        "outputId": "3b9a305a-2cc7-4803-ecd2-e7c569b98cdf"
      },
      "execution_count": 41,
      "outputs": [
        {
          "output_type": "error",
          "ename": "ValueError",
          "evalue": "ignored",
          "traceback": [
            "\u001b[0;31m---------------------------------------------------------------------------\u001b[0m",
            "\u001b[0;31mValueError\u001b[0m                                Traceback (most recent call last)",
            "\u001b[0;32m<ipython-input-41-4929ee321580>\u001b[0m in \u001b[0;36m<module>\u001b[0;34m\u001b[0m\n\u001b[1;32m      1\u001b[0m \u001b[0mindex\u001b[0m \u001b[0;34m=\u001b[0m \u001b[0mdf_train\u001b[0m\u001b[0;34m.\u001b[0m\u001b[0mloc\u001b[0m\u001b[0;34m[\u001b[0m\u001b[0mdf_train\u001b[0m\u001b[0;34m[\u001b[0m\u001b[0;34m'annotation_atomrec'\u001b[0m\u001b[0;34m]\u001b[0m \u001b[0;34m==\u001b[0m \u001b[0;34m'A'\u001b[0m\u001b[0;34m,\u001b[0m \u001b[0;34m'feat_A'\u001b[0m \u001b[0;34m]\u001b[0m\u001b[0;34m\u001b[0m\u001b[0;34m\u001b[0m\u001b[0m\n\u001b[1;32m      2\u001b[0m \u001b[0;34m\u001b[0m\u001b[0m\n\u001b[0;32m----> 3\u001b[0;31m \u001b[0mdf_train\u001b[0m\u001b[0;34m.\u001b[0m\u001b[0mfeat_A\u001b[0m\u001b[0;34m[\u001b[0m\u001b[0mindex\u001b[0m\u001b[0;34m]\u001b[0m\u001b[0;34m\u001b[0m\u001b[0;34m\u001b[0m\u001b[0m\n\u001b[0m",
            "\u001b[0;32m/usr/local/lib/python3.8/dist-packages/pandas/core/series.py\u001b[0m in \u001b[0;36m__getitem__\u001b[0;34m(self, key)\u001b[0m\n\u001b[1;32m    960\u001b[0m \u001b[0;34m\u001b[0m\u001b[0m\n\u001b[1;32m    961\u001b[0m         \u001b[0;32mif\u001b[0m \u001b[0mcom\u001b[0m\u001b[0;34m.\u001b[0m\u001b[0mis_bool_indexer\u001b[0m\u001b[0;34m(\u001b[0m\u001b[0mkey\u001b[0m\u001b[0;34m)\u001b[0m\u001b[0;34m:\u001b[0m\u001b[0;34m\u001b[0m\u001b[0;34m\u001b[0m\u001b[0m\n\u001b[0;32m--> 962\u001b[0;31m             \u001b[0mkey\u001b[0m \u001b[0;34m=\u001b[0m \u001b[0mcheck_bool_indexer\u001b[0m\u001b[0;34m(\u001b[0m\u001b[0mself\u001b[0m\u001b[0;34m.\u001b[0m\u001b[0mindex\u001b[0m\u001b[0;34m,\u001b[0m \u001b[0mkey\u001b[0m\u001b[0;34m)\u001b[0m\u001b[0;34m\u001b[0m\u001b[0;34m\u001b[0m\u001b[0m\n\u001b[0m\u001b[1;32m    963\u001b[0m             \u001b[0mkey\u001b[0m \u001b[0;34m=\u001b[0m \u001b[0mnp\u001b[0m\u001b[0;34m.\u001b[0m\u001b[0masarray\u001b[0m\u001b[0;34m(\u001b[0m\u001b[0mkey\u001b[0m\u001b[0;34m,\u001b[0m \u001b[0mdtype\u001b[0m\u001b[0;34m=\u001b[0m\u001b[0mbool\u001b[0m\u001b[0;34m)\u001b[0m\u001b[0;34m\u001b[0m\u001b[0;34m\u001b[0m\u001b[0m\n\u001b[1;32m    964\u001b[0m             \u001b[0;32mreturn\u001b[0m \u001b[0mself\u001b[0m\u001b[0;34m.\u001b[0m\u001b[0m_get_values\u001b[0m\u001b[0;34m(\u001b[0m\u001b[0mkey\u001b[0m\u001b[0;34m)\u001b[0m\u001b[0;34m\u001b[0m\u001b[0;34m\u001b[0m\u001b[0m\n",
            "\u001b[0;32m/usr/local/lib/python3.8/dist-packages/pandas/core/indexing.py\u001b[0m in \u001b[0;36mcheck_bool_indexer\u001b[0;34m(index, key)\u001b[0m\n\u001b[1;32m   2383\u001b[0m     \u001b[0mresult\u001b[0m \u001b[0;34m=\u001b[0m \u001b[0mkey\u001b[0m\u001b[0;34m\u001b[0m\u001b[0;34m\u001b[0m\u001b[0m\n\u001b[1;32m   2384\u001b[0m     \u001b[0;32mif\u001b[0m \u001b[0misinstance\u001b[0m\u001b[0;34m(\u001b[0m\u001b[0mkey\u001b[0m\u001b[0;34m,\u001b[0m \u001b[0mABCSeries\u001b[0m\u001b[0;34m)\u001b[0m \u001b[0;32mand\u001b[0m \u001b[0;32mnot\u001b[0m \u001b[0mkey\u001b[0m\u001b[0;34m.\u001b[0m\u001b[0mindex\u001b[0m\u001b[0;34m.\u001b[0m\u001b[0mequals\u001b[0m\u001b[0;34m(\u001b[0m\u001b[0mindex\u001b[0m\u001b[0;34m)\u001b[0m\u001b[0;34m:\u001b[0m\u001b[0;34m\u001b[0m\u001b[0;34m\u001b[0m\u001b[0m\n\u001b[0;32m-> 2385\u001b[0;31m         \u001b[0mresult\u001b[0m \u001b[0;34m=\u001b[0m \u001b[0mresult\u001b[0m\u001b[0;34m.\u001b[0m\u001b[0mreindex\u001b[0m\u001b[0;34m(\u001b[0m\u001b[0mindex\u001b[0m\u001b[0;34m)\u001b[0m\u001b[0;34m\u001b[0m\u001b[0;34m\u001b[0m\u001b[0m\n\u001b[0m\u001b[1;32m   2386\u001b[0m         \u001b[0mmask\u001b[0m \u001b[0;34m=\u001b[0m \u001b[0misna\u001b[0m\u001b[0;34m(\u001b[0m\u001b[0mresult\u001b[0m\u001b[0;34m.\u001b[0m\u001b[0m_values\u001b[0m\u001b[0;34m)\u001b[0m\u001b[0;34m\u001b[0m\u001b[0;34m\u001b[0m\u001b[0m\n\u001b[1;32m   2387\u001b[0m         \u001b[0;32mif\u001b[0m \u001b[0mmask\u001b[0m\u001b[0;34m.\u001b[0m\u001b[0many\u001b[0m\u001b[0;34m(\u001b[0m\u001b[0;34m)\u001b[0m\u001b[0;34m:\u001b[0m\u001b[0;34m\u001b[0m\u001b[0;34m\u001b[0m\u001b[0m\n",
            "\u001b[0;32m/usr/local/lib/python3.8/dist-packages/pandas/core/series.py\u001b[0m in \u001b[0;36mreindex\u001b[0;34m(self, index, **kwargs)\u001b[0m\n\u001b[1;32m   4578\u001b[0m     )\n\u001b[1;32m   4579\u001b[0m     \u001b[0;32mdef\u001b[0m \u001b[0mreindex\u001b[0m\u001b[0;34m(\u001b[0m\u001b[0mself\u001b[0m\u001b[0;34m,\u001b[0m \u001b[0mindex\u001b[0m\u001b[0;34m=\u001b[0m\u001b[0;32mNone\u001b[0m\u001b[0;34m,\u001b[0m \u001b[0;34m**\u001b[0m\u001b[0mkwargs\u001b[0m\u001b[0;34m)\u001b[0m\u001b[0;34m:\u001b[0m\u001b[0;34m\u001b[0m\u001b[0;34m\u001b[0m\u001b[0m\n\u001b[0;32m-> 4580\u001b[0;31m         \u001b[0;32mreturn\u001b[0m \u001b[0msuper\u001b[0m\u001b[0;34m(\u001b[0m\u001b[0;34m)\u001b[0m\u001b[0;34m.\u001b[0m\u001b[0mreindex\u001b[0m\u001b[0;34m(\u001b[0m\u001b[0mindex\u001b[0m\u001b[0;34m=\u001b[0m\u001b[0mindex\u001b[0m\u001b[0;34m,\u001b[0m \u001b[0;34m**\u001b[0m\u001b[0mkwargs\u001b[0m\u001b[0;34m)\u001b[0m\u001b[0;34m\u001b[0m\u001b[0;34m\u001b[0m\u001b[0m\n\u001b[0m\u001b[1;32m   4581\u001b[0m \u001b[0;34m\u001b[0m\u001b[0m\n\u001b[1;32m   4582\u001b[0m     \u001b[0;34m@\u001b[0m\u001b[0mdeprecate_nonkeyword_arguments\u001b[0m\u001b[0;34m(\u001b[0m\u001b[0mversion\u001b[0m\u001b[0;34m=\u001b[0m\u001b[0;32mNone\u001b[0m\u001b[0;34m,\u001b[0m \u001b[0mallowed_args\u001b[0m\u001b[0;34m=\u001b[0m\u001b[0;34m[\u001b[0m\u001b[0;34m\"self\"\u001b[0m\u001b[0;34m,\u001b[0m \u001b[0;34m\"labels\"\u001b[0m\u001b[0;34m]\u001b[0m\u001b[0;34m)\u001b[0m\u001b[0;34m\u001b[0m\u001b[0;34m\u001b[0m\u001b[0m\n",
            "\u001b[0;32m/usr/local/lib/python3.8/dist-packages/pandas/core/generic.py\u001b[0m in \u001b[0;36mreindex\u001b[0;34m(self, *args, **kwargs)\u001b[0m\n\u001b[1;32m   4816\u001b[0m \u001b[0;34m\u001b[0m\u001b[0m\n\u001b[1;32m   4817\u001b[0m         \u001b[0;31m# perform the reindex on the axes\u001b[0m\u001b[0;34m\u001b[0m\u001b[0;34m\u001b[0m\u001b[0;34m\u001b[0m\u001b[0m\n\u001b[0;32m-> 4818\u001b[0;31m         return self._reindex_axes(\n\u001b[0m\u001b[1;32m   4819\u001b[0m             \u001b[0maxes\u001b[0m\u001b[0;34m,\u001b[0m \u001b[0mlevel\u001b[0m\u001b[0;34m,\u001b[0m \u001b[0mlimit\u001b[0m\u001b[0;34m,\u001b[0m \u001b[0mtolerance\u001b[0m\u001b[0;34m,\u001b[0m \u001b[0mmethod\u001b[0m\u001b[0;34m,\u001b[0m \u001b[0mfill_value\u001b[0m\u001b[0;34m,\u001b[0m \u001b[0mcopy\u001b[0m\u001b[0;34m\u001b[0m\u001b[0;34m\u001b[0m\u001b[0m\n\u001b[1;32m   4820\u001b[0m         ).__finalize__(self, method=\"reindex\")\n",
            "\u001b[0;32m/usr/local/lib/python3.8/dist-packages/pandas/core/generic.py\u001b[0m in \u001b[0;36m_reindex_axes\u001b[0;34m(self, axes, level, limit, tolerance, method, fill_value, copy)\u001b[0m\n\u001b[1;32m   4837\u001b[0m \u001b[0;34m\u001b[0m\u001b[0m\n\u001b[1;32m   4838\u001b[0m             \u001b[0maxis\u001b[0m \u001b[0;34m=\u001b[0m \u001b[0mself\u001b[0m\u001b[0;34m.\u001b[0m\u001b[0m_get_axis_number\u001b[0m\u001b[0;34m(\u001b[0m\u001b[0ma\u001b[0m\u001b[0;34m)\u001b[0m\u001b[0;34m\u001b[0m\u001b[0;34m\u001b[0m\u001b[0m\n\u001b[0;32m-> 4839\u001b[0;31m             obj = obj._reindex_with_indexers(\n\u001b[0m\u001b[1;32m   4840\u001b[0m                 \u001b[0;34m{\u001b[0m\u001b[0maxis\u001b[0m\u001b[0;34m:\u001b[0m \u001b[0;34m[\u001b[0m\u001b[0mnew_index\u001b[0m\u001b[0;34m,\u001b[0m \u001b[0mindexer\u001b[0m\u001b[0;34m]\u001b[0m\u001b[0;34m}\u001b[0m\u001b[0;34m,\u001b[0m\u001b[0;34m\u001b[0m\u001b[0;34m\u001b[0m\u001b[0m\n\u001b[1;32m   4841\u001b[0m                 \u001b[0mfill_value\u001b[0m\u001b[0;34m=\u001b[0m\u001b[0mfill_value\u001b[0m\u001b[0;34m,\u001b[0m\u001b[0;34m\u001b[0m\u001b[0;34m\u001b[0m\u001b[0m\n",
            "\u001b[0;32m/usr/local/lib/python3.8/dist-packages/pandas/core/generic.py\u001b[0m in \u001b[0;36m_reindex_with_indexers\u001b[0;34m(self, reindexers, fill_value, copy, allow_dups)\u001b[0m\n\u001b[1;32m   4881\u001b[0m \u001b[0;34m\u001b[0m\u001b[0m\n\u001b[1;32m   4882\u001b[0m             \u001b[0;31m# TODO: speed up on homogeneous DataFrame objects\u001b[0m\u001b[0;34m\u001b[0m\u001b[0;34m\u001b[0m\u001b[0;34m\u001b[0m\u001b[0m\n\u001b[0;32m-> 4883\u001b[0;31m             new_data = new_data.reindex_indexer(\n\u001b[0m\u001b[1;32m   4884\u001b[0m                 \u001b[0mindex\u001b[0m\u001b[0;34m,\u001b[0m\u001b[0;34m\u001b[0m\u001b[0;34m\u001b[0m\u001b[0m\n\u001b[1;32m   4885\u001b[0m                 \u001b[0mindexer\u001b[0m\u001b[0;34m,\u001b[0m\u001b[0;34m\u001b[0m\u001b[0;34m\u001b[0m\u001b[0m\n",
            "\u001b[0;32m/usr/local/lib/python3.8/dist-packages/pandas/core/internals/managers.py\u001b[0m in \u001b[0;36mreindex_indexer\u001b[0;34m(self, new_axis, indexer, axis, fill_value, allow_dups, copy, consolidate, only_slice)\u001b[0m\n\u001b[1;32m    668\u001b[0m         \u001b[0;31m# some axes don't allow reindexing with dups\u001b[0m\u001b[0;34m\u001b[0m\u001b[0;34m\u001b[0m\u001b[0;34m\u001b[0m\u001b[0m\n\u001b[1;32m    669\u001b[0m         \u001b[0;32mif\u001b[0m \u001b[0;32mnot\u001b[0m \u001b[0mallow_dups\u001b[0m\u001b[0;34m:\u001b[0m\u001b[0;34m\u001b[0m\u001b[0;34m\u001b[0m\u001b[0m\n\u001b[0;32m--> 670\u001b[0;31m             \u001b[0mself\u001b[0m\u001b[0;34m.\u001b[0m\u001b[0maxes\u001b[0m\u001b[0;34m[\u001b[0m\u001b[0maxis\u001b[0m\u001b[0;34m]\u001b[0m\u001b[0;34m.\u001b[0m\u001b[0m_validate_can_reindex\u001b[0m\u001b[0;34m(\u001b[0m\u001b[0mindexer\u001b[0m\u001b[0;34m)\u001b[0m\u001b[0;34m\u001b[0m\u001b[0;34m\u001b[0m\u001b[0m\n\u001b[0m\u001b[1;32m    671\u001b[0m \u001b[0;34m\u001b[0m\u001b[0m\n\u001b[1;32m    672\u001b[0m         \u001b[0;32mif\u001b[0m \u001b[0maxis\u001b[0m \u001b[0;34m>=\u001b[0m \u001b[0mself\u001b[0m\u001b[0;34m.\u001b[0m\u001b[0mndim\u001b[0m\u001b[0;34m:\u001b[0m\u001b[0;34m\u001b[0m\u001b[0;34m\u001b[0m\u001b[0m\n",
            "\u001b[0;32m/usr/local/lib/python3.8/dist-packages/pandas/core/indexes/base.py\u001b[0m in \u001b[0;36m_validate_can_reindex\u001b[0;34m(self, indexer)\u001b[0m\n\u001b[1;32m   3783\u001b[0m         \u001b[0;31m# trying to reindex on an axis with duplicates\u001b[0m\u001b[0;34m\u001b[0m\u001b[0;34m\u001b[0m\u001b[0;34m\u001b[0m\u001b[0m\n\u001b[1;32m   3784\u001b[0m         \u001b[0;32mif\u001b[0m \u001b[0;32mnot\u001b[0m \u001b[0mself\u001b[0m\u001b[0;34m.\u001b[0m\u001b[0m_index_as_unique\u001b[0m \u001b[0;32mand\u001b[0m \u001b[0mlen\u001b[0m\u001b[0;34m(\u001b[0m\u001b[0mindexer\u001b[0m\u001b[0;34m)\u001b[0m\u001b[0;34m:\u001b[0m\u001b[0;34m\u001b[0m\u001b[0;34m\u001b[0m\u001b[0m\n\u001b[0;32m-> 3785\u001b[0;31m             \u001b[0;32mraise\u001b[0m \u001b[0mValueError\u001b[0m\u001b[0;34m(\u001b[0m\u001b[0;34m\"cannot reindex from a duplicate axis\"\u001b[0m\u001b[0;34m)\u001b[0m\u001b[0;34m\u001b[0m\u001b[0;34m\u001b[0m\u001b[0m\n\u001b[0m\u001b[1;32m   3786\u001b[0m \u001b[0;34m\u001b[0m\u001b[0m\n\u001b[1;32m   3787\u001b[0m     def reindex(\n",
            "\u001b[0;31mValueError\u001b[0m: cannot reindex from a duplicate axis"
          ]
        }
      ]
    },
    {
      "cell_type": "code",
      "source": [
        "v = np.nan\n",
        "np.isnan(v)"
      ],
      "metadata": {
        "colab": {
          "base_uri": "https://localhost:8080/"
        },
        "id": "My0XL0JNhUgA",
        "outputId": "1fb5967a-db17-48da-b54b-2f7dec0c71e3"
      },
      "execution_count": 26,
      "outputs": [
        {
          "output_type": "execute_result",
          "data": {
            "text/plain": [
              "True"
            ]
          },
          "metadata": {},
          "execution_count": 26
        }
      ]
    },
    {
      "cell_type": "markdown",
      "source": [
        "## Check for imbalanced dataset"
      ],
      "metadata": {
        "id": "fvVlPQAkZ95O"
      }
    },
    {
      "cell_type": "code",
      "source": [
        "df_train['y_Ligand'].value_counts()/df_train['y_Ligand'].count()"
      ],
      "metadata": {
        "colab": {
          "base_uri": "https://localhost:8080/"
        },
        "id": "bHfhg0_4Z8lv",
        "outputId": "eeaec67e-f55e-4b45-b144-bbc97f0a2f47"
      },
      "execution_count": 9,
      "outputs": [
        {
          "output_type": "execute_result",
          "data": {
            "text/plain": [
              "False    0.965295\n",
              "True     0.034705\n",
              "Name: y_Ligand, dtype: float64"
            ]
          },
          "metadata": {},
          "execution_count": 9
        }
      ]
    },
    {
      "cell_type": "markdown",
      "source": [
        "## Check for missing values"
      ],
      "metadata": {
        "id": "I209zrnnbLu-"
      }
    },
    {
      "cell_type": "code",
      "source": [
        "df_train.isna().sum()"
      ],
      "metadata": {
        "colab": {
          "base_uri": "https://localhost:8080/"
        },
        "id": "pVgs4aWabQry",
        "outputId": "5ac11c6e-4ab9-4afa-b15a-bb1bc6123a67"
      },
      "execution_count": 11,
      "outputs": [
        {
          "output_type": "execute_result",
          "data": {
            "text/plain": [
              "annotation_sequence        0\n",
              "feat_A                     0\n",
              "feat_C                     0\n",
              "feat_D                     0\n",
              "feat_E                     0\n",
              "feat_F                     0\n",
              "feat_G                     0\n",
              "feat_H                     0\n",
              "feat_I                     0\n",
              "feat_K                     0\n",
              "feat_L                     0\n",
              "feat_M                     0\n",
              "feat_N                     0\n",
              "feat_P                     0\n",
              "feat_Q                     0\n",
              "feat_R                     0\n",
              "feat_S                     0\n",
              "feat_T                     0\n",
              "feat_V                     0\n",
              "feat_W                     0\n",
              "feat_Y                     0\n",
              "annotation_atomrec     12689\n",
              "feat_PHI                   0\n",
              "feat_PSI                   0\n",
              "feat_TAU                   0\n",
              "feat_THETA                 0\n",
              "feat_BBSASA                0\n",
              "feat_SCSASA                0\n",
              "feat_pLDDT                 0\n",
              "feat_DSSP_H                0\n",
              "feat_DSSP_B                0\n",
              "feat_DSSP_E                0\n",
              "feat_DSSP_G                0\n",
              "feat_DSSP_I                0\n",
              "feat_DSSP_T                0\n",
              "feat_DSSP_S                0\n",
              "feat_DSSP_6                0\n",
              "feat_DSSP_7                0\n",
              "feat_DSSP_8                0\n",
              "feat_DSSP_9                0\n",
              "feat_DSSP_10               0\n",
              "feat_DSSP_11               0\n",
              "feat_DSSP_12               0\n",
              "feat_DSSP_13               0\n",
              "coord_X                    0\n",
              "coord_Y                    0\n",
              "coord_Z                    0\n",
              "entry                      0\n",
              "entry_index                0\n",
              "y_Ligand                   0\n",
              "dtype: int64"
            ]
          },
          "metadata": {},
          "execution_count": 11
        }
      ]
    },
    {
      "cell_type": "code",
      "source": [
        "from sklearn.model_selection import train_test_split\n",
        "\n",
        "X_train, X_test, y_train, y_test = train_test_split(df_train.drop([\"y_Ligand\"], axis=1), df_train[\"y_Ligand\"], test_size=0.2, random_state=16)"
      ],
      "metadata": {
        "id": "uw7icsCqYmWh"
      },
      "execution_count": 5,
      "outputs": []
    },
    {
      "cell_type": "code",
      "source": [],
      "metadata": {
        "id": "D7tg3x-XZ4uB"
      },
      "execution_count": null,
      "outputs": []
    }
  ],
  "metadata": {
    "colab": {
      "provenance": []
    },
    "language_info": {
      "name": "python"
    },
    "kernelspec": {
      "name": "python3",
      "display_name": "Python 3"
    },
    "gpuClass": "standard"
  },
  "nbformat": 4,
  "nbformat_minor": 0
}