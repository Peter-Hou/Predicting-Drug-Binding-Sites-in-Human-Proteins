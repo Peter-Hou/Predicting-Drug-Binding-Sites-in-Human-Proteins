{
  "cells": [
    {
      "cell_type": "markdown",
      "source": [
        "# Import Libraries"
      ],
      "metadata": {
        "id": "QI_VQXl-gr0-"
      }
    },
    {
      "cell_type": "code",
      "source": [
        "import pandas as pd\n",
        "import numpy as np\n",
        "import math\n",
        "import matplotlib.pyplot as plt \n",
        "import seaborn as sns"
      ],
      "metadata": {
        "id": "1YFNOTE7gq6S"
      },
      "execution_count": 2,
      "outputs": []
    },
    {
      "cell_type": "markdown",
      "source": [
        "# Data Exploration and Cleaning"
      ],
      "metadata": {
        "id": "PiLaDRM0OkIH"
      }
    },
    {
      "cell_type": "code",
      "source": [
        "df_train = pd.read_csv(\"af2_dataset_training_labeled.csv.gz\", index_col=0)\n",
        "df_train"
      ],
      "metadata": {
        "colab": {
          "base_uri": "https://localhost:8080/",
          "height": 487
        },
        "id": "JXxpC4xur-0d",
        "outputId": "5875ca02-3601-4155-b710-622680fdc69c"
      },
      "execution_count": 3,
      "outputs": [
        {
          "output_type": "execute_result",
          "data": {
            "text/plain": [
              "    annotation_sequence  feat_A  feat_C  feat_D  feat_E  feat_F  feat_G  \\\n",
              "0                     M   False   False   False   False   False   False   \n",
              "1                     G   False   False   False   False   False    True   \n",
              "2                     Q   False   False   False   False   False   False   \n",
              "3                     E   False   False   False    True   False   False   \n",
              "4                     P   False   False   False   False   False   False   \n",
              "..                  ...     ...     ...     ...     ...     ...     ...   \n",
              "755                   S   False   False   False   False   False   False   \n",
              "756                   H   False   False   False   False   False   False   \n",
              "757                   G   False   False   False   False   False    True   \n",
              "758                   G   False   False   False   False   False    True   \n",
              "759                   F   False   False   False   False    True   False   \n",
              "\n",
              "     feat_H  feat_I  feat_K  ...  feat_DSSP_10  feat_DSSP_11  feat_DSSP_12  \\\n",
              "0     False   False   False  ...             0           0.0            47   \n",
              "1     False   False   False  ...             0           0.0             0   \n",
              "2     False   False   False  ...             1          -0.0            -1   \n",
              "3     False   False   False  ...           706          -0.1           705   \n",
              "4     False   False   False  ...             0           0.0           705   \n",
              "..      ...     ...     ...  ...           ...           ...           ...   \n",
              "755   False   False   False  ...            -3          -0.1             2   \n",
              "756    True   False   False  ...          -358          -0.1          -330   \n",
              "757   False   False   False  ...          -360          -0.2            -1   \n",
              "758   False   False   False  ...             0           0.0             0   \n",
              "759   False   False   False  ...             0           0.0             0   \n",
              "\n",
              "     feat_DSSP_13    coord_X    coord_Y    coord_Z        entry  entry_index  \\\n",
              "0            -0.0 -26.499001  -4.742000 -35.189999  GEMI5_HUMAN            0   \n",
              "1             0.0 -25.158001  -1.342000 -34.104000  GEMI5_HUMAN            1   \n",
              "2            -0.0 -21.926001  -1.641000 -32.175999  GEMI5_HUMAN            2   \n",
              "3            -0.0 -22.073999   0.654000 -29.171000  GEMI5_HUMAN            3   \n",
              "4            -0.2 -19.783001   2.670000 -26.858999  GEMI5_HUMAN            4   \n",
              "..            ...        ...        ...        ...          ...          ...   \n",
              "755          -0.4 -19.742001  20.796000 -12.319000   AOC3_HUMAN          755   \n",
              "756          -0.1 -16.299000  19.153999 -12.640000   AOC3_HUMAN          756   \n",
              "757          -0.1 -13.404000  19.502001 -10.121000   AOC3_HUMAN          757   \n",
              "758           0.0 -10.986000  20.320000 -13.016000   AOC3_HUMAN          758   \n",
              "759           0.0  -7.456000  19.052999 -13.909000   AOC3_HUMAN          759   \n",
              "\n",
              "     y_Ligand  \n",
              "0       False  \n",
              "1       False  \n",
              "2       False  \n",
              "3       False  \n",
              "4       False  \n",
              "..        ...  \n",
              "755     False  \n",
              "756     False  \n",
              "757     False  \n",
              "758     False  \n",
              "759     False  \n",
              "\n",
              "[497166 rows x 50 columns]"
            ],
            "text/html": [
              "\n",
              "  <div id=\"df-0bfbbbe8-a3b2-400a-a1c8-700b6b277ac4\">\n",
              "    <div class=\"colab-df-container\">\n",
              "      <div>\n",
              "<style scoped>\n",
              "    .dataframe tbody tr th:only-of-type {\n",
              "        vertical-align: middle;\n",
              "    }\n",
              "\n",
              "    .dataframe tbody tr th {\n",
              "        vertical-align: top;\n",
              "    }\n",
              "\n",
              "    .dataframe thead th {\n",
              "        text-align: right;\n",
              "    }\n",
              "</style>\n",
              "<table border=\"1\" class=\"dataframe\">\n",
              "  <thead>\n",
              "    <tr style=\"text-align: right;\">\n",
              "      <th></th>\n",
              "      <th>annotation_sequence</th>\n",
              "      <th>feat_A</th>\n",
              "      <th>feat_C</th>\n",
              "      <th>feat_D</th>\n",
              "      <th>feat_E</th>\n",
              "      <th>feat_F</th>\n",
              "      <th>feat_G</th>\n",
              "      <th>feat_H</th>\n",
              "      <th>feat_I</th>\n",
              "      <th>feat_K</th>\n",
              "      <th>...</th>\n",
              "      <th>feat_DSSP_10</th>\n",
              "      <th>feat_DSSP_11</th>\n",
              "      <th>feat_DSSP_12</th>\n",
              "      <th>feat_DSSP_13</th>\n",
              "      <th>coord_X</th>\n",
              "      <th>coord_Y</th>\n",
              "      <th>coord_Z</th>\n",
              "      <th>entry</th>\n",
              "      <th>entry_index</th>\n",
              "      <th>y_Ligand</th>\n",
              "    </tr>\n",
              "  </thead>\n",
              "  <tbody>\n",
              "    <tr>\n",
              "      <th>0</th>\n",
              "      <td>M</td>\n",
              "      <td>False</td>\n",
              "      <td>False</td>\n",
              "      <td>False</td>\n",
              "      <td>False</td>\n",
              "      <td>False</td>\n",
              "      <td>False</td>\n",
              "      <td>False</td>\n",
              "      <td>False</td>\n",
              "      <td>False</td>\n",
              "      <td>...</td>\n",
              "      <td>0</td>\n",
              "      <td>0.0</td>\n",
              "      <td>47</td>\n",
              "      <td>-0.0</td>\n",
              "      <td>-26.499001</td>\n",
              "      <td>-4.742000</td>\n",
              "      <td>-35.189999</td>\n",
              "      <td>GEMI5_HUMAN</td>\n",
              "      <td>0</td>\n",
              "      <td>False</td>\n",
              "    </tr>\n",
              "    <tr>\n",
              "      <th>1</th>\n",
              "      <td>G</td>\n",
              "      <td>False</td>\n",
              "      <td>False</td>\n",
              "      <td>False</td>\n",
              "      <td>False</td>\n",
              "      <td>False</td>\n",
              "      <td>True</td>\n",
              "      <td>False</td>\n",
              "      <td>False</td>\n",
              "      <td>False</td>\n",
              "      <td>...</td>\n",
              "      <td>0</td>\n",
              "      <td>0.0</td>\n",
              "      <td>0</td>\n",
              "      <td>0.0</td>\n",
              "      <td>-25.158001</td>\n",
              "      <td>-1.342000</td>\n",
              "      <td>-34.104000</td>\n",
              "      <td>GEMI5_HUMAN</td>\n",
              "      <td>1</td>\n",
              "      <td>False</td>\n",
              "    </tr>\n",
              "    <tr>\n",
              "      <th>2</th>\n",
              "      <td>Q</td>\n",
              "      <td>False</td>\n",
              "      <td>False</td>\n",
              "      <td>False</td>\n",
              "      <td>False</td>\n",
              "      <td>False</td>\n",
              "      <td>False</td>\n",
              "      <td>False</td>\n",
              "      <td>False</td>\n",
              "      <td>False</td>\n",
              "      <td>...</td>\n",
              "      <td>1</td>\n",
              "      <td>-0.0</td>\n",
              "      <td>-1</td>\n",
              "      <td>-0.0</td>\n",
              "      <td>-21.926001</td>\n",
              "      <td>-1.641000</td>\n",
              "      <td>-32.175999</td>\n",
              "      <td>GEMI5_HUMAN</td>\n",
              "      <td>2</td>\n",
              "      <td>False</td>\n",
              "    </tr>\n",
              "    <tr>\n",
              "      <th>3</th>\n",
              "      <td>E</td>\n",
              "      <td>False</td>\n",
              "      <td>False</td>\n",
              "      <td>False</td>\n",
              "      <td>True</td>\n",
              "      <td>False</td>\n",
              "      <td>False</td>\n",
              "      <td>False</td>\n",
              "      <td>False</td>\n",
              "      <td>False</td>\n",
              "      <td>...</td>\n",
              "      <td>706</td>\n",
              "      <td>-0.1</td>\n",
              "      <td>705</td>\n",
              "      <td>-0.0</td>\n",
              "      <td>-22.073999</td>\n",
              "      <td>0.654000</td>\n",
              "      <td>-29.171000</td>\n",
              "      <td>GEMI5_HUMAN</td>\n",
              "      <td>3</td>\n",
              "      <td>False</td>\n",
              "    </tr>\n",
              "    <tr>\n",
              "      <th>4</th>\n",
              "      <td>P</td>\n",
              "      <td>False</td>\n",
              "      <td>False</td>\n",
              "      <td>False</td>\n",
              "      <td>False</td>\n",
              "      <td>False</td>\n",
              "      <td>False</td>\n",
              "      <td>False</td>\n",
              "      <td>False</td>\n",
              "      <td>False</td>\n",
              "      <td>...</td>\n",
              "      <td>0</td>\n",
              "      <td>0.0</td>\n",
              "      <td>705</td>\n",
              "      <td>-0.2</td>\n",
              "      <td>-19.783001</td>\n",
              "      <td>2.670000</td>\n",
              "      <td>-26.858999</td>\n",
              "      <td>GEMI5_HUMAN</td>\n",
              "      <td>4</td>\n",
              "      <td>False</td>\n",
              "    </tr>\n",
              "    <tr>\n",
              "      <th>...</th>\n",
              "      <td>...</td>\n",
              "      <td>...</td>\n",
              "      <td>...</td>\n",
              "      <td>...</td>\n",
              "      <td>...</td>\n",
              "      <td>...</td>\n",
              "      <td>...</td>\n",
              "      <td>...</td>\n",
              "      <td>...</td>\n",
              "      <td>...</td>\n",
              "      <td>...</td>\n",
              "      <td>...</td>\n",
              "      <td>...</td>\n",
              "      <td>...</td>\n",
              "      <td>...</td>\n",
              "      <td>...</td>\n",
              "      <td>...</td>\n",
              "      <td>...</td>\n",
              "      <td>...</td>\n",
              "      <td>...</td>\n",
              "      <td>...</td>\n",
              "    </tr>\n",
              "    <tr>\n",
              "      <th>755</th>\n",
              "      <td>S</td>\n",
              "      <td>False</td>\n",
              "      <td>False</td>\n",
              "      <td>False</td>\n",
              "      <td>False</td>\n",
              "      <td>False</td>\n",
              "      <td>False</td>\n",
              "      <td>False</td>\n",
              "      <td>False</td>\n",
              "      <td>False</td>\n",
              "      <td>...</td>\n",
              "      <td>-3</td>\n",
              "      <td>-0.1</td>\n",
              "      <td>2</td>\n",
              "      <td>-0.4</td>\n",
              "      <td>-19.742001</td>\n",
              "      <td>20.796000</td>\n",
              "      <td>-12.319000</td>\n",
              "      <td>AOC3_HUMAN</td>\n",
              "      <td>755</td>\n",
              "      <td>False</td>\n",
              "    </tr>\n",
              "    <tr>\n",
              "      <th>756</th>\n",
              "      <td>H</td>\n",
              "      <td>False</td>\n",
              "      <td>False</td>\n",
              "      <td>False</td>\n",
              "      <td>False</td>\n",
              "      <td>False</td>\n",
              "      <td>False</td>\n",
              "      <td>True</td>\n",
              "      <td>False</td>\n",
              "      <td>False</td>\n",
              "      <td>...</td>\n",
              "      <td>-358</td>\n",
              "      <td>-0.1</td>\n",
              "      <td>-330</td>\n",
              "      <td>-0.1</td>\n",
              "      <td>-16.299000</td>\n",
              "      <td>19.153999</td>\n",
              "      <td>-12.640000</td>\n",
              "      <td>AOC3_HUMAN</td>\n",
              "      <td>756</td>\n",
              "      <td>False</td>\n",
              "    </tr>\n",
              "    <tr>\n",
              "      <th>757</th>\n",
              "      <td>G</td>\n",
              "      <td>False</td>\n",
              "      <td>False</td>\n",
              "      <td>False</td>\n",
              "      <td>False</td>\n",
              "      <td>False</td>\n",
              "      <td>True</td>\n",
              "      <td>False</td>\n",
              "      <td>False</td>\n",
              "      <td>False</td>\n",
              "      <td>...</td>\n",
              "      <td>-360</td>\n",
              "      <td>-0.2</td>\n",
              "      <td>-1</td>\n",
              "      <td>-0.1</td>\n",
              "      <td>-13.404000</td>\n",
              "      <td>19.502001</td>\n",
              "      <td>-10.121000</td>\n",
              "      <td>AOC3_HUMAN</td>\n",
              "      <td>757</td>\n",
              "      <td>False</td>\n",
              "    </tr>\n",
              "    <tr>\n",
              "      <th>758</th>\n",
              "      <td>G</td>\n",
              "      <td>False</td>\n",
              "      <td>False</td>\n",
              "      <td>False</td>\n",
              "      <td>False</td>\n",
              "      <td>False</td>\n",
              "      <td>True</td>\n",
              "      <td>False</td>\n",
              "      <td>False</td>\n",
              "      <td>False</td>\n",
              "      <td>...</td>\n",
              "      <td>0</td>\n",
              "      <td>0.0</td>\n",
              "      <td>0</td>\n",
              "      <td>0.0</td>\n",
              "      <td>-10.986000</td>\n",
              "      <td>20.320000</td>\n",
              "      <td>-13.016000</td>\n",
              "      <td>AOC3_HUMAN</td>\n",
              "      <td>758</td>\n",
              "      <td>False</td>\n",
              "    </tr>\n",
              "    <tr>\n",
              "      <th>759</th>\n",
              "      <td>F</td>\n",
              "      <td>False</td>\n",
              "      <td>False</td>\n",
              "      <td>False</td>\n",
              "      <td>False</td>\n",
              "      <td>True</td>\n",
              "      <td>False</td>\n",
              "      <td>False</td>\n",
              "      <td>False</td>\n",
              "      <td>False</td>\n",
              "      <td>...</td>\n",
              "      <td>0</td>\n",
              "      <td>0.0</td>\n",
              "      <td>0</td>\n",
              "      <td>0.0</td>\n",
              "      <td>-7.456000</td>\n",
              "      <td>19.052999</td>\n",
              "      <td>-13.909000</td>\n",
              "      <td>AOC3_HUMAN</td>\n",
              "      <td>759</td>\n",
              "      <td>False</td>\n",
              "    </tr>\n",
              "  </tbody>\n",
              "</table>\n",
              "<p>497166 rows × 50 columns</p>\n",
              "</div>\n",
              "      <button class=\"colab-df-convert\" onclick=\"convertToInteractive('df-0bfbbbe8-a3b2-400a-a1c8-700b6b277ac4')\"\n",
              "              title=\"Convert this dataframe to an interactive table.\"\n",
              "              style=\"display:none;\">\n",
              "        \n",
              "  <svg xmlns=\"http://www.w3.org/2000/svg\" height=\"24px\"viewBox=\"0 0 24 24\"\n",
              "       width=\"24px\">\n",
              "    <path d=\"M0 0h24v24H0V0z\" fill=\"none\"/>\n",
              "    <path d=\"M18.56 5.44l.94 2.06.94-2.06 2.06-.94-2.06-.94-.94-2.06-.94 2.06-2.06.94zm-11 1L8.5 8.5l.94-2.06 2.06-.94-2.06-.94L8.5 2.5l-.94 2.06-2.06.94zm10 10l.94 2.06.94-2.06 2.06-.94-2.06-.94-.94-2.06-.94 2.06-2.06.94z\"/><path d=\"M17.41 7.96l-1.37-1.37c-.4-.4-.92-.59-1.43-.59-.52 0-1.04.2-1.43.59L10.3 9.45l-7.72 7.72c-.78.78-.78 2.05 0 2.83L4 21.41c.39.39.9.59 1.41.59.51 0 1.02-.2 1.41-.59l7.78-7.78 2.81-2.81c.8-.78.8-2.07 0-2.86zM5.41 20L4 18.59l7.72-7.72 1.47 1.35L5.41 20z\"/>\n",
              "  </svg>\n",
              "      </button>\n",
              "      \n",
              "  <style>\n",
              "    .colab-df-container {\n",
              "      display:flex;\n",
              "      flex-wrap:wrap;\n",
              "      gap: 12px;\n",
              "    }\n",
              "\n",
              "    .colab-df-convert {\n",
              "      background-color: #E8F0FE;\n",
              "      border: none;\n",
              "      border-radius: 50%;\n",
              "      cursor: pointer;\n",
              "      display: none;\n",
              "      fill: #1967D2;\n",
              "      height: 32px;\n",
              "      padding: 0 0 0 0;\n",
              "      width: 32px;\n",
              "    }\n",
              "\n",
              "    .colab-df-convert:hover {\n",
              "      background-color: #E2EBFA;\n",
              "      box-shadow: 0px 1px 2px rgba(60, 64, 67, 0.3), 0px 1px 3px 1px rgba(60, 64, 67, 0.15);\n",
              "      fill: #174EA6;\n",
              "    }\n",
              "\n",
              "    [theme=dark] .colab-df-convert {\n",
              "      background-color: #3B4455;\n",
              "      fill: #D2E3FC;\n",
              "    }\n",
              "\n",
              "    [theme=dark] .colab-df-convert:hover {\n",
              "      background-color: #434B5C;\n",
              "      box-shadow: 0px 1px 3px 1px rgba(0, 0, 0, 0.15);\n",
              "      filter: drop-shadow(0px 1px 2px rgba(0, 0, 0, 0.3));\n",
              "      fill: #FFFFFF;\n",
              "    }\n",
              "  </style>\n",
              "\n",
              "      <script>\n",
              "        const buttonEl =\n",
              "          document.querySelector('#df-0bfbbbe8-a3b2-400a-a1c8-700b6b277ac4 button.colab-df-convert');\n",
              "        buttonEl.style.display =\n",
              "          google.colab.kernel.accessAllowed ? 'block' : 'none';\n",
              "\n",
              "        async function convertToInteractive(key) {\n",
              "          const element = document.querySelector('#df-0bfbbbe8-a3b2-400a-a1c8-700b6b277ac4');\n",
              "          const dataTable =\n",
              "            await google.colab.kernel.invokeFunction('convertToInteractive',\n",
              "                                                     [key], {});\n",
              "          if (!dataTable) return;\n",
              "\n",
              "          const docLinkHtml = 'Like what you see? Visit the ' +\n",
              "            '<a target=\"_blank\" href=https://colab.research.google.com/notebooks/data_table.ipynb>data table notebook</a>'\n",
              "            + ' to learn more about interactive tables.';\n",
              "          element.innerHTML = '';\n",
              "          dataTable['output_type'] = 'display_data';\n",
              "          await google.colab.output.renderOutput(dataTable, element);\n",
              "          const docLink = document.createElement('div');\n",
              "          docLink.innerHTML = docLinkHtml;\n",
              "          element.appendChild(docLink);\n",
              "        }\n",
              "      </script>\n",
              "    </div>\n",
              "  </div>\n",
              "  "
            ]
          },
          "metadata": {},
          "execution_count": 3
        }
      ]
    },
    {
      "cell_type": "code",
      "source": [
        "df_test = pd.read_csv(\"af2_dataset_testset_unlabeled.csv.gz\", index_col=0)\n",
        "df_test"
      ],
      "metadata": {
        "colab": {
          "base_uri": "https://localhost:8080/",
          "height": 487
        },
        "id": "Xm6e9OmNOmct",
        "outputId": "446fc2e0-764f-4ccc-c45d-d708edb66859"
      },
      "execution_count": 4,
      "outputs": [
        {
          "output_type": "execute_result",
          "data": {
            "text/plain": [
              "    annotation_sequence  feat_A  feat_C  feat_D  feat_E  feat_F  feat_G  \\\n",
              "0                     M   False   False   False   False   False   False   \n",
              "1                     A    True   False   False   False   False   False   \n",
              "2                     A    True   False   False   False   False   False   \n",
              "3                     S   False   False   False   False   False   False   \n",
              "4                     V   False   False   False   False   False   False   \n",
              "..                  ...     ...     ...     ...     ...     ...     ...   \n",
              "474                   L   False   False   False   False   False   False   \n",
              "475                   P   False   False   False   False   False   False   \n",
              "476                   Q   False   False   False   False   False   False   \n",
              "477                   E   False   False   False    True   False   False   \n",
              "478                   N   False   False   False   False   False   False   \n",
              "\n",
              "     feat_H  feat_I  feat_K  ...  feat_DSSP_9  feat_DSSP_10  feat_DSSP_11  \\\n",
              "0     False   False   False  ...          0.0             0           0.0   \n",
              "1     False   False   False  ...         -0.0             2          -0.0   \n",
              "2     False   False   False  ...         -0.1             0           0.0   \n",
              "3     False   False   False  ...         -0.1             0           0.0   \n",
              "4     False   False   False  ...          0.0             0           0.0   \n",
              "..      ...     ...     ...  ...          ...           ...           ...   \n",
              "474   False   False   False  ...         -0.5            -3          -0.3   \n",
              "475   False   False   False  ...         -0.1             0           0.0   \n",
              "476   False   False   False  ...         -0.0             0           0.0   \n",
              "477   False   False   False  ...          0.0             0           0.0   \n",
              "478   False   False   False  ...          0.0             0           0.0   \n",
              "\n",
              "     feat_DSSP_12  feat_DSSP_13    coord_X    coord_Y    coord_Z        entry  \\\n",
              "0               0           0.0  33.116001  37.023998  38.417000   QCR1_HUMAN   \n",
              "1               0           0.0  35.849998  34.841000  40.185001   QCR1_HUMAN   \n",
              "2               2          -0.0  37.087002  31.719999  40.547001   QCR1_HUMAN   \n",
              "3              -2          -0.0  38.095001  28.951000  42.321999   QCR1_HUMAN   \n",
              "4               0           0.0  41.435001  27.417000  43.703999   QCR1_HUMAN   \n",
              "..            ...           ...        ...        ...        ...          ...   \n",
              "474            -3          -0.0  47.813999   7.569000 -27.368999  PDE7A_HUMAN   \n",
              "475            -3          -0.0  50.228001   8.068000 -30.333000  PDE7A_HUMAN   \n",
              "476             0           0.0  51.507999   4.896000 -31.959999  PDE7A_HUMAN   \n",
              "477             0           0.0  54.845001   6.372000 -33.125000  PDE7A_HUMAN   \n",
              "478             0           0.0  57.796001   4.322000 -34.160000  PDE7A_HUMAN   \n",
              "\n",
              "     entry_index  \n",
              "0              0  \n",
              "1              1  \n",
              "2              2  \n",
              "3              3  \n",
              "4              4  \n",
              "..           ...  \n",
              "474          474  \n",
              "475          475  \n",
              "476          476  \n",
              "477          477  \n",
              "478          478  \n",
              "\n",
              "[107624 rows x 49 columns]"
            ],
            "text/html": [
              "\n",
              "  <div id=\"df-6c2425e4-75b3-4ada-99eb-b264336b9fc0\">\n",
              "    <div class=\"colab-df-container\">\n",
              "      <div>\n",
              "<style scoped>\n",
              "    .dataframe tbody tr th:only-of-type {\n",
              "        vertical-align: middle;\n",
              "    }\n",
              "\n",
              "    .dataframe tbody tr th {\n",
              "        vertical-align: top;\n",
              "    }\n",
              "\n",
              "    .dataframe thead th {\n",
              "        text-align: right;\n",
              "    }\n",
              "</style>\n",
              "<table border=\"1\" class=\"dataframe\">\n",
              "  <thead>\n",
              "    <tr style=\"text-align: right;\">\n",
              "      <th></th>\n",
              "      <th>annotation_sequence</th>\n",
              "      <th>feat_A</th>\n",
              "      <th>feat_C</th>\n",
              "      <th>feat_D</th>\n",
              "      <th>feat_E</th>\n",
              "      <th>feat_F</th>\n",
              "      <th>feat_G</th>\n",
              "      <th>feat_H</th>\n",
              "      <th>feat_I</th>\n",
              "      <th>feat_K</th>\n",
              "      <th>...</th>\n",
              "      <th>feat_DSSP_9</th>\n",
              "      <th>feat_DSSP_10</th>\n",
              "      <th>feat_DSSP_11</th>\n",
              "      <th>feat_DSSP_12</th>\n",
              "      <th>feat_DSSP_13</th>\n",
              "      <th>coord_X</th>\n",
              "      <th>coord_Y</th>\n",
              "      <th>coord_Z</th>\n",
              "      <th>entry</th>\n",
              "      <th>entry_index</th>\n",
              "    </tr>\n",
              "  </thead>\n",
              "  <tbody>\n",
              "    <tr>\n",
              "      <th>0</th>\n",
              "      <td>M</td>\n",
              "      <td>False</td>\n",
              "      <td>False</td>\n",
              "      <td>False</td>\n",
              "      <td>False</td>\n",
              "      <td>False</td>\n",
              "      <td>False</td>\n",
              "      <td>False</td>\n",
              "      <td>False</td>\n",
              "      <td>False</td>\n",
              "      <td>...</td>\n",
              "      <td>0.0</td>\n",
              "      <td>0</td>\n",
              "      <td>0.0</td>\n",
              "      <td>0</td>\n",
              "      <td>0.0</td>\n",
              "      <td>33.116001</td>\n",
              "      <td>37.023998</td>\n",
              "      <td>38.417000</td>\n",
              "      <td>QCR1_HUMAN</td>\n",
              "      <td>0</td>\n",
              "    </tr>\n",
              "    <tr>\n",
              "      <th>1</th>\n",
              "      <td>A</td>\n",
              "      <td>True</td>\n",
              "      <td>False</td>\n",
              "      <td>False</td>\n",
              "      <td>False</td>\n",
              "      <td>False</td>\n",
              "      <td>False</td>\n",
              "      <td>False</td>\n",
              "      <td>False</td>\n",
              "      <td>False</td>\n",
              "      <td>...</td>\n",
              "      <td>-0.0</td>\n",
              "      <td>2</td>\n",
              "      <td>-0.0</td>\n",
              "      <td>0</td>\n",
              "      <td>0.0</td>\n",
              "      <td>35.849998</td>\n",
              "      <td>34.841000</td>\n",
              "      <td>40.185001</td>\n",
              "      <td>QCR1_HUMAN</td>\n",
              "      <td>1</td>\n",
              "    </tr>\n",
              "    <tr>\n",
              "      <th>2</th>\n",
              "      <td>A</td>\n",
              "      <td>True</td>\n",
              "      <td>False</td>\n",
              "      <td>False</td>\n",
              "      <td>False</td>\n",
              "      <td>False</td>\n",
              "      <td>False</td>\n",
              "      <td>False</td>\n",
              "      <td>False</td>\n",
              "      <td>False</td>\n",
              "      <td>...</td>\n",
              "      <td>-0.1</td>\n",
              "      <td>0</td>\n",
              "      <td>0.0</td>\n",
              "      <td>2</td>\n",
              "      <td>-0.0</td>\n",
              "      <td>37.087002</td>\n",
              "      <td>31.719999</td>\n",
              "      <td>40.547001</td>\n",
              "      <td>QCR1_HUMAN</td>\n",
              "      <td>2</td>\n",
              "    </tr>\n",
              "    <tr>\n",
              "      <th>3</th>\n",
              "      <td>S</td>\n",
              "      <td>False</td>\n",
              "      <td>False</td>\n",
              "      <td>False</td>\n",
              "      <td>False</td>\n",
              "      <td>False</td>\n",
              "      <td>False</td>\n",
              "      <td>False</td>\n",
              "      <td>False</td>\n",
              "      <td>False</td>\n",
              "      <td>...</td>\n",
              "      <td>-0.1</td>\n",
              "      <td>0</td>\n",
              "      <td>0.0</td>\n",
              "      <td>-2</td>\n",
              "      <td>-0.0</td>\n",
              "      <td>38.095001</td>\n",
              "      <td>28.951000</td>\n",
              "      <td>42.321999</td>\n",
              "      <td>QCR1_HUMAN</td>\n",
              "      <td>3</td>\n",
              "    </tr>\n",
              "    <tr>\n",
              "      <th>4</th>\n",
              "      <td>V</td>\n",
              "      <td>False</td>\n",
              "      <td>False</td>\n",
              "      <td>False</td>\n",
              "      <td>False</td>\n",
              "      <td>False</td>\n",
              "      <td>False</td>\n",
              "      <td>False</td>\n",
              "      <td>False</td>\n",
              "      <td>False</td>\n",
              "      <td>...</td>\n",
              "      <td>0.0</td>\n",
              "      <td>0</td>\n",
              "      <td>0.0</td>\n",
              "      <td>0</td>\n",
              "      <td>0.0</td>\n",
              "      <td>41.435001</td>\n",
              "      <td>27.417000</td>\n",
              "      <td>43.703999</td>\n",
              "      <td>QCR1_HUMAN</td>\n",
              "      <td>4</td>\n",
              "    </tr>\n",
              "    <tr>\n",
              "      <th>...</th>\n",
              "      <td>...</td>\n",
              "      <td>...</td>\n",
              "      <td>...</td>\n",
              "      <td>...</td>\n",
              "      <td>...</td>\n",
              "      <td>...</td>\n",
              "      <td>...</td>\n",
              "      <td>...</td>\n",
              "      <td>...</td>\n",
              "      <td>...</td>\n",
              "      <td>...</td>\n",
              "      <td>...</td>\n",
              "      <td>...</td>\n",
              "      <td>...</td>\n",
              "      <td>...</td>\n",
              "      <td>...</td>\n",
              "      <td>...</td>\n",
              "      <td>...</td>\n",
              "      <td>...</td>\n",
              "      <td>...</td>\n",
              "      <td>...</td>\n",
              "    </tr>\n",
              "    <tr>\n",
              "      <th>474</th>\n",
              "      <td>L</td>\n",
              "      <td>False</td>\n",
              "      <td>False</td>\n",
              "      <td>False</td>\n",
              "      <td>False</td>\n",
              "      <td>False</td>\n",
              "      <td>False</td>\n",
              "      <td>False</td>\n",
              "      <td>False</td>\n",
              "      <td>False</td>\n",
              "      <td>...</td>\n",
              "      <td>-0.5</td>\n",
              "      <td>-3</td>\n",
              "      <td>-0.3</td>\n",
              "      <td>-3</td>\n",
              "      <td>-0.0</td>\n",
              "      <td>47.813999</td>\n",
              "      <td>7.569000</td>\n",
              "      <td>-27.368999</td>\n",
              "      <td>PDE7A_HUMAN</td>\n",
              "      <td>474</td>\n",
              "    </tr>\n",
              "    <tr>\n",
              "      <th>475</th>\n",
              "      <td>P</td>\n",
              "      <td>False</td>\n",
              "      <td>False</td>\n",
              "      <td>False</td>\n",
              "      <td>False</td>\n",
              "      <td>False</td>\n",
              "      <td>False</td>\n",
              "      <td>False</td>\n",
              "      <td>False</td>\n",
              "      <td>False</td>\n",
              "      <td>...</td>\n",
              "      <td>-0.1</td>\n",
              "      <td>0</td>\n",
              "      <td>0.0</td>\n",
              "      <td>-3</td>\n",
              "      <td>-0.0</td>\n",
              "      <td>50.228001</td>\n",
              "      <td>8.068000</td>\n",
              "      <td>-30.333000</td>\n",
              "      <td>PDE7A_HUMAN</td>\n",
              "      <td>475</td>\n",
              "    </tr>\n",
              "    <tr>\n",
              "      <th>476</th>\n",
              "      <td>Q</td>\n",
              "      <td>False</td>\n",
              "      <td>False</td>\n",
              "      <td>False</td>\n",
              "      <td>False</td>\n",
              "      <td>False</td>\n",
              "      <td>False</td>\n",
              "      <td>False</td>\n",
              "      <td>False</td>\n",
              "      <td>False</td>\n",
              "      <td>...</td>\n",
              "      <td>-0.0</td>\n",
              "      <td>0</td>\n",
              "      <td>0.0</td>\n",
              "      <td>0</td>\n",
              "      <td>0.0</td>\n",
              "      <td>51.507999</td>\n",
              "      <td>4.896000</td>\n",
              "      <td>-31.959999</td>\n",
              "      <td>PDE7A_HUMAN</td>\n",
              "      <td>476</td>\n",
              "    </tr>\n",
              "    <tr>\n",
              "      <th>477</th>\n",
              "      <td>E</td>\n",
              "      <td>False</td>\n",
              "      <td>False</td>\n",
              "      <td>False</td>\n",
              "      <td>True</td>\n",
              "      <td>False</td>\n",
              "      <td>False</td>\n",
              "      <td>False</td>\n",
              "      <td>False</td>\n",
              "      <td>False</td>\n",
              "      <td>...</td>\n",
              "      <td>0.0</td>\n",
              "      <td>0</td>\n",
              "      <td>0.0</td>\n",
              "      <td>0</td>\n",
              "      <td>0.0</td>\n",
              "      <td>54.845001</td>\n",
              "      <td>6.372000</td>\n",
              "      <td>-33.125000</td>\n",
              "      <td>PDE7A_HUMAN</td>\n",
              "      <td>477</td>\n",
              "    </tr>\n",
              "    <tr>\n",
              "      <th>478</th>\n",
              "      <td>N</td>\n",
              "      <td>False</td>\n",
              "      <td>False</td>\n",
              "      <td>False</td>\n",
              "      <td>False</td>\n",
              "      <td>False</td>\n",
              "      <td>False</td>\n",
              "      <td>False</td>\n",
              "      <td>False</td>\n",
              "      <td>False</td>\n",
              "      <td>...</td>\n",
              "      <td>0.0</td>\n",
              "      <td>0</td>\n",
              "      <td>0.0</td>\n",
              "      <td>0</td>\n",
              "      <td>0.0</td>\n",
              "      <td>57.796001</td>\n",
              "      <td>4.322000</td>\n",
              "      <td>-34.160000</td>\n",
              "      <td>PDE7A_HUMAN</td>\n",
              "      <td>478</td>\n",
              "    </tr>\n",
              "  </tbody>\n",
              "</table>\n",
              "<p>107624 rows × 49 columns</p>\n",
              "</div>\n",
              "      <button class=\"colab-df-convert\" onclick=\"convertToInteractive('df-6c2425e4-75b3-4ada-99eb-b264336b9fc0')\"\n",
              "              title=\"Convert this dataframe to an interactive table.\"\n",
              "              style=\"display:none;\">\n",
              "        \n",
              "  <svg xmlns=\"http://www.w3.org/2000/svg\" height=\"24px\"viewBox=\"0 0 24 24\"\n",
              "       width=\"24px\">\n",
              "    <path d=\"M0 0h24v24H0V0z\" fill=\"none\"/>\n",
              "    <path d=\"M18.56 5.44l.94 2.06.94-2.06 2.06-.94-2.06-.94-.94-2.06-.94 2.06-2.06.94zm-11 1L8.5 8.5l.94-2.06 2.06-.94-2.06-.94L8.5 2.5l-.94 2.06-2.06.94zm10 10l.94 2.06.94-2.06 2.06-.94-2.06-.94-.94-2.06-.94 2.06-2.06.94z\"/><path d=\"M17.41 7.96l-1.37-1.37c-.4-.4-.92-.59-1.43-.59-.52 0-1.04.2-1.43.59L10.3 9.45l-7.72 7.72c-.78.78-.78 2.05 0 2.83L4 21.41c.39.39.9.59 1.41.59.51 0 1.02-.2 1.41-.59l7.78-7.78 2.81-2.81c.8-.78.8-2.07 0-2.86zM5.41 20L4 18.59l7.72-7.72 1.47 1.35L5.41 20z\"/>\n",
              "  </svg>\n",
              "      </button>\n",
              "      \n",
              "  <style>\n",
              "    .colab-df-container {\n",
              "      display:flex;\n",
              "      flex-wrap:wrap;\n",
              "      gap: 12px;\n",
              "    }\n",
              "\n",
              "    .colab-df-convert {\n",
              "      background-color: #E8F0FE;\n",
              "      border: none;\n",
              "      border-radius: 50%;\n",
              "      cursor: pointer;\n",
              "      display: none;\n",
              "      fill: #1967D2;\n",
              "      height: 32px;\n",
              "      padding: 0 0 0 0;\n",
              "      width: 32px;\n",
              "    }\n",
              "\n",
              "    .colab-df-convert:hover {\n",
              "      background-color: #E2EBFA;\n",
              "      box-shadow: 0px 1px 2px rgba(60, 64, 67, 0.3), 0px 1px 3px 1px rgba(60, 64, 67, 0.15);\n",
              "      fill: #174EA6;\n",
              "    }\n",
              "\n",
              "    [theme=dark] .colab-df-convert {\n",
              "      background-color: #3B4455;\n",
              "      fill: #D2E3FC;\n",
              "    }\n",
              "\n",
              "    [theme=dark] .colab-df-convert:hover {\n",
              "      background-color: #434B5C;\n",
              "      box-shadow: 0px 1px 3px 1px rgba(0, 0, 0, 0.15);\n",
              "      filter: drop-shadow(0px 1px 2px rgba(0, 0, 0, 0.3));\n",
              "      fill: #FFFFFF;\n",
              "    }\n",
              "  </style>\n",
              "\n",
              "      <script>\n",
              "        const buttonEl =\n",
              "          document.querySelector('#df-6c2425e4-75b3-4ada-99eb-b264336b9fc0 button.colab-df-convert');\n",
              "        buttonEl.style.display =\n",
              "          google.colab.kernel.accessAllowed ? 'block' : 'none';\n",
              "\n",
              "        async function convertToInteractive(key) {\n",
              "          const element = document.querySelector('#df-6c2425e4-75b3-4ada-99eb-b264336b9fc0');\n",
              "          const dataTable =\n",
              "            await google.colab.kernel.invokeFunction('convertToInteractive',\n",
              "                                                     [key], {});\n",
              "          if (!dataTable) return;\n",
              "\n",
              "          const docLinkHtml = 'Like what you see? Visit the ' +\n",
              "            '<a target=\"_blank\" href=https://colab.research.google.com/notebooks/data_table.ipynb>data table notebook</a>'\n",
              "            + ' to learn more about interactive tables.';\n",
              "          element.innerHTML = '';\n",
              "          dataTable['output_type'] = 'display_data';\n",
              "          await google.colab.output.renderOutput(dataTable, element);\n",
              "          const docLink = document.createElement('div');\n",
              "          docLink.innerHTML = docLinkHtml;\n",
              "          element.appendChild(docLink);\n",
              "        }\n",
              "      </script>\n",
              "    </div>\n",
              "  </div>\n",
              "  "
            ]
          },
          "metadata": {},
          "execution_count": 4
        }
      ]
    },
    {
      "cell_type": "code",
      "source": [
        "df_train.columns"
      ],
      "metadata": {
        "colab": {
          "base_uri": "https://localhost:8080/"
        },
        "id": "l0nZuQVnOpnL",
        "outputId": "0c6ace7f-458e-4386-dd67-d6ff5dbf4509"
      },
      "execution_count": 5,
      "outputs": [
        {
          "output_type": "execute_result",
          "data": {
            "text/plain": [
              "Index(['annotation_sequence', 'feat_A', 'feat_C', 'feat_D', 'feat_E', 'feat_F',\n",
              "       'feat_G', 'feat_H', 'feat_I', 'feat_K', 'feat_L', 'feat_M', 'feat_N',\n",
              "       'feat_P', 'feat_Q', 'feat_R', 'feat_S', 'feat_T', 'feat_V', 'feat_W',\n",
              "       'feat_Y', 'annotation_atomrec', 'feat_PHI', 'feat_PSI', 'feat_TAU',\n",
              "       'feat_THETA', 'feat_BBSASA', 'feat_SCSASA', 'feat_pLDDT', 'feat_DSSP_H',\n",
              "       'feat_DSSP_B', 'feat_DSSP_E', 'feat_DSSP_G', 'feat_DSSP_I',\n",
              "       'feat_DSSP_T', 'feat_DSSP_S', 'feat_DSSP_6', 'feat_DSSP_7',\n",
              "       'feat_DSSP_8', 'feat_DSSP_9', 'feat_DSSP_10', 'feat_DSSP_11',\n",
              "       'feat_DSSP_12', 'feat_DSSP_13', 'coord_X', 'coord_Y', 'coord_Z',\n",
              "       'entry', 'entry_index', 'y_Ligand'],\n",
              "      dtype='object')"
            ]
          },
          "metadata": {},
          "execution_count": 5
        }
      ]
    },
    {
      "cell_type": "code",
      "source": [
        "df_train.shape"
      ],
      "metadata": {
        "colab": {
          "base_uri": "https://localhost:8080/"
        },
        "id": "g4VOLs7DYiUE",
        "outputId": "3c583cbd-1f01-4690-99e5-7044f4902127"
      },
      "execution_count": 6,
      "outputs": [
        {
          "output_type": "execute_result",
          "data": {
            "text/plain": [
              "(497166, 50)"
            ]
          },
          "metadata": {},
          "execution_count": 6
        }
      ]
    },
    {
      "cell_type": "markdown",
      "source": [
        "All columns with the `feat_*` prefix are boolean, integer, or float features that describe the residue itself.  These can be used for training a model.  Domain knowledge of these values should not be necessary to participate in the challenge, but we've provided brief descriptions below for anyone who may be interested:\n",
        "\n",
        "* `feat_[letter]` are one-hot encoded boolean values for each of the 20 possible amino acids.\n",
        "* `feat_PHI`, `feat_PSI`, `feat_TAU`, `feat_THETA` describe various protein chain bonding angles, computed with [Biopython](https://biopython.org/docs/1.75/api/Bio.PDB.Polypeptide.html).\n",
        "* `feat_BBSASA`, `feat_SCSASA` describe the solvent accessible surface area, calculated using [FreeSASA](https://freesasa.github.io/).\n",
        "* `feat_pLDDT` is an AlphaFold2 residue-level prediction confidence value.\n",
        "* `feat_DSSP_[letter]` are secondary structure assignments by [DSSP].(https://en.wikipedia.org/wiki/DSSP_(algorithm))\n",
        "* `feat_DSSP_[number]` are other backbone structural features describing backbone hydrogen. bonding networks, also assigned by [DSSP](https://en.wikipedia.org/wiki/DSSP_(algorithm)).\n",
        "\n",
        "Column `y_Ligand` indicates if the residue (row) belongs to a known binding site or not.  This column is the classification objective for our challenge. \n",
        "\n",
        "The remaining columns describe other elements of the protein structure for reference or troubleshooting purposes.  Participants may use this information to to engineer new features/representations in their models if they so choose. These include:\n",
        "* `annotation_sequence` and `annotation_atomrec`: Residue amino acid in character format.\n",
        "* `entry`: Protein name, can be looked up on Uniprot for more information about the protein.  Each unique entry is one unique protein structure in this dataset.\n",
        "* `coord_X`, `coord_Y`, `coord_Z`: XYZ coordinates of the residue in the respective protein structure.  For example, all residues for protein 'QCR1_HUMAN' belong to the same coordinate space, but the coordinate space would shared between two residues (rows) with `entry` values of 'QCR1_HUMAN' and 'PPM1A_HUMAN'.\n",
        "* `entry_index`: The order of the amino acid within the protein sequence.  As with coordinates, these relationships are only meaningful for rows (residues) that share the same `entry` value.  For example, within QCR1_HUMAN two residues (rows) with `entry_index` 5 and 6 are adjacent (connected) neighbors.\n",
        "\n",
        "The test dataset has the same format, but is otherwise missing the `y_Ligand` column. "
      ],
      "metadata": {
        "id": "0HKz3soGbbrH"
      }
    },
    {
      "cell_type": "code",
      "source": [
        "df_train.info()"
      ],
      "metadata": {
        "colab": {
          "base_uri": "https://localhost:8080/"
        },
        "id": "TRhC3VHYc4SC",
        "outputId": "fc3073ed-3281-4dfb-b748-8f221d9af5ca"
      },
      "execution_count": 7,
      "outputs": [
        {
          "output_type": "stream",
          "name": "stdout",
          "text": [
            "<class 'pandas.core.frame.DataFrame'>\n",
            "Int64Index: 497166 entries, 0 to 759\n",
            "Data columns (total 50 columns):\n",
            " #   Column               Non-Null Count   Dtype  \n",
            "---  ------               --------------   -----  \n",
            " 0   annotation_sequence  497166 non-null  object \n",
            " 1   feat_A               497166 non-null  bool   \n",
            " 2   feat_C               497166 non-null  bool   \n",
            " 3   feat_D               497166 non-null  bool   \n",
            " 4   feat_E               497166 non-null  bool   \n",
            " 5   feat_F               497166 non-null  bool   \n",
            " 6   feat_G               497166 non-null  bool   \n",
            " 7   feat_H               497166 non-null  bool   \n",
            " 8   feat_I               497166 non-null  bool   \n",
            " 9   feat_K               497166 non-null  bool   \n",
            " 10  feat_L               497166 non-null  bool   \n",
            " 11  feat_M               497166 non-null  bool   \n",
            " 12  feat_N               497166 non-null  bool   \n",
            " 13  feat_P               497166 non-null  bool   \n",
            " 14  feat_Q               497166 non-null  bool   \n",
            " 15  feat_R               497166 non-null  bool   \n",
            " 16  feat_S               497166 non-null  bool   \n",
            " 17  feat_T               497166 non-null  bool   \n",
            " 18  feat_V               497166 non-null  bool   \n",
            " 19  feat_W               497166 non-null  bool   \n",
            " 20  feat_Y               497166 non-null  bool   \n",
            " 21  annotation_atomrec   484477 non-null  object \n",
            " 22  feat_PHI             497166 non-null  float64\n",
            " 23  feat_PSI             497166 non-null  float64\n",
            " 24  feat_TAU             497166 non-null  float64\n",
            " 25  feat_THETA           497166 non-null  float64\n",
            " 26  feat_BBSASA          497166 non-null  float64\n",
            " 27  feat_SCSASA          497166 non-null  float64\n",
            " 28  feat_pLDDT           497166 non-null  float64\n",
            " 29  feat_DSSP_H          497166 non-null  bool   \n",
            " 30  feat_DSSP_B          497166 non-null  bool   \n",
            " 31  feat_DSSP_E          497166 non-null  bool   \n",
            " 32  feat_DSSP_G          497166 non-null  bool   \n",
            " 33  feat_DSSP_I          497166 non-null  bool   \n",
            " 34  feat_DSSP_T          497166 non-null  bool   \n",
            " 35  feat_DSSP_S          497166 non-null  bool   \n",
            " 36  feat_DSSP_6          497166 non-null  int64  \n",
            " 37  feat_DSSP_7          497166 non-null  float64\n",
            " 38  feat_DSSP_8          497166 non-null  int64  \n",
            " 39  feat_DSSP_9          497166 non-null  float64\n",
            " 40  feat_DSSP_10         497166 non-null  int64  \n",
            " 41  feat_DSSP_11         497166 non-null  float64\n",
            " 42  feat_DSSP_12         497166 non-null  int64  \n",
            " 43  feat_DSSP_13         497166 non-null  float64\n",
            " 44  coord_X              497166 non-null  float64\n",
            " 45  coord_Y              497166 non-null  float64\n",
            " 46  coord_Z              497166 non-null  float64\n",
            " 47  entry                497166 non-null  object \n",
            " 48  entry_index          497166 non-null  int64  \n",
            " 49  y_Ligand             497166 non-null  bool   \n",
            "dtypes: bool(28), float64(14), int64(5), object(3)\n",
            "memory usage: 100.5+ MB\n"
          ]
        }
      ]
    },
    {
      "cell_type": "code",
      "source": [
        "df_test.info()"
      ],
      "metadata": {
        "colab": {
          "base_uri": "https://localhost:8080/"
        },
        "id": "BWzGNvI_s2cU",
        "outputId": "302cb935-b3a0-4f48-c907-68eeb4e12d2a"
      },
      "execution_count": 8,
      "outputs": [
        {
          "output_type": "stream",
          "name": "stdout",
          "text": [
            "<class 'pandas.core.frame.DataFrame'>\n",
            "Int64Index: 107624 entries, 0 to 478\n",
            "Data columns (total 49 columns):\n",
            " #   Column               Non-Null Count   Dtype  \n",
            "---  ------               --------------   -----  \n",
            " 0   annotation_sequence  107624 non-null  object \n",
            " 1   feat_A               107624 non-null  bool   \n",
            " 2   feat_C               107624 non-null  bool   \n",
            " 3   feat_D               107624 non-null  bool   \n",
            " 4   feat_E               107624 non-null  bool   \n",
            " 5   feat_F               107624 non-null  bool   \n",
            " 6   feat_G               107624 non-null  bool   \n",
            " 7   feat_H               107624 non-null  bool   \n",
            " 8   feat_I               107624 non-null  bool   \n",
            " 9   feat_K               107624 non-null  bool   \n",
            " 10  feat_L               107624 non-null  bool   \n",
            " 11  feat_M               107624 non-null  bool   \n",
            " 12  feat_N               107624 non-null  bool   \n",
            " 13  feat_P               107624 non-null  bool   \n",
            " 14  feat_Q               107624 non-null  bool   \n",
            " 15  feat_R               107624 non-null  bool   \n",
            " 16  feat_S               107624 non-null  bool   \n",
            " 17  feat_T               107624 non-null  bool   \n",
            " 18  feat_V               107624 non-null  bool   \n",
            " 19  feat_W               107624 non-null  bool   \n",
            " 20  feat_Y               107624 non-null  bool   \n",
            " 21  annotation_atomrec   106323 non-null  object \n",
            " 22  feat_PHI             107624 non-null  float64\n",
            " 23  feat_PSI             107624 non-null  float64\n",
            " 24  feat_TAU             107624 non-null  float64\n",
            " 25  feat_THETA           107624 non-null  float64\n",
            " 26  feat_BBSASA          107624 non-null  float64\n",
            " 27  feat_SCSASA          107624 non-null  float64\n",
            " 28  feat_pLDDT           107624 non-null  float64\n",
            " 29  feat_DSSP_H          107624 non-null  bool   \n",
            " 30  feat_DSSP_B          107624 non-null  bool   \n",
            " 31  feat_DSSP_E          107624 non-null  bool   \n",
            " 32  feat_DSSP_G          107624 non-null  bool   \n",
            " 33  feat_DSSP_I          107624 non-null  bool   \n",
            " 34  feat_DSSP_T          107624 non-null  bool   \n",
            " 35  feat_DSSP_S          107624 non-null  bool   \n",
            " 36  feat_DSSP_6          107624 non-null  int64  \n",
            " 37  feat_DSSP_7          107624 non-null  float64\n",
            " 38  feat_DSSP_8          107624 non-null  int64  \n",
            " 39  feat_DSSP_9          107624 non-null  float64\n",
            " 40  feat_DSSP_10         107624 non-null  int64  \n",
            " 41  feat_DSSP_11         107624 non-null  float64\n",
            " 42  feat_DSSP_12         107624 non-null  int64  \n",
            " 43  feat_DSSP_13         107624 non-null  float64\n",
            " 44  coord_X              107624 non-null  float64\n",
            " 45  coord_Y              107624 non-null  float64\n",
            " 46  coord_Z              107624 non-null  float64\n",
            " 47  entry                107624 non-null  object \n",
            " 48  entry_index          107624 non-null  int64  \n",
            "dtypes: bool(27), float64(14), int64(5), object(3)\n",
            "memory usage: 21.7+ MB\n"
          ]
        }
      ]
    },
    {
      "cell_type": "markdown",
      "source": [
        "## Data Validation and Value Constraint"
      ],
      "metadata": {
        "id": "vga1orXAs54z"
      }
    },
    {
      "cell_type": "code",
      "source": [
        "df_train.describe()"
      ],
      "metadata": {
        "colab": {
          "base_uri": "https://localhost:8080/",
          "height": 381
        },
        "id": "l5LM2CbOtA6l",
        "outputId": "fef2bca9-5df3-4a54-8015-cd7b007f7f69"
      },
      "execution_count": 9,
      "outputs": [
        {
          "output_type": "execute_result",
          "data": {
            "text/plain": [
              "            feat_PHI       feat_PSI       feat_TAU     feat_THETA  \\\n",
              "count  497166.000000  497166.000000  497166.000000  497166.000000   \n",
              "mean       -1.162007       0.780075      -0.108342       1.854782   \n",
              "std         1.039634       1.520499       1.833996       0.469940   \n",
              "min        -3.141557      -3.141564      -3.141578       0.000000   \n",
              "25%        -1.686451      -0.654101      -2.067246       1.590771   \n",
              "50%        -1.199133       0.241335       0.775206       1.756220   \n",
              "75%        -1.047934       2.297116       0.966645       2.122055   \n",
              "max         3.141575       3.141584       3.141568       3.137176   \n",
              "\n",
              "         feat_BBSASA   feat_SCSASA     feat_pLDDT    feat_DSSP_6  \\\n",
              "count  497166.000000  4.971660e+05  497166.000000  497166.000000   \n",
              "mean       16.746550  5.209644e+01      75.733749      -1.789849   \n",
              "std        18.494097  4.792873e+01      26.971019      58.176800   \n",
              "min         0.000000 -2.842171e-14       0.000000   -2281.000000   \n",
              "25%         1.239801  5.274057e+00      55.360000      -4.000000   \n",
              "50%         8.788650  4.352778e+01      89.530000      -2.000000   \n",
              "75%        29.958422  8.623462e+01      95.960000       0.000000   \n",
              "max        99.338342  2.200520e+02      98.980000    2281.000000   \n",
              "\n",
              "         feat_DSSP_7    feat_DSSP_8    feat_DSSP_9   feat_DSSP_10  \\\n",
              "count  497166.000000  497166.000000  497166.000000  497166.000000   \n",
              "mean       -1.160675       1.754382      -1.140480      -0.053135   \n",
              "std         1.058466      60.429611       1.062049      57.906105   \n",
              "min        -4.000000   -2281.000000      -4.000000   -2280.000000   \n",
              "25%        -2.200000      -1.000000      -2.200000      -2.000000   \n",
              "50%        -0.700000       2.000000      -0.600000       1.000000   \n",
              "75%        -0.200000       4.000000      -0.200000       2.000000   \n",
              "max         0.000000    2281.000000      -0.000000    2281.000000   \n",
              "\n",
              "        feat_DSSP_11   feat_DSSP_12   feat_DSSP_13        coord_X  \\\n",
              "count  497166.000000  497166.000000  497166.000000  497166.000000   \n",
              "mean       -0.177757       0.128386      -0.201625      -3.927826   \n",
              "std         0.156652      61.219479       0.232904      25.770530   \n",
              "min        -1.800000   -2281.000000      -2.900000    -149.393997   \n",
              "25%        -0.200000      -2.000000      -0.200000     -18.850000   \n",
              "50%        -0.200000      -1.000000      -0.200000      -2.881000   \n",
              "75%        -0.100000       2.000000      -0.100000      11.469000   \n",
              "max         0.000000    2282.000000      -0.000000     162.250000   \n",
              "\n",
              "             coord_Y        coord_Z    entry_index  \n",
              "count  497166.000000  497166.000000  497166.000000  \n",
              "mean        1.956133      -1.099622     535.495128  \n",
              "std        20.641283      26.637590     665.740408  \n",
              "min      -114.931000    -152.839005       0.000000  \n",
              "25%        -9.518750     -16.964001     172.000000  \n",
              "50%         1.206000      -0.681000     365.000000  \n",
              "75%        13.148000      14.147000     667.000000  \n",
              "max       103.135002     176.059998    7384.000000  "
            ],
            "text/html": [
              "\n",
              "  <div id=\"df-3fd74ee4-7c56-417f-a9e9-773e0717edd2\">\n",
              "    <div class=\"colab-df-container\">\n",
              "      <div>\n",
              "<style scoped>\n",
              "    .dataframe tbody tr th:only-of-type {\n",
              "        vertical-align: middle;\n",
              "    }\n",
              "\n",
              "    .dataframe tbody tr th {\n",
              "        vertical-align: top;\n",
              "    }\n",
              "\n",
              "    .dataframe thead th {\n",
              "        text-align: right;\n",
              "    }\n",
              "</style>\n",
              "<table border=\"1\" class=\"dataframe\">\n",
              "  <thead>\n",
              "    <tr style=\"text-align: right;\">\n",
              "      <th></th>\n",
              "      <th>feat_PHI</th>\n",
              "      <th>feat_PSI</th>\n",
              "      <th>feat_TAU</th>\n",
              "      <th>feat_THETA</th>\n",
              "      <th>feat_BBSASA</th>\n",
              "      <th>feat_SCSASA</th>\n",
              "      <th>feat_pLDDT</th>\n",
              "      <th>feat_DSSP_6</th>\n",
              "      <th>feat_DSSP_7</th>\n",
              "      <th>feat_DSSP_8</th>\n",
              "      <th>feat_DSSP_9</th>\n",
              "      <th>feat_DSSP_10</th>\n",
              "      <th>feat_DSSP_11</th>\n",
              "      <th>feat_DSSP_12</th>\n",
              "      <th>feat_DSSP_13</th>\n",
              "      <th>coord_X</th>\n",
              "      <th>coord_Y</th>\n",
              "      <th>coord_Z</th>\n",
              "      <th>entry_index</th>\n",
              "    </tr>\n",
              "  </thead>\n",
              "  <tbody>\n",
              "    <tr>\n",
              "      <th>count</th>\n",
              "      <td>497166.000000</td>\n",
              "      <td>497166.000000</td>\n",
              "      <td>497166.000000</td>\n",
              "      <td>497166.000000</td>\n",
              "      <td>497166.000000</td>\n",
              "      <td>4.971660e+05</td>\n",
              "      <td>497166.000000</td>\n",
              "      <td>497166.000000</td>\n",
              "      <td>497166.000000</td>\n",
              "      <td>497166.000000</td>\n",
              "      <td>497166.000000</td>\n",
              "      <td>497166.000000</td>\n",
              "      <td>497166.000000</td>\n",
              "      <td>497166.000000</td>\n",
              "      <td>497166.000000</td>\n",
              "      <td>497166.000000</td>\n",
              "      <td>497166.000000</td>\n",
              "      <td>497166.000000</td>\n",
              "      <td>497166.000000</td>\n",
              "    </tr>\n",
              "    <tr>\n",
              "      <th>mean</th>\n",
              "      <td>-1.162007</td>\n",
              "      <td>0.780075</td>\n",
              "      <td>-0.108342</td>\n",
              "      <td>1.854782</td>\n",
              "      <td>16.746550</td>\n",
              "      <td>5.209644e+01</td>\n",
              "      <td>75.733749</td>\n",
              "      <td>-1.789849</td>\n",
              "      <td>-1.160675</td>\n",
              "      <td>1.754382</td>\n",
              "      <td>-1.140480</td>\n",
              "      <td>-0.053135</td>\n",
              "      <td>-0.177757</td>\n",
              "      <td>0.128386</td>\n",
              "      <td>-0.201625</td>\n",
              "      <td>-3.927826</td>\n",
              "      <td>1.956133</td>\n",
              "      <td>-1.099622</td>\n",
              "      <td>535.495128</td>\n",
              "    </tr>\n",
              "    <tr>\n",
              "      <th>std</th>\n",
              "      <td>1.039634</td>\n",
              "      <td>1.520499</td>\n",
              "      <td>1.833996</td>\n",
              "      <td>0.469940</td>\n",
              "      <td>18.494097</td>\n",
              "      <td>4.792873e+01</td>\n",
              "      <td>26.971019</td>\n",
              "      <td>58.176800</td>\n",
              "      <td>1.058466</td>\n",
              "      <td>60.429611</td>\n",
              "      <td>1.062049</td>\n",
              "      <td>57.906105</td>\n",
              "      <td>0.156652</td>\n",
              "      <td>61.219479</td>\n",
              "      <td>0.232904</td>\n",
              "      <td>25.770530</td>\n",
              "      <td>20.641283</td>\n",
              "      <td>26.637590</td>\n",
              "      <td>665.740408</td>\n",
              "    </tr>\n",
              "    <tr>\n",
              "      <th>min</th>\n",
              "      <td>-3.141557</td>\n",
              "      <td>-3.141564</td>\n",
              "      <td>-3.141578</td>\n",
              "      <td>0.000000</td>\n",
              "      <td>0.000000</td>\n",
              "      <td>-2.842171e-14</td>\n",
              "      <td>0.000000</td>\n",
              "      <td>-2281.000000</td>\n",
              "      <td>-4.000000</td>\n",
              "      <td>-2281.000000</td>\n",
              "      <td>-4.000000</td>\n",
              "      <td>-2280.000000</td>\n",
              "      <td>-1.800000</td>\n",
              "      <td>-2281.000000</td>\n",
              "      <td>-2.900000</td>\n",
              "      <td>-149.393997</td>\n",
              "      <td>-114.931000</td>\n",
              "      <td>-152.839005</td>\n",
              "      <td>0.000000</td>\n",
              "    </tr>\n",
              "    <tr>\n",
              "      <th>25%</th>\n",
              "      <td>-1.686451</td>\n",
              "      <td>-0.654101</td>\n",
              "      <td>-2.067246</td>\n",
              "      <td>1.590771</td>\n",
              "      <td>1.239801</td>\n",
              "      <td>5.274057e+00</td>\n",
              "      <td>55.360000</td>\n",
              "      <td>-4.000000</td>\n",
              "      <td>-2.200000</td>\n",
              "      <td>-1.000000</td>\n",
              "      <td>-2.200000</td>\n",
              "      <td>-2.000000</td>\n",
              "      <td>-0.200000</td>\n",
              "      <td>-2.000000</td>\n",
              "      <td>-0.200000</td>\n",
              "      <td>-18.850000</td>\n",
              "      <td>-9.518750</td>\n",
              "      <td>-16.964001</td>\n",
              "      <td>172.000000</td>\n",
              "    </tr>\n",
              "    <tr>\n",
              "      <th>50%</th>\n",
              "      <td>-1.199133</td>\n",
              "      <td>0.241335</td>\n",
              "      <td>0.775206</td>\n",
              "      <td>1.756220</td>\n",
              "      <td>8.788650</td>\n",
              "      <td>4.352778e+01</td>\n",
              "      <td>89.530000</td>\n",
              "      <td>-2.000000</td>\n",
              "      <td>-0.700000</td>\n",
              "      <td>2.000000</td>\n",
              "      <td>-0.600000</td>\n",
              "      <td>1.000000</td>\n",
              "      <td>-0.200000</td>\n",
              "      <td>-1.000000</td>\n",
              "      <td>-0.200000</td>\n",
              "      <td>-2.881000</td>\n",
              "      <td>1.206000</td>\n",
              "      <td>-0.681000</td>\n",
              "      <td>365.000000</td>\n",
              "    </tr>\n",
              "    <tr>\n",
              "      <th>75%</th>\n",
              "      <td>-1.047934</td>\n",
              "      <td>2.297116</td>\n",
              "      <td>0.966645</td>\n",
              "      <td>2.122055</td>\n",
              "      <td>29.958422</td>\n",
              "      <td>8.623462e+01</td>\n",
              "      <td>95.960000</td>\n",
              "      <td>0.000000</td>\n",
              "      <td>-0.200000</td>\n",
              "      <td>4.000000</td>\n",
              "      <td>-0.200000</td>\n",
              "      <td>2.000000</td>\n",
              "      <td>-0.100000</td>\n",
              "      <td>2.000000</td>\n",
              "      <td>-0.100000</td>\n",
              "      <td>11.469000</td>\n",
              "      <td>13.148000</td>\n",
              "      <td>14.147000</td>\n",
              "      <td>667.000000</td>\n",
              "    </tr>\n",
              "    <tr>\n",
              "      <th>max</th>\n",
              "      <td>3.141575</td>\n",
              "      <td>3.141584</td>\n",
              "      <td>3.141568</td>\n",
              "      <td>3.137176</td>\n",
              "      <td>99.338342</td>\n",
              "      <td>2.200520e+02</td>\n",
              "      <td>98.980000</td>\n",
              "      <td>2281.000000</td>\n",
              "      <td>0.000000</td>\n",
              "      <td>2281.000000</td>\n",
              "      <td>-0.000000</td>\n",
              "      <td>2281.000000</td>\n",
              "      <td>0.000000</td>\n",
              "      <td>2282.000000</td>\n",
              "      <td>-0.000000</td>\n",
              "      <td>162.250000</td>\n",
              "      <td>103.135002</td>\n",
              "      <td>176.059998</td>\n",
              "      <td>7384.000000</td>\n",
              "    </tr>\n",
              "  </tbody>\n",
              "</table>\n",
              "</div>\n",
              "      <button class=\"colab-df-convert\" onclick=\"convertToInteractive('df-3fd74ee4-7c56-417f-a9e9-773e0717edd2')\"\n",
              "              title=\"Convert this dataframe to an interactive table.\"\n",
              "              style=\"display:none;\">\n",
              "        \n",
              "  <svg xmlns=\"http://www.w3.org/2000/svg\" height=\"24px\"viewBox=\"0 0 24 24\"\n",
              "       width=\"24px\">\n",
              "    <path d=\"M0 0h24v24H0V0z\" fill=\"none\"/>\n",
              "    <path d=\"M18.56 5.44l.94 2.06.94-2.06 2.06-.94-2.06-.94-.94-2.06-.94 2.06-2.06.94zm-11 1L8.5 8.5l.94-2.06 2.06-.94-2.06-.94L8.5 2.5l-.94 2.06-2.06.94zm10 10l.94 2.06.94-2.06 2.06-.94-2.06-.94-.94-2.06-.94 2.06-2.06.94z\"/><path d=\"M17.41 7.96l-1.37-1.37c-.4-.4-.92-.59-1.43-.59-.52 0-1.04.2-1.43.59L10.3 9.45l-7.72 7.72c-.78.78-.78 2.05 0 2.83L4 21.41c.39.39.9.59 1.41.59.51 0 1.02-.2 1.41-.59l7.78-7.78 2.81-2.81c.8-.78.8-2.07 0-2.86zM5.41 20L4 18.59l7.72-7.72 1.47 1.35L5.41 20z\"/>\n",
              "  </svg>\n",
              "      </button>\n",
              "      \n",
              "  <style>\n",
              "    .colab-df-container {\n",
              "      display:flex;\n",
              "      flex-wrap:wrap;\n",
              "      gap: 12px;\n",
              "    }\n",
              "\n",
              "    .colab-df-convert {\n",
              "      background-color: #E8F0FE;\n",
              "      border: none;\n",
              "      border-radius: 50%;\n",
              "      cursor: pointer;\n",
              "      display: none;\n",
              "      fill: #1967D2;\n",
              "      height: 32px;\n",
              "      padding: 0 0 0 0;\n",
              "      width: 32px;\n",
              "    }\n",
              "\n",
              "    .colab-df-convert:hover {\n",
              "      background-color: #E2EBFA;\n",
              "      box-shadow: 0px 1px 2px rgba(60, 64, 67, 0.3), 0px 1px 3px 1px rgba(60, 64, 67, 0.15);\n",
              "      fill: #174EA6;\n",
              "    }\n",
              "\n",
              "    [theme=dark] .colab-df-convert {\n",
              "      background-color: #3B4455;\n",
              "      fill: #D2E3FC;\n",
              "    }\n",
              "\n",
              "    [theme=dark] .colab-df-convert:hover {\n",
              "      background-color: #434B5C;\n",
              "      box-shadow: 0px 1px 3px 1px rgba(0, 0, 0, 0.15);\n",
              "      filter: drop-shadow(0px 1px 2px rgba(0, 0, 0, 0.3));\n",
              "      fill: #FFFFFF;\n",
              "    }\n",
              "  </style>\n",
              "\n",
              "      <script>\n",
              "        const buttonEl =\n",
              "          document.querySelector('#df-3fd74ee4-7c56-417f-a9e9-773e0717edd2 button.colab-df-convert');\n",
              "        buttonEl.style.display =\n",
              "          google.colab.kernel.accessAllowed ? 'block' : 'none';\n",
              "\n",
              "        async function convertToInteractive(key) {\n",
              "          const element = document.querySelector('#df-3fd74ee4-7c56-417f-a9e9-773e0717edd2');\n",
              "          const dataTable =\n",
              "            await google.colab.kernel.invokeFunction('convertToInteractive',\n",
              "                                                     [key], {});\n",
              "          if (!dataTable) return;\n",
              "\n",
              "          const docLinkHtml = 'Like what you see? Visit the ' +\n",
              "            '<a target=\"_blank\" href=https://colab.research.google.com/notebooks/data_table.ipynb>data table notebook</a>'\n",
              "            + ' to learn more about interactive tables.';\n",
              "          element.innerHTML = '';\n",
              "          dataTable['output_type'] = 'display_data';\n",
              "          await google.colab.output.renderOutput(dataTable, element);\n",
              "          const docLink = document.createElement('div');\n",
              "          docLink.innerHTML = docLinkHtml;\n",
              "          element.appendChild(docLink);\n",
              "        }\n",
              "      </script>\n",
              "    </div>\n",
              "  </div>\n",
              "  "
            ]
          },
          "metadata": {},
          "execution_count": 9
        }
      ]
    },
    {
      "cell_type": "markdown",
      "source": [
        "### Numerical Variables Validation"
      ],
      "metadata": {
        "id": "jR3cjVsW0hjZ"
      }
    },
    {
      "cell_type": "code",
      "source": [
        "fig, axs = plt.subplots(2, 2, figsize = (10, 8))\n",
        "\n",
        "axs[0, 0].hist(df_train['feat_PHI'], bins=20)\n",
        "axs[0, 0].set_title('feat_PHI')\n",
        "\n",
        "axs[0, 1].hist(df_train['feat_PSI'], bins=20)\n",
        "axs[0, 1].set_title('feat_PSI')\n",
        "\n",
        "axs[1, 0].hist(df_train['feat_TAU'], bins=20)\n",
        "axs[1, 0].set_title('feat_TAU')\n",
        "\n",
        "axs[1, 1].hist(df_train['feat_THETA'], bins=20)\n",
        "axs[1, 1].set_title('feat_THETA')\n",
        "\n",
        "\n",
        "\n",
        "plt.show()"
      ],
      "metadata": {
        "id": "BIjBoA7I0qyq",
        "colab": {
          "base_uri": "https://localhost:8080/",
          "height": 499
        },
        "outputId": "dabf8368-64db-4c8e-f035-faf4aee25f45"
      },
      "execution_count": 10,
      "outputs": [
        {
          "output_type": "display_data",
          "data": {
            "text/plain": [
              "<Figure size 720x576 with 4 Axes>"
            ],
            "image/png": "[encoded data removed]"
          },
          "metadata": {
            "needs_background": "light"
          }
        }
      ]
    },
    {
      "cell_type": "code",
      "source": [
        "corr_matrix = df_train[['feat_PHI', 'feat_PSI', 'feat_TAU', 'feat_THETA']].corr()\n",
        "\n",
        "sns.heatmap(corr_matrix, annot = True, cmap = 'coolwarm')\n",
        "plt.show()"
      ],
      "metadata": {
        "colab": {
          "base_uri": "https://localhost:8080/",
          "height": 270
        },
        "id": "xiNersFX7Zjc",
        "outputId": "5655bad2-ef4f-45e2-8bd3-ec01de0fb57a"
      },
      "execution_count": 11,
      "outputs": [
        {
          "output_type": "display_data",
          "data": {
            "text/plain": [
              "<Figure size 432x288 with 2 Axes>"
            ],
            "image/png": "[encoded data removed]"
          },
          "metadata": {
            "needs_background": "light"
          }
        }
      ]
    },
    {
      "cell_type": "code",
      "source": [
        "plt.scatter(df_train['feat_PSI'], df_train['feat_THETA'])\n",
        "plt.show()"
      ],
      "metadata": {
        "colab": {
          "base_uri": "https://localhost:8080/",
          "height": 265
        },
        "id": "4AH4GwgG9EFF",
        "outputId": "7ac3d4d5-5b0e-469c-c4a1-cff830186262"
      },
      "execution_count": 12,
      "outputs": [
        {
          "output_type": "display_data",
          "data": {
            "text/plain": [
              "<Figure size 432x288 with 1 Axes>"
            ],
            "image/png": "[encoded data removed]"
          },
          "metadata": {
            "needs_background": "light"
          }
        }
      ]
    },
    {
      "cell_type": "code",
      "source": [
        "df_train[['feat_PSI', 'feat_THETA', 'feat_PHI', 'feat_TAU']][(df_train['feat_PSI'] == 0) & (df_train['feat_THETA'] == 0) & (df_train['feat_PHI'] == 0) & (df_train['feat_TAU'] == 0) ]"
      ],
      "metadata": {
        "colab": {
          "base_uri": "https://localhost:8080/",
          "height": 423
        },
        "id": "4Rn11wx9-A29",
        "outputId": "ca43c3bd-7d61-4f43-dab8-a6507acbb452"
      },
      "execution_count": 13,
      "outputs": [
        {
          "output_type": "execute_result",
          "data": {
            "text/plain": [
              "      feat_PSI  feat_THETA  feat_PHI  feat_TAU\n",
              "1397       0.0         0.0       0.0       0.0\n",
              "1398       0.0         0.0       0.0       0.0\n",
              "1399       0.0         0.0       0.0       0.0\n",
              "1400       0.0         0.0       0.0       0.0\n",
              "1401       0.0         0.0       0.0       0.0\n",
              "...        ...         ...       ...       ...\n",
              "3677       0.0         0.0       0.0       0.0\n",
              "3678       0.0         0.0       0.0       0.0\n",
              "3679       0.0         0.0       0.0       0.0\n",
              "3680       0.0         0.0       0.0       0.0\n",
              "3681       0.0         0.0       0.0       0.0\n",
              "\n",
              "[12689 rows x 4 columns]"
            ],
            "text/html": [
              "\n",
              "  <div id=\"df-16c7e119-fdde-4c3d-afe1-8be8b1e76191\">\n",
              "    <div class=\"colab-df-container\">\n",
              "      <div>\n",
              "<style scoped>\n",
              "    .dataframe tbody tr th:only-of-type {\n",
              "        vertical-align: middle;\n",
              "    }\n",
              "\n",
              "    .dataframe tbody tr th {\n",
              "        vertical-align: top;\n",
              "    }\n",
              "\n",
              "    .dataframe thead th {\n",
              "        text-align: right;\n",
              "    }\n",
              "</style>\n",
              "<table border=\"1\" class=\"dataframe\">\n",
              "  <thead>\n",
              "    <tr style=\"text-align: right;\">\n",
              "      <th></th>\n",
              "      <th>feat_PSI</th>\n",
              "      <th>feat_THETA</th>\n",
              "      <th>feat_PHI</th>\n",
              "      <th>feat_TAU</th>\n",
              "    </tr>\n",
              "  </thead>\n",
              "  <tbody>\n",
              "    <tr>\n",
              "      <th>1397</th>\n",
              "      <td>0.0</td>\n",
              "      <td>0.0</td>\n",
              "      <td>0.0</td>\n",
              "      <td>0.0</td>\n",
              "    </tr>\n",
              "    <tr>\n",
              "      <th>1398</th>\n",
              "      <td>0.0</td>\n",
              "      <td>0.0</td>\n",
              "      <td>0.0</td>\n",
              "      <td>0.0</td>\n",
              "    </tr>\n",
              "    <tr>\n",
              "      <th>1399</th>\n",
              "      <td>0.0</td>\n",
              "      <td>0.0</td>\n",
              "      <td>0.0</td>\n",
              "      <td>0.0</td>\n",
              "    </tr>\n",
              "    <tr>\n",
              "      <th>1400</th>\n",
              "      <td>0.0</td>\n",
              "      <td>0.0</td>\n",
              "      <td>0.0</td>\n",
              "      <td>0.0</td>\n",
              "    </tr>\n",
              "    <tr>\n",
              "      <th>1401</th>\n",
              "      <td>0.0</td>\n",
              "      <td>0.0</td>\n",
              "      <td>0.0</td>\n",
              "      <td>0.0</td>\n",
              "    </tr>\n",
              "    <tr>\n",
              "      <th>...</th>\n",
              "      <td>...</td>\n",
              "      <td>...</td>\n",
              "      <td>...</td>\n",
              "      <td>...</td>\n",
              "    </tr>\n",
              "    <tr>\n",
              "      <th>3677</th>\n",
              "      <td>0.0</td>\n",
              "      <td>0.0</td>\n",
              "      <td>0.0</td>\n",
              "      <td>0.0</td>\n",
              "    </tr>\n",
              "    <tr>\n",
              "      <th>3678</th>\n",
              "      <td>0.0</td>\n",
              "      <td>0.0</td>\n",
              "      <td>0.0</td>\n",
              "      <td>0.0</td>\n",
              "    </tr>\n",
              "    <tr>\n",
              "      <th>3679</th>\n",
              "      <td>0.0</td>\n",
              "      <td>0.0</td>\n",
              "      <td>0.0</td>\n",
              "      <td>0.0</td>\n",
              "    </tr>\n",
              "    <tr>\n",
              "      <th>3680</th>\n",
              "      <td>0.0</td>\n",
              "      <td>0.0</td>\n",
              "      <td>0.0</td>\n",
              "      <td>0.0</td>\n",
              "    </tr>\n",
              "    <tr>\n",
              "      <th>3681</th>\n",
              "      <td>0.0</td>\n",
              "      <td>0.0</td>\n",
              "      <td>0.0</td>\n",
              "      <td>0.0</td>\n",
              "    </tr>\n",
              "  </tbody>\n",
              "</table>\n",
              "<p>12689 rows × 4 columns</p>\n",
              "</div>\n",
              "      <button class=\"colab-df-convert\" onclick=\"convertToInteractive('df-16c7e119-fdde-4c3d-afe1-8be8b1e76191')\"\n",
              "              title=\"Convert this dataframe to an interactive table.\"\n",
              "              style=\"display:none;\">\n",
              "        \n",
              "  <svg xmlns=\"http://www.w3.org/2000/svg\" height=\"24px\"viewBox=\"0 0 24 24\"\n",
              "       width=\"24px\">\n",
              "    <path d=\"M0 0h24v24H0V0z\" fill=\"none\"/>\n",
              "    <path d=\"M18.56 5.44l.94 2.06.94-2.06 2.06-.94-2.06-.94-.94-2.06-.94 2.06-2.06.94zm-11 1L8.5 8.5l.94-2.06 2.06-.94-2.06-.94L8.5 2.5l-.94 2.06-2.06.94zm10 10l.94 2.06.94-2.06 2.06-.94-2.06-.94-.94-2.06-.94 2.06-2.06.94z\"/><path d=\"M17.41 7.96l-1.37-1.37c-.4-.4-.92-.59-1.43-.59-.52 0-1.04.2-1.43.59L10.3 9.45l-7.72 7.72c-.78.78-.78 2.05 0 2.83L4 21.41c.39.39.9.59 1.41.59.51 0 1.02-.2 1.41-.59l7.78-7.78 2.81-2.81c.8-.78.8-2.07 0-2.86zM5.41 20L4 18.59l7.72-7.72 1.47 1.35L5.41 20z\"/>\n",
              "  </svg>\n",
              "      </button>\n",
              "      \n",
              "  <style>\n",
              "    .colab-df-container {\n",
              "      display:flex;\n",
              "      flex-wrap:wrap;\n",
              "      gap: 12px;\n",
              "    }\n",
              "\n",
              "    .colab-df-convert {\n",
              "      background-color: #E8F0FE;\n",
              "      border: none;\n",
              "      border-radius: 50%;\n",
              "      cursor: pointer;\n",
              "      display: none;\n",
              "      fill: #1967D2;\n",
              "      height: 32px;\n",
              "      padding: 0 0 0 0;\n",
              "      width: 32px;\n",
              "    }\n",
              "\n",
              "    .colab-df-convert:hover {\n",
              "      background-color: #E2EBFA;\n",
              "      box-shadow: 0px 1px 2px rgba(60, 64, 67, 0.3), 0px 1px 3px 1px rgba(60, 64, 67, 0.15);\n",
              "      fill: #174EA6;\n",
              "    }\n",
              "\n",
              "    [theme=dark] .colab-df-convert {\n",
              "      background-color: #3B4455;\n",
              "      fill: #D2E3FC;\n",
              "    }\n",
              "\n",
              "    [theme=dark] .colab-df-convert:hover {\n",
              "      background-color: #434B5C;\n",
              "      box-shadow: 0px 1px 3px 1px rgba(0, 0, 0, 0.15);\n",
              "      filter: drop-shadow(0px 1px 2px rgba(0, 0, 0, 0.3));\n",
              "      fill: #FFFFFF;\n",
              "    }\n",
              "  </style>\n",
              "\n",
              "      <script>\n",
              "        const buttonEl =\n",
              "          document.querySelector('#df-16c7e119-fdde-4c3d-afe1-8be8b1e76191 button.colab-df-convert');\n",
              "        buttonEl.style.display =\n",
              "          google.colab.kernel.accessAllowed ? 'block' : 'none';\n",
              "\n",
              "        async function convertToInteractive(key) {\n",
              "          const element = document.querySelector('#df-16c7e119-fdde-4c3d-afe1-8be8b1e76191');\n",
              "          const dataTable =\n",
              "            await google.colab.kernel.invokeFunction('convertToInteractive',\n",
              "                                                     [key], {});\n",
              "          if (!dataTable) return;\n",
              "\n",
              "          const docLinkHtml = 'Like what you see? Visit the ' +\n",
              "            '<a target=\"_blank\" href=https://colab.research.google.com/notebooks/data_table.ipynb>data table notebook</a>'\n",
              "            + ' to learn more about interactive tables.';\n",
              "          element.innerHTML = '';\n",
              "          dataTable['output_type'] = 'display_data';\n",
              "          await google.colab.output.renderOutput(dataTable, element);\n",
              "          const docLink = document.createElement('div');\n",
              "          docLink.innerHTML = docLinkHtml;\n",
              "          element.appendChild(docLink);\n",
              "        }\n",
              "      </script>\n",
              "    </div>\n",
              "  </div>\n",
              "  "
            ]
          },
          "metadata": {},
          "execution_count": 13
        }
      ]
    },
    {
      "cell_type": "code",
      "source": [
        "df_train.duplicated().sum()"
      ],
      "metadata": {
        "colab": {
          "base_uri": "https://localhost:8080/"
        },
        "id": "TrJJ986A_HEM",
        "outputId": "3ae81dad-72fd-4942-dce9-dfee88f6f6a5"
      },
      "execution_count": 14,
      "outputs": [
        {
          "output_type": "execute_result",
          "data": {
            "text/plain": [
              "0"
            ]
          },
          "metadata": {},
          "execution_count": 14
        }
      ]
    },
    {
      "cell_type": "code",
      "source": [
        "fig, axes = plt.subplots(1, 2, figsize = (10, 4))\n",
        "axes[0].hist(df_train['feat_BBSASA'], bins = 20)\n",
        "axes[1].hist(df_train['feat_SCSASA'], bins = 20)\n",
        "\n",
        "plt.show()"
      ],
      "metadata": {
        "id": "gW-QMY8v_ZDP",
        "colab": {
          "base_uri": "https://localhost:8080/",
          "height": 265
        },
        "outputId": "f3127d7d-8bf6-404d-f6c2-eef24e12ba4e"
      },
      "execution_count": 15,
      "outputs": [
        {
          "output_type": "display_data",
          "data": {
            "text/plain": [
              "<Figure size 720x288 with 2 Axes>"
            ],
            "image/png": "[encoded data removed]"
          },
          "metadata": {
            "needs_background": "light"
          }
        }
      ]
    },
    {
      "cell_type": "code",
      "source": [
        "corr_matrix = df_train[['feat_BBSASA', 'feat_SCSASA']].corr()\n",
        "\n",
        "sns.heatmap(corr_matrix, annot = True, cmap = 'coolwarm')\n",
        "plt.show()"
      ],
      "metadata": {
        "colab": {
          "base_uri": "https://localhost:8080/",
          "height": 270
        },
        "id": "_neZcqxHNgGE",
        "outputId": "7fcb593e-f402-48b0-a45d-c8adc26f7d20"
      },
      "execution_count": 16,
      "outputs": [
        {
          "output_type": "display_data",
          "data": {
            "text/plain": [
              "<Figure size 432x288 with 2 Axes>"
            ],
            "image/png": "[encoded data removed]"
          },
          "metadata": {
            "needs_background": "light"
          }
        }
      ]
    },
    {
      "cell_type": "code",
      "source": [
        "plt.scatter(df_train['feat_BBSASA'], df_train.feat_SCSASA)"
      ],
      "metadata": {
        "colab": {
          "base_uri": "https://localhost:8080/",
          "height": 283
        },
        "id": "Ngsql2QQN4C8",
        "outputId": "e2447219-cd9d-44a6-c0fa-15a7cbbe1d92"
      },
      "execution_count": 17,
      "outputs": [
        {
          "output_type": "execute_result",
          "data": {
            "text/plain": [
              "<matplotlib.collections.PathCollection at 0x7fe3b09cbca0>"
            ]
          },
          "metadata": {},
          "execution_count": 17
        },
        {
          "output_type": "display_data",
          "data": {
            "text/plain": [
              "<Figure size 432x288 with 1 Axes>"
            ],
            "image/png": "[encoded data removed]"
          },
          "metadata": {
            "needs_background": "light"
          }
        }
      ]
    },
    {
      "cell_type": "markdown",
      "source": [
        "#### Check on feat_SCSASA as it has negative values (unexpected)bold text"
      ],
      "metadata": {
        "id": "xBo0eT3Q3pSq"
      }
    },
    {
      "cell_type": "code",
      "source": [
        "df_train[df_train['feat_SCSASA'] < 0].loc[:, ['annotation_sequence', 'annotation_atomrec', 'feat_SCSASA']][['annotation_sequence', 'annotation_atomrec']].value_counts()"
      ],
      "metadata": {
        "colab": {
          "base_uri": "https://localhost:8080/"
        },
        "id": "8qQbJ8Ry33Hl",
        "outputId": "0e11c683-40b2-4212-8f73-ac81acb32aff"
      },
      "execution_count": 18,
      "outputs": [
        {
          "output_type": "execute_result",
          "data": {
            "text/plain": [
              "annotation_sequence  annotation_atomrec\n",
              "G                    G                     3287\n",
              "A                    A                       22\n",
              "S                    S                       19\n",
              "V                    V                       17\n",
              "C                    C                       14\n",
              "I                    I                        9\n",
              "L                    L                        7\n",
              "T                    T                        3\n",
              "F                    F                        2\n",
              "W                    W                        2\n",
              "M                    M                        1\n",
              "N                    N                        1\n",
              "Q                    Q                        1\n",
              "Y                    Y                        1\n",
              "dtype: int64"
            ]
          },
          "metadata": {},
          "execution_count": 18
        }
      ]
    },
    {
      "cell_type": "code",
      "source": [
        "df_train.select_dtypes(include = ['int', 'float']).columns"
      ],
      "metadata": {
        "colab": {
          "base_uri": "https://localhost:8080/"
        },
        "id": "na-acdrhPvcm",
        "outputId": "617d4de7-6c2c-405d-8619-7b154d25b3f2"
      },
      "execution_count": 19,
      "outputs": [
        {
          "output_type": "execute_result",
          "data": {
            "text/plain": [
              "Index(['feat_PHI', 'feat_PSI', 'feat_TAU', 'feat_THETA', 'feat_BBSASA',\n",
              "       'feat_SCSASA', 'feat_pLDDT', 'feat_DSSP_6', 'feat_DSSP_7',\n",
              "       'feat_DSSP_8', 'feat_DSSP_9', 'feat_DSSP_10', 'feat_DSSP_11',\n",
              "       'feat_DSSP_12', 'feat_DSSP_13', 'coord_X', 'coord_Y', 'coord_Z',\n",
              "       'entry_index'],\n",
              "      dtype='object')"
            ]
          },
          "metadata": {},
          "execution_count": 19
        }
      ]
    },
    {
      "cell_type": "markdown",
      "source": [
        "#### feat_pLDDT"
      ],
      "metadata": {
        "id": "ABg4LczfPxWi"
      }
    },
    {
      "cell_type": "code",
      "source": [
        "df_train.feat_pLDDT.hist()"
      ],
      "metadata": {
        "colab": {
          "base_uri": "https://localhost:8080/",
          "height": 0
        },
        "id": "NwzIwaj_P_4o",
        "outputId": "8e70f086-becd-40db-ba8c-6e6e259e2860"
      },
      "execution_count": 20,
      "outputs": [
        {
          "output_type": "execute_result",
          "data": {
            "text/plain": [
              "<matplotlib.axes._subplots.AxesSubplot at 0x7fe3b0996970>"
            ]
          },
          "metadata": {},
          "execution_count": 20
        },
        {
          "output_type": "display_data",
          "data": {
            "text/plain": [
              "<Figure size 432x288 with 1 Axes>"
            ],
            "image/png": "[encoded data removed]"
          },
          "metadata": {
            "needs_background": "light"
          }
        }
      ]
    },
    {
      "cell_type": "markdown",
      "source": [
        "#### DSSPs"
      ],
      "metadata": {
        "id": "B1remmoNQm7f"
      }
    },
    {
      "cell_type": "code",
      "source": [
        "fig, axs = plt.subplots(2, 4, figsize=(12, 6))\n",
        "axs = axs.ravel()\n",
        "\n",
        "for i in range(6, 14):\n",
        "    ax = axs[i-6]\n",
        "    ax.hist(df_train[f'feat_DSSP_{i}'], bins=20)\n",
        "    ax.set_title(f'feat_DSSP_{i}')\n",
        "plt.show()"
      ],
      "metadata": {
        "colab": {
          "base_uri": "https://localhost:8080/",
          "height": 390
        },
        "id": "Gy877PyiQmUZ",
        "outputId": "afe1954e-4560-4d00-cf44-713cb1b8bb50"
      },
      "execution_count": 21,
      "outputs": [
        {
          "output_type": "display_data",
          "data": {
            "text/plain": [
              "<Figure size 864x432 with 8 Axes>"
            ],
            "image/png": "[encoded data removed]"
          },
          "metadata": {
            "needs_background": "light"
          }
        }
      ]
    },
    {
      "cell_type": "code",
      "source": [
        "corr_matrix = df_train[[f'feat_DSSP_{i}' for i in range(6, 14)]].corr()\n",
        "sns.heatmap(corr_matrix, cmap = 'coolwarm', annot = True)"
      ],
      "metadata": {
        "colab": {
          "base_uri": "https://localhost:8080/",
          "height": 346
        },
        "id": "uzwwWnpvrC0s",
        "outputId": "e40625eb-43af-4ed6-b023-77b5f41f881f"
      },
      "execution_count": 22,
      "outputs": [
        {
          "output_type": "execute_result",
          "data": {
            "text/plain": [
              "<matplotlib.axes._subplots.AxesSubplot at 0x7fe3b08da220>"
            ]
          },
          "metadata": {},
          "execution_count": 22
        },
        {
          "output_type": "display_data",
          "data": {
            "text/plain": [
              "<Figure size 432x288 with 2 Axes>"
            ],
            "image/png": "[encoded data removed]"
          },
          "metadata": {
            "needs_background": "light"
          }
        }
      ]
    },
    {
      "cell_type": "code",
      "source": [
        "plt.scatter(df_train['feat_DSSP_7'], df_train['feat_DSSP_11'])"
      ],
      "metadata": {
        "colab": {
          "base_uri": "https://localhost:8080/",
          "height": 283
        },
        "id": "21O8UWUZshDs",
        "outputId": "864e547c-9630-4d59-a7da-f0f8cbe9ad15"
      },
      "execution_count": 23,
      "outputs": [
        {
          "output_type": "execute_result",
          "data": {
            "text/plain": [
              "<matplotlib.collections.PathCollection at 0x7fe3b0c101c0>"
            ]
          },
          "metadata": {},
          "execution_count": 23
        },
        {
          "output_type": "display_data",
          "data": {
            "text/plain": [
              "<Figure size 432x288 with 1 Axes>"
            ],
            "image/png": "[encoded data removed]"
          },
          "metadata": {
            "needs_background": "light"
          }
        }
      ]
    },
    {
      "cell_type": "markdown",
      "source": [
        "#### Coordinates"
      ],
      "metadata": {
        "id": "w-y-Bkrxp2Ms"
      }
    },
    {
      "cell_type": "code",
      "source": [
        "import matplotlib.pyplot as plt\n",
        "\n",
        "fig, axs = plt.subplots(1, 3, figsize=(12, 6))\n",
        "axs = axs.ravel()\n",
        "\n",
        "plot_index = ['X', 'Y', 'Z']\n",
        "\n",
        "for i in range(3):\n",
        "    ax = axs[i]\n",
        "    ax.hist(df_train[f'coord_{plot_index[i]}'], bins=20)\n",
        "    ax.set_title(f'coord_{plot_index[i]}')\n",
        "plt.show()"
      ],
      "metadata": {
        "colab": {
          "base_uri": "https://localhost:8080/",
          "height": 390
        },
        "id": "TcFQkcahp5q_",
        "outputId": "8e82959b-6214-44e2-f7b2-e1b28f32e604"
      },
      "execution_count": 33,
      "outputs": [
        {
          "output_type": "display_data",
          "data": {
            "text/plain": [
              "<Figure size 864x432 with 3 Axes>"
            ],
            "image/png": "[encoded data removed]"
          },
          "metadata": {
            "needs_background": "light"
          }
        }
      ]
    },
    {
      "cell_type": "code",
      "source": [
        "corr_matrix = df_train[[f'coord_{i}' for i in plot_index]].corr()\n",
        "sns.heatmap(corr_matrix, cmap = 'coolwarm', annot = True)"
      ],
      "metadata": {
        "colab": {
          "base_uri": "https://localhost:8080/",
          "height": 288
        },
        "id": "ixV_05LUqg52",
        "outputId": "26cc8cac-129d-4e22-bfc8-baa0f4d93c5a"
      },
      "execution_count": 35,
      "outputs": [
        {
          "output_type": "execute_result",
          "data": {
            "text/plain": [
              "<matplotlib.axes._subplots.AxesSubplot at 0x7fe3afd617f0>"
            ]
          },
          "metadata": {},
          "execution_count": 35
        },
        {
          "output_type": "display_data",
          "data": {
            "text/plain": [
              "<Figure size 432x288 with 2 Axes>"
            ],
            "image/png": "[encoded data removed]"
          },
          "metadata": {
            "needs_background": "light"
          }
        }
      ]
    },
    {
      "cell_type": "markdown",
      "source": [
        "#### entry index"
      ],
      "metadata": {
        "id": "KPF8_5btq45f"
      }
    },
    {
      "cell_type": "code",
      "source": [
        "df_train['entry_index'].hist()"
      ],
      "metadata": {
        "colab": {
          "base_uri": "https://localhost:8080/",
          "height": 283
        },
        "id": "smItyaSDq6_Q",
        "outputId": "2f6729eb-cc14-48fd-f823-641367e9b1f7"
      },
      "execution_count": 36,
      "outputs": [
        {
          "output_type": "execute_result",
          "data": {
            "text/plain": [
              "<matplotlib.axes._subplots.AxesSubplot at 0x7fe3b3570430>"
            ]
          },
          "metadata": {},
          "execution_count": 36
        },
        {
          "output_type": "display_data",
          "data": {
            "text/plain": [
              "<Figure size 432x288 with 1 Axes>"
            ],
            "image/png": "[encoded data removed]"
          },
          "metadata": {
            "needs_background": "light"
          }
        }
      ]
    },
    {
      "cell_type": "code",
      "source": [
        "df_train.entry_index.value_counts()"
      ],
      "metadata": {
        "colab": {
          "base_uri": "https://localhost:8080/"
        },
        "id": "hfGQ3cl1rLF-",
        "outputId": "07dcc640-f4a3-4bdf-9cae-ed5dd4db7154"
      },
      "execution_count": 39,
      "outputs": [
        {
          "output_type": "execute_result",
          "data": {
            "text/plain": [
              "0       723\n",
              "54      723\n",
              "62      723\n",
              "61      723\n",
              "60      723\n",
              "       ... \n",
              "5376      1\n",
              "5377      1\n",
              "5378      1\n",
              "5379      1\n",
              "7384      1\n",
              "Name: entry_index, Length: 7385, dtype: int64"
            ]
          },
          "metadata": {},
          "execution_count": 39
        }
      ]
    },
    {
      "cell_type": "markdown",
      "source": [
        "Numerical Variables Correlation"
      ],
      "metadata": {
        "id": "qudlSh9Uz_2T"
      }
    },
    {
      "cell_type": "code",
      "source": [
        "\n",
        "num_corr_matrix = df_train.corr()"
      ],
      "metadata": {
        "id": "3GxiNZNE0CO-"
      },
      "execution_count": 61,
      "outputs": []
    },
    {
      "cell_type": "code",
      "source": [
        "plt.figure(figsize = (10, 10))\n",
        "# Set the threshold\n",
        "threshold = 0.5\n",
        "\n",
        "# Create a boolean mask of correlations above the threshold\n",
        "mask = num_corr_matrix.abs() > threshold\n",
        "\n",
        "# Create a heatmap and annotate values above the threshold\n",
        "ax = sns.heatmap(num_corr_matrix, cmap='coolwarm', center=0, square=True)\n",
        "\n",
        "plt.show()\n"
      ],
      "metadata": {
        "colab": {
          "base_uri": "https://localhost:8080/",
          "height": 606
        },
        "id": "BYQWewjw0H30",
        "outputId": "efb67d08-ff9b-4d9a-c772-348616662ff7"
      },
      "execution_count": 72,
      "outputs": [
        {
          "output_type": "display_data",
          "data": {
            "text/plain": [
              "<Figure size 720x720 with 2 Axes>"
            ],
            "image/png": "[encoded data removed]"
          },
          "metadata": {
            "needs_background": "light"
          }
        }
      ]
    },
    {
      "cell_type": "code",
      "source": [
        "corr_masked = np.where(num_corr_matrix > 0.5, num_corr_matrix, 0)"
      ],
      "metadata": {
        "id": "x5TQcGZh0Y9W"
      },
      "execution_count": 66,
      "outputs": []
    },
    {
      "cell_type": "code",
      "source": [
        "sns.heatmap(corr_masked)"
      ],
      "metadata": {
        "colab": {
          "base_uri": "https://localhost:8080/",
          "height": 290
        },
        "id": "V41Fr3MM0caK",
        "outputId": "e893476f-0eb5-4040-a03d-2fda86b595c1"
      },
      "execution_count": 68,
      "outputs": [
        {
          "output_type": "execute_result",
          "data": {
            "text/plain": [
              "<matplotlib.axes._subplots.AxesSubplot at 0x7fe3bb807e20>"
            ]
          },
          "metadata": {},
          "execution_count": 68
        },
        {
          "output_type": "display_data",
          "data": {
            "text/plain": [
              "<Figure size 432x288 with 2 Axes>"
            ],
            "image/png": "[encoded data removed]"
          },
          "metadata": {
            "needs_background": "light"
          }
        }
      ]
    },
    {
      "cell_type": "markdown",
      "source": [
        "### Exploring Categorical Variables"
      ],
      "metadata": {
        "id": "_j4TvvODPr39"
      }
    },
    {
      "cell_type": "code",
      "source": [
        "cat_vars = df_train.select_dtypes(include = ['object', 'bool']).columns\n",
        "df_train_cat_first_20 = df_train[cat_vars[:20]]\n",
        "df_train_cat_first_20.describe()\n"
      ],
      "metadata": {
        "colab": {
          "base_uri": "https://localhost:8080/",
          "height": 239
        },
        "id": "A3zdcBlUzXXE",
        "outputId": "16590adb-9e14-4d98-d44a-c25add029541"
      },
      "execution_count": 25,
      "outputs": [
        {
          "output_type": "execute_result",
          "data": {
            "text/plain": [
              "       annotation_sequence  feat_A  feat_C  feat_D  feat_E  feat_F  feat_G  \\\n",
              "count               497166  497166  497166  497166  497166  497166  497166   \n",
              "unique                  20       2       2       2       2       2       2   \n",
              "top                      L   False   False   False   False   False   False   \n",
              "freq                 47881  463159  486801  471671  460675  478840  464826   \n",
              "\n",
              "        feat_H  feat_I  feat_K  feat_L  feat_M  feat_N  feat_P  feat_Q  \\\n",
              "count   497166  497166  497166  497166  497166  497166  497166  497166   \n",
              "unique       2       2       2       2       2       2       2       2   \n",
              "top      False   False   False   False   False   False   False   False   \n",
              "freq    484821  473109  466173  449285  485454  477976  469042  474280   \n",
              "\n",
              "        feat_R  feat_S  feat_T  feat_V  feat_W  \n",
              "count   497166  497166  497166  497166  497166  \n",
              "unique       2       2       2       2       2  \n",
              "top      False   False   False   False   False  \n",
              "freq    469543  459010  471282  466053  491210  "
            ],
            "text/html": [
              "\n",
              "  <div id=\"df-3e3619b0-7102-441a-be0e-0cf809c45f35\">\n",
              "    <div class=\"colab-df-container\">\n",
              "      <div>\n",
              "<style scoped>\n",
              "    .dataframe tbody tr th:only-of-type {\n",
              "        vertical-align: middle;\n",
              "    }\n",
              "\n",
              "    .dataframe tbody tr th {\n",
              "        vertical-align: top;\n",
              "    }\n",
              "\n",
              "    .dataframe thead th {\n",
              "        text-align: right;\n",
              "    }\n",
              "</style>\n",
              "<table border=\"1\" class=\"dataframe\">\n",
              "  <thead>\n",
              "    <tr style=\"text-align: right;\">\n",
              "      <th></th>\n",
              "      <th>annotation_sequence</th>\n",
              "      <th>feat_A</th>\n",
              "      <th>feat_C</th>\n",
              "      <th>feat_D</th>\n",
              "      <th>feat_E</th>\n",
              "      <th>feat_F</th>\n",
              "      <th>feat_G</th>\n",
              "      <th>feat_H</th>\n",
              "      <th>feat_I</th>\n",
              "      <th>feat_K</th>\n",
              "      <th>feat_L</th>\n",
              "      <th>feat_M</th>\n",
              "      <th>feat_N</th>\n",
              "      <th>feat_P</th>\n",
              "      <th>feat_Q</th>\n",
              "      <th>feat_R</th>\n",
              "      <th>feat_S</th>\n",
              "      <th>feat_T</th>\n",
              "      <th>feat_V</th>\n",
              "      <th>feat_W</th>\n",
              "    </tr>\n",
              "  </thead>\n",
              "  <tbody>\n",
              "    <tr>\n",
              "      <th>count</th>\n",
              "      <td>497166</td>\n",
              "      <td>497166</td>\n",
              "      <td>497166</td>\n",
              "      <td>497166</td>\n",
              "      <td>497166</td>\n",
              "      <td>497166</td>\n",
              "      <td>497166</td>\n",
              "      <td>497166</td>\n",
              "      <td>497166</td>\n",
              "      <td>497166</td>\n",
              "      <td>497166</td>\n",
              "      <td>497166</td>\n",
              "      <td>497166</td>\n",
              "      <td>497166</td>\n",
              "      <td>497166</td>\n",
              "      <td>497166</td>\n",
              "      <td>497166</td>\n",
              "      <td>497166</td>\n",
              "      <td>497166</td>\n",
              "      <td>497166</td>\n",
              "    </tr>\n",
              "    <tr>\n",
              "      <th>unique</th>\n",
              "      <td>20</td>\n",
              "      <td>2</td>\n",
              "      <td>2</td>\n",
              "      <td>2</td>\n",
              "      <td>2</td>\n",
              "      <td>2</td>\n",
              "      <td>2</td>\n",
              "      <td>2</td>\n",
              "      <td>2</td>\n",
              "      <td>2</td>\n",
              "      <td>2</td>\n",
              "      <td>2</td>\n",
              "      <td>2</td>\n",
              "      <td>2</td>\n",
              "      <td>2</td>\n",
              "      <td>2</td>\n",
              "      <td>2</td>\n",
              "      <td>2</td>\n",
              "      <td>2</td>\n",
              "      <td>2</td>\n",
              "    </tr>\n",
              "    <tr>\n",
              "      <th>top</th>\n",
              "      <td>L</td>\n",
              "      <td>False</td>\n",
              "      <td>False</td>\n",
              "      <td>False</td>\n",
              "      <td>False</td>\n",
              "      <td>False</td>\n",
              "      <td>False</td>\n",
              "      <td>False</td>\n",
              "      <td>False</td>\n",
              "      <td>False</td>\n",
              "      <td>False</td>\n",
              "      <td>False</td>\n",
              "      <td>False</td>\n",
              "      <td>False</td>\n",
              "      <td>False</td>\n",
              "      <td>False</td>\n",
              "      <td>False</td>\n",
              "      <td>False</td>\n",
              "      <td>False</td>\n",
              "      <td>False</td>\n",
              "    </tr>\n",
              "    <tr>\n",
              "      <th>freq</th>\n",
              "      <td>47881</td>\n",
              "      <td>463159</td>\n",
              "      <td>486801</td>\n",
              "      <td>471671</td>\n",
              "      <td>460675</td>\n",
              "      <td>478840</td>\n",
              "      <td>464826</td>\n",
              "      <td>484821</td>\n",
              "      <td>473109</td>\n",
              "      <td>466173</td>\n",
              "      <td>449285</td>\n",
              "      <td>485454</td>\n",
              "      <td>477976</td>\n",
              "      <td>469042</td>\n",
              "      <td>474280</td>\n",
              "      <td>469543</td>\n",
              "      <td>459010</td>\n",
              "      <td>471282</td>\n",
              "      <td>466053</td>\n",
              "      <td>491210</td>\n",
              "    </tr>\n",
              "  </tbody>\n",
              "</table>\n",
              "</div>\n",
              "      <button class=\"colab-df-convert\" onclick=\"convertToInteractive('df-3e3619b0-7102-441a-be0e-0cf809c45f35')\"\n",
              "              title=\"Convert this dataframe to an interactive table.\"\n",
              "              style=\"display:none;\">\n",
              "        \n",
              "  <svg xmlns=\"http://www.w3.org/2000/svg\" height=\"24px\"viewBox=\"0 0 24 24\"\n",
              "       width=\"24px\">\n",
              "    <path d=\"M0 0h24v24H0V0z\" fill=\"none\"/>\n",
              "    <path d=\"M18.56 5.44l.94 2.06.94-2.06 2.06-.94-2.06-.94-.94-2.06-.94 2.06-2.06.94zm-11 1L8.5 8.5l.94-2.06 2.06-.94-2.06-.94L8.5 2.5l-.94 2.06-2.06.94zm10 10l.94 2.06.94-2.06 2.06-.94-2.06-.94-.94-2.06-.94 2.06-2.06.94z\"/><path d=\"M17.41 7.96l-1.37-1.37c-.4-.4-.92-.59-1.43-.59-.52 0-1.04.2-1.43.59L10.3 9.45l-7.72 7.72c-.78.78-.78 2.05 0 2.83L4 21.41c.39.39.9.59 1.41.59.51 0 1.02-.2 1.41-.59l7.78-7.78 2.81-2.81c.8-.78.8-2.07 0-2.86zM5.41 20L4 18.59l7.72-7.72 1.47 1.35L5.41 20z\"/>\n",
              "  </svg>\n",
              "      </button>\n",
              "      \n",
              "  <style>\n",
              "    .colab-df-container {\n",
              "      display:flex;\n",
              "      flex-wrap:wrap;\n",
              "      gap: 12px;\n",
              "    }\n",
              "\n",
              "    .colab-df-convert {\n",
              "      background-color: #E8F0FE;\n",
              "      border: none;\n",
              "      border-radius: 50%;\n",
              "      cursor: pointer;\n",
              "      display: none;\n",
              "      fill: #1967D2;\n",
              "      height: 32px;\n",
              "      padding: 0 0 0 0;\n",
              "      width: 32px;\n",
              "    }\n",
              "\n",
              "    .colab-df-convert:hover {\n",
              "      background-color: #E2EBFA;\n",
              "      box-shadow: 0px 1px 2px rgba(60, 64, 67, 0.3), 0px 1px 3px 1px rgba(60, 64, 67, 0.15);\n",
              "      fill: #174EA6;\n",
              "    }\n",
              "\n",
              "    [theme=dark] .colab-df-convert {\n",
              "      background-color: #3B4455;\n",
              "      fill: #D2E3FC;\n",
              "    }\n",
              "\n",
              "    [theme=dark] .colab-df-convert:hover {\n",
              "      background-color: #434B5C;\n",
              "      box-shadow: 0px 1px 3px 1px rgba(0, 0, 0, 0.15);\n",
              "      filter: drop-shadow(0px 1px 2px rgba(0, 0, 0, 0.3));\n",
              "      fill: #FFFFFF;\n",
              "    }\n",
              "  </style>\n",
              "\n",
              "      <script>\n",
              "        const buttonEl =\n",
              "          document.querySelector('#df-3e3619b0-7102-441a-be0e-0cf809c45f35 button.colab-df-convert');\n",
              "        buttonEl.style.display =\n",
              "          google.colab.kernel.accessAllowed ? 'block' : 'none';\n",
              "\n",
              "        async function convertToInteractive(key) {\n",
              "          const element = document.querySelector('#df-3e3619b0-7102-441a-be0e-0cf809c45f35');\n",
              "          const dataTable =\n",
              "            await google.colab.kernel.invokeFunction('convertToInteractive',\n",
              "                                                     [key], {});\n",
              "          if (!dataTable) return;\n",
              "\n",
              "          const docLinkHtml = 'Like what you see? Visit the ' +\n",
              "            '<a target=\"_blank\" href=https://colab.research.google.com/notebooks/data_table.ipynb>data table notebook</a>'\n",
              "            + ' to learn more about interactive tables.';\n",
              "          element.innerHTML = '';\n",
              "          dataTable['output_type'] = 'display_data';\n",
              "          await google.colab.output.renderOutput(dataTable, element);\n",
              "          const docLink = document.createElement('div');\n",
              "          docLink.innerHTML = docLinkHtml;\n",
              "          element.appendChild(docLink);\n",
              "        }\n",
              "      </script>\n",
              "    </div>\n",
              "  </div>\n",
              "  "
            ]
          },
          "metadata": {},
          "execution_count": 25
        }
      ]
    },
    {
      "cell_type": "code",
      "source": [
        "df_train_cat_remaining = df_train[cat_vars[20:]]\n",
        "df_train_cat_remaining.describe()"
      ],
      "metadata": {
        "colab": {
          "base_uri": "https://localhost:8080/",
          "height": 239
        },
        "id": "Fms7RsM52C3s",
        "outputId": "7fbbb128-de5f-499c-9c59-0b2371de8d9c"
      },
      "execution_count": 26,
      "outputs": [
        {
          "output_type": "execute_result",
          "data": {
            "text/plain": [
              "        feat_Y annotation_atomrec feat_DSSP_H feat_DSSP_B feat_DSSP_E  \\\n",
              "count   497166             484477      497166      497166      497166   \n",
              "unique       2                 20           2           2           2   \n",
              "top      False                  L       False       False       False   \n",
              "freq    482944              46400      343915      493464      428549   \n",
              "\n",
              "       feat_DSSP_G feat_DSSP_I feat_DSSP_T feat_DSSP_S        entry y_Ligand  \n",
              "count       497166      497166      497166      497166       497166   497166  \n",
              "unique           2           2           2           2          723        2  \n",
              "top          False       False       False       False  MACF1_HUMAN    False  \n",
              "freq        482016      495072      451028      464548         7385   479912  "
            ],
            "text/html": [
              "\n",
              "  <div id=\"df-33a1de58-4ba0-4f8f-970e-ab20b8644c69\">\n",
              "    <div class=\"colab-df-container\">\n",
              "      <div>\n",
              "<style scoped>\n",
              "    .dataframe tbody tr th:only-of-type {\n",
              "        vertical-align: middle;\n",
              "    }\n",
              "\n",
              "    .dataframe tbody tr th {\n",
              "        vertical-align: top;\n",
              "    }\n",
              "\n",
              "    .dataframe thead th {\n",
              "        text-align: right;\n",
              "    }\n",
              "</style>\n",
              "<table border=\"1\" class=\"dataframe\">\n",
              "  <thead>\n",
              "    <tr style=\"text-align: right;\">\n",
              "      <th></th>\n",
              "      <th>feat_Y</th>\n",
              "      <th>annotation_atomrec</th>\n",
              "      <th>feat_DSSP_H</th>\n",
              "      <th>feat_DSSP_B</th>\n",
              "      <th>feat_DSSP_E</th>\n",
              "      <th>feat_DSSP_G</th>\n",
              "      <th>feat_DSSP_I</th>\n",
              "      <th>feat_DSSP_T</th>\n",
              "      <th>feat_DSSP_S</th>\n",
              "      <th>entry</th>\n",
              "      <th>y_Ligand</th>\n",
              "    </tr>\n",
              "  </thead>\n",
              "  <tbody>\n",
              "    <tr>\n",
              "      <th>count</th>\n",
              "      <td>497166</td>\n",
              "      <td>484477</td>\n",
              "      <td>497166</td>\n",
              "      <td>497166</td>\n",
              "      <td>497166</td>\n",
              "      <td>497166</td>\n",
              "      <td>497166</td>\n",
              "      <td>497166</td>\n",
              "      <td>497166</td>\n",
              "      <td>497166</td>\n",
              "      <td>497166</td>\n",
              "    </tr>\n",
              "    <tr>\n",
              "      <th>unique</th>\n",
              "      <td>2</td>\n",
              "      <td>20</td>\n",
              "      <td>2</td>\n",
              "      <td>2</td>\n",
              "      <td>2</td>\n",
              "      <td>2</td>\n",
              "      <td>2</td>\n",
              "      <td>2</td>\n",
              "      <td>2</td>\n",
              "      <td>723</td>\n",
              "      <td>2</td>\n",
              "    </tr>\n",
              "    <tr>\n",
              "      <th>top</th>\n",
              "      <td>False</td>\n",
              "      <td>L</td>\n",
              "      <td>False</td>\n",
              "      <td>False</td>\n",
              "      <td>False</td>\n",
              "      <td>False</td>\n",
              "      <td>False</td>\n",
              "      <td>False</td>\n",
              "      <td>False</td>\n",
              "      <td>MACF1_HUMAN</td>\n",
              "      <td>False</td>\n",
              "    </tr>\n",
              "    <tr>\n",
              "      <th>freq</th>\n",
              "      <td>482944</td>\n",
              "      <td>46400</td>\n",
              "      <td>343915</td>\n",
              "      <td>493464</td>\n",
              "      <td>428549</td>\n",
              "      <td>482016</td>\n",
              "      <td>495072</td>\n",
              "      <td>451028</td>\n",
              "      <td>464548</td>\n",
              "      <td>7385</td>\n",
              "      <td>479912</td>\n",
              "    </tr>\n",
              "  </tbody>\n",
              "</table>\n",
              "</div>\n",
              "      <button class=\"colab-df-convert\" onclick=\"convertToInteractive('df-33a1de58-4ba0-4f8f-970e-ab20b8644c69')\"\n",
              "              title=\"Convert this dataframe to an interactive table.\"\n",
              "              style=\"display:none;\">\n",
              "        \n",
              "  <svg xmlns=\"http://www.w3.org/2000/svg\" height=\"24px\"viewBox=\"0 0 24 24\"\n",
              "       width=\"24px\">\n",
              "    <path d=\"M0 0h24v24H0V0z\" fill=\"none\"/>\n",
              "    <path d=\"M18.56 5.44l.94 2.06.94-2.06 2.06-.94-2.06-.94-.94-2.06-.94 2.06-2.06.94zm-11 1L8.5 8.5l.94-2.06 2.06-.94-2.06-.94L8.5 2.5l-.94 2.06-2.06.94zm10 10l.94 2.06.94-2.06 2.06-.94-2.06-.94-.94-2.06-.94 2.06-2.06.94z\"/><path d=\"M17.41 7.96l-1.37-1.37c-.4-.4-.92-.59-1.43-.59-.52 0-1.04.2-1.43.59L10.3 9.45l-7.72 7.72c-.78.78-.78 2.05 0 2.83L4 21.41c.39.39.9.59 1.41.59.51 0 1.02-.2 1.41-.59l7.78-7.78 2.81-2.81c.8-.78.8-2.07 0-2.86zM5.41 20L4 18.59l7.72-7.72 1.47 1.35L5.41 20z\"/>\n",
              "  </svg>\n",
              "      </button>\n",
              "      \n",
              "  <style>\n",
              "    .colab-df-container {\n",
              "      display:flex;\n",
              "      flex-wrap:wrap;\n",
              "      gap: 12px;\n",
              "    }\n",
              "\n",
              "    .colab-df-convert {\n",
              "      background-color: #E8F0FE;\n",
              "      border: none;\n",
              "      border-radius: 50%;\n",
              "      cursor: pointer;\n",
              "      display: none;\n",
              "      fill: #1967D2;\n",
              "      height: 32px;\n",
              "      padding: 0 0 0 0;\n",
              "      width: 32px;\n",
              "    }\n",
              "\n",
              "    .colab-df-convert:hover {\n",
              "      background-color: #E2EBFA;\n",
              "      box-shadow: 0px 1px 2px rgba(60, 64, 67, 0.3), 0px 1px 3px 1px rgba(60, 64, 67, 0.15);\n",
              "      fill: #174EA6;\n",
              "    }\n",
              "\n",
              "    [theme=dark] .colab-df-convert {\n",
              "      background-color: #3B4455;\n",
              "      fill: #D2E3FC;\n",
              "    }\n",
              "\n",
              "    [theme=dark] .colab-df-convert:hover {\n",
              "      background-color: #434B5C;\n",
              "      box-shadow: 0px 1px 3px 1px rgba(0, 0, 0, 0.15);\n",
              "      filter: drop-shadow(0px 1px 2px rgba(0, 0, 0, 0.3));\n",
              "      fill: #FFFFFF;\n",
              "    }\n",
              "  </style>\n",
              "\n",
              "      <script>\n",
              "        const buttonEl =\n",
              "          document.querySelector('#df-33a1de58-4ba0-4f8f-970e-ab20b8644c69 button.colab-df-convert');\n",
              "        buttonEl.style.display =\n",
              "          google.colab.kernel.accessAllowed ? 'block' : 'none';\n",
              "\n",
              "        async function convertToInteractive(key) {\n",
              "          const element = document.querySelector('#df-33a1de58-4ba0-4f8f-970e-ab20b8644c69');\n",
              "          const dataTable =\n",
              "            await google.colab.kernel.invokeFunction('convertToInteractive',\n",
              "                                                     [key], {});\n",
              "          if (!dataTable) return;\n",
              "\n",
              "          const docLinkHtml = 'Like what you see? Visit the ' +\n",
              "            '<a target=\"_blank\" href=https://colab.research.google.com/notebooks/data_table.ipynb>data table notebook</a>'\n",
              "            + ' to learn more about interactive tables.';\n",
              "          element.innerHTML = '';\n",
              "          dataTable['output_type'] = 'display_data';\n",
              "          await google.colab.output.renderOutput(dataTable, element);\n",
              "          const docLink = document.createElement('div');\n",
              "          docLink.innerHTML = docLinkHtml;\n",
              "          element.appendChild(docLink);\n",
              "        }\n",
              "      </script>\n",
              "    </div>\n",
              "  </div>\n",
              "  "
            ]
          },
          "metadata": {},
          "execution_count": 26
        }
      ]
    },
    {
      "cell_type": "code",
      "source": [
        "df_train['annotation_atomrec'].unique()"
      ],
      "metadata": {
        "colab": {
          "base_uri": "https://localhost:8080/"
        },
        "id": "xMODwjmQdzAd",
        "outputId": "ff07ffd7-10ba-4559-c4b6-69815e512f87"
      },
      "execution_count": 27,
      "outputs": [
        {
          "output_type": "execute_result",
          "data": {
            "text/plain": [
              "array(['M', 'G', 'Q', 'E', 'P', 'R', 'T', 'L', 'S', 'N', 'W', 'Y', 'C',\n",
              "       'A', 'D', 'V', 'F', 'I', 'H', 'K', nan], dtype=object)"
            ]
          },
          "metadata": {},
          "execution_count": 27
        }
      ]
    },
    {
      "cell_type": "code",
      "source": [
        "# check if a letter in annotation_atomrec mean a True in the column named by feat_letter\n",
        "\n",
        "# Loop through the unique values in the 'annotation_atomrec' column\n",
        "for letter in df_train['annotation_atomrec'].unique():\n",
        "    # Check if the 'feat_[letter]' column has a True value for each row\n",
        "    # where the 'annotation_atomrec' column has the current letter\n",
        "    if not isinstance(letter, str) and np.isnan(letter):\n",
        "      print(f'Reached the nan value of annotation_atomrec')\n",
        "      continue\n",
        "    if (df_train.loc[df_train['annotation_atomrec'] == letter, 'feat_' + letter] != True).any():\n",
        "        print(f\"There are rows where the 'annotation_atomrec' column has the letter {letter} but the 'feat_{letter}' column does not have a True value.\")\n",
        "    else:\n",
        "        print(f\"All rows where the 'annotation_atomrec' column has the letter {letter} have a True value in the 'feat_{letter}' column.\")"
      ],
      "metadata": {
        "colab": {
          "base_uri": "https://localhost:8080/"
        },
        "id": "dtaCYepsd-99",
        "outputId": "1e5ea424-2a08-4a82-d567-b04c432711e5"
      },
      "execution_count": 28,
      "outputs": [
        {
          "output_type": "stream",
          "name": "stdout",
          "text": [
            "All rows where the 'annotation_atomrec' column has the letter M have a True value in the 'feat_M' column.\n",
            "All rows where the 'annotation_atomrec' column has the letter G have a True value in the 'feat_G' column.\n",
            "All rows where the 'annotation_atomrec' column has the letter Q have a True value in the 'feat_Q' column.\n",
            "All rows where the 'annotation_atomrec' column has the letter E have a True value in the 'feat_E' column.\n",
            "All rows where the 'annotation_atomrec' column has the letter P have a True value in the 'feat_P' column.\n",
            "All rows where the 'annotation_atomrec' column has the letter R have a True value in the 'feat_R' column.\n",
            "All rows where the 'annotation_atomrec' column has the letter T have a True value in the 'feat_T' column.\n",
            "All rows where the 'annotation_atomrec' column has the letter L have a True value in the 'feat_L' column.\n",
            "All rows where the 'annotation_atomrec' column has the letter S have a True value in the 'feat_S' column.\n",
            "All rows where the 'annotation_atomrec' column has the letter N have a True value in the 'feat_N' column.\n",
            "All rows where the 'annotation_atomrec' column has the letter W have a True value in the 'feat_W' column.\n",
            "All rows where the 'annotation_atomrec' column has the letter Y have a True value in the 'feat_Y' column.\n",
            "All rows where the 'annotation_atomrec' column has the letter C have a True value in the 'feat_C' column.\n",
            "All rows where the 'annotation_atomrec' column has the letter A have a True value in the 'feat_A' column.\n",
            "All rows where the 'annotation_atomrec' column has the letter D have a True value in the 'feat_D' column.\n",
            "All rows where the 'annotation_atomrec' column has the letter V have a True value in the 'feat_V' column.\n",
            "All rows where the 'annotation_atomrec' column has the letter F have a True value in the 'feat_F' column.\n",
            "All rows where the 'annotation_atomrec' column has the letter I have a True value in the 'feat_I' column.\n",
            "All rows where the 'annotation_atomrec' column has the letter H have a True value in the 'feat_H' column.\n",
            "All rows where the 'annotation_atomrec' column has the letter K have a True value in the 'feat_K' column.\n",
            "Reached the nan value of annotation_atomrec\n"
          ]
        }
      ]
    },
    {
      "cell_type": "code",
      "source": [
        "v = np.nan\n",
        "np.isnan(v)"
      ],
      "metadata": {
        "colab": {
          "base_uri": "https://localhost:8080/"
        },
        "id": "My0XL0JNhUgA",
        "outputId": "335959db-95f0-4da0-ed30-1ce6482f9702"
      },
      "execution_count": 29,
      "outputs": [
        {
          "output_type": "execute_result",
          "data": {
            "text/plain": [
              "True"
            ]
          },
          "metadata": {},
          "execution_count": 29
        }
      ]
    },
    {
      "cell_type": "markdown",
      "source": [
        "#### Entry"
      ],
      "metadata": {
        "id": "Vv0P_NcZrzlW"
      }
    },
    {
      "cell_type": "code",
      "source": [
        "df_train['entry'].value_counts()"
      ],
      "metadata": {
        "colab": {
          "base_uri": "https://localhost:8080/"
        },
        "id": "brr9FoTVry5_",
        "outputId": "df4f7342-49dd-4a19-c8b2-d8efe4fde881"
      },
      "execution_count": 41,
      "outputs": [
        {
          "output_type": "execute_result",
          "data": {
            "text/plain": [
              "MACF1_HUMAN    7385\n",
              "HUWE1_HUMAN    4371\n",
              "DMD_HUMAN      3682\n",
              "NF1_HUMAN      2836\n",
              "SETD2_HUMAN    2561\n",
              "               ... \n",
              "TVB9_HUMAN      111\n",
              "CISD1_HUMAN     105\n",
              "THIO_HUMAN      102\n",
              "S1A7A_HUMAN      98\n",
              "ACBD7_HUMAN      85\n",
              "Name: entry, Length: 723, dtype: int64"
            ]
          },
          "metadata": {},
          "execution_count": 41
        }
      ]
    },
    {
      "cell_type": "markdown",
      "source": [
        "### Data Validation"
      ],
      "metadata": {
        "id": "4TART6Z9sYHq"
      }
    },
    {
      "cell_type": "markdown",
      "source": [
        "#### Entry Index and Entry\n"
      ],
      "metadata": {
        "id": "NLOPN8t4sZ4n"
      }
    },
    {
      "cell_type": "code",
      "source": [
        "# Check that no index has more than 723 occurrences\n",
        "if df_train['entry_index'].value_counts().max() > 723:\n",
        "    print(\"Error: At least one index has more than 723 occurrences.\")"
      ],
      "metadata": {
        "id": "qoruRAdHumum"
      },
      "execution_count": 42,
      "outputs": []
    },
    {
      "cell_type": "code",
      "source": [
        "# check if there are 723 zeros in the entry index\n",
        "if (df_train['entry_index'] == 0).sum() == 723:\n",
        "    print(\"There are 723 zeros in the entry index\")\n",
        "else:\n",
        "    print(\"There are not 723 zeros in the entry index\")\n",
        "\n",
        "# check if each entry has only one zero\n",
        "if (df_train.groupby('entry')['entry_index'].apply(lambda x: (x == 0).sum() == 1).all()):\n",
        "    print(\"Each entry has only one zero\")\n",
        "else:\n",
        "    print(\"Some entries have more than one zero\")"
      ],
      "metadata": {
        "colab": {
          "base_uri": "https://localhost:8080/"
        },
        "id": "qvxWz-7cwJJY",
        "outputId": "ba0fb061-f113-4216-e284-c47e4655b20e"
      },
      "execution_count": 44,
      "outputs": [
        {
          "output_type": "stream",
          "name": "stdout",
          "text": [
            "There are 723 zeros in the entry index\n",
            "Each entry has only one zero\n"
          ]
        }
      ]
    },
    {
      "cell_type": "code",
      "source": [
        "# check if there are repeated indexes for a protein\n",
        "\n",
        "if ((df_train.groupby('entry')['entry_index'].value_counts() > 1).sum() == 0):\n",
        "  print('there are no repeated indexes for a protein')\n",
        "else:\n",
        "  print('some entries have repeated entry indexes')"
      ],
      "metadata": {
        "colab": {
          "base_uri": "https://localhost:8080/"
        },
        "id": "A8BhmQcDxE0e",
        "outputId": "a0b6528c-c887-47be-8bd3-95d71ffdfca0"
      },
      "execution_count": 50,
      "outputs": [
        {
          "output_type": "stream",
          "name": "stdout",
          "text": [
            "there are no repeated indexes for a protein\n"
          ]
        }
      ]
    },
    {
      "cell_type": "markdown",
      "source": [
        "#### Coor_X, Y, Z and Entry"
      ],
      "metadata": {
        "id": "ZhwbL5DGsjVj"
      }
    },
    {
      "cell_type": "code",
      "source": [
        "# check if for the same entry, the coordinates x, y, z are the same\n",
        "grouped = df_train.groupby(['entry', 'coord_X', 'coord_Y', 'coord_Z'])\n",
        "duplicated = grouped.filter(lambda x: len(x) > 1)\n",
        "\n",
        "if duplicated.empty:\n",
        "    print(\"All coordinates are unique for each entry.\")\n",
        "else:\n",
        "    print(\"There are duplicated coordinates for the following entries:\")\n",
        "    print(duplicated['entry'].unique())"
      ],
      "metadata": {
        "colab": {
          "base_uri": "https://localhost:8080/"
        },
        "id": "W8qIV_iuxsFt",
        "outputId": "ae980b85-b5d4-4b49-eac8-23a338b43473"
      },
      "execution_count": 52,
      "outputs": [
        {
          "output_type": "stream",
          "name": "stdout",
          "text": [
            "There are duplicated coordinates for the following entries:\n",
            "['NF1_HUMAN' 'MACF1_HUMAN' 'SETD2_HUMAN' 'HUWE1_HUMAN' 'DMD_HUMAN']\n"
          ]
        }
      ]
    },
    {
      "cell_type": "code",
      "source": [
        "df_train[['coord_X', 'coord_Y', 'coord_Z', 'entry']][df_train['entry'].isin(duplicated['entry'].unique())].drop_duplicates()"
      ],
      "metadata": {
        "colab": {
          "base_uri": "https://localhost:8080/",
          "height": 423
        },
        "id": "VtFmlfSpyeH7",
        "outputId": "e15bc696-86f3-4f14-9f58-784bf49e88f3"
      },
      "execution_count": 60,
      "outputs": [
        {
          "output_type": "execute_result",
          "data": {
            "text/plain": [
              "         coord_X    coord_Y     coord_Z      entry\n",
              "0      36.222000  -0.707000   20.634001  NF1_HUMAN\n",
              "1      37.106998   0.682000   17.099001  NF1_HUMAN\n",
              "2      40.111000   2.820000   18.312000  NF1_HUMAN\n",
              "3      42.207001  -0.075000   19.756001  NF1_HUMAN\n",
              "4      42.263000  -2.560000   16.782000  NF1_HUMAN\n",
              "...          ...        ...         ...        ...\n",
              "1393   97.412003  48.258999 -124.963997  DMD_HUMAN\n",
              "1394   99.177002  51.660000 -125.384003  DMD_HUMAN\n",
              "1395  102.600998  49.955002 -125.967003  DMD_HUMAN\n",
              "1396  100.960999  47.611000 -128.563995  DMD_HUMAN\n",
              "1397    0.000000   0.000000    0.000000  DMD_HUMAN\n",
              "\n",
              "[8151 rows x 4 columns]"
            ],
            "text/html": [
              "\n",
              "  <div id=\"df-5b060a5e-662e-4195-b081-ba5c33ae5c84\">\n",
              "    <div class=\"colab-df-container\">\n",
              "      <div>\n",
              "<style scoped>\n",
              "    .dataframe tbody tr th:only-of-type {\n",
              "        vertical-align: middle;\n",
              "    }\n",
              "\n",
              "    .dataframe tbody tr th {\n",
              "        vertical-align: top;\n",
              "    }\n",
              "\n",
              "    .dataframe thead th {\n",
              "        text-align: right;\n",
              "    }\n",
              "</style>\n",
              "<table border=\"1\" class=\"dataframe\">\n",
              "  <thead>\n",
              "    <tr style=\"text-align: right;\">\n",
              "      <th></th>\n",
              "      <th>coord_X</th>\n",
              "      <th>coord_Y</th>\n",
              "      <th>coord_Z</th>\n",
              "      <th>entry</th>\n",
              "    </tr>\n",
              "  </thead>\n",
              "  <tbody>\n",
              "    <tr>\n",
              "      <th>0</th>\n",
              "      <td>36.222000</td>\n",
              "      <td>-0.707000</td>\n",
              "      <td>20.634001</td>\n",
              "      <td>NF1_HUMAN</td>\n",
              "    </tr>\n",
              "    <tr>\n",
              "      <th>1</th>\n",
              "      <td>37.106998</td>\n",
              "      <td>0.682000</td>\n",
              "      <td>17.099001</td>\n",
              "      <td>NF1_HUMAN</td>\n",
              "    </tr>\n",
              "    <tr>\n",
              "      <th>2</th>\n",
              "      <td>40.111000</td>\n",
              "      <td>2.820000</td>\n",
              "      <td>18.312000</td>\n",
              "      <td>NF1_HUMAN</td>\n",
              "    </tr>\n",
              "    <tr>\n",
              "      <th>3</th>\n",
              "      <td>42.207001</td>\n",
              "      <td>-0.075000</td>\n",
              "      <td>19.756001</td>\n",
              "      <td>NF1_HUMAN</td>\n",
              "    </tr>\n",
              "    <tr>\n",
              "      <th>4</th>\n",
              "      <td>42.263000</td>\n",
              "      <td>-2.560000</td>\n",
              "      <td>16.782000</td>\n",
              "      <td>NF1_HUMAN</td>\n",
              "    </tr>\n",
              "    <tr>\n",
              "      <th>...</th>\n",
              "      <td>...</td>\n",
              "      <td>...</td>\n",
              "      <td>...</td>\n",
              "      <td>...</td>\n",
              "    </tr>\n",
              "    <tr>\n",
              "      <th>1393</th>\n",
              "      <td>97.412003</td>\n",
              "      <td>48.258999</td>\n",
              "      <td>-124.963997</td>\n",
              "      <td>DMD_HUMAN</td>\n",
              "    </tr>\n",
              "    <tr>\n",
              "      <th>1394</th>\n",
              "      <td>99.177002</td>\n",
              "      <td>51.660000</td>\n",
              "      <td>-125.384003</td>\n",
              "      <td>DMD_HUMAN</td>\n",
              "    </tr>\n",
              "    <tr>\n",
              "      <th>1395</th>\n",
              "      <td>102.600998</td>\n",
              "      <td>49.955002</td>\n",
              "      <td>-125.967003</td>\n",
              "      <td>DMD_HUMAN</td>\n",
              "    </tr>\n",
              "    <tr>\n",
              "      <th>1396</th>\n",
              "      <td>100.960999</td>\n",
              "      <td>47.611000</td>\n",
              "      <td>-128.563995</td>\n",
              "      <td>DMD_HUMAN</td>\n",
              "    </tr>\n",
              "    <tr>\n",
              "      <th>1397</th>\n",
              "      <td>0.000000</td>\n",
              "      <td>0.000000</td>\n",
              "      <td>0.000000</td>\n",
              "      <td>DMD_HUMAN</td>\n",
              "    </tr>\n",
              "  </tbody>\n",
              "</table>\n",
              "<p>8151 rows × 4 columns</p>\n",
              "</div>\n",
              "      <button class=\"colab-df-convert\" onclick=\"convertToInteractive('df-5b060a5e-662e-4195-b081-ba5c33ae5c84')\"\n",
              "              title=\"Convert this dataframe to an interactive table.\"\n",
              "              style=\"display:none;\">\n",
              "        \n",
              "  <svg xmlns=\"http://www.w3.org/2000/svg\" height=\"24px\"viewBox=\"0 0 24 24\"\n",
              "       width=\"24px\">\n",
              "    <path d=\"M0 0h24v24H0V0z\" fill=\"none\"/>\n",
              "    <path d=\"M18.56 5.44l.94 2.06.94-2.06 2.06-.94-2.06-.94-.94-2.06-.94 2.06-2.06.94zm-11 1L8.5 8.5l.94-2.06 2.06-.94-2.06-.94L8.5 2.5l-.94 2.06-2.06.94zm10 10l.94 2.06.94-2.06 2.06-.94-2.06-.94-.94-2.06-.94 2.06-2.06.94z\"/><path d=\"M17.41 7.96l-1.37-1.37c-.4-.4-.92-.59-1.43-.59-.52 0-1.04.2-1.43.59L10.3 9.45l-7.72 7.72c-.78.78-.78 2.05 0 2.83L4 21.41c.39.39.9.59 1.41.59.51 0 1.02-.2 1.41-.59l7.78-7.78 2.81-2.81c.8-.78.8-2.07 0-2.86zM5.41 20L4 18.59l7.72-7.72 1.47 1.35L5.41 20z\"/>\n",
              "  </svg>\n",
              "      </button>\n",
              "      \n",
              "  <style>\n",
              "    .colab-df-container {\n",
              "      display:flex;\n",
              "      flex-wrap:wrap;\n",
              "      gap: 12px;\n",
              "    }\n",
              "\n",
              "    .colab-df-convert {\n",
              "      background-color: #E8F0FE;\n",
              "      border: none;\n",
              "      border-radius: 50%;\n",
              "      cursor: pointer;\n",
              "      display: none;\n",
              "      fill: #1967D2;\n",
              "      height: 32px;\n",
              "      padding: 0 0 0 0;\n",
              "      width: 32px;\n",
              "    }\n",
              "\n",
              "    .colab-df-convert:hover {\n",
              "      background-color: #E2EBFA;\n",
              "      box-shadow: 0px 1px 2px rgba(60, 64, 67, 0.3), 0px 1px 3px 1px rgba(60, 64, 67, 0.15);\n",
              "      fill: #174EA6;\n",
              "    }\n",
              "\n",
              "    [theme=dark] .colab-df-convert {\n",
              "      background-color: #3B4455;\n",
              "      fill: #D2E3FC;\n",
              "    }\n",
              "\n",
              "    [theme=dark] .colab-df-convert:hover {\n",
              "      background-color: #434B5C;\n",
              "      box-shadow: 0px 1px 3px 1px rgba(0, 0, 0, 0.15);\n",
              "      filter: drop-shadow(0px 1px 2px rgba(0, 0, 0, 0.3));\n",
              "      fill: #FFFFFF;\n",
              "    }\n",
              "  </style>\n",
              "\n",
              "      <script>\n",
              "        const buttonEl =\n",
              "          document.querySelector('#df-5b060a5e-662e-4195-b081-ba5c33ae5c84 button.colab-df-convert');\n",
              "        buttonEl.style.display =\n",
              "          google.colab.kernel.accessAllowed ? 'block' : 'none';\n",
              "\n",
              "        async function convertToInteractive(key) {\n",
              "          const element = document.querySelector('#df-5b060a5e-662e-4195-b081-ba5c33ae5c84');\n",
              "          const dataTable =\n",
              "            await google.colab.kernel.invokeFunction('convertToInteractive',\n",
              "                                                     [key], {});\n",
              "          if (!dataTable) return;\n",
              "\n",
              "          const docLinkHtml = 'Like what you see? Visit the ' +\n",
              "            '<a target=\"_blank\" href=https://colab.research.google.com/notebooks/data_table.ipynb>data table notebook</a>'\n",
              "            + ' to learn more about interactive tables.';\n",
              "          element.innerHTML = '';\n",
              "          dataTable['output_type'] = 'display_data';\n",
              "          await google.colab.output.renderOutput(dataTable, element);\n",
              "          const docLink = document.createElement('div');\n",
              "          docLink.innerHTML = docLinkHtml;\n",
              "          element.appendChild(docLink);\n",
              "        }\n",
              "      </script>\n",
              "    </div>\n",
              "  </div>\n",
              "  "
            ]
          },
          "metadata": {},
          "execution_count": 60
        }
      ]
    },
    {
      "cell_type": "markdown",
      "source": [
        "## Check for imbalanced dataset"
      ],
      "metadata": {
        "id": "fvVlPQAkZ95O"
      }
    },
    {
      "cell_type": "code",
      "source": [
        "df_train['y_Ligand'].value_counts()/df_train['y_Ligand'].count()"
      ],
      "metadata": {
        "colab": {
          "base_uri": "https://localhost:8080/"
        },
        "id": "bHfhg0_4Z8lv",
        "outputId": "2fdcaaa2-bc80-4a02-8597-ec82bc4b46c7"
      },
      "execution_count": 30,
      "outputs": [
        {
          "output_type": "execute_result",
          "data": {
            "text/plain": [
              "False    0.965295\n",
              "True     0.034705\n",
              "Name: y_Ligand, dtype: float64"
            ]
          },
          "metadata": {},
          "execution_count": 30
        }
      ]
    },
    {
      "cell_type": "markdown",
      "source": [
        "## Check for missing values"
      ],
      "metadata": {
        "id": "I209zrnnbLu-"
      }
    },
    {
      "cell_type": "code",
      "source": [
        "df_train.isna().sum()"
      ],
      "metadata": {
        "colab": {
          "base_uri": "https://localhost:8080/"
        },
        "id": "pVgs4aWabQry",
        "outputId": "d9be9e01-a095-4f98-9720-ee9a42b1b04f"
      },
      "execution_count": 31,
      "outputs": [
        {
          "output_type": "execute_result",
          "data": {
            "text/plain": [
              "annotation_sequence        0\n",
              "feat_A                     0\n",
              "feat_C                     0\n",
              "feat_D                     0\n",
              "feat_E                     0\n",
              "feat_F                     0\n",
              "feat_G                     0\n",
              "feat_H                     0\n",
              "feat_I                     0\n",
              "feat_K                     0\n",
              "feat_L                     0\n",
              "feat_M                     0\n",
              "feat_N                     0\n",
              "feat_P                     0\n",
              "feat_Q                     0\n",
              "feat_R                     0\n",
              "feat_S                     0\n",
              "feat_T                     0\n",
              "feat_V                     0\n",
              "feat_W                     0\n",
              "feat_Y                     0\n",
              "annotation_atomrec     12689\n",
              "feat_PHI                   0\n",
              "feat_PSI                   0\n",
              "feat_TAU                   0\n",
              "feat_THETA                 0\n",
              "feat_BBSASA                0\n",
              "feat_SCSASA                0\n",
              "feat_pLDDT                 0\n",
              "feat_DSSP_H                0\n",
              "feat_DSSP_B                0\n",
              "feat_DSSP_E                0\n",
              "feat_DSSP_G                0\n",
              "feat_DSSP_I                0\n",
              "feat_DSSP_T                0\n",
              "feat_DSSP_S                0\n",
              "feat_DSSP_6                0\n",
              "feat_DSSP_7                0\n",
              "feat_DSSP_8                0\n",
              "feat_DSSP_9                0\n",
              "feat_DSSP_10               0\n",
              "feat_DSSP_11               0\n",
              "feat_DSSP_12               0\n",
              "feat_DSSP_13               0\n",
              "coord_X                    0\n",
              "coord_Y                    0\n",
              "coord_Z                    0\n",
              "entry                      0\n",
              "entry_index                0\n",
              "y_Ligand                   0\n",
              "dtype: int64"
            ]
          },
          "metadata": {},
          "execution_count": 31
        }
      ]
    },
    {
      "cell_type": "code",
      "source": [
        "from sklearn.model_selection import train_test_split\n",
        "\n",
        "X_train, X_test, y_train, y_test = train_test_split(df_train.drop([\"y_Ligand\"], axis=1), df_train[\"y_Ligand\"], test_size=0.2, random_state=16)"
      ],
      "metadata": {
        "id": "uw7icsCqYmWh"
      },
      "execution_count": 32,
      "outputs": []
    },
    {
      "cell_type": "code",
      "source": [],
      "metadata": {
        "id": "NCjeQBnX3UHS"
      },
      "execution_count": 32,
      "outputs": []
    },
    {
      "cell_type": "markdown",
      "source": [
        "# Feature Engineering\n",
        "- Converting those DSSP integer data types to float\n",
        "- Change all of the negative SCSASA to 0 and give new column indicating if the SCSASA value was previously zero\n",
        "- One Hot Encoding entry columns (very important - it distinguishes the proteins)\n",
        "\n",
        "\n",
        "Build Pipeline"
      ],
      "metadata": {
        "id": "m51P6bt33UmS"
      }
    },
    {
      "cell_type": "code",
      "source": [],
      "metadata": {
        "id": "D7tg3x-XZ4uB"
      },
      "execution_count": null,
      "outputs": []
    }
  ],
  "metadata": {
    "colab": {
      "provenance": []
    },
    "language_info": {
      "name": "python"
    },
    "kernelspec": {
      "name": "python3",
      "display_name": "Python 3"
    },
    "gpuClass": "standard"
  },
  "nbformat": 4,
  "nbformat_minor": 0
}