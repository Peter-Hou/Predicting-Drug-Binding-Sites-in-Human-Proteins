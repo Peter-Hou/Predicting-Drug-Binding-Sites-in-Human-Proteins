{
  "cells": [
    {
      "cell_type": "markdown",
      "metadata": {
        "id": "QI_VQXl-gr0-"
      },
      "source": [
        "# Import Libraries"
      ]
    },
    {
      "cell_type": "code",
      "execution_count": 2,
      "metadata": {
        "id": "1YFNOTE7gq6S"
      },
      "outputs": [],
      "source": [
        "import pandas as pd\n",
        "import numpy as np\n",
        "import math\n",
        "import matplotlib.pyplot as plt \n",
        "import seaborn as sns\n",
        "from sklearn.model_selection import train_test_split, cross_val_score\n",
        "from sklearn.model_selection import StratifiedGroupKFold\n",
        "from sklearn.preprocessing import OneHotEncoder, StandardScaler\n",
        "from sklearn.pipeline import Pipeline"
      ]
    },
    {
      "cell_type": "markdown",
      "metadata": {
        "id": "PiLaDRM0OkIH"
      },
      "source": [
        "# Data Exploration and Cleaning"
      ]
    },
    {
      "cell_type": "code",
      "execution_count": 3,
      "metadata": {
        "colab": {
          "base_uri": "https://localhost:8080/",
          "height": 0
        },
        "id": "JXxpC4xur-0d",
        "outputId": "0f89d7e0-927b-4abf-bd02-ff3b643defa5"
      },
      "outputs": [
        {
          "output_type": "execute_result",
          "data": {
            "text/plain": [
              "    annotation_sequence  feat_A  feat_C  feat_D  feat_E  feat_F  feat_G  \\\n",
              "0                     M   False   False   False   False   False   False   \n",
              "1                     G   False   False   False   False   False    True   \n",
              "2                     Q   False   False   False   False   False   False   \n",
              "3                     E   False   False   False    True   False   False   \n",
              "4                     P   False   False   False   False   False   False   \n",
              "..                  ...     ...     ...     ...     ...     ...     ...   \n",
              "755                   S   False   False   False   False   False   False   \n",
              "756                   H   False   False   False   False   False   False   \n",
              "757                   G   False   False   False   False   False    True   \n",
              "758                   G   False   False   False   False   False    True   \n",
              "759                   F   False   False   False   False    True   False   \n",
              "\n",
              "     feat_H  feat_I  feat_K  ...  feat_DSSP_10  feat_DSSP_11  feat_DSSP_12  \\\n",
              "0     False   False   False  ...             0           0.0            47   \n",
              "1     False   False   False  ...             0           0.0             0   \n",
              "2     False   False   False  ...             1          -0.0            -1   \n",
              "3     False   False   False  ...           706          -0.1           705   \n",
              "4     False   False   False  ...             0           0.0           705   \n",
              "..      ...     ...     ...  ...           ...           ...           ...   \n",
              "755   False   False   False  ...            -3          -0.1             2   \n",
              "756    True   False   False  ...          -358          -0.1          -330   \n",
              "757   False   False   False  ...          -360          -0.2            -1   \n",
              "758   False   False   False  ...             0           0.0             0   \n",
              "759   False   False   False  ...             0           0.0             0   \n",
              "\n",
              "     feat_DSSP_13    coord_X    coord_Y    coord_Z        entry  entry_index  \\\n",
              "0            -0.0 -26.499001  -4.742000 -35.189999  GEMI5_HUMAN            0   \n",
              "1             0.0 -25.158001  -1.342000 -34.104000  GEMI5_HUMAN            1   \n",
              "2            -0.0 -21.926001  -1.641000 -32.175999  GEMI5_HUMAN            2   \n",
              "3            -0.0 -22.073999   0.654000 -29.171000  GEMI5_HUMAN            3   \n",
              "4            -0.2 -19.783001   2.670000 -26.858999  GEMI5_HUMAN            4   \n",
              "..            ...        ...        ...        ...          ...          ...   \n",
              "755          -0.4 -19.742001  20.796000 -12.319000   AOC3_HUMAN          755   \n",
              "756          -0.1 -16.299000  19.153999 -12.640000   AOC3_HUMAN          756   \n",
              "757          -0.1 -13.404000  19.502001 -10.121000   AOC3_HUMAN          757   \n",
              "758           0.0 -10.986000  20.320000 -13.016000   AOC3_HUMAN          758   \n",
              "759           0.0  -7.456000  19.052999 -13.909000   AOC3_HUMAN          759   \n",
              "\n",
              "     y_Ligand  \n",
              "0       False  \n",
              "1       False  \n",
              "2       False  \n",
              "3       False  \n",
              "4       False  \n",
              "..        ...  \n",
              "755     False  \n",
              "756     False  \n",
              "757     False  \n",
              "758     False  \n",
              "759     False  \n",
              "\n",
              "[497166 rows x 50 columns]"
            ],
            "text/html": [
              "\n",
              "  <div id=\"df-5d789d34-0e60-4cbf-92b4-8882bf3d4a35\">\n",
              "    <div class=\"colab-df-container\">\n",
              "      <div>\n",
              "<style scoped>\n",
              "    .dataframe tbody tr th:only-of-type {\n",
              "        vertical-align: middle;\n",
              "    }\n",
              "\n",
              "    .dataframe tbody tr th {\n",
              "        vertical-align: top;\n",
              "    }\n",
              "\n",
              "    .dataframe thead th {\n",
              "        text-align: right;\n",
              "    }\n",
              "</style>\n",
              "<table border=\"1\" class=\"dataframe\">\n",
              "  <thead>\n",
              "    <tr style=\"text-align: right;\">\n",
              "      <th></th>\n",
              "      <th>annotation_sequence</th>\n",
              "      <th>feat_A</th>\n",
              "      <th>feat_C</th>\n",
              "      <th>feat_D</th>\n",
              "      <th>feat_E</th>\n",
              "      <th>feat_F</th>\n",
              "      <th>feat_G</th>\n",
              "      <th>feat_H</th>\n",
              "      <th>feat_I</th>\n",
              "      <th>feat_K</th>\n",
              "      <th>...</th>\n",
              "      <th>feat_DSSP_10</th>\n",
              "      <th>feat_DSSP_11</th>\n",
              "      <th>feat_DSSP_12</th>\n",
              "      <th>feat_DSSP_13</th>\n",
              "      <th>coord_X</th>\n",
              "      <th>coord_Y</th>\n",
              "      <th>coord_Z</th>\n",
              "      <th>entry</th>\n",
              "      <th>entry_index</th>\n",
              "      <th>y_Ligand</th>\n",
              "    </tr>\n",
              "  </thead>\n",
              "  <tbody>\n",
              "    <tr>\n",
              "      <th>0</th>\n",
              "      <td>M</td>\n",
              "      <td>False</td>\n",
              "      <td>False</td>\n",
              "      <td>False</td>\n",
              "      <td>False</td>\n",
              "      <td>False</td>\n",
              "      <td>False</td>\n",
              "      <td>False</td>\n",
              "      <td>False</td>\n",
              "      <td>False</td>\n",
              "      <td>...</td>\n",
              "      <td>0</td>\n",
              "      <td>0.0</td>\n",
              "      <td>47</td>\n",
              "      <td>-0.0</td>\n",
              "      <td>-26.499001</td>\n",
              "      <td>-4.742000</td>\n",
              "      <td>-35.189999</td>\n",
              "      <td>GEMI5_HUMAN</td>\n",
              "      <td>0</td>\n",
              "      <td>False</td>\n",
              "    </tr>\n",
              "    <tr>\n",
              "      <th>1</th>\n",
              "      <td>G</td>\n",
              "      <td>False</td>\n",
              "      <td>False</td>\n",
              "      <td>False</td>\n",
              "      <td>False</td>\n",
              "      <td>False</td>\n",
              "      <td>True</td>\n",
              "      <td>False</td>\n",
              "      <td>False</td>\n",
              "      <td>False</td>\n",
              "      <td>...</td>\n",
              "      <td>0</td>\n",
              "      <td>0.0</td>\n",
              "      <td>0</td>\n",
              "      <td>0.0</td>\n",
              "      <td>-25.158001</td>\n",
              "      <td>-1.342000</td>\n",
              "      <td>-34.104000</td>\n",
              "      <td>GEMI5_HUMAN</td>\n",
              "      <td>1</td>\n",
              "      <td>False</td>\n",
              "    </tr>\n",
              "    <tr>\n",
              "      <th>2</th>\n",
              "      <td>Q</td>\n",
              "      <td>False</td>\n",
              "      <td>False</td>\n",
              "      <td>False</td>\n",
              "      <td>False</td>\n",
              "      <td>False</td>\n",
              "      <td>False</td>\n",
              "      <td>False</td>\n",
              "      <td>False</td>\n",
              "      <td>False</td>\n",
              "      <td>...</td>\n",
              "      <td>1</td>\n",
              "      <td>-0.0</td>\n",
              "      <td>-1</td>\n",
              "      <td>-0.0</td>\n",
              "      <td>-21.926001</td>\n",
              "      <td>-1.641000</td>\n",
              "      <td>-32.175999</td>\n",
              "      <td>GEMI5_HUMAN</td>\n",
              "      <td>2</td>\n",
              "      <td>False</td>\n",
              "    </tr>\n",
              "    <tr>\n",
              "      <th>3</th>\n",
              "      <td>E</td>\n",
              "      <td>False</td>\n",
              "      <td>False</td>\n",
              "      <td>False</td>\n",
              "      <td>True</td>\n",
              "      <td>False</td>\n",
              "      <td>False</td>\n",
              "      <td>False</td>\n",
              "      <td>False</td>\n",
              "      <td>False</td>\n",
              "      <td>...</td>\n",
              "      <td>706</td>\n",
              "      <td>-0.1</td>\n",
              "      <td>705</td>\n",
              "      <td>-0.0</td>\n",
              "      <td>-22.073999</td>\n",
              "      <td>0.654000</td>\n",
              "      <td>-29.171000</td>\n",
              "      <td>GEMI5_HUMAN</td>\n",
              "      <td>3</td>\n",
              "      <td>False</td>\n",
              "    </tr>\n",
              "    <tr>\n",
              "      <th>4</th>\n",
              "      <td>P</td>\n",
              "      <td>False</td>\n",
              "      <td>False</td>\n",
              "      <td>False</td>\n",
              "      <td>False</td>\n",
              "      <td>False</td>\n",
              "      <td>False</td>\n",
              "      <td>False</td>\n",
              "      <td>False</td>\n",
              "      <td>False</td>\n",
              "      <td>...</td>\n",
              "      <td>0</td>\n",
              "      <td>0.0</td>\n",
              "      <td>705</td>\n",
              "      <td>-0.2</td>\n",
              "      <td>-19.783001</td>\n",
              "      <td>2.670000</td>\n",
              "      <td>-26.858999</td>\n",
              "      <td>GEMI5_HUMAN</td>\n",
              "      <td>4</td>\n",
              "      <td>False</td>\n",
              "    </tr>\n",
              "    <tr>\n",
              "      <th>...</th>\n",
              "      <td>...</td>\n",
              "      <td>...</td>\n",
              "      <td>...</td>\n",
              "      <td>...</td>\n",
              "      <td>...</td>\n",
              "      <td>...</td>\n",
              "      <td>...</td>\n",
              "      <td>...</td>\n",
              "      <td>...</td>\n",
              "      <td>...</td>\n",
              "      <td>...</td>\n",
              "      <td>...</td>\n",
              "      <td>...</td>\n",
              "      <td>...</td>\n",
              "      <td>...</td>\n",
              "      <td>...</td>\n",
              "      <td>...</td>\n",
              "      <td>...</td>\n",
              "      <td>...</td>\n",
              "      <td>...</td>\n",
              "      <td>...</td>\n",
              "    </tr>\n",
              "    <tr>\n",
              "      <th>755</th>\n",
              "      <td>S</td>\n",
              "      <td>False</td>\n",
              "      <td>False</td>\n",
              "      <td>False</td>\n",
              "      <td>False</td>\n",
              "      <td>False</td>\n",
              "      <td>False</td>\n",
              "      <td>False</td>\n",
              "      <td>False</td>\n",
              "      <td>False</td>\n",
              "      <td>...</td>\n",
              "      <td>-3</td>\n",
              "      <td>-0.1</td>\n",
              "      <td>2</td>\n",
              "      <td>-0.4</td>\n",
              "      <td>-19.742001</td>\n",
              "      <td>20.796000</td>\n",
              "      <td>-12.319000</td>\n",
              "      <td>AOC3_HUMAN</td>\n",
              "      <td>755</td>\n",
              "      <td>False</td>\n",
              "    </tr>\n",
              "    <tr>\n",
              "      <th>756</th>\n",
              "      <td>H</td>\n",
              "      <td>False</td>\n",
              "      <td>False</td>\n",
              "      <td>False</td>\n",
              "      <td>False</td>\n",
              "      <td>False</td>\n",
              "      <td>False</td>\n",
              "      <td>True</td>\n",
              "      <td>False</td>\n",
              "      <td>False</td>\n",
              "      <td>...</td>\n",
              "      <td>-358</td>\n",
              "      <td>-0.1</td>\n",
              "      <td>-330</td>\n",
              "      <td>-0.1</td>\n",
              "      <td>-16.299000</td>\n",
              "      <td>19.153999</td>\n",
              "      <td>-12.640000</td>\n",
              "      <td>AOC3_HUMAN</td>\n",
              "      <td>756</td>\n",
              "      <td>False</td>\n",
              "    </tr>\n",
              "    <tr>\n",
              "      <th>757</th>\n",
              "      <td>G</td>\n",
              "      <td>False</td>\n",
              "      <td>False</td>\n",
              "      <td>False</td>\n",
              "      <td>False</td>\n",
              "      <td>False</td>\n",
              "      <td>True</td>\n",
              "      <td>False</td>\n",
              "      <td>False</td>\n",
              "      <td>False</td>\n",
              "      <td>...</td>\n",
              "      <td>-360</td>\n",
              "      <td>-0.2</td>\n",
              "      <td>-1</td>\n",
              "      <td>-0.1</td>\n",
              "      <td>-13.404000</td>\n",
              "      <td>19.502001</td>\n",
              "      <td>-10.121000</td>\n",
              "      <td>AOC3_HUMAN</td>\n",
              "      <td>757</td>\n",
              "      <td>False</td>\n",
              "    </tr>\n",
              "    <tr>\n",
              "      <th>758</th>\n",
              "      <td>G</td>\n",
              "      <td>False</td>\n",
              "      <td>False</td>\n",
              "      <td>False</td>\n",
              "      <td>False</td>\n",
              "      <td>False</td>\n",
              "      <td>True</td>\n",
              "      <td>False</td>\n",
              "      <td>False</td>\n",
              "      <td>False</td>\n",
              "      <td>...</td>\n",
              "      <td>0</td>\n",
              "      <td>0.0</td>\n",
              "      <td>0</td>\n",
              "      <td>0.0</td>\n",
              "      <td>-10.986000</td>\n",
              "      <td>20.320000</td>\n",
              "      <td>-13.016000</td>\n",
              "      <td>AOC3_HUMAN</td>\n",
              "      <td>758</td>\n",
              "      <td>False</td>\n",
              "    </tr>\n",
              "    <tr>\n",
              "      <th>759</th>\n",
              "      <td>F</td>\n",
              "      <td>False</td>\n",
              "      <td>False</td>\n",
              "      <td>False</td>\n",
              "      <td>False</td>\n",
              "      <td>True</td>\n",
              "      <td>False</td>\n",
              "      <td>False</td>\n",
              "      <td>False</td>\n",
              "      <td>False</td>\n",
              "      <td>...</td>\n",
              "      <td>0</td>\n",
              "      <td>0.0</td>\n",
              "      <td>0</td>\n",
              "      <td>0.0</td>\n",
              "      <td>-7.456000</td>\n",
              "      <td>19.052999</td>\n",
              "      <td>-13.909000</td>\n",
              "      <td>AOC3_HUMAN</td>\n",
              "      <td>759</td>\n",
              "      <td>False</td>\n",
              "    </tr>\n",
              "  </tbody>\n",
              "</table>\n",
              "<p>497166 rows × 50 columns</p>\n",
              "</div>\n",
              "      <button class=\"colab-df-convert\" onclick=\"convertToInteractive('df-5d789d34-0e60-4cbf-92b4-8882bf3d4a35')\"\n",
              "              title=\"Convert this dataframe to an interactive table.\"\n",
              "              style=\"display:none;\">\n",
              "        \n",
              "  <svg xmlns=\"http://www.w3.org/2000/svg\" height=\"24px\"viewBox=\"0 0 24 24\"\n",
              "       width=\"24px\">\n",
              "    <path d=\"M0 0h24v24H0V0z\" fill=\"none\"/>\n",
              "    <path d=\"M18.56 5.44l.94 2.06.94-2.06 2.06-.94-2.06-.94-.94-2.06-.94 2.06-2.06.94zm-11 1L8.5 8.5l.94-2.06 2.06-.94-2.06-.94L8.5 2.5l-.94 2.06-2.06.94zm10 10l.94 2.06.94-2.06 2.06-.94-2.06-.94-.94-2.06-.94 2.06-2.06.94z\"/><path d=\"M17.41 7.96l-1.37-1.37c-.4-.4-.92-.59-1.43-.59-.52 0-1.04.2-1.43.59L10.3 9.45l-7.72 7.72c-.78.78-.78 2.05 0 2.83L4 21.41c.39.39.9.59 1.41.59.51 0 1.02-.2 1.41-.59l7.78-7.78 2.81-2.81c.8-.78.8-2.07 0-2.86zM5.41 20L4 18.59l7.72-7.72 1.47 1.35L5.41 20z\"/>\n",
              "  </svg>\n",
              "      </button>\n",
              "      \n",
              "  <style>\n",
              "    .colab-df-container {\n",
              "      display:flex;\n",
              "      flex-wrap:wrap;\n",
              "      gap: 12px;\n",
              "    }\n",
              "\n",
              "    .colab-df-convert {\n",
              "      background-color: #E8F0FE;\n",
              "      border: none;\n",
              "      border-radius: 50%;\n",
              "      cursor: pointer;\n",
              "      display: none;\n",
              "      fill: #1967D2;\n",
              "      height: 32px;\n",
              "      padding: 0 0 0 0;\n",
              "      width: 32px;\n",
              "    }\n",
              "\n",
              "    .colab-df-convert:hover {\n",
              "      background-color: #E2EBFA;\n",
              "      box-shadow: 0px 1px 2px rgba(60, 64, 67, 0.3), 0px 1px 3px 1px rgba(60, 64, 67, 0.15);\n",
              "      fill: #174EA6;\n",
              "    }\n",
              "\n",
              "    [theme=dark] .colab-df-convert {\n",
              "      background-color: #3B4455;\n",
              "      fill: #D2E3FC;\n",
              "    }\n",
              "\n",
              "    [theme=dark] .colab-df-convert:hover {\n",
              "      background-color: #434B5C;\n",
              "      box-shadow: 0px 1px 3px 1px rgba(0, 0, 0, 0.15);\n",
              "      filter: drop-shadow(0px 1px 2px rgba(0, 0, 0, 0.3));\n",
              "      fill: #FFFFFF;\n",
              "    }\n",
              "  </style>\n",
              "\n",
              "      <script>\n",
              "        const buttonEl =\n",
              "          document.querySelector('#df-5d789d34-0e60-4cbf-92b4-8882bf3d4a35 button.colab-df-convert');\n",
              "        buttonEl.style.display =\n",
              "          google.colab.kernel.accessAllowed ? 'block' : 'none';\n",
              "\n",
              "        async function convertToInteractive(key) {\n",
              "          const element = document.querySelector('#df-5d789d34-0e60-4cbf-92b4-8882bf3d4a35');\n",
              "          const dataTable =\n",
              "            await google.colab.kernel.invokeFunction('convertToInteractive',\n",
              "                                                     [key], {});\n",
              "          if (!dataTable) return;\n",
              "\n",
              "          const docLinkHtml = 'Like what you see? Visit the ' +\n",
              "            '<a target=\"_blank\" href=https://colab.research.google.com/notebooks/data_table.ipynb>data table notebook</a>'\n",
              "            + ' to learn more about interactive tables.';\n",
              "          element.innerHTML = '';\n",
              "          dataTable['output_type'] = 'display_data';\n",
              "          await google.colab.output.renderOutput(dataTable, element);\n",
              "          const docLink = document.createElement('div');\n",
              "          docLink.innerHTML = docLinkHtml;\n",
              "          element.appendChild(docLink);\n",
              "        }\n",
              "      </script>\n",
              "    </div>\n",
              "  </div>\n",
              "  "
            ]
          },
          "metadata": {},
          "execution_count": 3
        }
      ],
      "source": [
        "df_train = pd.read_csv(\"af2_dataset_training_labeled.csv.gz\", index_col=0)\n",
        "df_train"
      ]
    },
    {
      "cell_type": "code",
      "execution_count": 4,
      "metadata": {
        "colab": {
          "base_uri": "https://localhost:8080/",
          "height": 0
        },
        "id": "Xm6e9OmNOmct",
        "outputId": "8eff1190-2d09-4bed-fe71-cf831d0f593d"
      },
      "outputs": [
        {
          "output_type": "execute_result",
          "data": {
            "text/plain": [
              "    annotation_sequence  feat_A  feat_C  feat_D  feat_E  feat_F  feat_G  \\\n",
              "0                     M   False   False   False   False   False   False   \n",
              "1                     A    True   False   False   False   False   False   \n",
              "2                     A    True   False   False   False   False   False   \n",
              "3                     S   False   False   False   False   False   False   \n",
              "4                     V   False   False   False   False   False   False   \n",
              "..                  ...     ...     ...     ...     ...     ...     ...   \n",
              "474                   L   False   False   False   False   False   False   \n",
              "475                   P   False   False   False   False   False   False   \n",
              "476                   Q   False   False   False   False   False   False   \n",
              "477                   E   False   False   False    True   False   False   \n",
              "478                   N   False   False   False   False   False   False   \n",
              "\n",
              "     feat_H  feat_I  feat_K  ...  feat_DSSP_9  feat_DSSP_10  feat_DSSP_11  \\\n",
              "0     False   False   False  ...          0.0             0           0.0   \n",
              "1     False   False   False  ...         -0.0             2          -0.0   \n",
              "2     False   False   False  ...         -0.1             0           0.0   \n",
              "3     False   False   False  ...         -0.1             0           0.0   \n",
              "4     False   False   False  ...          0.0             0           0.0   \n",
              "..      ...     ...     ...  ...          ...           ...           ...   \n",
              "474   False   False   False  ...         -0.5            -3          -0.3   \n",
              "475   False   False   False  ...         -0.1             0           0.0   \n",
              "476   False   False   False  ...         -0.0             0           0.0   \n",
              "477   False   False   False  ...          0.0             0           0.0   \n",
              "478   False   False   False  ...          0.0             0           0.0   \n",
              "\n",
              "     feat_DSSP_12  feat_DSSP_13    coord_X    coord_Y    coord_Z        entry  \\\n",
              "0               0           0.0  33.116001  37.023998  38.417000   QCR1_HUMAN   \n",
              "1               0           0.0  35.849998  34.841000  40.185001   QCR1_HUMAN   \n",
              "2               2          -0.0  37.087002  31.719999  40.547001   QCR1_HUMAN   \n",
              "3              -2          -0.0  38.095001  28.951000  42.321999   QCR1_HUMAN   \n",
              "4               0           0.0  41.435001  27.417000  43.703999   QCR1_HUMAN   \n",
              "..            ...           ...        ...        ...        ...          ...   \n",
              "474            -3          -0.0  47.813999   7.569000 -27.368999  PDE7A_HUMAN   \n",
              "475            -3          -0.0  50.228001   8.068000 -30.333000  PDE7A_HUMAN   \n",
              "476             0           0.0  51.507999   4.896000 -31.959999  PDE7A_HUMAN   \n",
              "477             0           0.0  54.845001   6.372000 -33.125000  PDE7A_HUMAN   \n",
              "478             0           0.0  57.796001   4.322000 -34.160000  PDE7A_HUMAN   \n",
              "\n",
              "     entry_index  \n",
              "0              0  \n",
              "1              1  \n",
              "2              2  \n",
              "3              3  \n",
              "4              4  \n",
              "..           ...  \n",
              "474          474  \n",
              "475          475  \n",
              "476          476  \n",
              "477          477  \n",
              "478          478  \n",
              "\n",
              "[107624 rows x 49 columns]"
            ],
            "text/html": [
              "\n",
              "  <div id=\"df-f1d6b8f4-1203-45dd-87cc-c85e83577d41\">\n",
              "    <div class=\"colab-df-container\">\n",
              "      <div>\n",
              "<style scoped>\n",
              "    .dataframe tbody tr th:only-of-type {\n",
              "        vertical-align: middle;\n",
              "    }\n",
              "\n",
              "    .dataframe tbody tr th {\n",
              "        vertical-align: top;\n",
              "    }\n",
              "\n",
              "    .dataframe thead th {\n",
              "        text-align: right;\n",
              "    }\n",
              "</style>\n",
              "<table border=\"1\" class=\"dataframe\">\n",
              "  <thead>\n",
              "    <tr style=\"text-align: right;\">\n",
              "      <th></th>\n",
              "      <th>annotation_sequence</th>\n",
              "      <th>feat_A</th>\n",
              "      <th>feat_C</th>\n",
              "      <th>feat_D</th>\n",
              "      <th>feat_E</th>\n",
              "      <th>feat_F</th>\n",
              "      <th>feat_G</th>\n",
              "      <th>feat_H</th>\n",
              "      <th>feat_I</th>\n",
              "      <th>feat_K</th>\n",
              "      <th>...</th>\n",
              "      <th>feat_DSSP_9</th>\n",
              "      <th>feat_DSSP_10</th>\n",
              "      <th>feat_DSSP_11</th>\n",
              "      <th>feat_DSSP_12</th>\n",
              "      <th>feat_DSSP_13</th>\n",
              "      <th>coord_X</th>\n",
              "      <th>coord_Y</th>\n",
              "      <th>coord_Z</th>\n",
              "      <th>entry</th>\n",
              "      <th>entry_index</th>\n",
              "    </tr>\n",
              "  </thead>\n",
              "  <tbody>\n",
              "    <tr>\n",
              "      <th>0</th>\n",
              "      <td>M</td>\n",
              "      <td>False</td>\n",
              "      <td>False</td>\n",
              "      <td>False</td>\n",
              "      <td>False</td>\n",
              "      <td>False</td>\n",
              "      <td>False</td>\n",
              "      <td>False</td>\n",
              "      <td>False</td>\n",
              "      <td>False</td>\n",
              "      <td>...</td>\n",
              "      <td>0.0</td>\n",
              "      <td>0</td>\n",
              "      <td>0.0</td>\n",
              "      <td>0</td>\n",
              "      <td>0.0</td>\n",
              "      <td>33.116001</td>\n",
              "      <td>37.023998</td>\n",
              "      <td>38.417000</td>\n",
              "      <td>QCR1_HUMAN</td>\n",
              "      <td>0</td>\n",
              "    </tr>\n",
              "    <tr>\n",
              "      <th>1</th>\n",
              "      <td>A</td>\n",
              "      <td>True</td>\n",
              "      <td>False</td>\n",
              "      <td>False</td>\n",
              "      <td>False</td>\n",
              "      <td>False</td>\n",
              "      <td>False</td>\n",
              "      <td>False</td>\n",
              "      <td>False</td>\n",
              "      <td>False</td>\n",
              "      <td>...</td>\n",
              "      <td>-0.0</td>\n",
              "      <td>2</td>\n",
              "      <td>-0.0</td>\n",
              "      <td>0</td>\n",
              "      <td>0.0</td>\n",
              "      <td>35.849998</td>\n",
              "      <td>34.841000</td>\n",
              "      <td>40.185001</td>\n",
              "      <td>QCR1_HUMAN</td>\n",
              "      <td>1</td>\n",
              "    </tr>\n",
              "    <tr>\n",
              "      <th>2</th>\n",
              "      <td>A</td>\n",
              "      <td>True</td>\n",
              "      <td>False</td>\n",
              "      <td>False</td>\n",
              "      <td>False</td>\n",
              "      <td>False</td>\n",
              "      <td>False</td>\n",
              "      <td>False</td>\n",
              "      <td>False</td>\n",
              "      <td>False</td>\n",
              "      <td>...</td>\n",
              "      <td>-0.1</td>\n",
              "      <td>0</td>\n",
              "      <td>0.0</td>\n",
              "      <td>2</td>\n",
              "      <td>-0.0</td>\n",
              "      <td>37.087002</td>\n",
              "      <td>31.719999</td>\n",
              "      <td>40.547001</td>\n",
              "      <td>QCR1_HUMAN</td>\n",
              "      <td>2</td>\n",
              "    </tr>\n",
              "    <tr>\n",
              "      <th>3</th>\n",
              "      <td>S</td>\n",
              "      <td>False</td>\n",
              "      <td>False</td>\n",
              "      <td>False</td>\n",
              "      <td>False</td>\n",
              "      <td>False</td>\n",
              "      <td>False</td>\n",
              "      <td>False</td>\n",
              "      <td>False</td>\n",
              "      <td>False</td>\n",
              "      <td>...</td>\n",
              "      <td>-0.1</td>\n",
              "      <td>0</td>\n",
              "      <td>0.0</td>\n",
              "      <td>-2</td>\n",
              "      <td>-0.0</td>\n",
              "      <td>38.095001</td>\n",
              "      <td>28.951000</td>\n",
              "      <td>42.321999</td>\n",
              "      <td>QCR1_HUMAN</td>\n",
              "      <td>3</td>\n",
              "    </tr>\n",
              "    <tr>\n",
              "      <th>4</th>\n",
              "      <td>V</td>\n",
              "      <td>False</td>\n",
              "      <td>False</td>\n",
              "      <td>False</td>\n",
              "      <td>False</td>\n",
              "      <td>False</td>\n",
              "      <td>False</td>\n",
              "      <td>False</td>\n",
              "      <td>False</td>\n",
              "      <td>False</td>\n",
              "      <td>...</td>\n",
              "      <td>0.0</td>\n",
              "      <td>0</td>\n",
              "      <td>0.0</td>\n",
              "      <td>0</td>\n",
              "      <td>0.0</td>\n",
              "      <td>41.435001</td>\n",
              "      <td>27.417000</td>\n",
              "      <td>43.703999</td>\n",
              "      <td>QCR1_HUMAN</td>\n",
              "      <td>4</td>\n",
              "    </tr>\n",
              "    <tr>\n",
              "      <th>...</th>\n",
              "      <td>...</td>\n",
              "      <td>...</td>\n",
              "      <td>...</td>\n",
              "      <td>...</td>\n",
              "      <td>...</td>\n",
              "      <td>...</td>\n",
              "      <td>...</td>\n",
              "      <td>...</td>\n",
              "      <td>...</td>\n",
              "      <td>...</td>\n",
              "      <td>...</td>\n",
              "      <td>...</td>\n",
              "      <td>...</td>\n",
              "      <td>...</td>\n",
              "      <td>...</td>\n",
              "      <td>...</td>\n",
              "      <td>...</td>\n",
              "      <td>...</td>\n",
              "      <td>...</td>\n",
              "      <td>...</td>\n",
              "      <td>...</td>\n",
              "    </tr>\n",
              "    <tr>\n",
              "      <th>474</th>\n",
              "      <td>L</td>\n",
              "      <td>False</td>\n",
              "      <td>False</td>\n",
              "      <td>False</td>\n",
              "      <td>False</td>\n",
              "      <td>False</td>\n",
              "      <td>False</td>\n",
              "      <td>False</td>\n",
              "      <td>False</td>\n",
              "      <td>False</td>\n",
              "      <td>...</td>\n",
              "      <td>-0.5</td>\n",
              "      <td>-3</td>\n",
              "      <td>-0.3</td>\n",
              "      <td>-3</td>\n",
              "      <td>-0.0</td>\n",
              "      <td>47.813999</td>\n",
              "      <td>7.569000</td>\n",
              "      <td>-27.368999</td>\n",
              "      <td>PDE7A_HUMAN</td>\n",
              "      <td>474</td>\n",
              "    </tr>\n",
              "    <tr>\n",
              "      <th>475</th>\n",
              "      <td>P</td>\n",
              "      <td>False</td>\n",
              "      <td>False</td>\n",
              "      <td>False</td>\n",
              "      <td>False</td>\n",
              "      <td>False</td>\n",
              "      <td>False</td>\n",
              "      <td>False</td>\n",
              "      <td>False</td>\n",
              "      <td>False</td>\n",
              "      <td>...</td>\n",
              "      <td>-0.1</td>\n",
              "      <td>0</td>\n",
              "      <td>0.0</td>\n",
              "      <td>-3</td>\n",
              "      <td>-0.0</td>\n",
              "      <td>50.228001</td>\n",
              "      <td>8.068000</td>\n",
              "      <td>-30.333000</td>\n",
              "      <td>PDE7A_HUMAN</td>\n",
              "      <td>475</td>\n",
              "    </tr>\n",
              "    <tr>\n",
              "      <th>476</th>\n",
              "      <td>Q</td>\n",
              "      <td>False</td>\n",
              "      <td>False</td>\n",
              "      <td>False</td>\n",
              "      <td>False</td>\n",
              "      <td>False</td>\n",
              "      <td>False</td>\n",
              "      <td>False</td>\n",
              "      <td>False</td>\n",
              "      <td>False</td>\n",
              "      <td>...</td>\n",
              "      <td>-0.0</td>\n",
              "      <td>0</td>\n",
              "      <td>0.0</td>\n",
              "      <td>0</td>\n",
              "      <td>0.0</td>\n",
              "      <td>51.507999</td>\n",
              "      <td>4.896000</td>\n",
              "      <td>-31.959999</td>\n",
              "      <td>PDE7A_HUMAN</td>\n",
              "      <td>476</td>\n",
              "    </tr>\n",
              "    <tr>\n",
              "      <th>477</th>\n",
              "      <td>E</td>\n",
              "      <td>False</td>\n",
              "      <td>False</td>\n",
              "      <td>False</td>\n",
              "      <td>True</td>\n",
              "      <td>False</td>\n",
              "      <td>False</td>\n",
              "      <td>False</td>\n",
              "      <td>False</td>\n",
              "      <td>False</td>\n",
              "      <td>...</td>\n",
              "      <td>0.0</td>\n",
              "      <td>0</td>\n",
              "      <td>0.0</td>\n",
              "      <td>0</td>\n",
              "      <td>0.0</td>\n",
              "      <td>54.845001</td>\n",
              "      <td>6.372000</td>\n",
              "      <td>-33.125000</td>\n",
              "      <td>PDE7A_HUMAN</td>\n",
              "      <td>477</td>\n",
              "    </tr>\n",
              "    <tr>\n",
              "      <th>478</th>\n",
              "      <td>N</td>\n",
              "      <td>False</td>\n",
              "      <td>False</td>\n",
              "      <td>False</td>\n",
              "      <td>False</td>\n",
              "      <td>False</td>\n",
              "      <td>False</td>\n",
              "      <td>False</td>\n",
              "      <td>False</td>\n",
              "      <td>False</td>\n",
              "      <td>...</td>\n",
              "      <td>0.0</td>\n",
              "      <td>0</td>\n",
              "      <td>0.0</td>\n",
              "      <td>0</td>\n",
              "      <td>0.0</td>\n",
              "      <td>57.796001</td>\n",
              "      <td>4.322000</td>\n",
              "      <td>-34.160000</td>\n",
              "      <td>PDE7A_HUMAN</td>\n",
              "      <td>478</td>\n",
              "    </tr>\n",
              "  </tbody>\n",
              "</table>\n",
              "<p>107624 rows × 49 columns</p>\n",
              "</div>\n",
              "      <button class=\"colab-df-convert\" onclick=\"convertToInteractive('df-f1d6b8f4-1203-45dd-87cc-c85e83577d41')\"\n",
              "              title=\"Convert this dataframe to an interactive table.\"\n",
              "              style=\"display:none;\">\n",
              "        \n",
              "  <svg xmlns=\"http://www.w3.org/2000/svg\" height=\"24px\"viewBox=\"0 0 24 24\"\n",
              "       width=\"24px\">\n",
              "    <path d=\"M0 0h24v24H0V0z\" fill=\"none\"/>\n",
              "    <path d=\"M18.56 5.44l.94 2.06.94-2.06 2.06-.94-2.06-.94-.94-2.06-.94 2.06-2.06.94zm-11 1L8.5 8.5l.94-2.06 2.06-.94-2.06-.94L8.5 2.5l-.94 2.06-2.06.94zm10 10l.94 2.06.94-2.06 2.06-.94-2.06-.94-.94-2.06-.94 2.06-2.06.94z\"/><path d=\"M17.41 7.96l-1.37-1.37c-.4-.4-.92-.59-1.43-.59-.52 0-1.04.2-1.43.59L10.3 9.45l-7.72 7.72c-.78.78-.78 2.05 0 2.83L4 21.41c.39.39.9.59 1.41.59.51 0 1.02-.2 1.41-.59l7.78-7.78 2.81-2.81c.8-.78.8-2.07 0-2.86zM5.41 20L4 18.59l7.72-7.72 1.47 1.35L5.41 20z\"/>\n",
              "  </svg>\n",
              "      </button>\n",
              "      \n",
              "  <style>\n",
              "    .colab-df-container {\n",
              "      display:flex;\n",
              "      flex-wrap:wrap;\n",
              "      gap: 12px;\n",
              "    }\n",
              "\n",
              "    .colab-df-convert {\n",
              "      background-color: #E8F0FE;\n",
              "      border: none;\n",
              "      border-radius: 50%;\n",
              "      cursor: pointer;\n",
              "      display: none;\n",
              "      fill: #1967D2;\n",
              "      height: 32px;\n",
              "      padding: 0 0 0 0;\n",
              "      width: 32px;\n",
              "    }\n",
              "\n",
              "    .colab-df-convert:hover {\n",
              "      background-color: #E2EBFA;\n",
              "      box-shadow: 0px 1px 2px rgba(60, 64, 67, 0.3), 0px 1px 3px 1px rgba(60, 64, 67, 0.15);\n",
              "      fill: #174EA6;\n",
              "    }\n",
              "\n",
              "    [theme=dark] .colab-df-convert {\n",
              "      background-color: #3B4455;\n",
              "      fill: #D2E3FC;\n",
              "    }\n",
              "\n",
              "    [theme=dark] .colab-df-convert:hover {\n",
              "      background-color: #434B5C;\n",
              "      box-shadow: 0px 1px 3px 1px rgba(0, 0, 0, 0.15);\n",
              "      filter: drop-shadow(0px 1px 2px rgba(0, 0, 0, 0.3));\n",
              "      fill: #FFFFFF;\n",
              "    }\n",
              "  </style>\n",
              "\n",
              "      <script>\n",
              "        const buttonEl =\n",
              "          document.querySelector('#df-f1d6b8f4-1203-45dd-87cc-c85e83577d41 button.colab-df-convert');\n",
              "        buttonEl.style.display =\n",
              "          google.colab.kernel.accessAllowed ? 'block' : 'none';\n",
              "\n",
              "        async function convertToInteractive(key) {\n",
              "          const element = document.querySelector('#df-f1d6b8f4-1203-45dd-87cc-c85e83577d41');\n",
              "          const dataTable =\n",
              "            await google.colab.kernel.invokeFunction('convertToInteractive',\n",
              "                                                     [key], {});\n",
              "          if (!dataTable) return;\n",
              "\n",
              "          const docLinkHtml = 'Like what you see? Visit the ' +\n",
              "            '<a target=\"_blank\" href=https://colab.research.google.com/notebooks/data_table.ipynb>data table notebook</a>'\n",
              "            + ' to learn more about interactive tables.';\n",
              "          element.innerHTML = '';\n",
              "          dataTable['output_type'] = 'display_data';\n",
              "          await google.colab.output.renderOutput(dataTable, element);\n",
              "          const docLink = document.createElement('div');\n",
              "          docLink.innerHTML = docLinkHtml;\n",
              "          element.appendChild(docLink);\n",
              "        }\n",
              "      </script>\n",
              "    </div>\n",
              "  </div>\n",
              "  "
            ]
          },
          "metadata": {},
          "execution_count": 4
        }
      ],
      "source": [
        "df_test = pd.read_csv(\"af2_dataset_testset_unlabeled.csv.gz\", index_col=0)\n",
        "df_test"
      ]
    },
    {
      "cell_type": "code",
      "execution_count": 5,
      "metadata": {
        "colab": {
          "base_uri": "https://localhost:8080/"
        },
        "id": "l0nZuQVnOpnL",
        "outputId": "f59ca4bf-8c89-40db-e38a-a2d0e4016e86"
      },
      "outputs": [
        {
          "output_type": "execute_result",
          "data": {
            "text/plain": [
              "Index(['annotation_sequence', 'feat_A', 'feat_C', 'feat_D', 'feat_E', 'feat_F',\n",
              "       'feat_G', 'feat_H', 'feat_I', 'feat_K', 'feat_L', 'feat_M', 'feat_N',\n",
              "       'feat_P', 'feat_Q', 'feat_R', 'feat_S', 'feat_T', 'feat_V', 'feat_W',\n",
              "       'feat_Y', 'annotation_atomrec', 'feat_PHI', 'feat_PSI', 'feat_TAU',\n",
              "       'feat_THETA', 'feat_BBSASA', 'feat_SCSASA', 'feat_pLDDT', 'feat_DSSP_H',\n",
              "       'feat_DSSP_B', 'feat_DSSP_E', 'feat_DSSP_G', 'feat_DSSP_I',\n",
              "       'feat_DSSP_T', 'feat_DSSP_S', 'feat_DSSP_6', 'feat_DSSP_7',\n",
              "       'feat_DSSP_8', 'feat_DSSP_9', 'feat_DSSP_10', 'feat_DSSP_11',\n",
              "       'feat_DSSP_12', 'feat_DSSP_13', 'coord_X', 'coord_Y', 'coord_Z',\n",
              "       'entry', 'entry_index', 'y_Ligand'],\n",
              "      dtype='object')"
            ]
          },
          "metadata": {},
          "execution_count": 5
        }
      ],
      "source": [
        "df_train.columns"
      ]
    },
    {
      "cell_type": "code",
      "execution_count": 6,
      "metadata": {
        "colab": {
          "base_uri": "https://localhost:8080/"
        },
        "id": "g4VOLs7DYiUE",
        "outputId": "6054c49b-53be-49ca-d51f-b9b664950d30"
      },
      "outputs": [
        {
          "output_type": "execute_result",
          "data": {
            "text/plain": [
              "(497166, 50)"
            ]
          },
          "metadata": {},
          "execution_count": 6
        }
      ],
      "source": [
        "df_train.shape"
      ]
    },
    {
      "cell_type": "markdown",
      "metadata": {
        "id": "0HKz3soGbbrH"
      },
      "source": [
        "All columns with the `feat_*` prefix are boolean, integer, or float features that describe the residue itself.  These can be used for training a model.  Domain knowledge of these values should not be necessary to participate in the challenge, but we've provided brief descriptions below for anyone who may be interested:\n",
        "\n",
        "* `feat_[letter]` are one-hot encoded boolean values for each of the 20 possible amino acids.\n",
        "* `feat_PHI`, `feat_PSI`, `feat_TAU`, `feat_THETA` describe various protein chain bonding angles, computed with [Biopython](https://biopython.org/docs/1.75/api/Bio.PDB.Polypeptide.html).\n",
        "* `feat_BBSASA`, `feat_SCSASA` describe the solvent accessible surface area, calculated using [FreeSASA](https://freesasa.github.io/).\n",
        "* `feat_pLDDT` is an AlphaFold2 residue-level prediction confidence value.\n",
        "* `feat_DSSP_[letter]` are secondary structure assignments by [DSSP].(https://en.wikipedia.org/wiki/DSSP_(algorithm))\n",
        "* `feat_DSSP_[number]` are other backbone structural features describing backbone hydrogen. bonding networks, also assigned by [DSSP](https://en.wikipedia.org/wiki/DSSP_(algorithm)).\n",
        "\n",
        "Column `y_Ligand` indicates if the residue (row) belongs to a known binding site or not.  This column is the classification objective for our challenge. \n",
        "\n",
        "The remaining columns describe other elements of the protein structure for reference or troubleshooting purposes.  Participants may use this information to to engineer new features/representations in their models if they so choose. These include:\n",
        "* `annotation_sequence` and `annotation_atomrec`: Residue amino acid in character format.\n",
        "* `entry`: Protein name, can be looked up on Uniprot for more information about the protein.  Each unique entry is one unique protein structure in this dataset.\n",
        "* `coord_X`, `coord_Y`, `coord_Z`: XYZ coordinates of the residue in the respective protein structure.  For example, all residues for protein 'QCR1_HUMAN' belong to the same coordinate space, but the coordinate space would shared between two residues (rows) with `entry` values of 'QCR1_HUMAN' and 'PPM1A_HUMAN'.\n",
        "* `entry_index`: The order of the amino acid within the protein sequence.  As with coordinates, these relationships are only meaningful for rows (residues) that share the same `entry` value.  For example, within QCR1_HUMAN two residues (rows) with `entry_index` 5 and 6 are adjacent (connected) neighbors.\n",
        "\n",
        "The test dataset has the same format, but is otherwise missing the `y_Ligand` column. "
      ]
    },
    {
      "cell_type": "code",
      "execution_count": 7,
      "metadata": {
        "colab": {
          "base_uri": "https://localhost:8080/"
        },
        "id": "TRhC3VHYc4SC",
        "outputId": "aebe8eb6-b5c5-4088-9e3b-beeac294e47e"
      },
      "outputs": [
        {
          "output_type": "stream",
          "name": "stdout",
          "text": [
            "<class 'pandas.core.frame.DataFrame'>\n",
            "Int64Index: 497166 entries, 0 to 759\n",
            "Data columns (total 50 columns):\n",
            " #   Column               Non-Null Count   Dtype  \n",
            "---  ------               --------------   -----  \n",
            " 0   annotation_sequence  497166 non-null  object \n",
            " 1   feat_A               497166 non-null  bool   \n",
            " 2   feat_C               497166 non-null  bool   \n",
            " 3   feat_D               497166 non-null  bool   \n",
            " 4   feat_E               497166 non-null  bool   \n",
            " 5   feat_F               497166 non-null  bool   \n",
            " 6   feat_G               497166 non-null  bool   \n",
            " 7   feat_H               497166 non-null  bool   \n",
            " 8   feat_I               497166 non-null  bool   \n",
            " 9   feat_K               497166 non-null  bool   \n",
            " 10  feat_L               497166 non-null  bool   \n",
            " 11  feat_M               497166 non-null  bool   \n",
            " 12  feat_N               497166 non-null  bool   \n",
            " 13  feat_P               497166 non-null  bool   \n",
            " 14  feat_Q               497166 non-null  bool   \n",
            " 15  feat_R               497166 non-null  bool   \n",
            " 16  feat_S               497166 non-null  bool   \n",
            " 17  feat_T               497166 non-null  bool   \n",
            " 18  feat_V               497166 non-null  bool   \n",
            " 19  feat_W               497166 non-null  bool   \n",
            " 20  feat_Y               497166 non-null  bool   \n",
            " 21  annotation_atomrec   484477 non-null  object \n",
            " 22  feat_PHI             497166 non-null  float64\n",
            " 23  feat_PSI             497166 non-null  float64\n",
            " 24  feat_TAU             497166 non-null  float64\n",
            " 25  feat_THETA           497166 non-null  float64\n",
            " 26  feat_BBSASA          497166 non-null  float64\n",
            " 27  feat_SCSASA          497166 non-null  float64\n",
            " 28  feat_pLDDT           497166 non-null  float64\n",
            " 29  feat_DSSP_H          497166 non-null  bool   \n",
            " 30  feat_DSSP_B          497166 non-null  bool   \n",
            " 31  feat_DSSP_E          497166 non-null  bool   \n",
            " 32  feat_DSSP_G          497166 non-null  bool   \n",
            " 33  feat_DSSP_I          497166 non-null  bool   \n",
            " 34  feat_DSSP_T          497166 non-null  bool   \n",
            " 35  feat_DSSP_S          497166 non-null  bool   \n",
            " 36  feat_DSSP_6          497166 non-null  int64  \n",
            " 37  feat_DSSP_7          497166 non-null  float64\n",
            " 38  feat_DSSP_8          497166 non-null  int64  \n",
            " 39  feat_DSSP_9          497166 non-null  float64\n",
            " 40  feat_DSSP_10         497166 non-null  int64  \n",
            " 41  feat_DSSP_11         497166 non-null  float64\n",
            " 42  feat_DSSP_12         497166 non-null  int64  \n",
            " 43  feat_DSSP_13         497166 non-null  float64\n",
            " 44  coord_X              497166 non-null  float64\n",
            " 45  coord_Y              497166 non-null  float64\n",
            " 46  coord_Z              497166 non-null  float64\n",
            " 47  entry                497166 non-null  object \n",
            " 48  entry_index          497166 non-null  int64  \n",
            " 49  y_Ligand             497166 non-null  bool   \n",
            "dtypes: bool(28), float64(14), int64(5), object(3)\n",
            "memory usage: 100.5+ MB\n"
          ]
        }
      ],
      "source": [
        "df_train.info()"
      ]
    },
    {
      "cell_type": "code",
      "execution_count": 8,
      "metadata": {
        "colab": {
          "base_uri": "https://localhost:8080/"
        },
        "id": "BWzGNvI_s2cU",
        "outputId": "4f828c81-f650-464f-811d-f6b30f35e985"
      },
      "outputs": [
        {
          "output_type": "stream",
          "name": "stdout",
          "text": [
            "<class 'pandas.core.frame.DataFrame'>\n",
            "Int64Index: 107624 entries, 0 to 478\n",
            "Data columns (total 49 columns):\n",
            " #   Column               Non-Null Count   Dtype  \n",
            "---  ------               --------------   -----  \n",
            " 0   annotation_sequence  107624 non-null  object \n",
            " 1   feat_A               107624 non-null  bool   \n",
            " 2   feat_C               107624 non-null  bool   \n",
            " 3   feat_D               107624 non-null  bool   \n",
            " 4   feat_E               107624 non-null  bool   \n",
            " 5   feat_F               107624 non-null  bool   \n",
            " 6   feat_G               107624 non-null  bool   \n",
            " 7   feat_H               107624 non-null  bool   \n",
            " 8   feat_I               107624 non-null  bool   \n",
            " 9   feat_K               107624 non-null  bool   \n",
            " 10  feat_L               107624 non-null  bool   \n",
            " 11  feat_M               107624 non-null  bool   \n",
            " 12  feat_N               107624 non-null  bool   \n",
            " 13  feat_P               107624 non-null  bool   \n",
            " 14  feat_Q               107624 non-null  bool   \n",
            " 15  feat_R               107624 non-null  bool   \n",
            " 16  feat_S               107624 non-null  bool   \n",
            " 17  feat_T               107624 non-null  bool   \n",
            " 18  feat_V               107624 non-null  bool   \n",
            " 19  feat_W               107624 non-null  bool   \n",
            " 20  feat_Y               107624 non-null  bool   \n",
            " 21  annotation_atomrec   106323 non-null  object \n",
            " 22  feat_PHI             107624 non-null  float64\n",
            " 23  feat_PSI             107624 non-null  float64\n",
            " 24  feat_TAU             107624 non-null  float64\n",
            " 25  feat_THETA           107624 non-null  float64\n",
            " 26  feat_BBSASA          107624 non-null  float64\n",
            " 27  feat_SCSASA          107624 non-null  float64\n",
            " 28  feat_pLDDT           107624 non-null  float64\n",
            " 29  feat_DSSP_H          107624 non-null  bool   \n",
            " 30  feat_DSSP_B          107624 non-null  bool   \n",
            " 31  feat_DSSP_E          107624 non-null  bool   \n",
            " 32  feat_DSSP_G          107624 non-null  bool   \n",
            " 33  feat_DSSP_I          107624 non-null  bool   \n",
            " 34  feat_DSSP_T          107624 non-null  bool   \n",
            " 35  feat_DSSP_S          107624 non-null  bool   \n",
            " 36  feat_DSSP_6          107624 non-null  int64  \n",
            " 37  feat_DSSP_7          107624 non-null  float64\n",
            " 38  feat_DSSP_8          107624 non-null  int64  \n",
            " 39  feat_DSSP_9          107624 non-null  float64\n",
            " 40  feat_DSSP_10         107624 non-null  int64  \n",
            " 41  feat_DSSP_11         107624 non-null  float64\n",
            " 42  feat_DSSP_12         107624 non-null  int64  \n",
            " 43  feat_DSSP_13         107624 non-null  float64\n",
            " 44  coord_X              107624 non-null  float64\n",
            " 45  coord_Y              107624 non-null  float64\n",
            " 46  coord_Z              107624 non-null  float64\n",
            " 47  entry                107624 non-null  object \n",
            " 48  entry_index          107624 non-null  int64  \n",
            "dtypes: bool(27), float64(14), int64(5), object(3)\n",
            "memory usage: 21.7+ MB\n"
          ]
        }
      ],
      "source": [
        "df_test.info()"
      ]
    },
    {
      "cell_type": "markdown",
      "metadata": {
        "id": "vga1orXAs54z"
      },
      "source": [
        "## Data Validation and Value Constraint"
      ]
    },
    {
      "cell_type": "code",
      "execution_count": 9,
      "metadata": {
        "colab": {
          "base_uri": "https://localhost:8080/",
          "height": 0
        },
        "id": "l5LM2CbOtA6l",
        "outputId": "3a16d4df-6e00-4094-a03a-cd349e4ef171"
      },
      "outputs": [
        {
          "output_type": "execute_result",
          "data": {
            "text/plain": [
              "            feat_PHI       feat_PSI       feat_TAU     feat_THETA  \\\n",
              "count  497166.000000  497166.000000  497166.000000  497166.000000   \n",
              "mean       -1.162007       0.780075      -0.108342       1.854782   \n",
              "std         1.039634       1.520499       1.833996       0.469940   \n",
              "min        -3.141557      -3.141564      -3.141578       0.000000   \n",
              "25%        -1.686451      -0.654101      -2.067246       1.590771   \n",
              "50%        -1.199133       0.241335       0.775206       1.756220   \n",
              "75%        -1.047934       2.297116       0.966645       2.122055   \n",
              "max         3.141575       3.141584       3.141568       3.137176   \n",
              "\n",
              "         feat_BBSASA   feat_SCSASA     feat_pLDDT    feat_DSSP_6  \\\n",
              "count  497166.000000  4.971660e+05  497166.000000  497166.000000   \n",
              "mean       16.746550  5.209644e+01      75.733749      -1.789849   \n",
              "std        18.494097  4.792873e+01      26.971019      58.176800   \n",
              "min         0.000000 -2.842171e-14       0.000000   -2281.000000   \n",
              "25%         1.239801  5.274057e+00      55.360000      -4.000000   \n",
              "50%         8.788650  4.352778e+01      89.530000      -2.000000   \n",
              "75%        29.958422  8.623462e+01      95.960000       0.000000   \n",
              "max        99.338342  2.200520e+02      98.980000    2281.000000   \n",
              "\n",
              "         feat_DSSP_7    feat_DSSP_8    feat_DSSP_9   feat_DSSP_10  \\\n",
              "count  497166.000000  497166.000000  497166.000000  497166.000000   \n",
              "mean       -1.160675       1.754382      -1.140480      -0.053135   \n",
              "std         1.058466      60.429611       1.062049      57.906105   \n",
              "min        -4.000000   -2281.000000      -4.000000   -2280.000000   \n",
              "25%        -2.200000      -1.000000      -2.200000      -2.000000   \n",
              "50%        -0.700000       2.000000      -0.600000       1.000000   \n",
              "75%        -0.200000       4.000000      -0.200000       2.000000   \n",
              "max         0.000000    2281.000000      -0.000000    2281.000000   \n",
              "\n",
              "        feat_DSSP_11   feat_DSSP_12   feat_DSSP_13        coord_X  \\\n",
              "count  497166.000000  497166.000000  497166.000000  497166.000000   \n",
              "mean       -0.177757       0.128386      -0.201625      -3.927826   \n",
              "std         0.156652      61.219479       0.232904      25.770530   \n",
              "min        -1.800000   -2281.000000      -2.900000    -149.393997   \n",
              "25%        -0.200000      -2.000000      -0.200000     -18.850000   \n",
              "50%        -0.200000      -1.000000      -0.200000      -2.881000   \n",
              "75%        -0.100000       2.000000      -0.100000      11.469000   \n",
              "max         0.000000    2282.000000      -0.000000     162.250000   \n",
              "\n",
              "             coord_Y        coord_Z    entry_index  \n",
              "count  497166.000000  497166.000000  497166.000000  \n",
              "mean        1.956133      -1.099622     535.495128  \n",
              "std        20.641283      26.637590     665.740408  \n",
              "min      -114.931000    -152.839005       0.000000  \n",
              "25%        -9.518750     -16.964001     172.000000  \n",
              "50%         1.206000      -0.681000     365.000000  \n",
              "75%        13.148000      14.147000     667.000000  \n",
              "max       103.135002     176.059998    7384.000000  "
            ],
            "text/html": [
              "\n",
              "  <div id=\"df-0cc698a2-c91f-490f-8320-3fc53a5c31dc\">\n",
              "    <div class=\"colab-df-container\">\n",
              "      <div>\n",
              "<style scoped>\n",
              "    .dataframe tbody tr th:only-of-type {\n",
              "        vertical-align: middle;\n",
              "    }\n",
              "\n",
              "    .dataframe tbody tr th {\n",
              "        vertical-align: top;\n",
              "    }\n",
              "\n",
              "    .dataframe thead th {\n",
              "        text-align: right;\n",
              "    }\n",
              "</style>\n",
              "<table border=\"1\" class=\"dataframe\">\n",
              "  <thead>\n",
              "    <tr style=\"text-align: right;\">\n",
              "      <th></th>\n",
              "      <th>feat_PHI</th>\n",
              "      <th>feat_PSI</th>\n",
              "      <th>feat_TAU</th>\n",
              "      <th>feat_THETA</th>\n",
              "      <th>feat_BBSASA</th>\n",
              "      <th>feat_SCSASA</th>\n",
              "      <th>feat_pLDDT</th>\n",
              "      <th>feat_DSSP_6</th>\n",
              "      <th>feat_DSSP_7</th>\n",
              "      <th>feat_DSSP_8</th>\n",
              "      <th>feat_DSSP_9</th>\n",
              "      <th>feat_DSSP_10</th>\n",
              "      <th>feat_DSSP_11</th>\n",
              "      <th>feat_DSSP_12</th>\n",
              "      <th>feat_DSSP_13</th>\n",
              "      <th>coord_X</th>\n",
              "      <th>coord_Y</th>\n",
              "      <th>coord_Z</th>\n",
              "      <th>entry_index</th>\n",
              "    </tr>\n",
              "  </thead>\n",
              "  <tbody>\n",
              "    <tr>\n",
              "      <th>count</th>\n",
              "      <td>497166.000000</td>\n",
              "      <td>497166.000000</td>\n",
              "      <td>497166.000000</td>\n",
              "      <td>497166.000000</td>\n",
              "      <td>497166.000000</td>\n",
              "      <td>4.971660e+05</td>\n",
              "      <td>497166.000000</td>\n",
              "      <td>497166.000000</td>\n",
              "      <td>497166.000000</td>\n",
              "      <td>497166.000000</td>\n",
              "      <td>497166.000000</td>\n",
              "      <td>497166.000000</td>\n",
              "      <td>497166.000000</td>\n",
              "      <td>497166.000000</td>\n",
              "      <td>497166.000000</td>\n",
              "      <td>497166.000000</td>\n",
              "      <td>497166.000000</td>\n",
              "      <td>497166.000000</td>\n",
              "      <td>497166.000000</td>\n",
              "    </tr>\n",
              "    <tr>\n",
              "      <th>mean</th>\n",
              "      <td>-1.162007</td>\n",
              "      <td>0.780075</td>\n",
              "      <td>-0.108342</td>\n",
              "      <td>1.854782</td>\n",
              "      <td>16.746550</td>\n",
              "      <td>5.209644e+01</td>\n",
              "      <td>75.733749</td>\n",
              "      <td>-1.789849</td>\n",
              "      <td>-1.160675</td>\n",
              "      <td>1.754382</td>\n",
              "      <td>-1.140480</td>\n",
              "      <td>-0.053135</td>\n",
              "      <td>-0.177757</td>\n",
              "      <td>0.128386</td>\n",
              "      <td>-0.201625</td>\n",
              "      <td>-3.927826</td>\n",
              "      <td>1.956133</td>\n",
              "      <td>-1.099622</td>\n",
              "      <td>535.495128</td>\n",
              "    </tr>\n",
              "    <tr>\n",
              "      <th>std</th>\n",
              "      <td>1.039634</td>\n",
              "      <td>1.520499</td>\n",
              "      <td>1.833996</td>\n",
              "      <td>0.469940</td>\n",
              "      <td>18.494097</td>\n",
              "      <td>4.792873e+01</td>\n",
              "      <td>26.971019</td>\n",
              "      <td>58.176800</td>\n",
              "      <td>1.058466</td>\n",
              "      <td>60.429611</td>\n",
              "      <td>1.062049</td>\n",
              "      <td>57.906105</td>\n",
              "      <td>0.156652</td>\n",
              "      <td>61.219479</td>\n",
              "      <td>0.232904</td>\n",
              "      <td>25.770530</td>\n",
              "      <td>20.641283</td>\n",
              "      <td>26.637590</td>\n",
              "      <td>665.740408</td>\n",
              "    </tr>\n",
              "    <tr>\n",
              "      <th>min</th>\n",
              "      <td>-3.141557</td>\n",
              "      <td>-3.141564</td>\n",
              "      <td>-3.141578</td>\n",
              "      <td>0.000000</td>\n",
              "      <td>0.000000</td>\n",
              "      <td>-2.842171e-14</td>\n",
              "      <td>0.000000</td>\n",
              "      <td>-2281.000000</td>\n",
              "      <td>-4.000000</td>\n",
              "      <td>-2281.000000</td>\n",
              "      <td>-4.000000</td>\n",
              "      <td>-2280.000000</td>\n",
              "      <td>-1.800000</td>\n",
              "      <td>-2281.000000</td>\n",
              "      <td>-2.900000</td>\n",
              "      <td>-149.393997</td>\n",
              "      <td>-114.931000</td>\n",
              "      <td>-152.839005</td>\n",
              "      <td>0.000000</td>\n",
              "    </tr>\n",
              "    <tr>\n",
              "      <th>25%</th>\n",
              "      <td>-1.686451</td>\n",
              "      <td>-0.654101</td>\n",
              "      <td>-2.067246</td>\n",
              "      <td>1.590771</td>\n",
              "      <td>1.239801</td>\n",
              "      <td>5.274057e+00</td>\n",
              "      <td>55.360000</td>\n",
              "      <td>-4.000000</td>\n",
              "      <td>-2.200000</td>\n",
              "      <td>-1.000000</td>\n",
              "      <td>-2.200000</td>\n",
              "      <td>-2.000000</td>\n",
              "      <td>-0.200000</td>\n",
              "      <td>-2.000000</td>\n",
              "      <td>-0.200000</td>\n",
              "      <td>-18.850000</td>\n",
              "      <td>-9.518750</td>\n",
              "      <td>-16.964001</td>\n",
              "      <td>172.000000</td>\n",
              "    </tr>\n",
              "    <tr>\n",
              "      <th>50%</th>\n",
              "      <td>-1.199133</td>\n",
              "      <td>0.241335</td>\n",
              "      <td>0.775206</td>\n",
              "      <td>1.756220</td>\n",
              "      <td>8.788650</td>\n",
              "      <td>4.352778e+01</td>\n",
              "      <td>89.530000</td>\n",
              "      <td>-2.000000</td>\n",
              "      <td>-0.700000</td>\n",
              "      <td>2.000000</td>\n",
              "      <td>-0.600000</td>\n",
              "      <td>1.000000</td>\n",
              "      <td>-0.200000</td>\n",
              "      <td>-1.000000</td>\n",
              "      <td>-0.200000</td>\n",
              "      <td>-2.881000</td>\n",
              "      <td>1.206000</td>\n",
              "      <td>-0.681000</td>\n",
              "      <td>365.000000</td>\n",
              "    </tr>\n",
              "    <tr>\n",
              "      <th>75%</th>\n",
              "      <td>-1.047934</td>\n",
              "      <td>2.297116</td>\n",
              "      <td>0.966645</td>\n",
              "      <td>2.122055</td>\n",
              "      <td>29.958422</td>\n",
              "      <td>8.623462e+01</td>\n",
              "      <td>95.960000</td>\n",
              "      <td>0.000000</td>\n",
              "      <td>-0.200000</td>\n",
              "      <td>4.000000</td>\n",
              "      <td>-0.200000</td>\n",
              "      <td>2.000000</td>\n",
              "      <td>-0.100000</td>\n",
              "      <td>2.000000</td>\n",
              "      <td>-0.100000</td>\n",
              "      <td>11.469000</td>\n",
              "      <td>13.148000</td>\n",
              "      <td>14.147000</td>\n",
              "      <td>667.000000</td>\n",
              "    </tr>\n",
              "    <tr>\n",
              "      <th>max</th>\n",
              "      <td>3.141575</td>\n",
              "      <td>3.141584</td>\n",
              "      <td>3.141568</td>\n",
              "      <td>3.137176</td>\n",
              "      <td>99.338342</td>\n",
              "      <td>2.200520e+02</td>\n",
              "      <td>98.980000</td>\n",
              "      <td>2281.000000</td>\n",
              "      <td>0.000000</td>\n",
              "      <td>2281.000000</td>\n",
              "      <td>-0.000000</td>\n",
              "      <td>2281.000000</td>\n",
              "      <td>0.000000</td>\n",
              "      <td>2282.000000</td>\n",
              "      <td>-0.000000</td>\n",
              "      <td>162.250000</td>\n",
              "      <td>103.135002</td>\n",
              "      <td>176.059998</td>\n",
              "      <td>7384.000000</td>\n",
              "    </tr>\n",
              "  </tbody>\n",
              "</table>\n",
              "</div>\n",
              "      <button class=\"colab-df-convert\" onclick=\"convertToInteractive('df-0cc698a2-c91f-490f-8320-3fc53a5c31dc')\"\n",
              "              title=\"Convert this dataframe to an interactive table.\"\n",
              "              style=\"display:none;\">\n",
              "        \n",
              "  <svg xmlns=\"http://www.w3.org/2000/svg\" height=\"24px\"viewBox=\"0 0 24 24\"\n",
              "       width=\"24px\">\n",
              "    <path d=\"M0 0h24v24H0V0z\" fill=\"none\"/>\n",
              "    <path d=\"M18.56 5.44l.94 2.06.94-2.06 2.06-.94-2.06-.94-.94-2.06-.94 2.06-2.06.94zm-11 1L8.5 8.5l.94-2.06 2.06-.94-2.06-.94L8.5 2.5l-.94 2.06-2.06.94zm10 10l.94 2.06.94-2.06 2.06-.94-2.06-.94-.94-2.06-.94 2.06-2.06.94z\"/><path d=\"M17.41 7.96l-1.37-1.37c-.4-.4-.92-.59-1.43-.59-.52 0-1.04.2-1.43.59L10.3 9.45l-7.72 7.72c-.78.78-.78 2.05 0 2.83L4 21.41c.39.39.9.59 1.41.59.51 0 1.02-.2 1.41-.59l7.78-7.78 2.81-2.81c.8-.78.8-2.07 0-2.86zM5.41 20L4 18.59l7.72-7.72 1.47 1.35L5.41 20z\"/>\n",
              "  </svg>\n",
              "      </button>\n",
              "      \n",
              "  <style>\n",
              "    .colab-df-container {\n",
              "      display:flex;\n",
              "      flex-wrap:wrap;\n",
              "      gap: 12px;\n",
              "    }\n",
              "\n",
              "    .colab-df-convert {\n",
              "      background-color: #E8F0FE;\n",
              "      border: none;\n",
              "      border-radius: 50%;\n",
              "      cursor: pointer;\n",
              "      display: none;\n",
              "      fill: #1967D2;\n",
              "      height: 32px;\n",
              "      padding: 0 0 0 0;\n",
              "      width: 32px;\n",
              "    }\n",
              "\n",
              "    .colab-df-convert:hover {\n",
              "      background-color: #E2EBFA;\n",
              "      box-shadow: 0px 1px 2px rgba(60, 64, 67, 0.3), 0px 1px 3px 1px rgba(60, 64, 67, 0.15);\n",
              "      fill: #174EA6;\n",
              "    }\n",
              "\n",
              "    [theme=dark] .colab-df-convert {\n",
              "      background-color: #3B4455;\n",
              "      fill: #D2E3FC;\n",
              "    }\n",
              "\n",
              "    [theme=dark] .colab-df-convert:hover {\n",
              "      background-color: #434B5C;\n",
              "      box-shadow: 0px 1px 3px 1px rgba(0, 0, 0, 0.15);\n",
              "      filter: drop-shadow(0px 1px 2px rgba(0, 0, 0, 0.3));\n",
              "      fill: #FFFFFF;\n",
              "    }\n",
              "  </style>\n",
              "\n",
              "      <script>\n",
              "        const buttonEl =\n",
              "          document.querySelector('#df-0cc698a2-c91f-490f-8320-3fc53a5c31dc button.colab-df-convert');\n",
              "        buttonEl.style.display =\n",
              "          google.colab.kernel.accessAllowed ? 'block' : 'none';\n",
              "\n",
              "        async function convertToInteractive(key) {\n",
              "          const element = document.querySelector('#df-0cc698a2-c91f-490f-8320-3fc53a5c31dc');\n",
              "          const dataTable =\n",
              "            await google.colab.kernel.invokeFunction('convertToInteractive',\n",
              "                                                     [key], {});\n",
              "          if (!dataTable) return;\n",
              "\n",
              "          const docLinkHtml = 'Like what you see? Visit the ' +\n",
              "            '<a target=\"_blank\" href=https://colab.research.google.com/notebooks/data_table.ipynb>data table notebook</a>'\n",
              "            + ' to learn more about interactive tables.';\n",
              "          element.innerHTML = '';\n",
              "          dataTable['output_type'] = 'display_data';\n",
              "          await google.colab.output.renderOutput(dataTable, element);\n",
              "          const docLink = document.createElement('div');\n",
              "          docLink.innerHTML = docLinkHtml;\n",
              "          element.appendChild(docLink);\n",
              "        }\n",
              "      </script>\n",
              "    </div>\n",
              "  </div>\n",
              "  "
            ]
          },
          "metadata": {},
          "execution_count": 9
        }
      ],
      "source": [
        "df_train.describe()"
      ]
    },
    {
      "cell_type": "markdown",
      "metadata": {
        "id": "jR3cjVsW0hjZ"
      },
      "source": [
        "### Numerical Variables Validation"
      ]
    },
    {
      "cell_type": "code",
      "execution_count": 10,
      "metadata": {
        "colab": {
          "base_uri": "https://localhost:8080/",
          "height": 0
        },
        "id": "BIjBoA7I0qyq",
        "outputId": "420adea0-f815-4854-9551-c122a365030f"
      },
      "outputs": [
        {
          "output_type": "display_data",
          "data": {
            "text/plain": [
              "<Figure size 720x576 with 4 Axes>"
            ],
            "image/png": "[encoded data removed]"
          },
          "metadata": {
            "needs_background": "light"
          }
        }
      ],
      "source": [
        "fig, axs = plt.subplots(2, 2, figsize = (10, 8))\n",
        "\n",
        "axs[0, 0].hist(df_train['feat_PHI'], bins=20)\n",
        "axs[0, 0].set_title('feat_PHI')\n",
        "\n",
        "axs[0, 1].hist(df_train['feat_PSI'], bins=20)\n",
        "axs[0, 1].set_title('feat_PSI')\n",
        "\n",
        "axs[1, 0].hist(df_train['feat_TAU'], bins=20)\n",
        "axs[1, 0].set_title('feat_TAU')\n",
        "\n",
        "axs[1, 1].hist(df_train['feat_THETA'], bins=20)\n",
        "axs[1, 1].set_title('feat_THETA')\n",
        "\n",
        "\n",
        "\n",
        "plt.show()"
      ]
    },
    {
      "cell_type": "code",
      "execution_count": 11,
      "metadata": {
        "colab": {
          "base_uri": "https://localhost:8080/",
          "height": 0
        },
        "id": "xiNersFX7Zjc",
        "outputId": "9fc6433c-fb47-489c-ee69-7f84735ed237"
      },
      "outputs": [
        {
          "output_type": "display_data",
          "data": {
            "text/plain": [
              "<Figure size 432x288 with 2 Axes>"
            ],
            "image/png": "[encoded data removed]"
          },
          "metadata": {
            "needs_background": "light"
          }
        }
      ],
      "source": [
        "corr_matrix = df_train[['feat_PHI', 'feat_PSI', 'feat_TAU', 'feat_THETA']].corr()\n",
        "\n",
        "sns.heatmap(corr_matrix, annot = True, cmap = 'coolwarm')\n",
        "plt.show()"
      ]
    },
    {
      "cell_type": "code",
      "execution_count": 12,
      "metadata": {
        "colab": {
          "base_uri": "https://localhost:8080/",
          "height": 0
        },
        "id": "4AH4GwgG9EFF",
        "outputId": "56c4332f-bff0-4fcf-bf4f-333e25cad9bb"
      },
      "outputs": [
        {
          "output_type": "display_data",
          "data": {
            "text/plain": [
              "<Figure size 432x288 with 1 Axes>"
            ],
            "image/png": "[encoded data removed]"
          },
          "metadata": {
            "needs_background": "light"
          }
        }
      ],
      "source": [
        "plt.scatter(df_train['feat_PSI'], df_train['feat_THETA'])\n",
        "plt.show()"
      ]
    },
    {
      "cell_type": "code",
      "execution_count": 13,
      "metadata": {
        "colab": {
          "base_uri": "https://localhost:8080/",
          "height": 0
        },
        "id": "4Rn11wx9-A29",
        "outputId": "f655695a-3d6e-4159-f2cd-977b3b8e3337"
      },
      "outputs": [
        {
          "output_type": "execute_result",
          "data": {
            "text/plain": [
              "      feat_PSI  feat_THETA  feat_PHI  feat_TAU\n",
              "1397       0.0         0.0       0.0       0.0\n",
              "1398       0.0         0.0       0.0       0.0\n",
              "1399       0.0         0.0       0.0       0.0\n",
              "1400       0.0         0.0       0.0       0.0\n",
              "1401       0.0         0.0       0.0       0.0\n",
              "...        ...         ...       ...       ...\n",
              "3677       0.0         0.0       0.0       0.0\n",
              "3678       0.0         0.0       0.0       0.0\n",
              "3679       0.0         0.0       0.0       0.0\n",
              "3680       0.0         0.0       0.0       0.0\n",
              "3681       0.0         0.0       0.0       0.0\n",
              "\n",
              "[12689 rows x 4 columns]"
            ],
            "text/html": [
              "\n",
              "  <div id=\"df-18487908-ae6e-4c50-b050-f9ae9cd2e866\">\n",
              "    <div class=\"colab-df-container\">\n",
              "      <div>\n",
              "<style scoped>\n",
              "    .dataframe tbody tr th:only-of-type {\n",
              "        vertical-align: middle;\n",
              "    }\n",
              "\n",
              "    .dataframe tbody tr th {\n",
              "        vertical-align: top;\n",
              "    }\n",
              "\n",
              "    .dataframe thead th {\n",
              "        text-align: right;\n",
              "    }\n",
              "</style>\n",
              "<table border=\"1\" class=\"dataframe\">\n",
              "  <thead>\n",
              "    <tr style=\"text-align: right;\">\n",
              "      <th></th>\n",
              "      <th>feat_PSI</th>\n",
              "      <th>feat_THETA</th>\n",
              "      <th>feat_PHI</th>\n",
              "      <th>feat_TAU</th>\n",
              "    </tr>\n",
              "  </thead>\n",
              "  <tbody>\n",
              "    <tr>\n",
              "      <th>1397</th>\n",
              "      <td>0.0</td>\n",
              "      <td>0.0</td>\n",
              "      <td>0.0</td>\n",
              "      <td>0.0</td>\n",
              "    </tr>\n",
              "    <tr>\n",
              "      <th>1398</th>\n",
              "      <td>0.0</td>\n",
              "      <td>0.0</td>\n",
              "      <td>0.0</td>\n",
              "      <td>0.0</td>\n",
              "    </tr>\n",
              "    <tr>\n",
              "      <th>1399</th>\n",
              "      <td>0.0</td>\n",
              "      <td>0.0</td>\n",
              "      <td>0.0</td>\n",
              "      <td>0.0</td>\n",
              "    </tr>\n",
              "    <tr>\n",
              "      <th>1400</th>\n",
              "      <td>0.0</td>\n",
              "      <td>0.0</td>\n",
              "      <td>0.0</td>\n",
              "      <td>0.0</td>\n",
              "    </tr>\n",
              "    <tr>\n",
              "      <th>1401</th>\n",
              "      <td>0.0</td>\n",
              "      <td>0.0</td>\n",
              "      <td>0.0</td>\n",
              "      <td>0.0</td>\n",
              "    </tr>\n",
              "    <tr>\n",
              "      <th>...</th>\n",
              "      <td>...</td>\n",
              "      <td>...</td>\n",
              "      <td>...</td>\n",
              "      <td>...</td>\n",
              "    </tr>\n",
              "    <tr>\n",
              "      <th>3677</th>\n",
              "      <td>0.0</td>\n",
              "      <td>0.0</td>\n",
              "      <td>0.0</td>\n",
              "      <td>0.0</td>\n",
              "    </tr>\n",
              "    <tr>\n",
              "      <th>3678</th>\n",
              "      <td>0.0</td>\n",
              "      <td>0.0</td>\n",
              "      <td>0.0</td>\n",
              "      <td>0.0</td>\n",
              "    </tr>\n",
              "    <tr>\n",
              "      <th>3679</th>\n",
              "      <td>0.0</td>\n",
              "      <td>0.0</td>\n",
              "      <td>0.0</td>\n",
              "      <td>0.0</td>\n",
              "    </tr>\n",
              "    <tr>\n",
              "      <th>3680</th>\n",
              "      <td>0.0</td>\n",
              "      <td>0.0</td>\n",
              "      <td>0.0</td>\n",
              "      <td>0.0</td>\n",
              "    </tr>\n",
              "    <tr>\n",
              "      <th>3681</th>\n",
              "      <td>0.0</td>\n",
              "      <td>0.0</td>\n",
              "      <td>0.0</td>\n",
              "      <td>0.0</td>\n",
              "    </tr>\n",
              "  </tbody>\n",
              "</table>\n",
              "<p>12689 rows × 4 columns</p>\n",
              "</div>\n",
              "      <button class=\"colab-df-convert\" onclick=\"convertToInteractive('df-18487908-ae6e-4c50-b050-f9ae9cd2e866')\"\n",
              "              title=\"Convert this dataframe to an interactive table.\"\n",
              "              style=\"display:none;\">\n",
              "        \n",
              "  <svg xmlns=\"http://www.w3.org/2000/svg\" height=\"24px\"viewBox=\"0 0 24 24\"\n",
              "       width=\"24px\">\n",
              "    <path d=\"M0 0h24v24H0V0z\" fill=\"none\"/>\n",
              "    <path d=\"M18.56 5.44l.94 2.06.94-2.06 2.06-.94-2.06-.94-.94-2.06-.94 2.06-2.06.94zm-11 1L8.5 8.5l.94-2.06 2.06-.94-2.06-.94L8.5 2.5l-.94 2.06-2.06.94zm10 10l.94 2.06.94-2.06 2.06-.94-2.06-.94-.94-2.06-.94 2.06-2.06.94z\"/><path d=\"M17.41 7.96l-1.37-1.37c-.4-.4-.92-.59-1.43-.59-.52 0-1.04.2-1.43.59L10.3 9.45l-7.72 7.72c-.78.78-.78 2.05 0 2.83L4 21.41c.39.39.9.59 1.41.59.51 0 1.02-.2 1.41-.59l7.78-7.78 2.81-2.81c.8-.78.8-2.07 0-2.86zM5.41 20L4 18.59l7.72-7.72 1.47 1.35L5.41 20z\"/>\n",
              "  </svg>\n",
              "      </button>\n",
              "      \n",
              "  <style>\n",
              "    .colab-df-container {\n",
              "      display:flex;\n",
              "      flex-wrap:wrap;\n",
              "      gap: 12px;\n",
              "    }\n",
              "\n",
              "    .colab-df-convert {\n",
              "      background-color: #E8F0FE;\n",
              "      border: none;\n",
              "      border-radius: 50%;\n",
              "      cursor: pointer;\n",
              "      display: none;\n",
              "      fill: #1967D2;\n",
              "      height: 32px;\n",
              "      padding: 0 0 0 0;\n",
              "      width: 32px;\n",
              "    }\n",
              "\n",
              "    .colab-df-convert:hover {\n",
              "      background-color: #E2EBFA;\n",
              "      box-shadow: 0px 1px 2px rgba(60, 64, 67, 0.3), 0px 1px 3px 1px rgba(60, 64, 67, 0.15);\n",
              "      fill: #174EA6;\n",
              "    }\n",
              "\n",
              "    [theme=dark] .colab-df-convert {\n",
              "      background-color: #3B4455;\n",
              "      fill: #D2E3FC;\n",
              "    }\n",
              "\n",
              "    [theme=dark] .colab-df-convert:hover {\n",
              "      background-color: #434B5C;\n",
              "      box-shadow: 0px 1px 3px 1px rgba(0, 0, 0, 0.15);\n",
              "      filter: drop-shadow(0px 1px 2px rgba(0, 0, 0, 0.3));\n",
              "      fill: #FFFFFF;\n",
              "    }\n",
              "  </style>\n",
              "\n",
              "      <script>\n",
              "        const buttonEl =\n",
              "          document.querySelector('#df-18487908-ae6e-4c50-b050-f9ae9cd2e866 button.colab-df-convert');\n",
              "        buttonEl.style.display =\n",
              "          google.colab.kernel.accessAllowed ? 'block' : 'none';\n",
              "\n",
              "        async function convertToInteractive(key) {\n",
              "          const element = document.querySelector('#df-18487908-ae6e-4c50-b050-f9ae9cd2e866');\n",
              "          const dataTable =\n",
              "            await google.colab.kernel.invokeFunction('convertToInteractive',\n",
              "                                                     [key], {});\n",
              "          if (!dataTable) return;\n",
              "\n",
              "          const docLinkHtml = 'Like what you see? Visit the ' +\n",
              "            '<a target=\"_blank\" href=https://colab.research.google.com/notebooks/data_table.ipynb>data table notebook</a>'\n",
              "            + ' to learn more about interactive tables.';\n",
              "          element.innerHTML = '';\n",
              "          dataTable['output_type'] = 'display_data';\n",
              "          await google.colab.output.renderOutput(dataTable, element);\n",
              "          const docLink = document.createElement('div');\n",
              "          docLink.innerHTML = docLinkHtml;\n",
              "          element.appendChild(docLink);\n",
              "        }\n",
              "      </script>\n",
              "    </div>\n",
              "  </div>\n",
              "  "
            ]
          },
          "metadata": {},
          "execution_count": 13
        }
      ],
      "source": [
        "df_train[['feat_PSI', 'feat_THETA', 'feat_PHI', 'feat_TAU']][(df_train['feat_PSI'] == 0) & (df_train['feat_THETA'] == 0) & (df_train['feat_PHI'] == 0) & (df_train['feat_TAU'] == 0) ]"
      ]
    },
    {
      "cell_type": "code",
      "execution_count": 14,
      "metadata": {
        "colab": {
          "base_uri": "https://localhost:8080/"
        },
        "id": "TrJJ986A_HEM",
        "outputId": "7809c125-5e89-498e-ee2c-0b5e6f9171fb"
      },
      "outputs": [
        {
          "output_type": "execute_result",
          "data": {
            "text/plain": [
              "0"
            ]
          },
          "metadata": {},
          "execution_count": 14
        }
      ],
      "source": [
        "df_train.duplicated().sum()"
      ]
    },
    {
      "cell_type": "code",
      "execution_count": 15,
      "metadata": {
        "colab": {
          "base_uri": "https://localhost:8080/",
          "height": 0
        },
        "id": "gW-QMY8v_ZDP",
        "outputId": "2b390ba1-eb57-4fe4-8a80-96f35a0003d9"
      },
      "outputs": [
        {
          "output_type": "display_data",
          "data": {
            "text/plain": [
              "<Figure size 720x288 with 2 Axes>"
            ],
            "image/png": "[encoded data removed]"
          },
          "metadata": {
            "needs_background": "light"
          }
        }
      ],
      "source": [
        "fig, axes = plt.subplots(1, 2, figsize = (10, 4))\n",
        "axes[0].hist(df_train['feat_BBSASA'], bins = 20)\n",
        "axes[1].hist(df_train['feat_SCSASA'], bins = 20)\n",
        "\n",
        "plt.show()"
      ]
    },
    {
      "cell_type": "code",
      "execution_count": 16,
      "metadata": {
        "colab": {
          "base_uri": "https://localhost:8080/",
          "height": 0
        },
        "id": "_neZcqxHNgGE",
        "outputId": "8ada8c14-45ad-4b07-ef7b-bc50dd24b495"
      },
      "outputs": [
        {
          "output_type": "display_data",
          "data": {
            "text/plain": [
              "<Figure size 432x288 with 2 Axes>"
            ],
            "image/png": "[encoded data removed]"
          },
          "metadata": {
            "needs_background": "light"
          }
        }
      ],
      "source": [
        "corr_matrix = df_train[['feat_BBSASA', 'feat_SCSASA']].corr()\n",
        "\n",
        "sns.heatmap(corr_matrix, annot = True, cmap = 'coolwarm')\n",
        "plt.show()"
      ]
    },
    {
      "cell_type": "code",
      "execution_count": 17,
      "metadata": {
        "colab": {
          "base_uri": "https://localhost:8080/",
          "height": 0
        },
        "id": "Ngsql2QQN4C8",
        "outputId": "132d05e0-8e3d-4461-c54c-800f950341be"
      },
      "outputs": [
        {
          "output_type": "execute_result",
          "data": {
            "text/plain": [
              "<matplotlib.collections.PathCollection at 0x7fd345baf280>"
            ]
          },
          "metadata": {},
          "execution_count": 17
        },
        {
          "output_type": "display_data",
          "data": {
            "text/plain": [
              "<Figure size 432x288 with 1 Axes>"
            ],
            "image/png": "[encoded data removed]"
          },
          "metadata": {
            "needs_background": "light"
          }
        }
      ],
      "source": [
        "plt.scatter(df_train['feat_BBSASA'], df_train.feat_SCSASA)"
      ]
    },
    {
      "cell_type": "markdown",
      "metadata": {
        "id": "xBo0eT3Q3pSq"
      },
      "source": [
        "#### Check on feat_SCSASA as it has negative values (unexpected)bold text"
      ]
    },
    {
      "cell_type": "code",
      "execution_count": 18,
      "metadata": {
        "colab": {
          "base_uri": "https://localhost:8080/"
        },
        "id": "8qQbJ8Ry33Hl",
        "outputId": "b8f26b7d-f9dd-426e-bba0-81c0af0ab553"
      },
      "outputs": [
        {
          "output_type": "execute_result",
          "data": {
            "text/plain": [
              "annotation_sequence  annotation_atomrec\n",
              "G                    G                     3287\n",
              "A                    A                       22\n",
              "S                    S                       19\n",
              "V                    V                       17\n",
              "C                    C                       14\n",
              "I                    I                        9\n",
              "L                    L                        7\n",
              "T                    T                        3\n",
              "F                    F                        2\n",
              "W                    W                        2\n",
              "M                    M                        1\n",
              "N                    N                        1\n",
              "Q                    Q                        1\n",
              "Y                    Y                        1\n",
              "dtype: int64"
            ]
          },
          "metadata": {},
          "execution_count": 18
        }
      ],
      "source": [
        "df_train[df_train['feat_SCSASA'] < 0].loc[:, ['annotation_sequence', 'annotation_atomrec', 'feat_SCSASA']][['annotation_sequence', 'annotation_atomrec']].value_counts()"
      ]
    },
    {
      "cell_type": "code",
      "execution_count": 19,
      "metadata": {
        "colab": {
          "base_uri": "https://localhost:8080/"
        },
        "id": "na-acdrhPvcm",
        "outputId": "a9838b1b-602b-4f89-b96c-c453446b94df"
      },
      "outputs": [
        {
          "output_type": "execute_result",
          "data": {
            "text/plain": [
              "Index(['feat_PHI', 'feat_PSI', 'feat_TAU', 'feat_THETA', 'feat_BBSASA',\n",
              "       'feat_SCSASA', 'feat_pLDDT', 'feat_DSSP_6', 'feat_DSSP_7',\n",
              "       'feat_DSSP_8', 'feat_DSSP_9', 'feat_DSSP_10', 'feat_DSSP_11',\n",
              "       'feat_DSSP_12', 'feat_DSSP_13', 'coord_X', 'coord_Y', 'coord_Z',\n",
              "       'entry_index'],\n",
              "      dtype='object')"
            ]
          },
          "metadata": {},
          "execution_count": 19
        }
      ],
      "source": [
        "df_train.select_dtypes(include = ['int', 'float']).columns"
      ]
    },
    {
      "cell_type": "markdown",
      "metadata": {
        "id": "ABg4LczfPxWi"
      },
      "source": [
        "#### feat_pLDDT"
      ]
    },
    {
      "cell_type": "code",
      "execution_count": 20,
      "metadata": {
        "colab": {
          "base_uri": "https://localhost:8080/",
          "height": 0
        },
        "id": "NwzIwaj_P_4o",
        "outputId": "271e0c1c-9b13-4c4b-edcb-96203676bb36"
      },
      "outputs": [
        {
          "output_type": "execute_result",
          "data": {
            "text/plain": [
              "<AxesSubplot:>"
            ]
          },
          "metadata": {},
          "execution_count": 20
        },
        {
          "output_type": "display_data",
          "data": {
            "text/plain": [
              "<Figure size 432x288 with 1 Axes>"
            ],
            "image/png": "[encoded data removed]"
          },
          "metadata": {
            "needs_background": "light"
          }
        }
      ],
      "source": [
        "df_train.feat_pLDDT.hist()"
      ]
    },
    {
      "cell_type": "markdown",
      "metadata": {
        "id": "B1remmoNQm7f"
      },
      "source": [
        "#### DSSPs"
      ]
    },
    {
      "cell_type": "code",
      "execution_count": 21,
      "metadata": {
        "colab": {
          "base_uri": "https://localhost:8080/",
          "height": 0
        },
        "id": "Gy877PyiQmUZ",
        "outputId": "0f287349-eb3d-4156-c7de-4d25595001eb"
      },
      "outputs": [
        {
          "output_type": "display_data",
          "data": {
            "text/plain": [
              "<Figure size 864x432 with 8 Axes>"
            ],
            "image/png": "[encoded data removed]"
          },
          "metadata": {
            "needs_background": "light"
          }
        }
      ],
      "source": [
        "fig, axs = plt.subplots(2, 4, figsize=(12, 6))\n",
        "axs = axs.ravel()\n",
        "\n",
        "for i in range(6, 14):\n",
        "    ax = axs[i-6]\n",
        "    ax.hist(df_train[f'feat_DSSP_{i}'], bins=20)\n",
        "    ax.set_title(f'feat_DSSP_{i}')\n",
        "plt.show()"
      ]
    },
    {
      "cell_type": "code",
      "execution_count": 22,
      "metadata": {
        "colab": {
          "base_uri": "https://localhost:8080/",
          "height": 0
        },
        "id": "uzwwWnpvrC0s",
        "outputId": "50027032-c2b4-44ef-99a7-8512a10a522f"
      },
      "outputs": [
        {
          "output_type": "execute_result",
          "data": {
            "text/plain": [
              "<AxesSubplot:>"
            ]
          },
          "metadata": {},
          "execution_count": 22
        },
        {
          "output_type": "display_data",
          "data": {
            "text/plain": [
              "<Figure size 432x288 with 2 Axes>"
            ],
            "image/png": "[encoded data removed]"
          },
          "metadata": {
            "needs_background": "light"
          }
        }
      ],
      "source": [
        "corr_matrix = df_train[[f'feat_DSSP_{i}' for i in range(6, 14)]].corr()\n",
        "sns.heatmap(corr_matrix, cmap = 'coolwarm', annot = True)"
      ]
    },
    {
      "cell_type": "code",
      "execution_count": 23,
      "metadata": {
        "colab": {
          "base_uri": "https://localhost:8080/",
          "height": 0
        },
        "id": "21O8UWUZshDs",
        "outputId": "5d931107-e374-434b-bc23-13004b6b389d"
      },
      "outputs": [
        {
          "output_type": "execute_result",
          "data": {
            "text/plain": [
              "<matplotlib.collections.PathCollection at 0x7fd3456bf640>"
            ]
          },
          "metadata": {},
          "execution_count": 23
        },
        {
          "output_type": "display_data",
          "data": {
            "text/plain": [
              "<Figure size 432x288 with 1 Axes>"
            ],
            "image/png": "[encoded data removed]"
          },
          "metadata": {
            "needs_background": "light"
          }
        }
      ],
      "source": [
        "plt.scatter(df_train['feat_DSSP_7'], df_train['feat_DSSP_11'])"
      ]
    },
    {
      "cell_type": "markdown",
      "metadata": {
        "id": "w-y-Bkrxp2Ms"
      },
      "source": [
        "#### Coordinates"
      ]
    },
    {
      "cell_type": "code",
      "execution_count": 24,
      "metadata": {
        "colab": {
          "base_uri": "https://localhost:8080/",
          "height": 0
        },
        "id": "TcFQkcahp5q_",
        "outputId": "338bb67a-6f54-4b7a-eac2-cb565ac4e7eb"
      },
      "outputs": [
        {
          "output_type": "display_data",
          "data": {
            "text/plain": [
              "<Figure size 864x432 with 3 Axes>"
            ],
            "image/png": "[encoded data removed]"
          },
          "metadata": {
            "needs_background": "light"
          }
        }
      ],
      "source": [
        "import matplotlib.pyplot as plt\n",
        "\n",
        "fig, axs = plt.subplots(1, 3, figsize=(12, 6))\n",
        "axs = axs.ravel()\n",
        "\n",
        "plot_index = ['X', 'Y', 'Z']\n",
        "\n",
        "for i in range(3):\n",
        "    ax = axs[i]\n",
        "    ax.hist(df_train[f'coord_{plot_index[i]}'], bins=20)\n",
        "    ax.set_title(f'coord_{plot_index[i]}')\n",
        "plt.show()"
      ]
    },
    {
      "cell_type": "code",
      "execution_count": 25,
      "metadata": {
        "colab": {
          "base_uri": "https://localhost:8080/",
          "height": 0
        },
        "id": "ixV_05LUqg52",
        "outputId": "833611d7-d6f1-4798-d417-6adf2ee04bad"
      },
      "outputs": [
        {
          "output_type": "execute_result",
          "data": {
            "text/plain": [
              "<AxesSubplot:>"
            ]
          },
          "metadata": {},
          "execution_count": 25
        },
        {
          "output_type": "display_data",
          "data": {
            "text/plain": [
              "<Figure size 432x288 with 2 Axes>"
            ],
            "image/png": "[encoded data removed]"
          },
          "metadata": {
            "needs_background": "light"
          }
        }
      ],
      "source": [
        "corr_matrix = df_train[[f'coord_{i}' for i in plot_index]].corr()\n",
        "sns.heatmap(corr_matrix, cmap = 'coolwarm', annot = True)"
      ]
    },
    {
      "cell_type": "markdown",
      "metadata": {
        "id": "KPF8_5btq45f"
      },
      "source": [
        "#### entry index"
      ]
    },
    {
      "cell_type": "code",
      "execution_count": 26,
      "metadata": {
        "colab": {
          "base_uri": "https://localhost:8080/",
          "height": 0
        },
        "id": "smItyaSDq6_Q",
        "outputId": "b868c512-e713-4231-c05e-c30f4db90991"
      },
      "outputs": [
        {
          "output_type": "execute_result",
          "data": {
            "text/plain": [
              "<AxesSubplot:>"
            ]
          },
          "metadata": {},
          "execution_count": 26
        },
        {
          "output_type": "display_data",
          "data": {
            "text/plain": [
              "<Figure size 432x288 with 1 Axes>"
            ],
            "image/png": "[encoded data removed]"
          },
          "metadata": {
            "needs_background": "light"
          }
        }
      ],
      "source": [
        "df_train['entry_index'].hist()"
      ]
    },
    {
      "cell_type": "code",
      "execution_count": 27,
      "metadata": {
        "colab": {
          "base_uri": "https://localhost:8080/"
        },
        "id": "hfGQ3cl1rLF-",
        "outputId": "ba9f8f8c-beec-427b-ec6a-32966dacace7"
      },
      "outputs": [
        {
          "output_type": "execute_result",
          "data": {
            "text/plain": [
              "0       723\n",
              "54      723\n",
              "62      723\n",
              "61      723\n",
              "60      723\n",
              "       ... \n",
              "5376      1\n",
              "5377      1\n",
              "5378      1\n",
              "5379      1\n",
              "7384      1\n",
              "Name: entry_index, Length: 7385, dtype: int64"
            ]
          },
          "metadata": {},
          "execution_count": 27
        }
      ],
      "source": [
        "df_train.entry_index.value_counts()"
      ]
    },
    {
      "cell_type": "markdown",
      "metadata": {
        "id": "qudlSh9Uz_2T"
      },
      "source": [
        "Numerical Variables Correlation"
      ]
    },
    {
      "cell_type": "code",
      "execution_count": 28,
      "metadata": {
        "id": "3GxiNZNE0CO-"
      },
      "outputs": [],
      "source": [
        "\n",
        "num_corr_matrix = df_train.corr()"
      ]
    },
    {
      "cell_type": "code",
      "execution_count": 29,
      "metadata": {
        "colab": {
          "base_uri": "https://localhost:8080/",
          "height": 0
        },
        "id": "BYQWewjw0H30",
        "outputId": "2a7c1e6d-8575-4f53-c5d1-790f6be091fa"
      },
      "outputs": [
        {
          "output_type": "display_data",
          "data": {
            "text/plain": [
              "<Figure size 720x720 with 2 Axes>"
            ],
            "image/png": "[encoded data removed]"
          },
          "metadata": {
            "needs_background": "light"
          }
        }
      ],
      "source": [
        "plt.figure(figsize = (10, 10))\n",
        "# Set the threshold\n",
        "threshold = 0.5\n",
        "\n",
        "# Create a boolean mask of correlations above the threshold\n",
        "mask = num_corr_matrix.abs() > threshold\n",
        "\n",
        "# Create a heatmap and annotate values above the threshold\n",
        "ax = sns.heatmap(num_corr_matrix, cmap='coolwarm', center=0, square=True)\n",
        "\n",
        "plt.show()\n"
      ]
    },
    {
      "cell_type": "code",
      "execution_count": 30,
      "metadata": {
        "id": "x5TQcGZh0Y9W"
      },
      "outputs": [],
      "source": [
        "corr_masked = np.where(num_corr_matrix > 0.5, num_corr_matrix, 0)"
      ]
    },
    {
      "cell_type": "code",
      "execution_count": 31,
      "metadata": {
        "colab": {
          "base_uri": "https://localhost:8080/",
          "height": 0
        },
        "id": "V41Fr3MM0caK",
        "outputId": "02097328-b88c-43b0-f43d-55d5887326e1"
      },
      "outputs": [
        {
          "output_type": "execute_result",
          "data": {
            "text/plain": [
              "<AxesSubplot:>"
            ]
          },
          "metadata": {},
          "execution_count": 31
        },
        {
          "output_type": "display_data",
          "data": {
            "text/plain": [
              "<Figure size 432x288 with 2 Axes>"
            ],
            "image/png": "[encoded data removed]"
          },
          "metadata": {
            "needs_background": "light"
          }
        }
      ],
      "source": [
        "sns.heatmap(corr_masked)"
      ]
    },
    {
      "cell_type": "markdown",
      "metadata": {
        "id": "_j4TvvODPr39"
      },
      "source": [
        "### Exploring Categorical Variables"
      ]
    },
    {
      "cell_type": "code",
      "execution_count": 32,
      "metadata": {
        "colab": {
          "base_uri": "https://localhost:8080/",
          "height": 0
        },
        "id": "A3zdcBlUzXXE",
        "outputId": "e4071ca9-58a8-450c-9561-97b3c1e51dc9"
      },
      "outputs": [
        {
          "output_type": "execute_result",
          "data": {
            "text/plain": [
              "       annotation_sequence  feat_A  feat_C  feat_D  feat_E  feat_F  feat_G  \\\n",
              "count               497166  497166  497166  497166  497166  497166  497166   \n",
              "unique                  20       2       2       2       2       2       2   \n",
              "top                      L   False   False   False   False   False   False   \n",
              "freq                 47881  463159  486801  471671  460675  478840  464826   \n",
              "\n",
              "        feat_H  feat_I  feat_K  feat_L  feat_M  feat_N  feat_P  feat_Q  \\\n",
              "count   497166  497166  497166  497166  497166  497166  497166  497166   \n",
              "unique       2       2       2       2       2       2       2       2   \n",
              "top      False   False   False   False   False   False   False   False   \n",
              "freq    484821  473109  466173  449285  485454  477976  469042  474280   \n",
              "\n",
              "        feat_R  feat_S  feat_T  feat_V  feat_W  \n",
              "count   497166  497166  497166  497166  497166  \n",
              "unique       2       2       2       2       2  \n",
              "top      False   False   False   False   False  \n",
              "freq    469543  459010  471282  466053  491210  "
            ],
            "text/html": [
              "\n",
              "  <div id=\"df-9791eac2-6ac2-4f2d-9349-a06622c8f2db\">\n",
              "    <div class=\"colab-df-container\">\n",
              "      <div>\n",
              "<style scoped>\n",
              "    .dataframe tbody tr th:only-of-type {\n",
              "        vertical-align: middle;\n",
              "    }\n",
              "\n",
              "    .dataframe tbody tr th {\n",
              "        vertical-align: top;\n",
              "    }\n",
              "\n",
              "    .dataframe thead th {\n",
              "        text-align: right;\n",
              "    }\n",
              "</style>\n",
              "<table border=\"1\" class=\"dataframe\">\n",
              "  <thead>\n",
              "    <tr style=\"text-align: right;\">\n",
              "      <th></th>\n",
              "      <th>annotation_sequence</th>\n",
              "      <th>feat_A</th>\n",
              "      <th>feat_C</th>\n",
              "      <th>feat_D</th>\n",
              "      <th>feat_E</th>\n",
              "      <th>feat_F</th>\n",
              "      <th>feat_G</th>\n",
              "      <th>feat_H</th>\n",
              "      <th>feat_I</th>\n",
              "      <th>feat_K</th>\n",
              "      <th>feat_L</th>\n",
              "      <th>feat_M</th>\n",
              "      <th>feat_N</th>\n",
              "      <th>feat_P</th>\n",
              "      <th>feat_Q</th>\n",
              "      <th>feat_R</th>\n",
              "      <th>feat_S</th>\n",
              "      <th>feat_T</th>\n",
              "      <th>feat_V</th>\n",
              "      <th>feat_W</th>\n",
              "    </tr>\n",
              "  </thead>\n",
              "  <tbody>\n",
              "    <tr>\n",
              "      <th>count</th>\n",
              "      <td>497166</td>\n",
              "      <td>497166</td>\n",
              "      <td>497166</td>\n",
              "      <td>497166</td>\n",
              "      <td>497166</td>\n",
              "      <td>497166</td>\n",
              "      <td>497166</td>\n",
              "      <td>497166</td>\n",
              "      <td>497166</td>\n",
              "      <td>497166</td>\n",
              "      <td>497166</td>\n",
              "      <td>497166</td>\n",
              "      <td>497166</td>\n",
              "      <td>497166</td>\n",
              "      <td>497166</td>\n",
              "      <td>497166</td>\n",
              "      <td>497166</td>\n",
              "      <td>497166</td>\n",
              "      <td>497166</td>\n",
              "      <td>497166</td>\n",
              "    </tr>\n",
              "    <tr>\n",
              "      <th>unique</th>\n",
              "      <td>20</td>\n",
              "      <td>2</td>\n",
              "      <td>2</td>\n",
              "      <td>2</td>\n",
              "      <td>2</td>\n",
              "      <td>2</td>\n",
              "      <td>2</td>\n",
              "      <td>2</td>\n",
              "      <td>2</td>\n",
              "      <td>2</td>\n",
              "      <td>2</td>\n",
              "      <td>2</td>\n",
              "      <td>2</td>\n",
              "      <td>2</td>\n",
              "      <td>2</td>\n",
              "      <td>2</td>\n",
              "      <td>2</td>\n",
              "      <td>2</td>\n",
              "      <td>2</td>\n",
              "      <td>2</td>\n",
              "    </tr>\n",
              "    <tr>\n",
              "      <th>top</th>\n",
              "      <td>L</td>\n",
              "      <td>False</td>\n",
              "      <td>False</td>\n",
              "      <td>False</td>\n",
              "      <td>False</td>\n",
              "      <td>False</td>\n",
              "      <td>False</td>\n",
              "      <td>False</td>\n",
              "      <td>False</td>\n",
              "      <td>False</td>\n",
              "      <td>False</td>\n",
              "      <td>False</td>\n",
              "      <td>False</td>\n",
              "      <td>False</td>\n",
              "      <td>False</td>\n",
              "      <td>False</td>\n",
              "      <td>False</td>\n",
              "      <td>False</td>\n",
              "      <td>False</td>\n",
              "      <td>False</td>\n",
              "    </tr>\n",
              "    <tr>\n",
              "      <th>freq</th>\n",
              "      <td>47881</td>\n",
              "      <td>463159</td>\n",
              "      <td>486801</td>\n",
              "      <td>471671</td>\n",
              "      <td>460675</td>\n",
              "      <td>478840</td>\n",
              "      <td>464826</td>\n",
              "      <td>484821</td>\n",
              "      <td>473109</td>\n",
              "      <td>466173</td>\n",
              "      <td>449285</td>\n",
              "      <td>485454</td>\n",
              "      <td>477976</td>\n",
              "      <td>469042</td>\n",
              "      <td>474280</td>\n",
              "      <td>469543</td>\n",
              "      <td>459010</td>\n",
              "      <td>471282</td>\n",
              "      <td>466053</td>\n",
              "      <td>491210</td>\n",
              "    </tr>\n",
              "  </tbody>\n",
              "</table>\n",
              "</div>\n",
              "      <button class=\"colab-df-convert\" onclick=\"convertToInteractive('df-9791eac2-6ac2-4f2d-9349-a06622c8f2db')\"\n",
              "              title=\"Convert this dataframe to an interactive table.\"\n",
              "              style=\"display:none;\">\n",
              "        \n",
              "  <svg xmlns=\"http://www.w3.org/2000/svg\" height=\"24px\"viewBox=\"0 0 24 24\"\n",
              "       width=\"24px\">\n",
              "    <path d=\"M0 0h24v24H0V0z\" fill=\"none\"/>\n",
              "    <path d=\"M18.56 5.44l.94 2.06.94-2.06 2.06-.94-2.06-.94-.94-2.06-.94 2.06-2.06.94zm-11 1L8.5 8.5l.94-2.06 2.06-.94-2.06-.94L8.5 2.5l-.94 2.06-2.06.94zm10 10l.94 2.06.94-2.06 2.06-.94-2.06-.94-.94-2.06-.94 2.06-2.06.94z\"/><path d=\"M17.41 7.96l-1.37-1.37c-.4-.4-.92-.59-1.43-.59-.52 0-1.04.2-1.43.59L10.3 9.45l-7.72 7.72c-.78.78-.78 2.05 0 2.83L4 21.41c.39.39.9.59 1.41.59.51 0 1.02-.2 1.41-.59l7.78-7.78 2.81-2.81c.8-.78.8-2.07 0-2.86zM5.41 20L4 18.59l7.72-7.72 1.47 1.35L5.41 20z\"/>\n",
              "  </svg>\n",
              "      </button>\n",
              "      \n",
              "  <style>\n",
              "    .colab-df-container {\n",
              "      display:flex;\n",
              "      flex-wrap:wrap;\n",
              "      gap: 12px;\n",
              "    }\n",
              "\n",
              "    .colab-df-convert {\n",
              "      background-color: #E8F0FE;\n",
              "      border: none;\n",
              "      border-radius: 50%;\n",
              "      cursor: pointer;\n",
              "      display: none;\n",
              "      fill: #1967D2;\n",
              "      height: 32px;\n",
              "      padding: 0 0 0 0;\n",
              "      width: 32px;\n",
              "    }\n",
              "\n",
              "    .colab-df-convert:hover {\n",
              "      background-color: #E2EBFA;\n",
              "      box-shadow: 0px 1px 2px rgba(60, 64, 67, 0.3), 0px 1px 3px 1px rgba(60, 64, 67, 0.15);\n",
              "      fill: #174EA6;\n",
              "    }\n",
              "\n",
              "    [theme=dark] .colab-df-convert {\n",
              "      background-color: #3B4455;\n",
              "      fill: #D2E3FC;\n",
              "    }\n",
              "\n",
              "    [theme=dark] .colab-df-convert:hover {\n",
              "      background-color: #434B5C;\n",
              "      box-shadow: 0px 1px 3px 1px rgba(0, 0, 0, 0.15);\n",
              "      filter: drop-shadow(0px 1px 2px rgba(0, 0, 0, 0.3));\n",
              "      fill: #FFFFFF;\n",
              "    }\n",
              "  </style>\n",
              "\n",
              "      <script>\n",
              "        const buttonEl =\n",
              "          document.querySelector('#df-9791eac2-6ac2-4f2d-9349-a06622c8f2db button.colab-df-convert');\n",
              "        buttonEl.style.display =\n",
              "          google.colab.kernel.accessAllowed ? 'block' : 'none';\n",
              "\n",
              "        async function convertToInteractive(key) {\n",
              "          const element = document.querySelector('#df-9791eac2-6ac2-4f2d-9349-a06622c8f2db');\n",
              "          const dataTable =\n",
              "            await google.colab.kernel.invokeFunction('convertToInteractive',\n",
              "                                                     [key], {});\n",
              "          if (!dataTable) return;\n",
              "\n",
              "          const docLinkHtml = 'Like what you see? Visit the ' +\n",
              "            '<a target=\"_blank\" href=https://colab.research.google.com/notebooks/data_table.ipynb>data table notebook</a>'\n",
              "            + ' to learn more about interactive tables.';\n",
              "          element.innerHTML = '';\n",
              "          dataTable['output_type'] = 'display_data';\n",
              "          await google.colab.output.renderOutput(dataTable, element);\n",
              "          const docLink = document.createElement('div');\n",
              "          docLink.innerHTML = docLinkHtml;\n",
              "          element.appendChild(docLink);\n",
              "        }\n",
              "      </script>\n",
              "    </div>\n",
              "  </div>\n",
              "  "
            ]
          },
          "metadata": {},
          "execution_count": 32
        }
      ],
      "source": [
        "cat_vars = df_train.select_dtypes(include = ['object', 'bool']).columns\n",
        "df_train_cat_first_20 = df_train[cat_vars[:20]]\n",
        "df_train_cat_first_20.describe()\n"
      ]
    },
    {
      "cell_type": "code",
      "execution_count": 33,
      "metadata": {
        "colab": {
          "base_uri": "https://localhost:8080/",
          "height": 0
        },
        "id": "Fms7RsM52C3s",
        "outputId": "44bc9e4b-d55b-4745-ed65-bbc85028f875"
      },
      "outputs": [
        {
          "output_type": "execute_result",
          "data": {
            "text/plain": [
              "        feat_Y annotation_atomrec feat_DSSP_H feat_DSSP_B feat_DSSP_E  \\\n",
              "count   497166             484477      497166      497166      497166   \n",
              "unique       2                 20           2           2           2   \n",
              "top      False                  L       False       False       False   \n",
              "freq    482944              46400      343915      493464      428549   \n",
              "\n",
              "       feat_DSSP_G feat_DSSP_I feat_DSSP_T feat_DSSP_S        entry y_Ligand  \n",
              "count       497166      497166      497166      497166       497166   497166  \n",
              "unique           2           2           2           2          723        2  \n",
              "top          False       False       False       False  MACF1_HUMAN    False  \n",
              "freq        482016      495072      451028      464548         7385   479912  "
            ],
            "text/html": [
              "\n",
              "  <div id=\"df-daa74a61-ca43-4796-bdae-16c465a29934\">\n",
              "    <div class=\"colab-df-container\">\n",
              "      <div>\n",
              "<style scoped>\n",
              "    .dataframe tbody tr th:only-of-type {\n",
              "        vertical-align: middle;\n",
              "    }\n",
              "\n",
              "    .dataframe tbody tr th {\n",
              "        vertical-align: top;\n",
              "    }\n",
              "\n",
              "    .dataframe thead th {\n",
              "        text-align: right;\n",
              "    }\n",
              "</style>\n",
              "<table border=\"1\" class=\"dataframe\">\n",
              "  <thead>\n",
              "    <tr style=\"text-align: right;\">\n",
              "      <th></th>\n",
              "      <th>feat_Y</th>\n",
              "      <th>annotation_atomrec</th>\n",
              "      <th>feat_DSSP_H</th>\n",
              "      <th>feat_DSSP_B</th>\n",
              "      <th>feat_DSSP_E</th>\n",
              "      <th>feat_DSSP_G</th>\n",
              "      <th>feat_DSSP_I</th>\n",
              "      <th>feat_DSSP_T</th>\n",
              "      <th>feat_DSSP_S</th>\n",
              "      <th>entry</th>\n",
              "      <th>y_Ligand</th>\n",
              "    </tr>\n",
              "  </thead>\n",
              "  <tbody>\n",
              "    <tr>\n",
              "      <th>count</th>\n",
              "      <td>497166</td>\n",
              "      <td>484477</td>\n",
              "      <td>497166</td>\n",
              "      <td>497166</td>\n",
              "      <td>497166</td>\n",
              "      <td>497166</td>\n",
              "      <td>497166</td>\n",
              "      <td>497166</td>\n",
              "      <td>497166</td>\n",
              "      <td>497166</td>\n",
              "      <td>497166</td>\n",
              "    </tr>\n",
              "    <tr>\n",
              "      <th>unique</th>\n",
              "      <td>2</td>\n",
              "      <td>20</td>\n",
              "      <td>2</td>\n",
              "      <td>2</td>\n",
              "      <td>2</td>\n",
              "      <td>2</td>\n",
              "      <td>2</td>\n",
              "      <td>2</td>\n",
              "      <td>2</td>\n",
              "      <td>723</td>\n",
              "      <td>2</td>\n",
              "    </tr>\n",
              "    <tr>\n",
              "      <th>top</th>\n",
              "      <td>False</td>\n",
              "      <td>L</td>\n",
              "      <td>False</td>\n",
              "      <td>False</td>\n",
              "      <td>False</td>\n",
              "      <td>False</td>\n",
              "      <td>False</td>\n",
              "      <td>False</td>\n",
              "      <td>False</td>\n",
              "      <td>MACF1_HUMAN</td>\n",
              "      <td>False</td>\n",
              "    </tr>\n",
              "    <tr>\n",
              "      <th>freq</th>\n",
              "      <td>482944</td>\n",
              "      <td>46400</td>\n",
              "      <td>343915</td>\n",
              "      <td>493464</td>\n",
              "      <td>428549</td>\n",
              "      <td>482016</td>\n",
              "      <td>495072</td>\n",
              "      <td>451028</td>\n",
              "      <td>464548</td>\n",
              "      <td>7385</td>\n",
              "      <td>479912</td>\n",
              "    </tr>\n",
              "  </tbody>\n",
              "</table>\n",
              "</div>\n",
              "      <button class=\"colab-df-convert\" onclick=\"convertToInteractive('df-daa74a61-ca43-4796-bdae-16c465a29934')\"\n",
              "              title=\"Convert this dataframe to an interactive table.\"\n",
              "              style=\"display:none;\">\n",
              "        \n",
              "  <svg xmlns=\"http://www.w3.org/2000/svg\" height=\"24px\"viewBox=\"0 0 24 24\"\n",
              "       width=\"24px\">\n",
              "    <path d=\"M0 0h24v24H0V0z\" fill=\"none\"/>\n",
              "    <path d=\"M18.56 5.44l.94 2.06.94-2.06 2.06-.94-2.06-.94-.94-2.06-.94 2.06-2.06.94zm-11 1L8.5 8.5l.94-2.06 2.06-.94-2.06-.94L8.5 2.5l-.94 2.06-2.06.94zm10 10l.94 2.06.94-2.06 2.06-.94-2.06-.94-.94-2.06-.94 2.06-2.06.94z\"/><path d=\"M17.41 7.96l-1.37-1.37c-.4-.4-.92-.59-1.43-.59-.52 0-1.04.2-1.43.59L10.3 9.45l-7.72 7.72c-.78.78-.78 2.05 0 2.83L4 21.41c.39.39.9.59 1.41.59.51 0 1.02-.2 1.41-.59l7.78-7.78 2.81-2.81c.8-.78.8-2.07 0-2.86zM5.41 20L4 18.59l7.72-7.72 1.47 1.35L5.41 20z\"/>\n",
              "  </svg>\n",
              "      </button>\n",
              "      \n",
              "  <style>\n",
              "    .colab-df-container {\n",
              "      display:flex;\n",
              "      flex-wrap:wrap;\n",
              "      gap: 12px;\n",
              "    }\n",
              "\n",
              "    .colab-df-convert {\n",
              "      background-color: #E8F0FE;\n",
              "      border: none;\n",
              "      border-radius: 50%;\n",
              "      cursor: pointer;\n",
              "      display: none;\n",
              "      fill: #1967D2;\n",
              "      height: 32px;\n",
              "      padding: 0 0 0 0;\n",
              "      width: 32px;\n",
              "    }\n",
              "\n",
              "    .colab-df-convert:hover {\n",
              "      background-color: #E2EBFA;\n",
              "      box-shadow: 0px 1px 2px rgba(60, 64, 67, 0.3), 0px 1px 3px 1px rgba(60, 64, 67, 0.15);\n",
              "      fill: #174EA6;\n",
              "    }\n",
              "\n",
              "    [theme=dark] .colab-df-convert {\n",
              "      background-color: #3B4455;\n",
              "      fill: #D2E3FC;\n",
              "    }\n",
              "\n",
              "    [theme=dark] .colab-df-convert:hover {\n",
              "      background-color: #434B5C;\n",
              "      box-shadow: 0px 1px 3px 1px rgba(0, 0, 0, 0.15);\n",
              "      filter: drop-shadow(0px 1px 2px rgba(0, 0, 0, 0.3));\n",
              "      fill: #FFFFFF;\n",
              "    }\n",
              "  </style>\n",
              "\n",
              "      <script>\n",
              "        const buttonEl =\n",
              "          document.querySelector('#df-daa74a61-ca43-4796-bdae-16c465a29934 button.colab-df-convert');\n",
              "        buttonEl.style.display =\n",
              "          google.colab.kernel.accessAllowed ? 'block' : 'none';\n",
              "\n",
              "        async function convertToInteractive(key) {\n",
              "          const element = document.querySelector('#df-daa74a61-ca43-4796-bdae-16c465a29934');\n",
              "          const dataTable =\n",
              "            await google.colab.kernel.invokeFunction('convertToInteractive',\n",
              "                                                     [key], {});\n",
              "          if (!dataTable) return;\n",
              "\n",
              "          const docLinkHtml = 'Like what you see? Visit the ' +\n",
              "            '<a target=\"_blank\" href=https://colab.research.google.com/notebooks/data_table.ipynb>data table notebook</a>'\n",
              "            + ' to learn more about interactive tables.';\n",
              "          element.innerHTML = '';\n",
              "          dataTable['output_type'] = 'display_data';\n",
              "          await google.colab.output.renderOutput(dataTable, element);\n",
              "          const docLink = document.createElement('div');\n",
              "          docLink.innerHTML = docLinkHtml;\n",
              "          element.appendChild(docLink);\n",
              "        }\n",
              "      </script>\n",
              "    </div>\n",
              "  </div>\n",
              "  "
            ]
          },
          "metadata": {},
          "execution_count": 33
        }
      ],
      "source": [
        "df_train_cat_remaining = df_train[cat_vars[20:]]\n",
        "df_train_cat_remaining.describe()"
      ]
    },
    {
      "cell_type": "markdown",
      "metadata": {
        "id": "-acxeFSph9x9"
      },
      "source": [
        "#### Annotation_sequence and annotation_atomrec"
      ]
    },
    {
      "cell_type": "code",
      "execution_count": 34,
      "metadata": {
        "colab": {
          "base_uri": "https://localhost:8080/"
        },
        "id": "xMODwjmQdzAd",
        "outputId": "0399da0e-0266-4c43-920f-b596a4f1fe16"
      },
      "outputs": [
        {
          "output_type": "execute_result",
          "data": {
            "text/plain": [
              "array(['M', 'G', 'Q', 'E', 'P', 'R', 'T', 'L', 'S', 'N', 'W', 'Y', 'C',\n",
              "       'A', 'D', 'V', 'F', 'I', 'H', 'K', nan], dtype=object)"
            ]
          },
          "metadata": {},
          "execution_count": 34
        }
      ],
      "source": [
        "df_train['annotation_atomrec'].unique()"
      ]
    },
    {
      "cell_type": "code",
      "execution_count": 35,
      "metadata": {
        "colab": {
          "base_uri": "https://localhost:8080/"
        },
        "id": "dtaCYepsd-99",
        "outputId": "0ff8cf57-3a0d-4283-9349-d36ca91db9b5"
      },
      "outputs": [
        {
          "output_type": "stream",
          "name": "stdout",
          "text": [
            "All rows where the 'annotation_atomrec' column has the letter M have a True value in the 'feat_M' column.\n",
            "All rows where the 'annotation_atomrec' column has the letter G have a True value in the 'feat_G' column.\n",
            "All rows where the 'annotation_atomrec' column has the letter Q have a True value in the 'feat_Q' column.\n",
            "All rows where the 'annotation_atomrec' column has the letter E have a True value in the 'feat_E' column.\n",
            "All rows where the 'annotation_atomrec' column has the letter P have a True value in the 'feat_P' column.\n",
            "All rows where the 'annotation_atomrec' column has the letter R have a True value in the 'feat_R' column.\n",
            "All rows where the 'annotation_atomrec' column has the letter T have a True value in the 'feat_T' column.\n",
            "All rows where the 'annotation_atomrec' column has the letter L have a True value in the 'feat_L' column.\n",
            "All rows where the 'annotation_atomrec' column has the letter S have a True value in the 'feat_S' column.\n",
            "All rows where the 'annotation_atomrec' column has the letter N have a True value in the 'feat_N' column.\n",
            "All rows where the 'annotation_atomrec' column has the letter W have a True value in the 'feat_W' column.\n",
            "All rows where the 'annotation_atomrec' column has the letter Y have a True value in the 'feat_Y' column.\n",
            "All rows where the 'annotation_atomrec' column has the letter C have a True value in the 'feat_C' column.\n",
            "All rows where the 'annotation_atomrec' column has the letter A have a True value in the 'feat_A' column.\n",
            "All rows where the 'annotation_atomrec' column has the letter D have a True value in the 'feat_D' column.\n",
            "All rows where the 'annotation_atomrec' column has the letter V have a True value in the 'feat_V' column.\n",
            "All rows where the 'annotation_atomrec' column has the letter F have a True value in the 'feat_F' column.\n",
            "All rows where the 'annotation_atomrec' column has the letter I have a True value in the 'feat_I' column.\n",
            "All rows where the 'annotation_atomrec' column has the letter H have a True value in the 'feat_H' column.\n",
            "All rows where the 'annotation_atomrec' column has the letter K have a True value in the 'feat_K' column.\n",
            "Reached the nan value of annotation_atomrec\n"
          ]
        }
      ],
      "source": [
        "# check if a letter in annotation_atomrec mean a True in the column named by feat_letter\n",
        "\n",
        "# Loop through the unique values in the 'annotation_atomrec' column\n",
        "for letter in df_train['annotation_atomrec'].unique():\n",
        "    # Check if the 'feat_[letter]' column has a True value for each row\n",
        "    # where the 'annotation_atomrec' column has the current letter\n",
        "    if not isinstance(letter, str) and np.isnan(letter):\n",
        "      print(f'Reached the nan value of annotation_atomrec')\n",
        "      continue\n",
        "    if (df_train.loc[df_train['annotation_atomrec'] == letter, 'feat_' + letter] != True).any():\n",
        "        print(f\"There are rows where the 'annotation_atomrec' column has the letter {letter} but the 'feat_{letter}' column does not have a True value.\")\n",
        "    else:\n",
        "        print(f\"All rows where the 'annotation_atomrec' column has the letter {letter} have a True value in the 'feat_{letter}' column.\")"
      ]
    },
    {
      "cell_type": "code",
      "execution_count": 36,
      "metadata": {
        "colab": {
          "base_uri": "https://localhost:8080/"
        },
        "id": "PSfCSdLXiJSX",
        "outputId": "211d984d-6247-48ab-948b-ab9fc5541f89"
      },
      "outputs": [
        {
          "output_type": "execute_result",
          "data": {
            "text/plain": [
              "array(['M', 'G', 'Q', 'E', 'P', 'R', 'T', 'L', 'S', 'N', 'W', 'Y', 'C',\n",
              "       'A', 'D', 'V', 'F', 'I', 'H', 'K'], dtype=object)"
            ]
          },
          "metadata": {},
          "execution_count": 36
        }
      ],
      "source": [
        "df_train['annotation_sequence'].unique()"
      ]
    },
    {
      "cell_type": "code",
      "execution_count": 37,
      "metadata": {
        "colab": {
          "base_uri": "https://localhost:8080/"
        },
        "id": "My0XL0JNhUgA",
        "outputId": "f088c052-ff1c-421d-9f2c-64240611d1f8"
      },
      "outputs": [
        {
          "output_type": "stream",
          "name": "stdout",
          "text": [
            "All rows where the 'annotation_sequence' column has the letter M have a True value in the 'feat_M' column.\n",
            "All rows where the 'annotation_sequence' column has the letter G have a True value in the 'feat_G' column.\n",
            "All rows where the 'annotation_sequence' column has the letter Q have a True value in the 'feat_Q' column.\n",
            "All rows where the 'annotation_sequence' column has the letter E have a True value in the 'feat_E' column.\n",
            "All rows where the 'annotation_sequence' column has the letter P have a True value in the 'feat_P' column.\n",
            "All rows where the 'annotation_sequence' column has the letter R have a True value in the 'feat_R' column.\n",
            "All rows where the 'annotation_sequence' column has the letter T have a True value in the 'feat_T' column.\n",
            "All rows where the 'annotation_sequence' column has the letter L have a True value in the 'feat_L' column.\n",
            "All rows where the 'annotation_sequence' column has the letter S have a True value in the 'feat_S' column.\n",
            "All rows where the 'annotation_sequence' column has the letter N have a True value in the 'feat_N' column.\n",
            "All rows where the 'annotation_sequence' column has the letter W have a True value in the 'feat_W' column.\n",
            "All rows where the 'annotation_sequence' column has the letter Y have a True value in the 'feat_Y' column.\n",
            "All rows where the 'annotation_sequence' column has the letter C have a True value in the 'feat_C' column.\n",
            "All rows where the 'annotation_sequence' column has the letter A have a True value in the 'feat_A' column.\n",
            "All rows where the 'annotation_sequence' column has the letter D have a True value in the 'feat_D' column.\n",
            "All rows where the 'annotation_sequence' column has the letter V have a True value in the 'feat_V' column.\n",
            "All rows where the 'annotation_sequence' column has the letter F have a True value in the 'feat_F' column.\n",
            "All rows where the 'annotation_sequence' column has the letter I have a True value in the 'feat_I' column.\n",
            "All rows where the 'annotation_sequence' column has the letter H have a True value in the 'feat_H' column.\n",
            "All rows where the 'annotation_sequence' column has the letter K have a True value in the 'feat_K' column.\n"
          ]
        }
      ],
      "source": [
        "# check if a letter in annotation_sequence mean a True in the column named by feat_letter\n",
        "\n",
        "# Loop through the unique values in the 'annotation_seqeuence' column\n",
        "for letter in df_train['annotation_sequence'].unique():\n",
        "    # Check if the 'feat_[letter]' column has a True value for each row\n",
        "    # where the 'annotation_atomrec' column has the current letter\n",
        "    if (df_train.loc[df_train['annotation_sequence'] == letter, 'feat_' + letter] != True).any():\n",
        "        print(f\"There are rows where the 'annotation_sequence' column has the letter {letter} but the 'feat_{letter}' column does not have a True value.\")\n",
        "    else:\n",
        "        print(f\"All rows where the 'annotation_sequence' column has the letter {letter} have a True value in the 'feat_{letter}' column.\")"
      ]
    },
    {
      "cell_type": "code",
      "execution_count": 38,
      "metadata": {
        "colab": {
          "base_uri": "https://localhost:8080/"
        },
        "id": "GOS9RCaFiyBV",
        "outputId": "f43d3d46-addf-42a1-9fe2-1b9715840be5"
      },
      "outputs": [
        {
          "output_type": "execute_result",
          "data": {
            "text/plain": [
              "0"
            ]
          },
          "metadata": {},
          "execution_count": 38
        }
      ],
      "source": [
        "anno_atomrec = df_train['annotation_atomrec'][~df_train['annotation_atomrec'].isna()]\n",
        "anno_sequence = df_train['annotation_sequence'][~df_train['annotation_atomrec'].isna()]\n",
        "\n",
        "mask = anno_atomrec == anno_sequence\n",
        "(~mask).sum()"
      ]
    },
    {
      "cell_type": "markdown",
      "metadata": {
        "id": "nob7ffav0WSY"
      },
      "source": [
        "#### feat_[letter]"
      ]
    },
    {
      "cell_type": "code",
      "execution_count": 39,
      "metadata": {
        "colab": {
          "base_uri": "https://localhost:8080/"
        },
        "id": "MOQs_LOK0Uxq",
        "outputId": "c3b3a53f-1fcc-452c-ffa0-cd37c3f96b14"
      },
      "outputs": [
        {
          "output_type": "stream",
          "name": "stdout",
          "text": [
            "All rows have one and only one True in the feat_cols\n"
          ]
        },
        {
          "output_type": "execute_result",
          "data": {
            "text/plain": [
              "20"
            ]
          },
          "metadata": {},
          "execution_count": 39
        }
      ],
      "source": [
        "feat_cols = ['feat_A', 'feat_C', 'feat_E', 'feat_D', 'feat_G', 'feat_F', 'feat_I', 'feat_H', 'feat_K', 'feat_M', 'feat_L', 'feat_N', 'feat_Q', 'feat_R', 'feat_S', 'feat_T', 'feat_W', 'feat_V', 'feat_Y', 'feat_P']\n",
        "\n",
        "# Check if each row has one and only one True in the feat_cols\n",
        "is_valid = (df_train[feat_cols].sum(axis=1) == 1).all()\n",
        "\n",
        "if is_valid:\n",
        "    print(\"All rows have one and only one True in the feat_cols\")\n",
        "else:\n",
        "    print(\"Some rows have no or more than one True in the feat_cols\")\n",
        "\n",
        "len(feat_cols)"
      ]
    },
    {
      "cell_type": "markdown",
      "metadata": {
        "id": "V6aES8uV39eI"
      },
      "source": [
        "#### feat_DSSP (categorical)"
      ]
    },
    {
      "cell_type": "code",
      "execution_count": 40,
      "metadata": {
        "colab": {
          "base_uri": "https://localhost:8080/"
        },
        "id": "jmVHhN6539Vy",
        "outputId": "c6745d82-b51e-4e5b-ea76-be93092b0685"
      },
      "outputs": [
        {
          "output_type": "stream",
          "name": "stdout",
          "text": [
            "Some rows have no or more than one True in the feat_cols\n"
          ]
        },
        {
          "output_type": "execute_result",
          "data": {
            "text/plain": [
              "7"
            ]
          },
          "metadata": {},
          "execution_count": 40
        }
      ],
      "source": [
        "feat_DSSP_cols = ['feat_DSSP_H', 'feat_DSSP_B', 'feat_DSSP_E', 'feat_DSSP_G', 'feat_DSSP_I', 'feat_DSSP_T', 'feat_DSSP_S']\n",
        "\n",
        "# Check if each row has one and only one True in the feat_cols\n",
        "is_valid = (df_train[feat_DSSP_cols].sum(axis=1) == 1).all()\n",
        "\n",
        "if is_valid:\n",
        "    print(\"All rows have one and only one True in the feat_cols\")\n",
        "else:\n",
        "    print(\"Some rows have no or more than one True in the feat_cols\")\n",
        "\n",
        "len(feat_DSSP_cols)"
      ]
    },
    {
      "cell_type": "code",
      "execution_count": 41,
      "metadata": {
        "colab": {
          "base_uri": "https://localhost:8080/"
        },
        "id": "41mwigpI42zW",
        "outputId": "44e46f04-d119-437f-f8af-27fba14b2149"
      },
      "outputs": [
        {
          "output_type": "stream",
          "name": "stdout",
          "text": [
            "    annotation_sequence  feat_A  feat_C  feat_D  feat_E  feat_F  feat_G  \\\n",
            "0                     M   False   False   False   False   False   False   \n",
            "1                     G   False   False   False   False   False    True   \n",
            "2                     Q   False   False   False   False   False   False   \n",
            "3                     E   False   False   False    True   False   False   \n",
            "4                     P   False   False   False   False   False   False   \n",
            "..                  ...     ...     ...     ...     ...     ...     ...   \n",
            "755                   S   False   False   False   False   False   False   \n",
            "756                   H   False   False   False   False   False   False   \n",
            "757                   G   False   False   False   False   False    True   \n",
            "758                   G   False   False   False   False   False    True   \n",
            "759                   F   False   False   False   False    True   False   \n",
            "\n",
            "     feat_H  feat_I  feat_K  ...  feat_DSSP_10  feat_DSSP_11  feat_DSSP_12  \\\n",
            "0     False   False   False  ...             0           0.0            47   \n",
            "1     False   False   False  ...             0           0.0             0   \n",
            "2     False   False   False  ...             1          -0.0            -1   \n",
            "3     False   False   False  ...           706          -0.1           705   \n",
            "4     False   False   False  ...             0           0.0           705   \n",
            "..      ...     ...     ...  ...           ...           ...           ...   \n",
            "755   False   False   False  ...            -3          -0.1             2   \n",
            "756    True   False   False  ...          -358          -0.1          -330   \n",
            "757   False   False   False  ...          -360          -0.2            -1   \n",
            "758   False   False   False  ...             0           0.0             0   \n",
            "759   False   False   False  ...             0           0.0             0   \n",
            "\n",
            "     feat_DSSP_13    coord_X    coord_Y    coord_Z        entry  entry_index  \\\n",
            "0            -0.0 -26.499001  -4.742000 -35.189999  GEMI5_HUMAN            0   \n",
            "1             0.0 -25.158001  -1.342000 -34.104000  GEMI5_HUMAN            1   \n",
            "2            -0.0 -21.926001  -1.641000 -32.175999  GEMI5_HUMAN            2   \n",
            "3            -0.0 -22.073999   0.654000 -29.171000  GEMI5_HUMAN            3   \n",
            "4            -0.2 -19.783001   2.670000 -26.858999  GEMI5_HUMAN            4   \n",
            "..            ...        ...        ...        ...          ...          ...   \n",
            "755          -0.4 -19.742001  20.796000 -12.319000   AOC3_HUMAN          755   \n",
            "756          -0.1 -16.299000  19.153999 -12.640000   AOC3_HUMAN          756   \n",
            "757          -0.1 -13.404000  19.502001 -10.121000   AOC3_HUMAN          757   \n",
            "758           0.0 -10.986000  20.320000 -13.016000   AOC3_HUMAN          758   \n",
            "759           0.0  -7.456000  19.052999 -13.909000   AOC3_HUMAN          759   \n",
            "\n",
            "     y_Ligand  \n",
            "0       False  \n",
            "1       False  \n",
            "2       False  \n",
            "3       False  \n",
            "4       False  \n",
            "..        ...  \n",
            "755     False  \n",
            "756     False  \n",
            "757     False  \n",
            "758     False  \n",
            "759     False  \n",
            "\n",
            "[175596 rows x 50 columns]\n"
          ]
        }
      ],
      "source": [
        "# create a boolean mask to check if all feat_DSSP columns are False\n",
        "mask = ~(df_train[['feat_DSSP_H', 'feat_DSSP_B', 'feat_DSSP_E', 'feat_DSSP_G', 'feat_DSSP_I', 'feat_DSSP_T', 'feat_DSSP_S']].any(axis=1))\n",
        "\n",
        "# apply the mask to the dataframe\n",
        "rows_all_false = df_train[mask]\n",
        "\n",
        "# print the output\n",
        "\n",
        "print(rows_all_false)"
      ]
    },
    {
      "cell_type": "markdown",
      "metadata": {
        "id": "kvfHGkFi7xaq"
      },
      "source": [
        "#### The baseline secondary structure is C - Coil, and there are 175596 instances are missing"
      ]
    },
    {
      "cell_type": "markdown",
      "metadata": {
        "id": "Vv0P_NcZrzlW"
      },
      "source": [
        "#### Entry"
      ]
    },
    {
      "cell_type": "code",
      "execution_count": 42,
      "metadata": {
        "colab": {
          "base_uri": "https://localhost:8080/"
        },
        "id": "brr9FoTVry5_",
        "outputId": "467fa355-0fdd-44cd-e270-16272927ca10"
      },
      "outputs": [
        {
          "output_type": "execute_result",
          "data": {
            "text/plain": [
              "MACF1_HUMAN    7385\n",
              "HUWE1_HUMAN    4371\n",
              "DMD_HUMAN      3682\n",
              "NF1_HUMAN      2836\n",
              "SETD2_HUMAN    2561\n",
              "               ... \n",
              "TVB9_HUMAN      111\n",
              "CISD1_HUMAN     105\n",
              "THIO_HUMAN      102\n",
              "S1A7A_HUMAN      98\n",
              "ACBD7_HUMAN      85\n",
              "Name: entry, Length: 723, dtype: int64"
            ]
          },
          "metadata": {},
          "execution_count": 42
        }
      ],
      "source": [
        "df_train['entry'].value_counts()"
      ]
    },
    {
      "cell_type": "markdown",
      "metadata": {
        "id": "4TART6Z9sYHq"
      },
      "source": [
        "### Data Validation"
      ]
    },
    {
      "cell_type": "markdown",
      "metadata": {
        "id": "NLOPN8t4sZ4n"
      },
      "source": [
        "#### Entry Index and Entry\n"
      ]
    },
    {
      "cell_type": "code",
      "execution_count": 43,
      "metadata": {
        "id": "qoruRAdHumum"
      },
      "outputs": [],
      "source": [
        "# Check that no index has more than 723 occurrences\n",
        "if df_train['entry_index'].value_counts().max() > 723:\n",
        "    print(\"Error: At least one index has more than 723 occurrences.\")"
      ]
    },
    {
      "cell_type": "code",
      "execution_count": 44,
      "metadata": {
        "colab": {
          "base_uri": "https://localhost:8080/"
        },
        "id": "qvxWz-7cwJJY",
        "outputId": "7ec2e84e-9060-4fac-ea33-261fc36e641e"
      },
      "outputs": [
        {
          "output_type": "stream",
          "name": "stdout",
          "text": [
            "There are 723 zeros in the entry index\n",
            "Each entry has only one zero\n"
          ]
        }
      ],
      "source": [
        "# check if there are 723 zeros in the entry index\n",
        "if (df_train['entry_index'] == 0).sum() == 723:\n",
        "    print(\"There are 723 zeros in the entry index\")\n",
        "else:\n",
        "    print(\"There are not 723 zeros in the entry index\")\n",
        "\n",
        "# check if each entry has only one zero\n",
        "if (df_train.groupby('entry')['entry_index'].apply(lambda x: (x == 0).sum() == 1).all()):\n",
        "    print(\"Each entry has only one zero\")\n",
        "else:\n",
        "    print(\"Some entries have more than one zero\")"
      ]
    },
    {
      "cell_type": "code",
      "execution_count": 45,
      "metadata": {
        "colab": {
          "base_uri": "https://localhost:8080/"
        },
        "id": "A8BhmQcDxE0e",
        "outputId": "6f393ab8-df29-4b0d-fbd2-41360bff3e4d"
      },
      "outputs": [
        {
          "output_type": "stream",
          "name": "stdout",
          "text": [
            "there are no repeated indexes for a protein\n"
          ]
        }
      ],
      "source": [
        "# check if there are repeated indexes for a protein\n",
        "\n",
        "if ((df_train.groupby('entry')['entry_index'].value_counts() > 1).sum() == 0):\n",
        "  print('there are no repeated indexes for a protein')\n",
        "else:\n",
        "  print('some entries have repeated entry indexes')"
      ]
    },
    {
      "cell_type": "markdown",
      "metadata": {
        "id": "wH-kWIfilPvL"
      },
      "source": [
        "#### entry_index and the index of the dataframe"
      ]
    },
    {
      "cell_type": "code",
      "execution_count": 46,
      "metadata": {
        "colab": {
          "base_uri": "https://localhost:8080/"
        },
        "id": "qCCQNw3zlOI8",
        "outputId": "31933fe5-449b-4c1f-f7cf-8c659d5e1844"
      },
      "outputs": [
        {
          "output_type": "execute_result",
          "data": {
            "text/plain": [
              "0"
            ]
          },
          "metadata": {},
          "execution_count": 46
        }
      ],
      "source": [
        "mask = pd.Series(df_train.index) == df_train['entry_index'].reset_index(drop = True)\n",
        "(~mask).sum()"
      ]
    },
    {
      "cell_type": "markdown",
      "metadata": {
        "id": "ZhwbL5DGsjVj"
      },
      "source": [
        "#### Coor_X, Y, Z and Entry"
      ]
    },
    {
      "cell_type": "code",
      "execution_count": 47,
      "metadata": {
        "colab": {
          "base_uri": "https://localhost:8080/"
        },
        "id": "W8qIV_iuxsFt",
        "outputId": "c1f0d18e-ab2d-483a-be42-1a6a821fb2b2"
      },
      "outputs": [
        {
          "output_type": "stream",
          "name": "stdout",
          "text": [
            "There are duplicated coordinates for the following entries:\n",
            "['NF1_HUMAN' 'MACF1_HUMAN' 'SETD2_HUMAN' 'HUWE1_HUMAN' 'DMD_HUMAN']\n"
          ]
        }
      ],
      "source": [
        "# check if for the same entry, the coordinates x, y, z are the same\n",
        "grouped = df_train.groupby(['entry', 'coord_X', 'coord_Y', 'coord_Z'])\n",
        "duplicated = grouped.filter(lambda x: len(x) > 1)\n",
        "\n",
        "if duplicated.empty:\n",
        "    print(\"All coordinates are unique for each entry.\")\n",
        "else:\n",
        "    print(\"There are duplicated coordinates for the following entries:\")\n",
        "    print(duplicated['entry'].unique())"
      ]
    },
    {
      "cell_type": "code",
      "execution_count": 48,
      "metadata": {
        "colab": {
          "base_uri": "https://localhost:8080/",
          "height": 0
        },
        "id": "VtFmlfSpyeH7",
        "outputId": "87b13d2c-5f1b-428e-bd9c-80971837ee85"
      },
      "outputs": [
        {
          "output_type": "execute_result",
          "data": {
            "text/plain": [
              "         coord_X    coord_Y     coord_Z      entry\n",
              "0      36.222000  -0.707000   20.634001  NF1_HUMAN\n",
              "1      37.106998   0.682000   17.099001  NF1_HUMAN\n",
              "2      40.111000   2.820000   18.312000  NF1_HUMAN\n",
              "3      42.207001  -0.075000   19.756001  NF1_HUMAN\n",
              "4      42.263000  -2.560000   16.782000  NF1_HUMAN\n",
              "...          ...        ...         ...        ...\n",
              "1393   97.412003  48.258999 -124.963997  DMD_HUMAN\n",
              "1394   99.177002  51.660000 -125.384003  DMD_HUMAN\n",
              "1395  102.600998  49.955002 -125.967003  DMD_HUMAN\n",
              "1396  100.960999  47.611000 -128.563995  DMD_HUMAN\n",
              "1397    0.000000   0.000000    0.000000  DMD_HUMAN\n",
              "\n",
              "[8151 rows x 4 columns]"
            ],
            "text/html": [
              "\n",
              "  <div id=\"df-707f75c3-7358-4934-9c3e-75f3dc33d21e\">\n",
              "    <div class=\"colab-df-container\">\n",
              "      <div>\n",
              "<style scoped>\n",
              "    .dataframe tbody tr th:only-of-type {\n",
              "        vertical-align: middle;\n",
              "    }\n",
              "\n",
              "    .dataframe tbody tr th {\n",
              "        vertical-align: top;\n",
              "    }\n",
              "\n",
              "    .dataframe thead th {\n",
              "        text-align: right;\n",
              "    }\n",
              "</style>\n",
              "<table border=\"1\" class=\"dataframe\">\n",
              "  <thead>\n",
              "    <tr style=\"text-align: right;\">\n",
              "      <th></th>\n",
              "      <th>coord_X</th>\n",
              "      <th>coord_Y</th>\n",
              "      <th>coord_Z</th>\n",
              "      <th>entry</th>\n",
              "    </tr>\n",
              "  </thead>\n",
              "  <tbody>\n",
              "    <tr>\n",
              "      <th>0</th>\n",
              "      <td>36.222000</td>\n",
              "      <td>-0.707000</td>\n",
              "      <td>20.634001</td>\n",
              "      <td>NF1_HUMAN</td>\n",
              "    </tr>\n",
              "    <tr>\n",
              "      <th>1</th>\n",
              "      <td>37.106998</td>\n",
              "      <td>0.682000</td>\n",
              "      <td>17.099001</td>\n",
              "      <td>NF1_HUMAN</td>\n",
              "    </tr>\n",
              "    <tr>\n",
              "      <th>2</th>\n",
              "      <td>40.111000</td>\n",
              "      <td>2.820000</td>\n",
              "      <td>18.312000</td>\n",
              "      <td>NF1_HUMAN</td>\n",
              "    </tr>\n",
              "    <tr>\n",
              "      <th>3</th>\n",
              "      <td>42.207001</td>\n",
              "      <td>-0.075000</td>\n",
              "      <td>19.756001</td>\n",
              "      <td>NF1_HUMAN</td>\n",
              "    </tr>\n",
              "    <tr>\n",
              "      <th>4</th>\n",
              "      <td>42.263000</td>\n",
              "      <td>-2.560000</td>\n",
              "      <td>16.782000</td>\n",
              "      <td>NF1_HUMAN</td>\n",
              "    </tr>\n",
              "    <tr>\n",
              "      <th>...</th>\n",
              "      <td>...</td>\n",
              "      <td>...</td>\n",
              "      <td>...</td>\n",
              "      <td>...</td>\n",
              "    </tr>\n",
              "    <tr>\n",
              "      <th>1393</th>\n",
              "      <td>97.412003</td>\n",
              "      <td>48.258999</td>\n",
              "      <td>-124.963997</td>\n",
              "      <td>DMD_HUMAN</td>\n",
              "    </tr>\n",
              "    <tr>\n",
              "      <th>1394</th>\n",
              "      <td>99.177002</td>\n",
              "      <td>51.660000</td>\n",
              "      <td>-125.384003</td>\n",
              "      <td>DMD_HUMAN</td>\n",
              "    </tr>\n",
              "    <tr>\n",
              "      <th>1395</th>\n",
              "      <td>102.600998</td>\n",
              "      <td>49.955002</td>\n",
              "      <td>-125.967003</td>\n",
              "      <td>DMD_HUMAN</td>\n",
              "    </tr>\n",
              "    <tr>\n",
              "      <th>1396</th>\n",
              "      <td>100.960999</td>\n",
              "      <td>47.611000</td>\n",
              "      <td>-128.563995</td>\n",
              "      <td>DMD_HUMAN</td>\n",
              "    </tr>\n",
              "    <tr>\n",
              "      <th>1397</th>\n",
              "      <td>0.000000</td>\n",
              "      <td>0.000000</td>\n",
              "      <td>0.000000</td>\n",
              "      <td>DMD_HUMAN</td>\n",
              "    </tr>\n",
              "  </tbody>\n",
              "</table>\n",
              "<p>8151 rows × 4 columns</p>\n",
              "</div>\n",
              "      <button class=\"colab-df-convert\" onclick=\"convertToInteractive('df-707f75c3-7358-4934-9c3e-75f3dc33d21e')\"\n",
              "              title=\"Convert this dataframe to an interactive table.\"\n",
              "              style=\"display:none;\">\n",
              "        \n",
              "  <svg xmlns=\"http://www.w3.org/2000/svg\" height=\"24px\"viewBox=\"0 0 24 24\"\n",
              "       width=\"24px\">\n",
              "    <path d=\"M0 0h24v24H0V0z\" fill=\"none\"/>\n",
              "    <path d=\"M18.56 5.44l.94 2.06.94-2.06 2.06-.94-2.06-.94-.94-2.06-.94 2.06-2.06.94zm-11 1L8.5 8.5l.94-2.06 2.06-.94-2.06-.94L8.5 2.5l-.94 2.06-2.06.94zm10 10l.94 2.06.94-2.06 2.06-.94-2.06-.94-.94-2.06-.94 2.06-2.06.94z\"/><path d=\"M17.41 7.96l-1.37-1.37c-.4-.4-.92-.59-1.43-.59-.52 0-1.04.2-1.43.59L10.3 9.45l-7.72 7.72c-.78.78-.78 2.05 0 2.83L4 21.41c.39.39.9.59 1.41.59.51 0 1.02-.2 1.41-.59l7.78-7.78 2.81-2.81c.8-.78.8-2.07 0-2.86zM5.41 20L4 18.59l7.72-7.72 1.47 1.35L5.41 20z\"/>\n",
              "  </svg>\n",
              "      </button>\n",
              "      \n",
              "  <style>\n",
              "    .colab-df-container {\n",
              "      display:flex;\n",
              "      flex-wrap:wrap;\n",
              "      gap: 12px;\n",
              "    }\n",
              "\n",
              "    .colab-df-convert {\n",
              "      background-color: #E8F0FE;\n",
              "      border: none;\n",
              "      border-radius: 50%;\n",
              "      cursor: pointer;\n",
              "      display: none;\n",
              "      fill: #1967D2;\n",
              "      height: 32px;\n",
              "      padding: 0 0 0 0;\n",
              "      width: 32px;\n",
              "    }\n",
              "\n",
              "    .colab-df-convert:hover {\n",
              "      background-color: #E2EBFA;\n",
              "      box-shadow: 0px 1px 2px rgba(60, 64, 67, 0.3), 0px 1px 3px 1px rgba(60, 64, 67, 0.15);\n",
              "      fill: #174EA6;\n",
              "    }\n",
              "\n",
              "    [theme=dark] .colab-df-convert {\n",
              "      background-color: #3B4455;\n",
              "      fill: #D2E3FC;\n",
              "    }\n",
              "\n",
              "    [theme=dark] .colab-df-convert:hover {\n",
              "      background-color: #434B5C;\n",
              "      box-shadow: 0px 1px 3px 1px rgba(0, 0, 0, 0.15);\n",
              "      filter: drop-shadow(0px 1px 2px rgba(0, 0, 0, 0.3));\n",
              "      fill: #FFFFFF;\n",
              "    }\n",
              "  </style>\n",
              "\n",
              "      <script>\n",
              "        const buttonEl =\n",
              "          document.querySelector('#df-707f75c3-7358-4934-9c3e-75f3dc33d21e button.colab-df-convert');\n",
              "        buttonEl.style.display =\n",
              "          google.colab.kernel.accessAllowed ? 'block' : 'none';\n",
              "\n",
              "        async function convertToInteractive(key) {\n",
              "          const element = document.querySelector('#df-707f75c3-7358-4934-9c3e-75f3dc33d21e');\n",
              "          const dataTable =\n",
              "            await google.colab.kernel.invokeFunction('convertToInteractive',\n",
              "                                                     [key], {});\n",
              "          if (!dataTable) return;\n",
              "\n",
              "          const docLinkHtml = 'Like what you see? Visit the ' +\n",
              "            '<a target=\"_blank\" href=https://colab.research.google.com/notebooks/data_table.ipynb>data table notebook</a>'\n",
              "            + ' to learn more about interactive tables.';\n",
              "          element.innerHTML = '';\n",
              "          dataTable['output_type'] = 'display_data';\n",
              "          await google.colab.output.renderOutput(dataTable, element);\n",
              "          const docLink = document.createElement('div');\n",
              "          docLink.innerHTML = docLinkHtml;\n",
              "          element.appendChild(docLink);\n",
              "        }\n",
              "      </script>\n",
              "    </div>\n",
              "  </div>\n",
              "  "
            ]
          },
          "metadata": {},
          "execution_count": 48
        }
      ],
      "source": [
        "df_train[['coord_X', 'coord_Y', 'coord_Z', 'entry']][df_train['entry'].isin(duplicated['entry'].unique())].drop_duplicates()"
      ]
    },
    {
      "cell_type": "markdown",
      "metadata": {
        "id": "fvVlPQAkZ95O"
      },
      "source": [
        "## Check for imbalanced dataset"
      ]
    },
    {
      "cell_type": "code",
      "execution_count": 49,
      "metadata": {
        "colab": {
          "base_uri": "https://localhost:8080/"
        },
        "id": "bHfhg0_4Z8lv",
        "outputId": "a6f08591-3e44-43e7-e547-a2337f21a8c8"
      },
      "outputs": [
        {
          "output_type": "execute_result",
          "data": {
            "text/plain": [
              "False    0.965295\n",
              "True     0.034705\n",
              "Name: y_Ligand, dtype: float64"
            ]
          },
          "metadata": {},
          "execution_count": 49
        }
      ],
      "source": [
        "df_train['y_Ligand'].value_counts()/df_train['y_Ligand'].count()"
      ]
    },
    {
      "cell_type": "markdown",
      "metadata": {
        "id": "I209zrnnbLu-"
      },
      "source": [
        "## Check for missing values"
      ]
    },
    {
      "cell_type": "code",
      "execution_count": 50,
      "metadata": {
        "colab": {
          "base_uri": "https://localhost:8080/"
        },
        "id": "pVgs4aWabQry",
        "outputId": "76c97544-2e14-4d57-cd77-639f1df0d7e5"
      },
      "outputs": [
        {
          "output_type": "execute_result",
          "data": {
            "text/plain": [
              "annotation_sequence        0\n",
              "feat_A                     0\n",
              "feat_C                     0\n",
              "feat_D                     0\n",
              "feat_E                     0\n",
              "feat_F                     0\n",
              "feat_G                     0\n",
              "feat_H                     0\n",
              "feat_I                     0\n",
              "feat_K                     0\n",
              "feat_L                     0\n",
              "feat_M                     0\n",
              "feat_N                     0\n",
              "feat_P                     0\n",
              "feat_Q                     0\n",
              "feat_R                     0\n",
              "feat_S                     0\n",
              "feat_T                     0\n",
              "feat_V                     0\n",
              "feat_W                     0\n",
              "feat_Y                     0\n",
              "annotation_atomrec     12689\n",
              "feat_PHI                   0\n",
              "feat_PSI                   0\n",
              "feat_TAU                   0\n",
              "feat_THETA                 0\n",
              "feat_BBSASA                0\n",
              "feat_SCSASA                0\n",
              "feat_pLDDT                 0\n",
              "feat_DSSP_H                0\n",
              "feat_DSSP_B                0\n",
              "feat_DSSP_E                0\n",
              "feat_DSSP_G                0\n",
              "feat_DSSP_I                0\n",
              "feat_DSSP_T                0\n",
              "feat_DSSP_S                0\n",
              "feat_DSSP_6                0\n",
              "feat_DSSP_7                0\n",
              "feat_DSSP_8                0\n",
              "feat_DSSP_9                0\n",
              "feat_DSSP_10               0\n",
              "feat_DSSP_11               0\n",
              "feat_DSSP_12               0\n",
              "feat_DSSP_13               0\n",
              "coord_X                    0\n",
              "coord_Y                    0\n",
              "coord_Z                    0\n",
              "entry                      0\n",
              "entry_index                0\n",
              "y_Ligand                   0\n",
              "dtype: int64"
            ]
          },
          "metadata": {},
          "execution_count": 50
        }
      ],
      "source": [
        "df_train.isna().sum()"
      ]
    },
    {
      "cell_type": "markdown",
      "metadata": {
        "id": "L3GSXnUzcNjL"
      },
      "source": [
        "# Train Test Split"
      ]
    },
    {
      "cell_type": "markdown",
      "metadata": {
        "id": "acvSGS_1dHIj"
      },
      "source": [
        "My train set having each row introducing properties of one amino acid and whether it binds to drug or not for one protein. There are many proteins in the dataset and the column `entry` tells me which protein the amino acid in a row belongs to.\n",
        "\n",
        "Each protein presented in the train set is complete, so if a protein has 800 amino acids. All of the 800 amino acids are presented in the dataset. If I do a random split to get train test, it would certainly breaks the protein causing incomplete protein structure in my dataset. However, if I just randomly pick some proteins out, I wouldn't be able to main the distribution of the target variables. The dataset is extremely imbalanced; so having the distribution maintained is important.\n",
        "\n",
        "To do the train test split, I need have protein structure completely preserved while the distribution of the target variable `y_ligand` is also preserved across both of the train and test set."
      ]
    },
    {
      "cell_type": "code",
      "execution_count": 76,
      "metadata": {
        "colab": {
          "base_uri": "https://localhost:8080/"
        },
        "id": "6OR59ORWc3g7",
        "outputId": "a6b115cc-a518-483e-aa53-237dc3896a6c"
      },
      "outputs": [
        {
          "output_type": "execute_result",
          "data": {
            "text/plain": [
              "0"
            ]
          },
          "metadata": {},
          "execution_count": 76
        }
      ],
      "source": [
        "pd.Series(df_test['entry'].unique()).isin(pd.Series(df_train['entry'].unique())).sum()"
      ]
    },
    {
      "cell_type": "code",
      "execution_count": 77,
      "metadata": {
        "id": "L_V6phftdUL8"
      },
      "outputs": [],
      "source": [
        "train_protein_entries = df_train['entry'].unique()"
      ]
    },
    {
      "cell_type": "code",
      "execution_count": 78,
      "metadata": {
        "colab": {
          "base_uri": "https://localhost:8080/"
        },
        "id": "0MwiQLhqdYt9",
        "outputId": "0146e03d-7234-4019-caf2-173a210e8dca"
      },
      "outputs": [
        {
          "output_type": "execute_result",
          "data": {
            "text/plain": [
              "723"
            ]
          },
          "metadata": {},
          "execution_count": 78
        }
      ],
      "source": [
        "len(train_protein_entries)"
      ]
    },
    {
      "cell_type": "code",
      "execution_count": 79,
      "metadata": {
        "id": "Xu_nj7LidaIf"
      },
      "outputs": [],
      "source": [
        "df = df_train.copy()"
      ]
    },
    {
      "cell_type": "code",
      "execution_count": 80,
      "metadata": {
        "colab": {
          "base_uri": "https://localhost:8080/"
        },
        "id": "fw1_CcTIdbqR",
        "outputId": "630feaca-2be7-4397-cdb1-55980eb59904"
      },
      "outputs": [
        {
          "output_type": "execute_result",
          "data": {
            "text/plain": [
              "False"
            ]
          },
          "metadata": {},
          "execution_count": 80
        }
      ],
      "source": [
        "(df.groupby('entry')['y_Ligand'].count() == 1).any()"
      ]
    },
    {
      "cell_type": "code",
      "execution_count": 81,
      "metadata": {
        "id": "cCTeIZ-cddc7"
      },
      "outputs": [],
      "source": [
        "train_protein, test_protein = train_test_split(list(train_protein_entries), stratify = None,\n",
        "                                                test_size = 0.2, random_state = 42)\n",
        "\n",
        "train = df[df['entry'].isin(train_protein)]\n",
        "test = df[df['entry'].isin(test_protein)]\n"
      ]
    },
    {
      "cell_type": "code",
      "execution_count": 82,
      "metadata": {
        "colab": {
          "base_uri": "https://localhost:8080/"
        },
        "id": "YmPmwDMKdeky",
        "outputId": "03b0a67e-939f-4be9-85c3-ca8b33b69f3c"
      },
      "outputs": [
        {
          "output_type": "stream",
          "name": "stdout",
          "text": [
            "False    0.963379\n",
            "True     0.036621\n",
            "Name: y_Ligand, dtype: float64\n",
            "False    0.972432\n",
            "True     0.027568\n",
            "Name: y_Ligand, dtype: float64\n"
          ]
        }
      ],
      "source": [
        "print(train['y_Ligand'].value_counts() / train.shape[0])\n",
        "print(test['y_Ligand'].value_counts() / test.shape[0])"
      ]
    },
    {
      "cell_type": "markdown",
      "metadata": {
        "id": "CcyoKegSdiGW"
      },
      "source": [
        "Other Possible Implementation:\n",
        "- StratifiedGroupKFold\n",
        "- remove only 1 instances groups and use train_test_split with stratify = df.groupby('entry')['y_ligand'].mean()"
      ]
    },
    {
      "cell_type": "markdown",
      "metadata": {
        "id": "m51P6bt33UmS"
      },
      "source": [
        "# Feature Engineering\n",
        "- Converting those DSSP integer data types to float\n",
        "- Change all of the negative SCSASA to 0 and give new column indicating if the SCSASA value was previously zero\n",
        "- Previously thought: One Hot Encoding entry columns (very important - it distinguishes the proteins)\n",
        "  - All the proteins entries are different between test and train set. Therefore, train set and test set will have different columns. Hence, I dropped the column.\n",
        "\n",
        "- Previously thought: One Hot Encoding on the entry index column\n",
        "  - Update: There are too many unique values in the entry index column which crashed the program if One Hot Encoding is applied. Therefore, I keep this column as it is. There are some benefits of doing this like preserving the ranking build in it.\n",
        "- Drop the index of the dataframe (as it is a copy of entry index)\n",
        "- Drop annotation_atomrec and annotation_sequence\n",
        "\n",
        "\n",
        "- Build Pipeline"
      ]
    },
    {
      "cell_type": "markdown",
      "metadata": {
        "id": "I-APXRxEdt-N"
      },
      "source": [
        "## Change all of the negative SCSASA to 0 and give new column indicating if the SCSASA value was previously zero"
      ]
    },
    {
      "cell_type": "code",
      "execution_count": 83,
      "metadata": {
        "id": "D7tg3x-XZ4uB"
      },
      "outputs": [],
      "source": [
        "trainset = train.copy()  "
      ]
    },
    {
      "cell_type": "code",
      "execution_count": 84,
      "metadata": {
        "id": "dlpGPrzzdwjq"
      },
      "outputs": [],
      "source": [
        "trainset['Negative_feat_SCSASA'] = np.where(trainset['feat_SCSASA'] < 0, 1, 0)"
      ]
    },
    {
      "cell_type": "code",
      "execution_count": 85,
      "metadata": {
        "id": "q0wTk9Xhd6AO"
      },
      "outputs": [],
      "source": [
        "trainset['feat_SCSASA'] = np.where(trainset['feat_SCSASA'] < 0, 0, trainset['feat_SCSASA'])"
      ]
    },
    {
      "cell_type": "code",
      "execution_count": 86,
      "metadata": {
        "colab": {
          "base_uri": "https://localhost:8080/"
        },
        "id": "fXzq-DWQd7JT",
        "outputId": "7b61a7d0-d3bd-4063-de08-13b835972995"
      },
      "outputs": [
        {
          "output_type": "execute_result",
          "data": {
            "text/plain": [
              "count    391937.000000\n",
              "mean         52.846690\n",
              "std          47.722412\n",
              "min           0.000000\n",
              "25%           6.570142\n",
              "50%          44.731047\n",
              "75%          86.682552\n",
              "max         220.051950\n",
              "Name: feat_SCSASA, dtype: float64"
            ]
          },
          "metadata": {},
          "execution_count": 86
        }
      ],
      "source": [
        "trainset['feat_SCSASA'].describe()"
      ]
    },
    {
      "cell_type": "code",
      "execution_count": 87,
      "metadata": {
        "colab": {
          "base_uri": "https://localhost:8080/"
        },
        "id": "XsEtzyp3d_hg",
        "outputId": "9a6461bf-5719-4efd-cd92-b3fd62edf9a2"
      },
      "outputs": [
        {
          "output_type": "execute_result",
          "data": {
            "text/plain": [
              "2709"
            ]
          },
          "metadata": {},
          "execution_count": 87
        }
      ],
      "source": [
        "neg = train['feat_SCSASA'] < 0\n",
        "neg.sum()"
      ]
    },
    {
      "cell_type": "code",
      "execution_count": 88,
      "metadata": {
        "colab": {
          "base_uri": "https://localhost:8080/"
        },
        "id": "3sJoStiEeC_7",
        "outputId": "111fbf1b-6c99-432b-9ddf-d3e6d6d1ea0b"
      },
      "outputs": [
        {
          "output_type": "execute_result",
          "data": {
            "text/plain": [
              "0    389228\n",
              "1      2709\n",
              "Name: Negative_feat_SCSASA, dtype: int64"
            ]
          },
          "metadata": {},
          "execution_count": 88
        }
      ],
      "source": [
        "trainset.Negative_feat_SCSASA.value_counts()"
      ]
    },
    {
      "cell_type": "code",
      "execution_count": 89,
      "metadata": {
        "colab": {
          "base_uri": "https://localhost:8080/"
        },
        "id": "DkVe6pvpeE38",
        "outputId": "708f177f-358f-4be5-a912-60af9dd5aa01"
      },
      "outputs": [
        {
          "output_type": "execute_result",
          "data": {
            "text/plain": [
              "2709"
            ]
          },
          "metadata": {},
          "execution_count": 89
        }
      ],
      "source": [
        "(trainset.feat_SCSASA == 0).sum() - (train.feat_SCSASA == 0).sum()"
      ]
    },
    {
      "cell_type": "markdown",
      "metadata": {
        "id": "MpEbABVeej5j"
      },
      "source": [
        "## One Hot Encoding entry and entry_index columns (very important - it distinguishes the proteins)"
      ]
    },
    {
      "cell_type": "markdown",
      "metadata": {
        "id": "d84elzaMsuc8"
      },
      "source": [
        "I do not have enough computing power to use one hot encoding on the entry_index column. So that I switch to label encoding for entry_index column"
      ]
    },
    {
      "cell_type": "code",
      "execution_count": 90,
      "metadata": {
        "id": "RccZGEHNfwtu"
      },
      "outputs": [],
      "source": [
        "one_hot_encoded_entry = pd.get_dummies(trainset['entry'])"
      ]
    },
    {
      "cell_type": "code",
      "execution_count": 91,
      "metadata": {
        "colab": {
          "base_uri": "https://localhost:8080/",
          "height": 487
        },
        "id": "XOQMYFH8n0DZ",
        "outputId": "65f2a97b-ae97-4cfc-b255-d6820ca92a48"
      },
      "outputs": [
        {
          "output_type": "execute_result",
          "data": {
            "text/plain": [
              "     1433B_HUMAN  1433G_HUMAN  2A5G_HUMAN  5HT2A_HUMAN  5HT2C_HUMAN  \\\n",
              "0              0            0           0            0            0   \n",
              "1              0            0           0            0            0   \n",
              "2              0            0           0            0            0   \n",
              "3              0            0           0            0            0   \n",
              "4              0            0           0            0            0   \n",
              "..           ...          ...         ...          ...          ...   \n",
              "755            0            0           0            0            0   \n",
              "756            0            0           0            0            0   \n",
              "757            0            0           0            0            0   \n",
              "758            0            0           0            0            0   \n",
              "759            0            0           0            0            0   \n",
              "\n",
              "     AAAT_HUMAN  AAK1_HUMAN  AAPK1_HUMAN  ABCB6_HUMAN  ABCBA_HUMAN  ...  \\\n",
              "0             0           0            0            0            0  ...   \n",
              "1             0           0            0            0            0  ...   \n",
              "2             0           0            0            0            0  ...   \n",
              "3             0           0            0            0            0  ...   \n",
              "4             0           0            0            0            0  ...   \n",
              "..          ...         ...          ...          ...          ...  ...   \n",
              "755           0           0            0            0            0  ...   \n",
              "756           0           0            0            0            0  ...   \n",
              "757           0           0            0            0            0  ...   \n",
              "758           0           0            0            0            0  ...   \n",
              "759           0           0            0            0            0  ...   \n",
              "\n",
              "     ULK4_HUMAN  VASH1_HUMAN  VGFR1_HUMAN  VGFR2_HUMAN  VRK2_HUMAN  \\\n",
              "0             0            0            0            0           0   \n",
              "1             0            0            0            0           0   \n",
              "2             0            0            0            0           0   \n",
              "3             0            0            0            0           0   \n",
              "4             0            0            0            0           0   \n",
              "..          ...          ...          ...          ...         ...   \n",
              "755           0            0            0            0           0   \n",
              "756           0            0            0            0           0   \n",
              "757           0            0            0            0           0   \n",
              "758           0            0            0            0           0   \n",
              "759           0            0            0            0           0   \n",
              "\n",
              "     WEE1_HUMAN  WNK1_HUMAN  WNK3_HUMAN  WRN_HUMAN  XPO1_HUMAN  \n",
              "0             0           0           0          0           0  \n",
              "1             0           0           0          0           0  \n",
              "2             0           0           0          0           0  \n",
              "3             0           0           0          0           0  \n",
              "4             0           0           0          0           0  \n",
              "..          ...         ...         ...        ...         ...  \n",
              "755           0           0           0          0           0  \n",
              "756           0           0           0          0           0  \n",
              "757           0           0           0          0           0  \n",
              "758           0           0           0          0           0  \n",
              "759           0           0           0          0           0  \n",
              "\n",
              "[391937 rows x 578 columns]"
            ],
            "text/html": [
              "\n",
              "  <div id=\"df-9d7dce27-6fe8-404a-9928-8bdc755fac4c\">\n",
              "    <div class=\"colab-df-container\">\n",
              "      <div>\n",
              "<style scoped>\n",
              "    .dataframe tbody tr th:only-of-type {\n",
              "        vertical-align: middle;\n",
              "    }\n",
              "\n",
              "    .dataframe tbody tr th {\n",
              "        vertical-align: top;\n",
              "    }\n",
              "\n",
              "    .dataframe thead th {\n",
              "        text-align: right;\n",
              "    }\n",
              "</style>\n",
              "<table border=\"1\" class=\"dataframe\">\n",
              "  <thead>\n",
              "    <tr style=\"text-align: right;\">\n",
              "      <th></th>\n",
              "      <th>1433B_HUMAN</th>\n",
              "      <th>1433G_HUMAN</th>\n",
              "      <th>2A5G_HUMAN</th>\n",
              "      <th>5HT2A_HUMAN</th>\n",
              "      <th>5HT2C_HUMAN</th>\n",
              "      <th>AAAT_HUMAN</th>\n",
              "      <th>AAK1_HUMAN</th>\n",
              "      <th>AAPK1_HUMAN</th>\n",
              "      <th>ABCB6_HUMAN</th>\n",
              "      <th>ABCBA_HUMAN</th>\n",
              "      <th>...</th>\n",
              "      <th>ULK4_HUMAN</th>\n",
              "      <th>VASH1_HUMAN</th>\n",
              "      <th>VGFR1_HUMAN</th>\n",
              "      <th>VGFR2_HUMAN</th>\n",
              "      <th>VRK2_HUMAN</th>\n",
              "      <th>WEE1_HUMAN</th>\n",
              "      <th>WNK1_HUMAN</th>\n",
              "      <th>WNK3_HUMAN</th>\n",
              "      <th>WRN_HUMAN</th>\n",
              "      <th>XPO1_HUMAN</th>\n",
              "    </tr>\n",
              "  </thead>\n",
              "  <tbody>\n",
              "    <tr>\n",
              "      <th>0</th>\n",
              "      <td>0</td>\n",
              "      <td>0</td>\n",
              "      <td>0</td>\n",
              "      <td>0</td>\n",
              "      <td>0</td>\n",
              "      <td>0</td>\n",
              "      <td>0</td>\n",
              "      <td>0</td>\n",
              "      <td>0</td>\n",
              "      <td>0</td>\n",
              "      <td>...</td>\n",
              "      <td>0</td>\n",
              "      <td>0</td>\n",
              "      <td>0</td>\n",
              "      <td>0</td>\n",
              "      <td>0</td>\n",
              "      <td>0</td>\n",
              "      <td>0</td>\n",
              "      <td>0</td>\n",
              "      <td>0</td>\n",
              "      <td>0</td>\n",
              "    </tr>\n",
              "    <tr>\n",
              "      <th>1</th>\n",
              "      <td>0</td>\n",
              "      <td>0</td>\n",
              "      <td>0</td>\n",
              "      <td>0</td>\n",
              "      <td>0</td>\n",
              "      <td>0</td>\n",
              "      <td>0</td>\n",
              "      <td>0</td>\n",
              "      <td>0</td>\n",
              "      <td>0</td>\n",
              "      <td>...</td>\n",
              "      <td>0</td>\n",
              "      <td>0</td>\n",
              "      <td>0</td>\n",
              "      <td>0</td>\n",
              "      <td>0</td>\n",
              "      <td>0</td>\n",
              "      <td>0</td>\n",
              "      <td>0</td>\n",
              "      <td>0</td>\n",
              "      <td>0</td>\n",
              "    </tr>\n",
              "    <tr>\n",
              "      <th>2</th>\n",
              "      <td>0</td>\n",
              "      <td>0</td>\n",
              "      <td>0</td>\n",
              "      <td>0</td>\n",
              "      <td>0</td>\n",
              "      <td>0</td>\n",
              "      <td>0</td>\n",
              "      <td>0</td>\n",
              "      <td>0</td>\n",
              "      <td>0</td>\n",
              "      <td>...</td>\n",
              "      <td>0</td>\n",
              "      <td>0</td>\n",
              "      <td>0</td>\n",
              "      <td>0</td>\n",
              "      <td>0</td>\n",
              "      <td>0</td>\n",
              "      <td>0</td>\n",
              "      <td>0</td>\n",
              "      <td>0</td>\n",
              "      <td>0</td>\n",
              "    </tr>\n",
              "    <tr>\n",
              "      <th>3</th>\n",
              "      <td>0</td>\n",
              "      <td>0</td>\n",
              "      <td>0</td>\n",
              "      <td>0</td>\n",
              "      <td>0</td>\n",
              "      <td>0</td>\n",
              "      <td>0</td>\n",
              "      <td>0</td>\n",
              "      <td>0</td>\n",
              "      <td>0</td>\n",
              "      <td>...</td>\n",
              "      <td>0</td>\n",
              "      <td>0</td>\n",
              "      <td>0</td>\n",
              "      <td>0</td>\n",
              "      <td>0</td>\n",
              "      <td>0</td>\n",
              "      <td>0</td>\n",
              "      <td>0</td>\n",
              "      <td>0</td>\n",
              "      <td>0</td>\n",
              "    </tr>\n",
              "    <tr>\n",
              "      <th>4</th>\n",
              "      <td>0</td>\n",
              "      <td>0</td>\n",
              "      <td>0</td>\n",
              "      <td>0</td>\n",
              "      <td>0</td>\n",
              "      <td>0</td>\n",
              "      <td>0</td>\n",
              "      <td>0</td>\n",
              "      <td>0</td>\n",
              "      <td>0</td>\n",
              "      <td>...</td>\n",
              "      <td>0</td>\n",
              "      <td>0</td>\n",
              "      <td>0</td>\n",
              "      <td>0</td>\n",
              "      <td>0</td>\n",
              "      <td>0</td>\n",
              "      <td>0</td>\n",
              "      <td>0</td>\n",
              "      <td>0</td>\n",
              "      <td>0</td>\n",
              "    </tr>\n",
              "    <tr>\n",
              "      <th>...</th>\n",
              "      <td>...</td>\n",
              "      <td>...</td>\n",
              "      <td>...</td>\n",
              "      <td>...</td>\n",
              "      <td>...</td>\n",
              "      <td>...</td>\n",
              "      <td>...</td>\n",
              "      <td>...</td>\n",
              "      <td>...</td>\n",
              "      <td>...</td>\n",
              "      <td>...</td>\n",
              "      <td>...</td>\n",
              "      <td>...</td>\n",
              "      <td>...</td>\n",
              "      <td>...</td>\n",
              "      <td>...</td>\n",
              "      <td>...</td>\n",
              "      <td>...</td>\n",
              "      <td>...</td>\n",
              "      <td>...</td>\n",
              "      <td>...</td>\n",
              "    </tr>\n",
              "    <tr>\n",
              "      <th>755</th>\n",
              "      <td>0</td>\n",
              "      <td>0</td>\n",
              "      <td>0</td>\n",
              "      <td>0</td>\n",
              "      <td>0</td>\n",
              "      <td>0</td>\n",
              "      <td>0</td>\n",
              "      <td>0</td>\n",
              "      <td>0</td>\n",
              "      <td>0</td>\n",
              "      <td>...</td>\n",
              "      <td>0</td>\n",
              "      <td>0</td>\n",
              "      <td>0</td>\n",
              "      <td>0</td>\n",
              "      <td>0</td>\n",
              "      <td>0</td>\n",
              "      <td>0</td>\n",
              "      <td>0</td>\n",
              "      <td>0</td>\n",
              "      <td>0</td>\n",
              "    </tr>\n",
              "    <tr>\n",
              "      <th>756</th>\n",
              "      <td>0</td>\n",
              "      <td>0</td>\n",
              "      <td>0</td>\n",
              "      <td>0</td>\n",
              "      <td>0</td>\n",
              "      <td>0</td>\n",
              "      <td>0</td>\n",
              "      <td>0</td>\n",
              "      <td>0</td>\n",
              "      <td>0</td>\n",
              "      <td>...</td>\n",
              "      <td>0</td>\n",
              "      <td>0</td>\n",
              "      <td>0</td>\n",
              "      <td>0</td>\n",
              "      <td>0</td>\n",
              "      <td>0</td>\n",
              "      <td>0</td>\n",
              "      <td>0</td>\n",
              "      <td>0</td>\n",
              "      <td>0</td>\n",
              "    </tr>\n",
              "    <tr>\n",
              "      <th>757</th>\n",
              "      <td>0</td>\n",
              "      <td>0</td>\n",
              "      <td>0</td>\n",
              "      <td>0</td>\n",
              "      <td>0</td>\n",
              "      <td>0</td>\n",
              "      <td>0</td>\n",
              "      <td>0</td>\n",
              "      <td>0</td>\n",
              "      <td>0</td>\n",
              "      <td>...</td>\n",
              "      <td>0</td>\n",
              "      <td>0</td>\n",
              "      <td>0</td>\n",
              "      <td>0</td>\n",
              "      <td>0</td>\n",
              "      <td>0</td>\n",
              "      <td>0</td>\n",
              "      <td>0</td>\n",
              "      <td>0</td>\n",
              "      <td>0</td>\n",
              "    </tr>\n",
              "    <tr>\n",
              "      <th>758</th>\n",
              "      <td>0</td>\n",
              "      <td>0</td>\n",
              "      <td>0</td>\n",
              "      <td>0</td>\n",
              "      <td>0</td>\n",
              "      <td>0</td>\n",
              "      <td>0</td>\n",
              "      <td>0</td>\n",
              "      <td>0</td>\n",
              "      <td>0</td>\n",
              "      <td>...</td>\n",
              "      <td>0</td>\n",
              "      <td>0</td>\n",
              "      <td>0</td>\n",
              "      <td>0</td>\n",
              "      <td>0</td>\n",
              "      <td>0</td>\n",
              "      <td>0</td>\n",
              "      <td>0</td>\n",
              "      <td>0</td>\n",
              "      <td>0</td>\n",
              "    </tr>\n",
              "    <tr>\n",
              "      <th>759</th>\n",
              "      <td>0</td>\n",
              "      <td>0</td>\n",
              "      <td>0</td>\n",
              "      <td>0</td>\n",
              "      <td>0</td>\n",
              "      <td>0</td>\n",
              "      <td>0</td>\n",
              "      <td>0</td>\n",
              "      <td>0</td>\n",
              "      <td>0</td>\n",
              "      <td>...</td>\n",
              "      <td>0</td>\n",
              "      <td>0</td>\n",
              "      <td>0</td>\n",
              "      <td>0</td>\n",
              "      <td>0</td>\n",
              "      <td>0</td>\n",
              "      <td>0</td>\n",
              "      <td>0</td>\n",
              "      <td>0</td>\n",
              "      <td>0</td>\n",
              "    </tr>\n",
              "  </tbody>\n",
              "</table>\n",
              "<p>391937 rows × 578 columns</p>\n",
              "</div>\n",
              "      <button class=\"colab-df-convert\" onclick=\"convertToInteractive('df-9d7dce27-6fe8-404a-9928-8bdc755fac4c')\"\n",
              "              title=\"Convert this dataframe to an interactive table.\"\n",
              "              style=\"display:none;\">\n",
              "        \n",
              "  <svg xmlns=\"http://www.w3.org/2000/svg\" height=\"24px\"viewBox=\"0 0 24 24\"\n",
              "       width=\"24px\">\n",
              "    <path d=\"M0 0h24v24H0V0z\" fill=\"none\"/>\n",
              "    <path d=\"M18.56 5.44l.94 2.06.94-2.06 2.06-.94-2.06-.94-.94-2.06-.94 2.06-2.06.94zm-11 1L8.5 8.5l.94-2.06 2.06-.94-2.06-.94L8.5 2.5l-.94 2.06-2.06.94zm10 10l.94 2.06.94-2.06 2.06-.94-2.06-.94-.94-2.06-.94 2.06-2.06.94z\"/><path d=\"M17.41 7.96l-1.37-1.37c-.4-.4-.92-.59-1.43-.59-.52 0-1.04.2-1.43.59L10.3 9.45l-7.72 7.72c-.78.78-.78 2.05 0 2.83L4 21.41c.39.39.9.59 1.41.59.51 0 1.02-.2 1.41-.59l7.78-7.78 2.81-2.81c.8-.78.8-2.07 0-2.86zM5.41 20L4 18.59l7.72-7.72 1.47 1.35L5.41 20z\"/>\n",
              "  </svg>\n",
              "      </button>\n",
              "      \n",
              "  <style>\n",
              "    .colab-df-container {\n",
              "      display:flex;\n",
              "      flex-wrap:wrap;\n",
              "      gap: 12px;\n",
              "    }\n",
              "\n",
              "    .colab-df-convert {\n",
              "      background-color: #E8F0FE;\n",
              "      border: none;\n",
              "      border-radius: 50%;\n",
              "      cursor: pointer;\n",
              "      display: none;\n",
              "      fill: #1967D2;\n",
              "      height: 32px;\n",
              "      padding: 0 0 0 0;\n",
              "      width: 32px;\n",
              "    }\n",
              "\n",
              "    .colab-df-convert:hover {\n",
              "      background-color: #E2EBFA;\n",
              "      box-shadow: 0px 1px 2px rgba(60, 64, 67, 0.3), 0px 1px 3px 1px rgba(60, 64, 67, 0.15);\n",
              "      fill: #174EA6;\n",
              "    }\n",
              "\n",
              "    [theme=dark] .colab-df-convert {\n",
              "      background-color: #3B4455;\n",
              "      fill: #D2E3FC;\n",
              "    }\n",
              "\n",
              "    [theme=dark] .colab-df-convert:hover {\n",
              "      background-color: #434B5C;\n",
              "      box-shadow: 0px 1px 3px 1px rgba(0, 0, 0, 0.15);\n",
              "      filter: drop-shadow(0px 1px 2px rgba(0, 0, 0, 0.3));\n",
              "      fill: #FFFFFF;\n",
              "    }\n",
              "  </style>\n",
              "\n",
              "      <script>\n",
              "        const buttonEl =\n",
              "          document.querySelector('#df-9d7dce27-6fe8-404a-9928-8bdc755fac4c button.colab-df-convert');\n",
              "        buttonEl.style.display =\n",
              "          google.colab.kernel.accessAllowed ? 'block' : 'none';\n",
              "\n",
              "        async function convertToInteractive(key) {\n",
              "          const element = document.querySelector('#df-9d7dce27-6fe8-404a-9928-8bdc755fac4c');\n",
              "          const dataTable =\n",
              "            await google.colab.kernel.invokeFunction('convertToInteractive',\n",
              "                                                     [key], {});\n",
              "          if (!dataTable) return;\n",
              "\n",
              "          const docLinkHtml = 'Like what you see? Visit the ' +\n",
              "            '<a target=\"_blank\" href=https://colab.research.google.com/notebooks/data_table.ipynb>data table notebook</a>'\n",
              "            + ' to learn more about interactive tables.';\n",
              "          element.innerHTML = '';\n",
              "          dataTable['output_type'] = 'display_data';\n",
              "          await google.colab.output.renderOutput(dataTable, element);\n",
              "          const docLink = document.createElement('div');\n",
              "          docLink.innerHTML = docLinkHtml;\n",
              "          element.appendChild(docLink);\n",
              "        }\n",
              "      </script>\n",
              "    </div>\n",
              "  </div>\n",
              "  "
            ]
          },
          "metadata": {},
          "execution_count": 91
        }
      ],
      "source": [
        "one_hot_encoded_entry"
      ]
    },
    {
      "cell_type": "code",
      "execution_count": 92,
      "metadata": {
        "id": "9dK8L6Pytn8k"
      },
      "outputs": [],
      "source": [
        "#trainset = pd.concat([trainset, one_hot_encoded_entry], axis = 1)\n",
        "trainset = trainset.drop('entry', axis = 1)"
      ]
    },
    {
      "cell_type": "code",
      "execution_count": 93,
      "metadata": {
        "id": "QhS2Ec2BtyUU"
      },
      "outputs": [],
      "source": [
        "trainset['entry_index'] = trainset['entry_index'].astype('int')"
      ]
    },
    {
      "cell_type": "code",
      "execution_count": 94,
      "metadata": {
        "colab": {
          "base_uri": "https://localhost:8080/"
        },
        "id": "em4AP0BDvsLl",
        "outputId": "56f43ca8-3ccf-4105-f909-8f9c58c99056"
      },
      "outputs": [
        {
          "output_type": "execute_result",
          "data": {
            "text/plain": [
              "0        0\n",
              "1        1\n",
              "2        2\n",
              "3        3\n",
              "4        4\n",
              "      ... \n",
              "755    755\n",
              "756    756\n",
              "757    757\n",
              "758    758\n",
              "759    759\n",
              "Name: entry_index, Length: 391937, dtype: int64"
            ]
          },
          "metadata": {},
          "execution_count": 94
        }
      ],
      "source": [
        "trainset['entry_index']"
      ]
    },
    {
      "cell_type": "markdown",
      "metadata": {
        "id": "tCvXsRd7v2cV"
      },
      "source": [
        "## Drop the index of the dataframe (as it is a copy of entry index)\n",
        "- Drop annotation_atomrec and annotation_sequence"
      ]
    },
    {
      "cell_type": "code",
      "execution_count": 95,
      "metadata": {
        "id": "DsqJ7B3Tv3Q0"
      },
      "outputs": [],
      "source": [
        "trainset.reset_index(drop = True, inplace = True)"
      ]
    },
    {
      "cell_type": "code",
      "execution_count": 96,
      "metadata": {
        "id": "ysMRYuY6v9gl"
      },
      "outputs": [],
      "source": [
        "trainset.drop(['annotation_atomrec', 'annotation_sequence'], axis = 1, inplace = True)"
      ]
    },
    {
      "cell_type": "markdown",
      "metadata": {
        "id": "YbJk2Dpz0WsG"
      },
      "source": [
        "## Build Feature Engineering Pipeline"
      ]
    },
    {
      "cell_type": "code",
      "execution_count": 100,
      "metadata": {
        "id": "Ts_roTJb0WcT"
      },
      "outputs": [],
      "source": [
        "from sklearn.pipeline import Pipeline\n",
        "from sklearn.compose import ColumnTransformer\n",
        "from sklearn.preprocessing import FunctionTransformer, OneHotEncoder\n",
        "\n",
        "def add_negative_feat_SCSASA(df):\n",
        "  df['Negative_feat_SCSASA'] = np.where(df['feat_SCSASA'] < 0, 1, 0)\n",
        "  return df\n",
        "\n",
        "def convert_neg_SCSASA_to_zero(df):\n",
        "  df['feat_SCSASA'] = np.where(df['feat_SCSASA'] < 0, 0, df['feat_SCSASA'])\n",
        "  return df\n",
        "\n",
        "feature_eng_pipeline = Pipeline([\n",
        "    ('add_negative_feat_SCSASA', FunctionTransformer(add_negative_feat_SCSASA)),\n",
        "    ('convert_neg_SCSASA_to_zero', FunctionTransformer(convert_neg_SCSASA_to_zero)),\n",
        "    ('drop_entry', FunctionTransformer(lambda df:df.drop(['entry'], axis = 1))),\n",
        "    ('drop_annotation', FunctionTransformer(lambda df:df.drop(['annotation_atomrec', 'annotation_sequence'], axis = 1))),\n",
        "    ('reset_index', FunctionTransformer(lambda df:df.reset_index(drop = True))),\n",
        "    ('astype_entry_index', FunctionTransformer(lambda df: df.astype({'entry_index': 'int'})))\n",
        "])\n"
      ]
    },
    {
      "cell_type": "markdown",
      "metadata": {
        "id": "3LiBzix0wFXz"
      },
      "source": [
        "# Model Building"
      ]
    },
    {
      "cell_type": "markdown",
      "metadata": {
        "id": "oau3ahDYxU2b"
      },
      "source": [
        "## Import Modelling Modules"
      ]
    },
    {
      "cell_type": "code",
      "execution_count": 98,
      "metadata": {
        "id": "0ZJpcg6bxXYz"
      },
      "outputs": [],
      "source": [
        "import xgboost as xgb\n",
        "from sklearn.ensemble import GradientBoostingClassifier, AdaBoostClassifier, RandomForestClassifier\n",
        "from sklearn.tree import DecisionTreeClassifier\n",
        "from sklearn.metrics import classification_report, confusion_matrix, roc_auc_score, roc_curve\n",
        "from sklearn.metrics import average_precision_score\n",
        "from sklearn.model_selection import GridSearchCV\n"
      ]
    },
    {
      "cell_type": "markdown",
      "metadata": {
        "id": "Nb9KdhRBwmVj"
      },
      "source": [
        "## Transforming the Test Set"
      ]
    },
    {
      "cell_type": "code",
      "execution_count": 74,
      "metadata": {
        "colab": {
          "base_uri": "https://localhost:8080/"
        },
        "id": "sU1dA6U6wqNW",
        "outputId": "e549b7b7-e005-4832-c6c6-da50b6c9356f"
      },
      "outputs": [
        {
          "output_type": "stream",
          "name": "stderr",
          "text": [
            "<ipython-input-74-488ba4235227>:1: SettingWithCopyWarning: \n",
            "A value is trying to be set on a copy of a slice from a DataFrame.\n",
            "Try using .loc[row_indexer,col_indexer] = value instead\n",
            "\n",
            "See the caveats in the documentation: https://pandas.pydata.org/pandas-docs/stable/user_guide/indexing.html#returning-a-view-versus-a-copy\n",
            "  test['Negative_feat_SCSASA'] = np.where(test['feat_SCSASA'] < 0, 1, 0)\n",
            "<ipython-input-74-488ba4235227>:2: SettingWithCopyWarning: \n",
            "A value is trying to be set on a copy of a slice from a DataFrame.\n",
            "Try using .loc[row_indexer,col_indexer] = value instead\n",
            "\n",
            "See the caveats in the documentation: https://pandas.pydata.org/pandas-docs/stable/user_guide/indexing.html#returning-a-view-versus-a-copy\n",
            "  test['feat_SCSASA'] = np.where(test['feat_SCSASA'] < 0, 0, test['feat_SCSASA'])\n"
          ]
        }
      ],
      "source": [
        "# Option 1\n",
        "#test['Negative_feat_SCSASA'] = np.where(test['feat_SCSASA'] < 0, 1, 0)\n",
        "#test['feat_SCSASA'] = np.where(test['feat_SCSASA'] < 0, 0, test['feat_SCSASA'])\n",
        "#test = test.drop('entry', axis = 1)\n",
        "#test['entry_index'] = test['entry_index'].astype('int')\n",
        "#test.reset_index(drop = True, inplace = True)\n",
        "#test.drop(['annotation_atomrec', 'annotation_sequence'], axis = 1, inplace = True)"
      ]
    },
    {
      "cell_type": "code",
      "source": [
        "# Option 2\n",
        "test = feature_eng_pipeline.transform(test)"
      ],
      "metadata": {
        "colab": {
          "base_uri": "https://localhost:8080/"
        },
        "id": "Qea4bJbiH5Yt",
        "outputId": "9090cdcf-3b3e-48e4-cb8f-44fcab719981"
      },
      "execution_count": 111,
      "outputs": [
        {
          "output_type": "stream",
          "name": "stderr",
          "text": [
            "<ipython-input-100-674e857cd037>:6: SettingWithCopyWarning: \n",
            "A value is trying to be set on a copy of a slice from a DataFrame.\n",
            "Try using .loc[row_indexer,col_indexer] = value instead\n",
            "\n",
            "See the caveats in the documentation: https://pandas.pydata.org/pandas-docs/stable/user_guide/indexing.html#returning-a-view-versus-a-copy\n",
            "  df['Negative_feat_SCSASA'] = np.where(df['feat_SCSASA'] < 0, 1, 0)\n",
            "<ipython-input-100-674e857cd037>:10: SettingWithCopyWarning: \n",
            "A value is trying to be set on a copy of a slice from a DataFrame.\n",
            "Try using .loc[row_indexer,col_indexer] = value instead\n",
            "\n",
            "See the caveats in the documentation: https://pandas.pydata.org/pandas-docs/stable/user_guide/indexing.html#returning-a-view-versus-a-copy\n",
            "  df['feat_SCSASA'] = np.where(df['feat_SCSASA'] < 0, 0, df['feat_SCSASA'])\n"
          ]
        }
      ]
    },
    {
      "cell_type": "code",
      "execution_count": 112,
      "metadata": {
        "id": "nQmHaQ6dwWMy"
      },
      "outputs": [],
      "source": [
        "X_train = trainset.drop('y_Ligand', axis = 1)\n",
        "y_train = trainset['y_Ligand']"
      ]
    },
    {
      "cell_type": "code",
      "execution_count": 113,
      "metadata": {
        "id": "VhD3YWDoweal"
      },
      "outputs": [],
      "source": [
        "X_test = test.drop('y_Ligand', axis = 1)\n",
        "y_test = test['y_Ligand']"
      ]
    },
    {
      "cell_type": "code",
      "execution_count": 114,
      "metadata": {
        "colab": {
          "base_uri": "https://localhost:8080/"
        },
        "id": "GI-eBVX5ysNQ",
        "outputId": "50b640c8-f294-49a1-c0bf-099d00208026"
      },
      "outputs": [
        {
          "output_type": "execute_result",
          "data": {
            "text/plain": [
              "Index(['feat_A', 'feat_C', 'feat_D', 'feat_E', 'feat_F', 'feat_G', 'feat_H',\n",
              "       'feat_I', 'feat_K', 'feat_L', 'feat_M', 'feat_N', 'feat_P', 'feat_Q',\n",
              "       'feat_R', 'feat_S', 'feat_T', 'feat_V', 'feat_W', 'feat_Y', 'feat_PHI',\n",
              "       'feat_PSI', 'feat_TAU', 'feat_THETA', 'feat_BBSASA', 'feat_SCSASA',\n",
              "       'feat_pLDDT', 'feat_DSSP_H', 'feat_DSSP_B', 'feat_DSSP_E',\n",
              "       'feat_DSSP_G', 'feat_DSSP_I', 'feat_DSSP_T', 'feat_DSSP_S',\n",
              "       'feat_DSSP_6', 'feat_DSSP_7', 'feat_DSSP_8', 'feat_DSSP_9',\n",
              "       'feat_DSSP_10', 'feat_DSSP_11', 'feat_DSSP_12', 'feat_DSSP_13',\n",
              "       'coord_X', 'coord_Y', 'coord_Z', 'entry_index', 'Negative_feat_SCSASA'],\n",
              "      dtype='object')"
            ]
          },
          "metadata": {},
          "execution_count": 114
        }
      ],
      "source": [
        "X_train.columns"
      ]
    },
    {
      "cell_type": "code",
      "execution_count": 115,
      "metadata": {
        "colab": {
          "base_uri": "https://localhost:8080/"
        },
        "id": "nmiAHUU_yvut",
        "outputId": "c51ef012-9bd0-4bcf-baf0-72ce41ff36b3"
      },
      "outputs": [
        {
          "output_type": "execute_result",
          "data": {
            "text/plain": [
              "Index(['feat_A', 'feat_C', 'feat_D', 'feat_E', 'feat_F', 'feat_G', 'feat_H',\n",
              "       'feat_I', 'feat_K', 'feat_L', 'feat_M', 'feat_N', 'feat_P', 'feat_Q',\n",
              "       'feat_R', 'feat_S', 'feat_T', 'feat_V', 'feat_W', 'feat_Y', 'feat_PHI',\n",
              "       'feat_PSI', 'feat_TAU', 'feat_THETA', 'feat_BBSASA', 'feat_SCSASA',\n",
              "       'feat_pLDDT', 'feat_DSSP_H', 'feat_DSSP_B', 'feat_DSSP_E',\n",
              "       'feat_DSSP_G', 'feat_DSSP_I', 'feat_DSSP_T', 'feat_DSSP_S',\n",
              "       'feat_DSSP_6', 'feat_DSSP_7', 'feat_DSSP_8', 'feat_DSSP_9',\n",
              "       'feat_DSSP_10', 'feat_DSSP_11', 'feat_DSSP_12', 'feat_DSSP_13',\n",
              "       'coord_X', 'coord_Y', 'coord_Z', 'entry_index', 'Negative_feat_SCSASA'],\n",
              "      dtype='object')"
            ]
          },
          "metadata": {},
          "execution_count": 115
        }
      ],
      "source": [
        "X_test.columns"
      ]
    },
    {
      "cell_type": "code",
      "execution_count": null,
      "metadata": {
        "colab": {
          "base_uri": "https://localhost:8080/"
        },
        "id": "yZjKuoQRxTRV",
        "outputId": "27d5a1d0-30cc-4553-d4bb-0fef44c9a4c7"
      },
      "outputs": [
        {
          "data": {
            "text/plain": [
              "XGBClassifier(n_estimators=10, n_jobs=-1, seed=123)"
            ]
          },
          "execution_count": 139,
          "metadata": {},
          "output_type": "execute_result"
        }
      ],
      "source": [
        "xg_cl = xgb.XGBClassifier(objective = 'binary:logistic', n_estimators = 10, seed = 123, n_jobs = -1)\n",
        "xg_cl.fit(X_train, y_train)"
      ]
    },
    {
      "cell_type": "code",
      "execution_count": null,
      "metadata": {
        "id": "xyk62QLrxinx"
      },
      "outputs": [],
      "source": [
        "preds = xg_cl.predict(X_test)\n",
        "accuracy = float(np.sum(preds == y_test)) / y_test.shape[0]"
      ]
    },
    {
      "cell_type": "code",
      "execution_count": null,
      "metadata": {
        "colab": {
          "base_uri": "https://localhost:8080/"
        },
        "id": "k4bO99dWyerV",
        "outputId": "4b0b4be6-606a-46e9-bae4-05fb3dc02e49"
      },
      "outputs": [
        {
          "name": "stdout",
          "output_type": "stream",
          "text": [
            "0.9724315540392857\n"
          ]
        }
      ],
      "source": [
        "print(accuracy)"
      ]
    },
    {
      "cell_type": "code",
      "execution_count": null,
      "metadata": {
        "colab": {
          "base_uri": "https://localhost:8080/"
        },
        "id": "v9SdeinryhOJ",
        "outputId": "74d9cb41-65a6-4022-9ce2-967bd7173950"
      },
      "outputs": [
        {
          "name": "stdout",
          "output_type": "stream",
          "text": [
            "[[102328      0]\n",
            " [  2901      0]]\n",
            "              precision    recall  f1-score   support\n",
            "\n",
            "       False       0.97      1.00      0.99    102328\n",
            "        True       0.00      0.00      0.00      2901\n",
            "\n",
            "    accuracy                           0.97    105229\n",
            "   macro avg       0.49      0.50      0.49    105229\n",
            "weighted avg       0.95      0.97      0.96    105229\n",
            "\n"
          ]
        },
        {
          "name": "stderr",
          "output_type": "stream",
          "text": [
            "/usr/local/lib/python3.8/dist-packages/sklearn/metrics/_classification.py:1318: UndefinedMetricWarning: Precision and F-score are ill-defined and being set to 0.0 in labels with no predicted samples. Use `zero_division` parameter to control this behavior.\n",
            "  _warn_prf(average, modifier, msg_start, len(result))\n",
            "/usr/local/lib/python3.8/dist-packages/sklearn/metrics/_classification.py:1318: UndefinedMetricWarning: Precision and F-score are ill-defined and being set to 0.0 in labels with no predicted samples. Use `zero_division` parameter to control this behavior.\n",
            "  _warn_prf(average, modifier, msg_start, len(result))\n",
            "/usr/local/lib/python3.8/dist-packages/sklearn/metrics/_classification.py:1318: UndefinedMetricWarning: Precision and F-score are ill-defined and being set to 0.0 in labels with no predicted samples. Use `zero_division` parameter to control this behavior.\n",
            "  _warn_prf(average, modifier, msg_start, len(result))\n"
          ]
        }
      ],
      "source": [
        "print(confusion_matrix(y_test, preds))\n",
        "print(classification_report(y_test, preds))"
      ]
    },
    {
      "cell_type": "code",
      "execution_count": null,
      "metadata": {
        "colab": {
          "base_uri": "https://localhost:8080/"
        },
        "id": "9mTjJGoxz-yF",
        "outputId": "d2653925-389a-420d-f97f-2d528c9f93f2"
      },
      "outputs": [
        {
          "data": {
            "text/plain": [
              "array([False, False, False, ..., False, False, False])"
            ]
          },
          "execution_count": 103,
          "metadata": {},
          "output_type": "execute_result"
        }
      ],
      "source": [
        "preds"
      ]
    },
    {
      "cell_type": "code",
      "execution_count": null,
      "metadata": {
        "id": "xU8oJrbT2WZ6"
      },
      "outputs": [],
      "source": [
        "sgbr = GradientBoostingClassifier(max_depth=4, \n",
        "            subsample=0.9,\n",
        "            max_features=0.75,\n",
        "            n_estimators=200,\n",
        "            random_state=2)"
      ]
    },
    {
      "cell_type": "code",
      "execution_count": null,
      "metadata": {
        "colab": {
          "base_uri": "https://localhost:8080/"
        },
        "id": "KLoHOXOh225x",
        "outputId": "55540eb0-b696-4c64-e612-d95580714f5a"
      },
      "outputs": [
        {
          "name": "stdout",
          "output_type": "stream",
          "text": [
            "[[102279     49]\n",
            " [  2634    267]]\n",
            "              precision    recall  f1-score   support\n",
            "\n",
            "       False       0.97      1.00      0.99    102328\n",
            "        True       0.84      0.09      0.17      2901\n",
            "\n",
            "    accuracy                           0.97    105229\n",
            "   macro avg       0.91      0.55      0.58    105229\n",
            "weighted avg       0.97      0.97      0.96    105229\n",
            "\n"
          ]
        }
      ],
      "source": [
        "sgbr.fit(X_train, y_train)\n",
        "\n",
        "y_pred = sgbr.predict(X_test)\n",
        "\n",
        "print(confusion_matrix(y_test, y_pred))\n",
        "print(classification_report(y_test, y_pred))"
      ]
    },
    {
      "cell_type": "code",
      "execution_count": null,
      "metadata": {
        "id": "g8VxJr8w3B5T"
      },
      "outputs": [],
      "source": [
        "y_pred"
      ]
    },
    {
      "cell_type": "code",
      "execution_count": null,
      "metadata": {
        "colab": {
          "base_uri": "https://localhost:8080/"
        },
        "id": "DKkeVlCY7zDX",
        "outputId": "ed630e06-5030-4517-cd99-2f3c6ad634fa"
      },
      "outputs": [
        {
          "name": "stdout",
          "output_type": "stream",
          "text": [
            "[[102177    151]\n",
            " [  2708    193]]\n",
            "              precision    recall  f1-score   support\n",
            "\n",
            "       False       0.97      1.00      0.99    102328\n",
            "        True       0.56      0.07      0.12      2901\n",
            "\n",
            "    accuracy                           0.97    105229\n",
            "   macro avg       0.77      0.53      0.55    105229\n",
            "weighted avg       0.96      0.97      0.96    105229\n",
            "\n"
          ]
        }
      ],
      "source": [
        "dt = DecisionTreeClassifier(max_depth = 2, random_state = 1)\n",
        "ada = AdaBoostClassifier(base_estimator=dt, n_estimators=180, random_state=1)\n",
        "\n",
        "ada.fit(X_train, y_train)\n",
        "\n",
        "y_pred = ada.predict(X_test)\n",
        "\n",
        "print(confusion_matrix(y_test, y_pred))\n",
        "print(classification_report(y_test, y_pred))"
      ]
    },
    {
      "cell_type": "markdown",
      "metadata": {
        "id": "7_v843pb6aw8"
      },
      "source": [
        "## Random Forest"
      ]
    },
    {
      "cell_type": "code",
      "execution_count": null,
      "metadata": {
        "colab": {
          "base_uri": "https://localhost:8080/"
        },
        "id": "jCNvyjQj8iz-",
        "outputId": "5a6cfc65-0524-45de-e518-92ecb5bb3d4e"
      },
      "outputs": [
        {
          "data": {
            "text/plain": [
              "RandomForestClassifier(n_estimators=25, n_jobs=-1, random_state=2)"
            ]
          },
          "execution_count": 101,
          "metadata": {},
          "output_type": "execute_result"
        }
      ],
      "source": [
        "# Instantiate rf\n",
        "rf = RandomForestClassifier(n_estimators=25,\n",
        "            random_state=2, n_jobs = -1)\n",
        "            \n",
        "# Fit rf to the training set    \n",
        "rf.fit(X_train, y_train) "
      ]
    },
    {
      "cell_type": "markdown",
      "metadata": {
        "id": "qMdS2pUIA4kQ"
      },
      "source": [
        "### Feature Importance"
      ]
    },
    {
      "cell_type": "code",
      "execution_count": null,
      "metadata": {
        "colab": {
          "base_uri": "https://localhost:8080/"
        },
        "id": "OZNUOeByA6Mh",
        "outputId": "a086494d-37f5-4bb0-dcd3-13e43467fdf0"
      },
      "outputs": [
        {
          "data": {
            "image/png": "[encoded data removed]",
            "text/plain": [
              "<Figure size 1440x720 with 1 Axes>"
            ]
          },
          "metadata": {},
          "output_type": "display_data"
        }
      ],
      "source": [
        "# Get feature importances from trained random forest model\n",
        "importances = rf.feature_importances_\n",
        "\n",
        "# Get names of features\n",
        "feature_names = X_train.columns\n",
        "\n",
        "# Sort feature importances in descending order\n",
        "indices = np.argsort(importances)[::-1]\n",
        "\n",
        "# Rearrange feature names in descending order of importance\n",
        "names = [feature_names[i] for i in indices]\n",
        "\n",
        "# Create plot\n",
        "plt.figure(figsize=(20, 10))\n",
        "\n",
        "# Create plot title\n",
        "plt.title(\"Feature Importance\")\n",
        "\n",
        "# Add bars\n",
        "plt.bar(range(X_train.shape[1]), importances[indices])\n",
        "\n",
        "# Add feature names as x-axis labels\n",
        "plt.xticks(range(X_train.shape[1]), names, rotation=90)\n",
        "\n",
        "# Show plot\n",
        "plt.show()"
      ]
    },
    {
      "cell_type": "markdown",
      "metadata": {
        "id": "XjBEVtO383L7"
      },
      "source": [
        "### Original Model Performance Measure"
      ]
    },
    {
      "cell_type": "markdown",
      "metadata": {
        "id": "2IKv3phS_DpZ"
      },
      "source": [
        "#### One the Train Set"
      ]
    },
    {
      "cell_type": "code",
      "execution_count": null,
      "metadata": {
        "id": "rXCGDqbM_N6x"
      },
      "outputs": [],
      "source": [
        "y_pred = rf.predict(X_train)\n",
        "y_pred_proba = rf.predict_proba(X_train)[:, 1]"
      ]
    },
    {
      "cell_type": "code",
      "execution_count": null,
      "metadata": {
        "id": "x2FfhyWr_Q1x"
      },
      "outputs": [],
      "source": [
        "def plot_roc_curve(true_y, y_prob):\n",
        "    \"\"\"\n",
        "    plots the roc curve based of the probabilities\n",
        "    \"\"\"\n",
        "\n",
        "    fpr, tpr, thresholds = roc_curve(true_y, y_prob)\n",
        "    plt.plot(fpr, tpr)\n",
        "    plt.xlabel('False Positive Rate')\n",
        "    plt.ylabel('True Positive Rate')"
      ]
    },
    {
      "cell_type": "code",
      "execution_count": null,
      "metadata": {
        "colab": {
          "base_uri": "https://localhost:8080/"
        },
        "id": "UCiZkQp3_UbE",
        "outputId": "e4b6d0b6-bb83-41bf-eadb-3be9479c99be"
      },
      "outputs": [
        {
          "name": "stdout",
          "output_type": "stream",
          "text": [
            "model 1 AUC score: 0.9999995411907175\n"
          ]
        },
        {
          "data": {
            "image/png": "[encoded data removed]",
            "text/plain": [
              "<Figure size 432x288 with 1 Axes>"
            ]
          },
          "metadata": {},
          "output_type": "display_data"
        }
      ],
      "source": [
        "plot_roc_curve(y_train, y_pred_proba)\n",
        "print(f'model 1 AUC score: {roc_auc_score(y_train, y_pred_proba)}')"
      ]
    },
    {
      "cell_type": "code",
      "execution_count": null,
      "metadata": {
        "colab": {
          "base_uri": "https://localhost:8080/"
        },
        "id": "pFYBEs-e_UWH",
        "outputId": "e0525357-9cdb-45ed-b8bc-5b266822edbd"
      },
      "outputs": [
        {
          "name": "stdout",
          "output_type": "stream",
          "text": [
            "PR AUC score: 0.9999819649062632\n"
          ]
        }
      ],
      "source": [
        "pr_auc = average_precision_score(y_train, rf.predict_proba(X_train)[:, 1])\n",
        "print('PR AUC score:', pr_auc)"
      ]
    },
    {
      "cell_type": "code",
      "execution_count": null,
      "metadata": {
        "colab": {
          "base_uri": "https://localhost:8080/"
        },
        "id": "z10J4dAW_d5T",
        "outputId": "4dfbbf8f-7b1d-4b01-9ec7-1bf47e6b073e"
      },
      "outputs": [
        {
          "name": "stdout",
          "output_type": "stream",
          "text": [
            "[[377584      0]\n",
            " [   441  13912]]\n",
            "              precision    recall  f1-score   support\n",
            "\n",
            "       False       1.00      1.00      1.00    377584\n",
            "        True       1.00      0.97      0.98     14353\n",
            "\n",
            "    accuracy                           1.00    391937\n",
            "   macro avg       1.00      0.98      0.99    391937\n",
            "weighted avg       1.00      1.00      1.00    391937\n",
            "\n"
          ]
        }
      ],
      "source": [
        "print(confusion_matrix(y_train, y_pred))\n",
        "print(classification_report(y_train, y_pred))"
      ]
    },
    {
      "cell_type": "markdown",
      "metadata": {
        "id": "Cyv_CmOo_BZp"
      },
      "source": [
        "#### On the Test Set"
      ]
    },
    {
      "cell_type": "code",
      "execution_count": null,
      "metadata": {
        "id": "XgRvQCJA844c"
      },
      "outputs": [],
      "source": [
        "y_pred = rf.predict(X_test)\n",
        "y_pred_proba = rf.predict_proba(X_test)[:, 1]"
      ]
    },
    {
      "cell_type": "code",
      "execution_count": null,
      "metadata": {
        "colab": {
          "base_uri": "https://localhost:8080/",
          "height": 297
        },
        "id": "HhltAFae9aCv",
        "outputId": "f48aa483-29f5-4d55-c904-aed5ee8ec01f"
      },
      "outputs": [
        {
          "name": "stdout",
          "output_type": "stream",
          "text": [
            "model 1 AUC score: 0.8361764139114425\n"
          ]
        },
        {
          "data": {
            "image/png": "[encoded data removed]",
            "text/plain": [
              "<Figure size 432x288 with 1 Axes>"
            ]
          },
          "metadata": {},
          "output_type": "display_data"
        }
      ],
      "source": [
        "plot_roc_curve(y_test, y_pred_proba)\n",
        "print(f'model 1 AUC score: {roc_auc_score(y_test, y_pred_proba)}')"
      ]
    },
    {
      "cell_type": "code",
      "execution_count": null,
      "metadata": {
        "colab": {
          "base_uri": "https://localhost:8080/"
        },
        "id": "JghG4bUZ9g6-",
        "outputId": "685a7e9c-a343-405c-ef0e-3a9f33b8b21a"
      },
      "outputs": [
        {
          "name": "stdout",
          "output_type": "stream",
          "text": [
            "PR AUC score: 0.383763468589382\n"
          ]
        }
      ],
      "source": [
        "pr_auc = average_precision_score(y_test, rf.predict_proba(X_test)[:, 1])\n",
        "print('PR AUC score:', pr_auc)"
      ]
    },
    {
      "cell_type": "code",
      "execution_count": null,
      "metadata": {
        "colab": {
          "base_uri": "https://localhost:8080/"
        },
        "id": "swhDuTSq-vu8",
        "outputId": "2eba3795-145a-4ef3-c391-46016fd62332"
      },
      "outputs": [
        {
          "name": "stdout",
          "output_type": "stream",
          "text": [
            "[[102259     69]\n",
            " [  2441    460]]\n",
            "              precision    recall  f1-score   support\n",
            "\n",
            "       False       0.98      1.00      0.99    102328\n",
            "        True       0.87      0.16      0.27      2901\n",
            "\n",
            "    accuracy                           0.98    105229\n",
            "   macro avg       0.92      0.58      0.63    105229\n",
            "weighted avg       0.97      0.98      0.97    105229\n",
            "\n"
          ]
        }
      ],
      "source": [
        "print(confusion_matrix(y_test, y_pred))\n",
        "print(classification_report(y_test, y_pred))"
      ]
    },
    {
      "cell_type": "markdown",
      "metadata": {
        "id": "uEqhZbTfAVOq"
      },
      "source": [
        "### Fine Tuning the Hyperparameters (DO NOT RUN THIS IF YOU JUST WANNA TRY MY CODE, IT TAKES A YEARRRRR TO RUN)"
      ]
    },
    {
      "cell_type": "markdown",
      "metadata": {
        "id": "mFnA4_9FL09_"
      },
      "source": [
        "Tried this code before, runs for 16 hours without producing a result.\n",
        "\n",
        "```\n",
        "params = {\n",
        "    'n_estimators': [50, 100, 200],\n",
        "    'max_depth': [5, 10, 15],\n",
        "    'min_samples_split': [2, 5, 10],\n",
        "    'min_samples_leaf': [1, 2, 5],\n",
        "    'max_features': ['sqrt', 'log2', 5]\n",
        "}\n",
        "\n",
        "grid_rf = GridSearchCV(rf, params, cv = 5, scoring = 'average_precision', n_jobs = -1)\n",
        "grid_rf.fit(X_train, y_train)\n",
        "\n",
        "print('Best parameters:', grid_rf.best_params_)\n",
        "print('Best PR AUC score:', grid_rf.best_score_)\n",
        "```"
      ]
    },
    {
      "cell_type": "markdown",
      "source": [
        "Having a high dimensional grid is slow and ineffective. Therefore, I start from the original models and gradually modify the parameters to reach a potentiall optimal result"
      ],
      "metadata": {
        "id": "Z1ggB-cxyYUN"
      }
    },
    {
      "cell_type": "markdown",
      "metadata": {
        "id": "yU0QDzuDPau-"
      },
      "source": [
        "#### 5 Fold Cross Validation on n_estimators = 25, random_state = 2 (original model)\n",
        "\n",
        "Average Cross Validation PR AUC score is 0.325959762677659"
      ]
    },
    {
      "cell_type": "code",
      "execution_count": null,
      "metadata": {
        "colab": {
          "base_uri": "https://localhost:8080/"
        },
        "id": "DFSmKbf4Pk8D",
        "outputId": "0266c549-cd19-4765-c4e7-0b7bb406cef8"
      },
      "outputs": [
        {
          "name": "stdout",
          "output_type": "stream",
          "text": [
            "Best parameters: {'n_estimators': 25, 'random_state': 2}\n",
            "Best PR AUC score: 0.325959762677659\n"
          ]
        }
      ],
      "source": [
        "rf = RandomForestClassifier(n_jobs = -1)\n",
        "\n",
        "params = {\n",
        "    'n_estimators': [25],\n",
        "    #'max_depth': [5, 10, 15],\n",
        "    #'min_samples_split': [2, 5, 10],\n",
        "    #'min_samples_leaf': [1],\n",
        "    #'max_features': ['sqrt', 'log2', 5]\n",
        "    'random_state': [2]\n",
        "}\n",
        "\n",
        "grid_rf = GridSearchCV(rf, params, cv = 5, scoring = 'average_precision', n_jobs = -1)\n",
        "grid_rf.fit(X_train, y_train)\n",
        "\n",
        "print('Best parameters:', grid_rf.best_params_)\n",
        "print('Best PR AUC score:', grid_rf.best_score_)"
      ]
    },
    {
      "cell_type": "markdown",
      "metadata": {
        "id": "A7CO3tokPPbG"
      },
      "source": [
        "#### 5 Fold Cross Validation on n_estimators = 50 and min_samples_leaf = 1\n",
        "\n",
        "PR AUC - 0.36577586778496995"
      ]
    },
    {
      "cell_type": "code",
      "execution_count": null,
      "metadata": {
        "colab": {
          "base_uri": "https://localhost:8080/"
        },
        "id": "OH90zJkPL4x4",
        "outputId": "91ad6d88-b2ff-4c66-f3e6-f33f6a6882ba"
      },
      "outputs": [
        {
          "name": "stdout",
          "output_type": "stream",
          "text": [
            "Best parameters: {'min_samples_leaf': 1, 'n_estimators': 50}\n",
            "Best PR AUC score: 0.36577586778496995\n"
          ]
        }
      ],
      "source": [
        "rf = RandomForestClassifier(n_jobs = -1)\n",
        "\n",
        "params = {\n",
        "    'n_estimators': [50],\n",
        "    #'max_depth': [5, 10, 15],\n",
        "    #'min_samples_split': [2, 5, 10],\n",
        "    'min_samples_leaf': [1],\n",
        "    #'max_features': ['sqrt', 'log2', 5],\n",
        "}\n",
        "\n",
        "grid_rf = GridSearchCV(rf, params, cv = 5, scoring = 'average_precision', n_jobs = -1)\n",
        "grid_rf.fit(X_train, y_train)\n",
        "\n",
        "print('Best parameters:', grid_rf.best_params_)\n",
        "print('Best PR AUC score:', grid_rf.best_score_)"
      ]
    },
    {
      "cell_type": "code",
      "execution_count": null,
      "metadata": {
        "colab": {
          "base_uri": "https://localhost:8080/"
        },
        "id": "uL1d1YUfML0l",
        "outputId": "87ea8653-4230-422b-a396-134a6558eed4"
      },
      "outputs": [
        {
          "name": "stdout",
          "output_type": "stream",
          "text": [
            "PR AUC score: 0.42461251177466863\n"
          ]
        }
      ],
      "source": [
        "y_pred = grid_rf.predict(X_test)\n",
        "y_pred_proba = grid_rf.predict_proba(X_test)[:, 1]\n",
        "\n",
        "pr_auc = average_precision_score(y_test, grid_rf.predict_proba(X_test)[:, 1])\n",
        "print('PR AUC score:', pr_auc)"
      ]
    },
    {
      "cell_type": "code",
      "execution_count": null,
      "metadata": {
        "colab": {
          "base_uri": "https://localhost:8080/"
        },
        "id": "Vm09_TTHNcQV",
        "outputId": "0ef2c88c-588f-4aa3-fffe-e828c2e73542"
      },
      "outputs": [
        {
          "name": "stdout",
          "output_type": "stream",
          "text": [
            "model 1 AUC score: 0.8640539771519913\n"
          ]
        }
      ],
      "source": [
        "print(f'model 1 AUC score: {roc_auc_score(y_test, y_pred_proba)}')"
      ]
    },
    {
      "cell_type": "markdown",
      "metadata": {
        "id": "kWRc2oVcPz0D"
      },
      "source": [
        "#### 5Fold Cross Validation on `n_estimators = 50`, `max_depth` = [5, 10], `min_sampled_leaf` = [1]\n",
        "\n",
        "Average Cross Validation PR AUC score is 0.2838322251116697"
      ]
    },
    {
      "cell_type": "code",
      "execution_count": null,
      "metadata": {
        "colab": {
          "base_uri": "https://localhost:8080/"
        },
        "id": "r9K75k-8NpIm",
        "outputId": "5ef11fa6-658e-47c6-da7a-0cd289828a97"
      },
      "outputs": [
        {
          "name": "stdout",
          "output_type": "stream",
          "text": [
            "Best parameters: {'max_depth': 10, 'min_samples_leaf': 1, 'n_estimators': 50}\n",
            "Best PR AUC score: 0.2838322251116697\n"
          ]
        }
      ],
      "source": [
        "rf = RandomForestClassifier(n_jobs = -1)\n",
        "\n",
        "params = {\n",
        "    'n_estimators': [50],\n",
        "    'max_depth': [5, 10],\n",
        "    #'min_samples_split': [2, 5, 10],\n",
        "    'min_samples_leaf': [1],\n",
        "    #'max_features': ['sqrt', 'log2', 5]\n",
        "}\n",
        "\n",
        "grid_rf = GridSearchCV(rf, params, cv = 5, scoring = 'average_precision', n_jobs = -1)\n",
        "grid_rf.fit(X_train, y_train)\n",
        "\n",
        "print('Best parameters:', grid_rf.best_params_)\n",
        "print('Best PR AUC score:', grid_rf.best_score_)"
      ]
    },
    {
      "cell_type": "code",
      "execution_count": null,
      "metadata": {
        "colab": {
          "base_uri": "https://localhost:8080/"
        },
        "id": "b1wtUsxQO3NF",
        "outputId": "e2b8e7f0-e9d9-4d06-8542-a10bf5ba0789"
      },
      "outputs": [
        {
          "name": "stdout",
          "output_type": "stream",
          "text": [
            "PR AUC score: 0.3040732323670695\n",
            "PR AUC score: 0.3040732323670695\n",
            "model 1 AUC score: 0.8655034108269045\n"
          ]
        }
      ],
      "source": [
        "y_pred = grid_rf.predict(X_test)\n",
        "y_pred_proba = grid_rf.predict_proba(X_test)[:, 1]\n",
        "\n",
        "pr_auc = average_precision_score(y_test, grid_rf.predict_proba(X_test)[:, 1])\n",
        "print('PR AUC score:', pr_auc)\n",
        "y_pred = grid_rf.predict(X_test)\n",
        "y_pred_proba = grid_rf.predict_proba(X_test)[:, 1]\n",
        "\n",
        "pr_auc = average_precision_score(y_test, grid_rf.predict_proba(X_test)[:, 1])\n",
        "print('PR AUC score:', pr_auc)\n",
        "print(f'model 1 AUC score: {roc_auc_score(y_test, y_pred_proba)}')"
      ]
    },
    {
      "cell_type": "code",
      "execution_count": null,
      "metadata": {
        "colab": {
          "base_uri": "https://localhost:8080/"
        },
        "id": "_5eYZ1OMO4uE",
        "outputId": "d1bedb66-052f-4a1b-9087-11eb2c600fff"
      },
      "outputs": [
        {
          "data": {
            "text/plain": [
              "{'bootstrap': True,\n",
              " 'ccp_alpha': 0.0,\n",
              " 'class_weight': None,\n",
              " 'criterion': 'gini',\n",
              " 'max_depth': None,\n",
              " 'max_features': 'auto',\n",
              " 'max_leaf_nodes': None,\n",
              " 'max_samples': None,\n",
              " 'min_impurity_decrease': 0.0,\n",
              " 'min_samples_leaf': 1,\n",
              " 'min_samples_split': 2,\n",
              " 'min_weight_fraction_leaf': 0.0,\n",
              " 'n_estimators': 100,\n",
              " 'n_jobs': -1,\n",
              " 'oob_score': False,\n",
              " 'random_state': None,\n",
              " 'verbose': 0,\n",
              " 'warm_start': False}"
            ]
          },
          "execution_count": 112,
          "metadata": {},
          "output_type": "execute_result"
        }
      ],
      "source": [
        "rf.get_params()"
      ]
    },
    {
      "cell_type": "code",
      "execution_count": null,
      "metadata": {
        "colab": {
          "base_uri": "https://localhost:8080/"
        },
        "id": "h5HdGnNaPE-l",
        "outputId": "ce81b4d8-325e-424b-bb47-13546027eab7"
      },
      "outputs": [
        {
          "name": "stdout",
          "output_type": "stream",
          "text": [
            "Best parameters: {'min_samples_leaf': 1, 'n_estimators': 100}\n",
            "Best PR AUC score: 0.38664586142975094\n"
          ]
        }
      ],
      "source": [
        "rf = RandomForestClassifier(n_jobs = -1)\n",
        "\n",
        "params = {\n",
        "    'n_estimators': [50, 100],\n",
        "    #'max_depth': [5, 10],\n",
        "    #'min_samples_split': [2, 5, 10],\n",
        "    'min_samples_leaf': [1],\n",
        "    #'max_features': ['sqrt', 'log2', 5]\n",
        "}\n",
        "\n",
        "grid_rf = GridSearchCV(rf, params, cv = 5, scoring = 'average_precision', n_jobs = -1)\n",
        "grid_rf.fit(X_train, y_train)\n",
        "\n",
        "print('Best parameters:', grid_rf.best_params_)\n",
        "print('Best PR AUC score:', grid_rf.best_score_)"
      ]
    },
    {
      "cell_type": "code",
      "execution_count": null,
      "metadata": {
        "colab": {
          "base_uri": "https://localhost:8080/"
        },
        "id": "m377M5NaQ-KV",
        "outputId": "df8aaa83-d2c0-4c57-a0ce-b1d559244e47"
      },
      "outputs": [
        {
          "name": "stdout",
          "output_type": "stream",
          "text": [
            "PR AUC score: 0.45309587899317355\n",
            "PR AUC score: 0.45309587899317355\n",
            "model 1 AUC score: 0.8828546396794044\n"
          ]
        }
      ],
      "source": [
        "y_pred = grid_rf.predict(X_test)\n",
        "y_pred_proba = grid_rf.predict_proba(X_test)[:, 1]\n",
        "\n",
        "pr_auc = average_precision_score(y_test, grid_rf.predict_proba(X_test)[:, 1])\n",
        "print('PR AUC score:', pr_auc)\n",
        "y_pred = grid_rf.predict(X_test)\n",
        "y_pred_proba = grid_rf.predict_proba(X_test)[:, 1]\n",
        "\n",
        "pr_auc = average_precision_score(y_test, grid_rf.predict_proba(X_test)[:, 1])\n",
        "print('PR AUC score:', pr_auc)\n",
        "print(f'model 1 AUC score: {roc_auc_score(y_test, y_pred_proba)}')"
      ]
    },
    {
      "cell_type": "code",
      "execution_count": null,
      "metadata": {
        "colab": {
          "base_uri": "https://localhost:8080/"
        },
        "id": "PjblfQrzn9Ab",
        "outputId": "6c3ea2bb-5c91-4655-e13d-688620d13530"
      },
      "outputs": [
        {
          "name": "stdout",
          "output_type": "stream",
          "text": [
            "Best parameters: {'min_samples_leaf': 2, 'n_estimators': 200}\n",
            "Best PR AUC score: 0.4033076160524848\n"
          ]
        }
      ],
      "source": [
        "rf = RandomForestClassifier(n_jobs = -1)\n",
        "\n",
        "params = {\n",
        "    'n_estimators': [200],\n",
        "    #'max_depth': [5, 10],\n",
        "    #'min_samples_split': [2, 5, 10],\n",
        "    'min_samples_leaf': [2],\n",
        "    #'max_features': ['sqrt', 'log2', 5]\n",
        "}\n",
        "\n",
        "grid_rf = GridSearchCV(rf, params, cv = 5, scoring = 'average_precision', n_jobs = -1)\n",
        "grid_rf.fit(X_train, y_train)\n",
        "\n",
        "print('Best parameters:', grid_rf.best_params_)\n",
        "print('Best PR AUC score:', grid_rf.best_score_)"
      ]
    },
    {
      "cell_type": "code",
      "execution_count": null,
      "metadata": {
        "colab": {
          "base_uri": "https://localhost:8080/"
        },
        "id": "0Rz2QjzKoLd8",
        "outputId": "642e6176-ee8b-4831-ee77-58e249a3db29"
      },
      "outputs": [
        {
          "name": "stdout",
          "output_type": "stream",
          "text": [
            "PR AUC score: 0.46740230012253314\n",
            "PR AUC score: 0.46740236131854684\n",
            "model 1 AUC score: 0.8926079766853907\n"
          ]
        }
      ],
      "source": [
        "y_pred = grid_rf.predict(X_test)\n",
        "y_pred_proba = grid_rf.predict_proba(X_test)[:, 1]\n",
        "\n",
        "pr_auc = average_precision_score(y_test, grid_rf.predict_proba(X_test)[:, 1])\n",
        "print('PR AUC score:', pr_auc)\n",
        "y_pred = grid_rf.predict(X_test)\n",
        "y_pred_proba = grid_rf.predict_proba(X_test)[:, 1]\n",
        "\n",
        "pr_auc = average_precision_score(y_test, grid_rf.predict_proba(X_test)[:, 1])\n",
        "print('PR AUC score:', pr_auc)\n",
        "print(f'model 1 AUC score: {roc_auc_score(y_test, y_pred_proba)}')"
      ]
    },
    {
      "cell_type": "code",
      "execution_count": null,
      "metadata": {
        "colab": {
          "base_uri": "https://localhost:8080/"
        },
        "id": "DAgDl3Y8wU6u",
        "outputId": "6562c100-880f-4731-870a-5c746baa3714"
      },
      "outputs": [
        {
          "name": "stdout",
          "output_type": "stream",
          "text": [
            "Best parameters: {'min_samples_leaf': 2, 'min_samples_split': 2, 'n_estimators': 200}\n",
            "Best PR AUC score: 0.4036854544973304\n"
          ]
        }
      ],
      "source": [
        "rf = RandomForestClassifier(n_jobs = -1)\n",
        "\n",
        "params = {\n",
        "    'n_estimators': [200],\n",
        "    #'max_depth': [5, 10],\n",
        "    'min_samples_split': [2, 5],\n",
        "    'min_samples_leaf': [2],\n",
        "    #'max_features': ['sqrt', 'log2', 5]\n",
        "}\n",
        "\n",
        "grid_rf = GridSearchCV(rf, params, cv = 5, scoring = 'average_precision', n_jobs = -1)\n",
        "grid_rf.fit(X_train, y_train)\n",
        "\n",
        "print('Best parameters:', grid_rf.best_params_)\n",
        "print('Best PR AUC score:', grid_rf.best_score_)"
      ]
    },
    {
      "cell_type": "code",
      "execution_count": null,
      "metadata": {
        "colab": {
          "base_uri": "https://localhost:8080/"
        },
        "id": "81PKlMYvJINP",
        "outputId": "93d7042b-161e-4c0f-fa4b-c2f9b21bf7a9"
      },
      "outputs": [
        {
          "name": "stdout",
          "output_type": "stream",
          "text": [
            "PR AUC score: 0.46577664999943125\n",
            "PR AUC score: 0.4657766662332106\n",
            "model 1 AUC score: 0.8923561908955988\n"
          ]
        }
      ],
      "source": [
        "y_pred = grid_rf.predict(X_test)\n",
        "y_pred_proba = grid_rf.predict_proba(X_test)[:, 1]\n",
        "\n",
        "pr_auc = average_precision_score(y_test, grid_rf.predict_proba(X_test)[:, 1])\n",
        "print('PR AUC score:', pr_auc)\n",
        "y_pred = grid_rf.predict(X_test)\n",
        "y_pred_proba = grid_rf.predict_proba(X_test)[:, 1]\n",
        "\n",
        "pr_auc = average_precision_score(y_test, grid_rf.predict_proba(X_test)[:, 1])\n",
        "print('PR AUC score:', pr_auc)\n",
        "print(f'model 1 AUC score: {roc_auc_score(y_test, y_pred_proba)}')"
      ]
    },
    {
      "cell_type": "code",
      "execution_count": null,
      "metadata": {
        "colab": {
          "base_uri": "https://localhost:8080/"
        },
        "id": "1lA4MQhuJWWR",
        "outputId": "9229387d-37da-4244-b1fa-95765d992b05"
      },
      "outputs": [
        {
          "name": "stdout",
          "output_type": "stream",
          "text": [
            "Best parameters: {'max_features': 'log2', 'min_samples_leaf': 2, 'min_samples_split': 2, 'n_estimators': 200}\n",
            "Best PR AUC score: 0.40693345234991873\n"
          ]
        }
      ],
      "source": [
        "rf = RandomForestClassifier(n_jobs = -1)\n",
        "\n",
        "params = {\n",
        "    'n_estimators': [200],\n",
        "    #'max_depth': [5, 10],\n",
        "    'min_samples_split': [2],\n",
        "    'min_samples_leaf': [2],\n",
        "    'max_features': ['sqrt', 'log2', 5]\n",
        "}\n",
        "\n",
        "grid_rf = GridSearchCV(rf, params, cv = 5, scoring = 'average_precision', n_jobs = -1)\n",
        "grid_rf.fit(X_train, y_train)\n",
        "\n",
        "print('Best parameters:', grid_rf.best_params_)\n",
        "print('Best PR AUC score:', grid_rf.best_score_)"
      ]
    },
    {
      "cell_type": "code",
      "execution_count": null,
      "metadata": {
        "colab": {
          "base_uri": "https://localhost:8080/"
        },
        "id": "k3GhKAiPKWD6",
        "outputId": "cab2fb6b-b023-4842-a049-c85cf694e8fd"
      },
      "outputs": [
        {
          "name": "stdout",
          "output_type": "stream",
          "text": [
            "PR AUC score: 0.4682092588840042\n",
            "PR AUC score: 0.46820925949438896\n",
            "model 1 AUC score: 0.8917626557566127\n"
          ]
        }
      ],
      "source": [
        "y_pred = grid_rf.predict(X_test)\n",
        "y_pred_proba = grid_rf.predict_proba(X_test)[:, 1]\n",
        "\n",
        "pr_auc = average_precision_score(y_test, grid_rf.predict_proba(X_test)[:, 1])\n",
        "print('PR AUC score:', pr_auc)\n",
        "y_pred = grid_rf.predict(X_test)\n",
        "y_pred_proba = grid_rf.predict_proba(X_test)[:, 1]\n",
        "\n",
        "pr_auc = average_precision_score(y_test, grid_rf.predict_proba(X_test)[:, 1])\n",
        "print('PR AUC score:', pr_auc)\n",
        "print(f'model 1 AUC score: {roc_auc_score(y_test, y_pred_proba)}')"
      ]
    },
    {
      "cell_type": "code",
      "execution_count": null,
      "metadata": {
        "colab": {
          "background_save": true,
          "base_uri": "https://localhost:8080/"
        },
        "id": "Yv7lY8-gKXOp",
        "outputId": "b6cff93a-ada4-41f9-c884-8512c03a7508"
      },
      "outputs": [
        {
          "name": "stderr",
          "output_type": "stream",
          "text": [
            "/usr/local/lib/python3.8/dist-packages/joblib/externals/loky/process_executor.py:700: UserWarning: A worker stopped while some jobs were given to the executor. This can be caused by a too short worker timeout or by a memory leak.\n",
            "  warnings.warn(\n"
          ]
        },
        {
          "name": "stdout",
          "output_type": "stream",
          "text": [
            "Best parameters: {'max_features': 5, 'min_samples_leaf': 2, 'n_estimators': 200}\n",
            "Best PR AUC score: 0.4063628191622681\n"
          ]
        }
      ],
      "source": [
        "rf = RandomForestClassifier(n_jobs = -1)\n",
        "\n",
        "params = {\n",
        "    'n_estimators': [200],\n",
        "    #'max_depth': [5, 10],\n",
        "    #'min_samples_split': [2],\n",
        "    'min_samples_leaf': [2],\n",
        "    'max_features': ['sqrt', 'log2', 5]\n",
        "}\n",
        "\n",
        "grid_rf = GridSearchCV(rf, params, cv = 5, scoring = 'average_precision', n_jobs = -1)\n",
        "grid_rf.fit(X_train, y_train)\n",
        "\n",
        "print('Best parameters:', grid_rf.best_params_)\n",
        "print('Best PR AUC score:', grid_rf.best_score_)"
      ]
    },
    {
      "cell_type": "code",
      "execution_count": null,
      "metadata": {
        "colab": {
          "background_save": true
        },
        "id": "iyajoFd0Ken_",
        "outputId": "ee345aff-99cb-4d33-b609-5c90ab3e785a"
      },
      "outputs": [
        {
          "name": "stdout",
          "output_type": "stream",
          "text": [
            "PR AUC score: 0.4669106562684746\n",
            "PR AUC score: 0.466910675980074\n",
            "model 1 AUC score: 0.8910754060500841\n"
          ]
        }
      ],
      "source": [
        "y_pred = grid_rf.predict(X_test)\n",
        "y_pred_proba = grid_rf.predict_proba(X_test)[:, 1]\n",
        "\n",
        "pr_auc = average_precision_score(y_test, grid_rf.predict_proba(X_test)[:, 1])\n",
        "print('PR AUC score:', pr_auc)\n",
        "y_pred = grid_rf.predict(X_test)\n",
        "y_pred_proba = grid_rf.predict_proba(X_test)[:, 1]\n",
        "\n",
        "pr_auc = average_precision_score(y_test, grid_rf.predict_proba(X_test)[:, 1])\n",
        "print('PR AUC score:', pr_auc)\n",
        "print(f'model 1 AUC score: {roc_auc_score(y_test, y_pred_proba)}')"
      ]
    },
    {
      "cell_type": "code",
      "execution_count": 132,
      "metadata": {
        "colab": {
          "base_uri": "https://localhost:8080/"
        },
        "id": "FgYXbGlJKf14",
        "outputId": "b34c310e-8730-4d46-bf4b-40b1d0c6be2f"
      },
      "outputs": [
        {
          "output_type": "stream",
          "name": "stdout",
          "text": [
            "Best parameters: {'min_samples_leaf': 5, 'n_estimators': 300}\n",
            "Best PR AUC score: 0.39430376354510177\n"
          ]
        }
      ],
      "source": [
        "rf = RandomForestClassifier(n_jobs = -1)\n",
        "\n",
        "params = {\n",
        "    'n_estimators': [300],\n",
        "    #'max_depth': [5, 10],\n",
        "    #'min_samples_split': [2],\n",
        "    'min_samples_leaf': [2],\n",
        "    #'max_features': ['sqrt', 'log2', 5]\n",
        "}\n",
        "\n",
        "grid_rf = GridSearchCV(rf, params, cv = 5, scoring = 'average_precision', n_jobs = -1)\n",
        "grid_rf.fit(X_train, y_train)\n",
        "\n",
        "print('Best parameters:', grid_rf.best_params_)\n",
        "print('Best PR AUC score:', grid_rf.best_score_)"
      ]
    },
    {
      "cell_type": "code",
      "execution_count": 133,
      "metadata": {
        "colab": {
          "base_uri": "https://localhost:8080/"
        },
        "id": "H_uF9NDLKkpa",
        "outputId": "23e118b2-4462-44a4-af38-76099938a78e"
      },
      "outputs": [
        {
          "output_type": "stream",
          "name": "stdout",
          "text": [
            "PR AUC score: 0.45137615845361284\n",
            "PR AUC score: 0.45137615845361284\n",
            "model 1 AUC score: 0.8932081228288451\n"
          ]
        }
      ],
      "source": [
        "y_pred = grid_rf.predict(X_test)\n",
        "y_pred_proba = grid_rf.predict_proba(X_test)[:, 1]\n",
        "\n",
        "pr_auc = average_precision_score(y_test, grid_rf.predict_proba(X_test)[:, 1])\n",
        "print('PR AUC score:', pr_auc)\n",
        "y_pred = grid_rf.predict(X_test)\n",
        "y_pred_proba = grid_rf.predict_proba(X_test)[:, 1]\n",
        "\n",
        "pr_auc = average_precision_score(y_test, grid_rf.predict_proba(X_test)[:, 1])\n",
        "print('PR AUC score:', pr_auc)\n",
        "print(f'model 1 AUC score: {roc_auc_score(y_test, y_pred_proba)}')"
      ]
    },
    {
      "cell_type": "code",
      "source": [
        "rf1 = RandomForestClassifier(n_jobs = -1)\n",
        "\n",
        "params = {\n",
        "    'n_estimators': [225],\n",
        "    #'max_depth': [5, 10],\n",
        "    #'min_samples_split': [2, 5],\n",
        "    'min_samples_leaf': [2],\n",
        "    #'max_features': ['sqrt', 'log2', 5]\n",
        "}\n",
        "\n",
        "grid_rf1 = GridSearchCV(rf1, params, cv = 5, scoring = 'average_precision', n_jobs = -1)\n",
        "grid_rf1.fit(X_train, y_train)\n",
        "\n",
        "print('Best parameters:', grid_rf1.best_params_)\n",
        "print('Best PR AUC score:', grid_rf1.best_score_)"
      ],
      "metadata": {
        "colab": {
          "base_uri": "https://localhost:8080/"
        },
        "id": "nmnnloBsy6aj",
        "outputId": "db603080-c9d8-4aa7-e873-29092eedf991"
      },
      "execution_count": 142,
      "outputs": [
        {
          "output_type": "stream",
          "name": "stdout",
          "text": [
            "Best parameters: {'min_samples_leaf': 2, 'n_estimators': 225}\n",
            "Best PR AUC score: 0.40517677093774046\n"
          ]
        }
      ]
    },
    {
      "cell_type": "code",
      "source": [
        "y_pred = grid_rf1.predict(X_test)\n",
        "y_pred_proba = grid_rf1.predict_proba(X_test)[:, 1]\n",
        "\n",
        "pr_auc = average_precision_score(y_test, grid_rf1.predict_proba(X_test)[:, 1])\n",
        "print('PR AUC score:', pr_auc)\n",
        "y_pred = grid_rf.predict(X_test)\n",
        "y_pred_proba = grid_rf.predict_proba(X_test)[:, 1]\n",
        "\n",
        "pr_auc = average_precision_score(y_test, grid_rf1.predict_proba(X_test)[:, 1])\n",
        "print('PR AUC score:', pr_auc)\n",
        "print(f'model 1 AUC score: {roc_auc_score(y_test, y_pred_proba)}')"
      ],
      "metadata": {
        "colab": {
          "base_uri": "https://localhost:8080/"
        },
        "id": "DaYxAUD_zO8V",
        "outputId": "d4abf624-1923-4021-ffea-504841840bdd"
      },
      "execution_count": 143,
      "outputs": [
        {
          "output_type": "stream",
          "name": "stdout",
          "text": [
            "PR AUC score: 0.4667368688740468\n",
            "PR AUC score: 0.4667368546525575\n",
            "model 1 AUC score: 0.8921768920327602\n"
          ]
        }
      ]
    },
    {
      "cell_type": "code",
      "source": [
        "rf = RandomForestClassifier(n_jobs = -1)\n",
        "\n",
        "params = {\n",
        "    'n_estimators': [200],\n",
        "    #'max_depth': [5, 10],\n",
        "    #'min_samples_split': [2, 5],\n",
        "    'min_samples_leaf': [2],\n",
        "    'max_features': ['log2']\n",
        "}\n",
        "\n",
        "grid_rf = GridSearchCV(rf, params, cv = 5, scoring = 'average_precision', n_jobs = -1)\n",
        "grid_rf.fit(X_train, y_train)\n",
        "\n",
        "print('Best parameters:', grid_rf.best_params_)\n",
        "print('Best PR AUC score:', grid_rf.best_score_)"
      ],
      "metadata": {
        "colab": {
          "base_uri": "https://localhost:8080/"
        },
        "id": "nNXux74wzQDA",
        "outputId": "23e79210-6163-4e4b-faa4-ec618d1bf6e2"
      },
      "execution_count": 138,
      "outputs": [
        {
          "output_type": "stream",
          "name": "stdout",
          "text": [
            "Best parameters: {'max_features': 'log2', 'min_samples_leaf': 2, 'n_estimators': 200}\n",
            "Best PR AUC score: 0.4071874657831298\n"
          ]
        }
      ]
    },
    {
      "cell_type": "code",
      "source": [
        "y_pred = grid_rf.predict(X_test)\n",
        "y_pred_proba = grid_rf.predict_proba(X_test)[:, 1]\n",
        "\n",
        "pr_auc = average_precision_score(y_test, grid_rf.predict_proba(X_test)[:, 1])\n",
        "print('PR AUC score:', pr_auc)\n",
        "y_pred = grid_rf.predict(X_test)\n",
        "y_pred_proba = grid_rf.predict_proba(X_test)[:, 1]\n",
        "\n",
        "pr_auc = average_precision_score(y_test, grid_rf.predict_proba(X_test)[:, 1])\n",
        "print('PR AUC score:', pr_auc)\n",
        "print(f'model 1 AUC score: {roc_auc_score(y_test, y_pred_proba)}')"
      ],
      "metadata": {
        "colab": {
          "base_uri": "https://localhost:8080/"
        },
        "id": "IQXNvGIqzXyi",
        "outputId": "10f1c55b-472f-48ee-f86a-67cfe4b22407"
      },
      "execution_count": 147,
      "outputs": [
        {
          "output_type": "stream",
          "name": "stdout",
          "text": [
            "PR AUC score: 0.4676358118068865\n",
            "PR AUC score: 0.4676358274783314\n",
            "model 1 AUC score: 0.8921769038230867\n"
          ]
        }
      ]
    },
    {
      "cell_type": "code",
      "source": [
        "rf2 = RandomForestClassifier(n_jobs = -1)\n",
        "\n",
        "params = {\n",
        "    'n_estimators': [200],\n",
        "    #'max_depth': [5, 10],\n",
        "    #'min_samples_split': [2, 5],\n",
        "    'min_samples_leaf': [2],\n",
        "    #'max_features': ['sqrt', 'log2', 5]\n",
        "}\n",
        "\n",
        "grid_rf2 = GridSearchCV(rf1, params, cv = 5, scoring = 'average_precision', n_jobs = -1)\n",
        "grid_rf2.fit(X_train, y_train)\n",
        "\n",
        "print('Best parameters:', grid_rf2.best_params_)\n",
        "print('Best PR AUC score:', grid_rf2.best_score_)"
      ],
      "metadata": {
        "colab": {
          "base_uri": "https://localhost:8080/"
        },
        "id": "oMab0k7i7S6I",
        "outputId": "429aeba3-5560-4bd6-fd03-a3ed0be57fd3"
      },
      "execution_count": 145,
      "outputs": [
        {
          "output_type": "stream",
          "name": "stdout",
          "text": [
            "Best parameters: {'min_samples_leaf': 2, 'n_estimators': 200}\n",
            "Best PR AUC score: 0.4030257505751481\n"
          ]
        }
      ]
    },
    {
      "cell_type": "code",
      "source": [
        "y_pred = grid_rf2.predict(X_test)\n",
        "y_pred_proba = grid_rf2.predict_proba(X_test)[:, 1]\n",
        "\n",
        "pr_auc = average_precision_score(y_test, grid_rf2.predict_proba(X_test)[:, 1])\n",
        "print('PR AUC score:', pr_auc)\n",
        "y_pred = grid_rf.predict(X_test)\n",
        "y_pred_proba = grid_rf.predict_proba(X_test)[:, 1]\n",
        "\n",
        "pr_auc = average_precision_score(y_test, grid_rf2.predict_proba(X_test)[:, 1])\n",
        "print('PR AUC score:', pr_auc)\n",
        "print(f'model 1 AUC score: {roc_auc_score(y_test, y_pred_proba)}')"
      ],
      "metadata": {
        "colab": {
          "base_uri": "https://localhost:8080/"
        },
        "id": "TQ0cYQ4j7XAN",
        "outputId": "c9de8de7-41ef-42b0-c223-41637e260344"
      },
      "execution_count": 161,
      "outputs": [
        {
          "output_type": "stream",
          "name": "stdout",
          "text": [
            "PR AUC score: 0.4644034347520489\n",
            "PR AUC score: 0.46440344970621567\n",
            "model 1 AUC score: 0.8379742433109973\n"
          ]
        }
      ]
    },
    {
      "cell_type": "code",
      "source": [
        "rf = RandomForestClassifier(n_jobs = -1)\n",
        "\n",
        "params = {\n",
        "    'n_estimators': [200],\n",
        "    'max_depth': [5],\n",
        "    'min_samples_split': [2],\n",
        "    'min_samples_leaf': [2],\n",
        "    'max_features': ['log2']\n",
        "}\n",
        "\n",
        "grid_rf = GridSearchCV(rf, params, cv = 5, scoring = 'average_precision', n_jobs = -1)\n",
        "grid_rf.fit(X_train, y_train)\n",
        "\n",
        "print('Best parameters:', grid_rf.best_params_)\n",
        "print('Best PR AUC score:', grid_rf.best_score_)"
      ],
      "metadata": {
        "colab": {
          "base_uri": "https://localhost:8080/"
        },
        "id": "HnWW4tLz-Z3M",
        "outputId": "f9bf7a3c-ea5d-4d40-b33a-5d96c864a7fb"
      },
      "execution_count": 148,
      "outputs": [
        {
          "output_type": "stream",
          "name": "stdout",
          "text": [
            "Best parameters: {'max_depth': 5, 'max_features': 'sqrt', 'min_samples_leaf': 2, 'min_samples_split': 2, 'n_estimators': 200}\n",
            "Best PR AUC score: 0.18266593022930283\n"
          ]
        }
      ]
    },
    {
      "cell_type": "code",
      "source": [
        "y_pred = grid_rf.predict(X_test)\n",
        "y_pred_proba = grid_rf.predict_proba(X_test)[:, 1]\n",
        "\n",
        "pr_auc = average_precision_score(y_test, grid_rf.predict_proba(X_test)[:, 1])\n",
        "print('PR AUC score:', pr_auc)\n",
        "y_pred = grid_rf.predict(X_test)\n",
        "y_pred_proba = grid_rf.predict_proba(X_test)[:, 1]\n",
        "\n",
        "pr_auc = average_precision_score(y_test, grid_rf.predict_proba(X_test)[:, 1])\n",
        "print('PR AUC score:', pr_auc)\n",
        "print(f'model 1 AUC score: {roc_auc_score(y_test, y_pred_proba)}')"
      ],
      "metadata": {
        "colab": {
          "base_uri": "https://localhost:8080/"
        },
        "id": "pnQOQepj-eoO",
        "outputId": "d740b3e0-28a7-4afe-86a7-abb71b20657a"
      },
      "execution_count": 167,
      "outputs": [
        {
          "output_type": "stream",
          "name": "stdout",
          "text": [
            "PR AUC score: 0.19602446212505642\n",
            "PR AUC score: 0.19602446212505642\n",
            "model 1 AUC score: 0.8379742433109973\n"
          ]
        }
      ]
    },
    {
      "cell_type": "code",
      "source": [
        "print(classification_report(y_test, y_pred))\n",
        "print(confusion_matrix(y_test, y_pred))"
      ],
      "metadata": {
        "colab": {
          "base_uri": "https://localhost:8080/"
        },
        "id": "wXovgiTaFKcF",
        "outputId": "73125f5a-dcd7-4aa4-bc96-bdba71990c2a"
      },
      "execution_count": 168,
      "outputs": [
        {
          "output_type": "stream",
          "name": "stdout",
          "text": [
            "              precision    recall  f1-score   support\n",
            "\n",
            "       False       0.97      1.00      0.99    102328\n",
            "        True       0.00      0.00      0.00      2901\n",
            "\n",
            "    accuracy                           0.97    105229\n",
            "   macro avg       0.49      0.50      0.49    105229\n",
            "weighted avg       0.95      0.97      0.96    105229\n",
            "\n",
            "[[102328      0]\n",
            " [  2901      0]]\n"
          ]
        },
        {
          "output_type": "stream",
          "name": "stderr",
          "text": [
            "/usr/local/lib/python3.8/dist-packages/sklearn/metrics/_classification.py:1318: UndefinedMetricWarning: Precision and F-score are ill-defined and being set to 0.0 in labels with no predicted samples. Use `zero_division` parameter to control this behavior.\n",
            "  _warn_prf(average, modifier, msg_start, len(result))\n",
            "/usr/local/lib/python3.8/dist-packages/sklearn/metrics/_classification.py:1318: UndefinedMetricWarning: Precision and F-score are ill-defined and being set to 0.0 in labels with no predicted samples. Use `zero_division` parameter to control this behavior.\n",
            "  _warn_prf(average, modifier, msg_start, len(result))\n",
            "/usr/local/lib/python3.8/dist-packages/sklearn/metrics/_classification.py:1318: UndefinedMetricWarning: Precision and F-score are ill-defined and being set to 0.0 in labels with no predicted samples. Use `zero_division` parameter to control this behavior.\n",
            "  _warn_prf(average, modifier, msg_start, len(result))\n"
          ]
        }
      ]
    },
    {
      "cell_type": "markdown",
      "source": [
        "### Final Model Selection"
      ],
      "metadata": {
        "id": "COw3tA5OF4-o"
      }
    },
    {
      "cell_type": "code",
      "source": [
        "# Instantiate rf\n",
        "rf1 = RandomForestClassifier(n_estimators=200,\n",
        "            random_state=2, n_jobs = -1)\n",
        "            \n",
        "# Fit rf to the training set    \n",
        "rf1.fit(X_train, y_train) "
      ],
      "metadata": {
        "colab": {
          "base_uri": "https://localhost:8080/"
        },
        "id": "xca1srHoGDKi",
        "outputId": "ffbb5806-3fca-4150-851a-f02e3e333bee"
      },
      "execution_count": 107,
      "outputs": [
        {
          "output_type": "execute_result",
          "data": {
            "text/plain": [
              "RandomForestClassifier(n_estimators=200, n_jobs=-1, random_state=2)"
            ]
          },
          "metadata": {},
          "execution_count": 107
        }
      ]
    },
    {
      "cell_type": "code",
      "source": [
        "y_pred = rf1.predict(X_test)\n",
        "y_pred_proba = rf1.predict_proba(X_test)[:, 1]\n",
        "print(f'model 1 AUC score: {roc_auc_score(y_test, y_pred_proba)}')\n",
        "pr_auc = average_precision_score(y_test, rf1.predict_proba(X_test)[:, 1])\n",
        "print('PR AUC score:', pr_auc)\n",
        "print(confusion_matrix(y_test, y_pred))\n",
        "print(classification_report(y_test, y_pred))"
      ],
      "metadata": {
        "colab": {
          "base_uri": "https://localhost:8080/"
        },
        "id": "32aDmvLhG1w5",
        "outputId": "df2cd53d-af83-4f88-8b75-d7ae3e84a9c5"
      },
      "execution_count": 116,
      "outputs": [
        {
          "output_type": "stream",
          "name": "stdout",
          "text": [
            "model 1 AUC score: 0.8887900331775744\n",
            "PR AUC score: 0.4665950866183354\n",
            "[[102272     56]\n",
            " [  2455    446]]\n",
            "              precision    recall  f1-score   support\n",
            "\n",
            "       False       0.98      1.00      0.99    102328\n",
            "        True       0.89      0.15      0.26      2901\n",
            "\n",
            "    accuracy                           0.98    105229\n",
            "   macro avg       0.93      0.58      0.62    105229\n",
            "weighted avg       0.97      0.98      0.97    105229\n",
            "\n"
          ]
        }
      ]
    },
    {
      "cell_type": "code",
      "source": [
        "# Instantiate rf\n",
        "rf = RandomForestClassifier(n_estimators=200, min_samples_split = 2, min_samples_leaf = 2, max_features = 'log2',\n",
        "            random_state=2, n_jobs = -1)\n",
        "            \n",
        "# Fit rf to the training set    \n",
        "rf.fit(X_train, y_train) \n"
      ],
      "metadata": {
        "colab": {
          "base_uri": "https://localhost:8080/",
          "height": 244
        },
        "id": "YFKmOi20Om9x",
        "outputId": "500be31d-ab52-450e-df25-8d793f414d76"
      },
      "execution_count": 117,
      "outputs": [
        {
          "output_type": "error",
          "ename": "NameError",
          "evalue": "ignored",
          "traceback": [
            "\u001b[0;31m---------------------------------------------------------------------------\u001b[0m",
            "\u001b[0;31mNameError\u001b[0m                                 Traceback (most recent call last)",
            "\u001b[0;32m<ipython-input-117-5f8b8147baa8>\u001b[0m in \u001b[0;36m<module>\u001b[0;34m\u001b[0m\n\u001b[1;32m      7\u001b[0m \u001b[0;34m\u001b[0m\u001b[0m\n\u001b[1;32m      8\u001b[0m \u001b[0;34m\u001b[0m\u001b[0m\n\u001b[0;32m----> 9\u001b[0;31m \u001b[0my_pred\u001b[0m \u001b[0;34m=\u001b[0m \u001b[0mgrid_rf\u001b[0m\u001b[0;34m.\u001b[0m\u001b[0mpredict\u001b[0m\u001b[0;34m(\u001b[0m\u001b[0mX_test\u001b[0m\u001b[0;34m)\u001b[0m\u001b[0;34m\u001b[0m\u001b[0;34m\u001b[0m\u001b[0m\n\u001b[0m\u001b[1;32m     10\u001b[0m \u001b[0my_pred_proba\u001b[0m \u001b[0;34m=\u001b[0m \u001b[0mgrid_rf\u001b[0m\u001b[0;34m.\u001b[0m\u001b[0mpredict_proba\u001b[0m\u001b[0;34m(\u001b[0m\u001b[0mX_test\u001b[0m\u001b[0;34m)\u001b[0m\u001b[0;34m[\u001b[0m\u001b[0;34m:\u001b[0m\u001b[0;34m,\u001b[0m \u001b[0;36m1\u001b[0m\u001b[0;34m]\u001b[0m\u001b[0;34m\u001b[0m\u001b[0;34m\u001b[0m\u001b[0m\n\u001b[1;32m     11\u001b[0m \u001b[0;34m\u001b[0m\u001b[0m\n",
            "\u001b[0;31mNameError\u001b[0m: name 'grid_rf' is not defined"
          ]
        }
      ]
    },
    {
      "cell_type": "code",
      "source": [
        "y_pred = rf.predict(X_test)\n",
        "y_pred_proba = rf.predict_proba(X_test)[:, 1]\n",
        "\n",
        "pr_auc = average_precision_score(y_test, rf.predict_proba(X_test)[:, 1])\n",
        "print('PR AUC score:', pr_auc)\n",
        "y_pred = rf.predict(X_test)\n",
        "y_pred_proba = rf.predict_proba(X_test)[:, 1]\n",
        "\n",
        "pr_auc = average_precision_score(y_test, rf.predict_proba(X_test)[:, 1])\n",
        "print('PR AUC score:', pr_auc)\n",
        "print(f'model 1 AUC score: {roc_auc_score(y_test, y_pred_proba)}')\n"
      ],
      "metadata": {
        "colab": {
          "base_uri": "https://localhost:8080/"
        },
        "id": "3_ALkDdVRMd9",
        "outputId": "88b13b6b-80c8-47d7-eea7-9c29138e3f20"
      },
      "execution_count": 118,
      "outputs": [
        {
          "output_type": "stream",
          "name": "stdout",
          "text": [
            "PR AUC score: 0.46654868413729444\n",
            "PR AUC score: 0.46654868458563686\n",
            "model 1 AUC score: 0.8927610235442444\n"
          ]
        }
      ]
    },
    {
      "cell_type": "code",
      "source": [
        "print(confusion_matrix(y_test, y_pred))\n",
        "print(classification_report(y_test, y_pred))"
      ],
      "metadata": {
        "colab": {
          "base_uri": "https://localhost:8080/"
        },
        "id": "8r_x1AUIRYGd",
        "outputId": "70cdeb57-172c-43e1-d1e5-3221e28e8612"
      },
      "execution_count": 119,
      "outputs": [
        {
          "output_type": "stream",
          "name": "stdout",
          "text": [
            "[[102276     52]\n",
            " [  2526    375]]\n",
            "              precision    recall  f1-score   support\n",
            "\n",
            "       False       0.98      1.00      0.99    102328\n",
            "        True       0.88      0.13      0.23      2901\n",
            "\n",
            "    accuracy                           0.98    105229\n",
            "   macro avg       0.93      0.56      0.61    105229\n",
            "weighted avg       0.97      0.98      0.97    105229\n",
            "\n"
          ]
        }
      ]
    },
    {
      "cell_type": "markdown",
      "source": [
        "### The Final Model is rf1 which has a higher percentage of recall and f1-score.\n"
      ],
      "metadata": {
        "id": "wfbFF5KeP7f1"
      }
    },
    {
      "cell_type": "markdown",
      "source": [
        "# Feature Importance\n",
        "\n",
        "Based on the selected feature, the important features are plotted below"
      ],
      "metadata": {
        "id": "Hu8rPAYlQBpm"
      }
    },
    {
      "cell_type": "code",
      "source": [
        "# Get feature importances from trained random forest model\n",
        "importances = rf1.feature_importances_\n",
        "\n",
        "# Get names of features\n",
        "feature_names = X_train.columns\n",
        "\n",
        "# Sort feature importances in descending order\n",
        "indices = np.argsort(importances)[::-1]\n",
        "\n",
        "# Rearrange feature names in descending order of importance\n",
        "names = [feature_names[i] for i in indices]\n",
        "\n",
        "# Create plot\n",
        "plt.figure(figsize=(20, 10))\n",
        "\n",
        "# Create plot title\n",
        "plt.title(\"Feature Importance\")\n",
        "\n",
        "# Add bars\n",
        "plt.bar(range(X_train.shape[1]), importances[indices])\n",
        "\n",
        "# Add feature names as x-axis labels\n",
        "plt.xticks(range(X_train.shape[1]), names, rotation=90)\n",
        "\n",
        "# Show plot\n",
        "plt.show()"
      ],
      "metadata": {
        "colab": {
          "base_uri": "https://localhost:8080/",
          "height": 712
        },
        "id": "qActbHfIQL10",
        "outputId": "a955348a-16b7-418d-d86f-568f31f941d2"
      },
      "execution_count": 120,
      "outputs": [
        {
          "output_type": "display_data",
          "data": {
            "text/plain": [
              "<Figure size 1440x720 with 1 Axes>"
            ],
            "image/png": "[encoded data removed]"
          },
          "metadata": {
            "needs_background": "light"
          }
        }
      ]
    },
    {
      "cell_type": "markdown",
      "source": [
        "# Predict on the Competition Test Set and DONE!"
      ],
      "metadata": {
        "id": "Cl7v2bdPQNXV"
      }
    },
    {
      "cell_type": "code",
      "source": [
        "df_test = feature_eng_pipeline.transform(df_test)\n",
        "\n",
        "ULTIMATE_RESULT = rf1.predict(df_test)"
      ],
      "metadata": {
        "id": "9JzSmTnDQRXJ"
      },
      "execution_count": 124,
      "outputs": []
    },
    {
      "cell_type": "code",
      "source": [
        "pd.Series(ULTIMATE_RESULT).to_csv('drug_binding_prediction_Peter_Hou.csv')"
      ],
      "metadata": {
        "id": "JN6YphXVSWvo"
      },
      "execution_count": 130,
      "outputs": []
    },
    {
      "cell_type": "code",
      "source": [],
      "metadata": {
        "id": "3-0yuA9PSmTp"
      },
      "execution_count": null,
      "outputs": []
    }
  ],
  "metadata": {
    "colab": {
      "collapsed_sections": [
        "QI_VQXl-gr0-",
        "PiLaDRM0OkIH",
        "vga1orXAs54z",
        "jR3cjVsW0hjZ",
        "fvVlPQAkZ95O",
        "I209zrnnbLu-",
        "L3GSXnUzcNjL",
        "m51P6bt33UmS",
        "qMdS2pUIA4kQ",
        "2IKv3phS_DpZ"
      ],
      "machine_shape": "hm",
      "provenance": []
    },
    "gpuClass": "standard",
    "kernelspec": {
      "display_name": "Python 3",
      "name": "python3"
    },
    "language_info": {
      "name": "python"
    }
  },
  "nbformat": 4,
  "nbformat_minor": 0
}